{
  "nbformat": 4,
  "nbformat_minor": 0,
  "metadata": {
    "colab": {
      "provenance": []
    },
    "kernelspec": {
      "name": "python3",
      "display_name": "Python 3"
    },
    "language_info": {
      "name": "python"
    }
  },
  "cells": [
    {
      "cell_type": "code",
      "execution_count": 8,
      "metadata": {
        "id": "dGghHPuiJ-XG",
        "colab": {
          "base_uri": "https://localhost:8080/"
        },
        "outputId": "cbd0c2f0-5a47-4458-9b14-52858f83c056"
      },
      "outputs": [
        {
          "output_type": "stream",
          "name": "stdout",
          "text": [
            "Drive already mounted at /content/drive; to attempt to forcibly remount, call drive.mount(\"/content/drive\", force_remount=True).\n"
          ]
        }
      ],
      "source": [
        "from google.colab import drive\n",
        "drive.mount('/content/drive')"
      ]
    },
    {
      "cell_type": "code",
      "source": [
        "pip install rouge\n"
      ],
      "metadata": {
        "id": "w7HNsUXgJ_Vc",
        "colab": {
          "base_uri": "https://localhost:8080/"
        },
        "outputId": "2eddc41c-8589-441e-9792-02308b0406a7"
      },
      "execution_count": 12,
      "outputs": [
        {
          "output_type": "stream",
          "name": "stdout",
          "text": [
            "Collecting rouge\n",
            "  Downloading rouge-1.0.1-py3-none-any.whl (13 kB)\n",
            "Requirement already satisfied: six in /usr/local/lib/python3.10/dist-packages (from rouge) (1.16.0)\n",
            "Installing collected packages: rouge\n",
            "Successfully installed rouge-1.0.1\n"
          ]
        }
      ]
    },
    {
      "cell_type": "code",
      "source": [
        "!pip install nltk\n",
        "!pip install rouge_score\n",
        "\n"
      ],
      "metadata": {
        "id": "hYRUrUKbKJKW",
        "colab": {
          "base_uri": "https://localhost:8080/"
        },
        "outputId": "cd6e0f3a-111b-4857-df02-024b417467c6"
      },
      "execution_count": 14,
      "outputs": [
        {
          "output_type": "stream",
          "name": "stdout",
          "text": [
            "Requirement already satisfied: nltk in /usr/local/lib/python3.10/dist-packages (3.8.1)\n",
            "Requirement already satisfied: click in /usr/local/lib/python3.10/dist-packages (from nltk) (8.1.7)\n",
            "Requirement already satisfied: joblib in /usr/local/lib/python3.10/dist-packages (from nltk) (1.3.2)\n",
            "Requirement already satisfied: regex>=2021.8.3 in /usr/local/lib/python3.10/dist-packages (from nltk) (2023.12.25)\n",
            "Requirement already satisfied: tqdm in /usr/local/lib/python3.10/dist-packages (from nltk) (4.66.1)\n",
            "Collecting rouge_score\n",
            "  Downloading rouge_score-0.1.2.tar.gz (17 kB)\n",
            "  Preparing metadata (setup.py) ... \u001b[?25l\u001b[?25hdone\n",
            "Requirement already satisfied: absl-py in /usr/local/lib/python3.10/dist-packages (from rouge_score) (1.4.0)\n",
            "Requirement already satisfied: nltk in /usr/local/lib/python3.10/dist-packages (from rouge_score) (3.8.1)\n",
            "Requirement already satisfied: numpy in /usr/local/lib/python3.10/dist-packages (from rouge_score) (1.23.5)\n",
            "Requirement already satisfied: six>=1.14.0 in /usr/local/lib/python3.10/dist-packages (from rouge_score) (1.16.0)\n",
            "Requirement already satisfied: click in /usr/local/lib/python3.10/dist-packages (from nltk->rouge_score) (8.1.7)\n",
            "Requirement already satisfied: joblib in /usr/local/lib/python3.10/dist-packages (from nltk->rouge_score) (1.3.2)\n",
            "Requirement already satisfied: regex>=2021.8.3 in /usr/local/lib/python3.10/dist-packages (from nltk->rouge_score) (2023.12.25)\n",
            "Requirement already satisfied: tqdm in /usr/local/lib/python3.10/dist-packages (from nltk->rouge_score) (4.66.1)\n",
            "Building wheels for collected packages: rouge_score\n",
            "  Building wheel for rouge_score (setup.py) ... \u001b[?25l\u001b[?25hdone\n",
            "  Created wheel for rouge_score: filename=rouge_score-0.1.2-py3-none-any.whl size=24933 sha256=4c4f1806fe97d790eb06cc31d7f958507acbe10c9ee34edc42d604e4c90acc90\n",
            "  Stored in directory: /root/.cache/pip/wheels/5f/dd/89/461065a73be61a532ff8599a28e9beef17985c9e9c31e541b4\n",
            "Successfully built rouge_score\n",
            "Installing collected packages: rouge_score\n",
            "Successfully installed rouge_score-0.1.2\n"
          ]
        }
      ]
    },
    {
      "cell_type": "markdown",
      "source": [
        "# **TOPIC MODELLING + LDA**"
      ],
      "metadata": {
        "id": "vP-4XaQ-MdoH"
      }
    },
    {
      "cell_type": "code",
      "source": [
        "import nltk\n",
        "from nltk.corpus import stopwords\n",
        "from nltk.tokenize import sent_tokenize, word_tokenize\n",
        "from gensim import corpora, models\n",
        "from sklearn.feature_extraction.text import TfidfVectorizer\n",
        "import networkx as nx\n",
        "from gensim.models import CoherenceModel\n",
        "import re\n",
        "\n",
        "nltk.download('stopwords')\n",
        "nltk.download('punkt')\n",
        "\n",
        "stop_words = set(stopwords.words('english'))\n",
        "\n",
        "def preprocess_text(text):\n",
        "    sentences = sent_tokenize(text)\n",
        "    preprocessed_sentences = []\n",
        "    for sentence in sentences:\n",
        "        words = [word.lower() for word in word_tokenize(sentence) if word.isalpha() or word == '.']\n",
        "        preprocessed_sentences.append(' '.join(words))  # Join words into a single string\n",
        "    return preprocessed_sentences\n",
        "\n",
        "def read_text_file(file_path):\n",
        "    with open(file_path, 'r', encoding='utf-8') as file:\n",
        "        return file.read()\n",
        "\n",
        "def lda_topic_modeling(texts, num_topics=2):\n",
        "    dictionary = corpora.Dictionary([text.split() for text in texts])  # Split text into words\n",
        "    corpus = [dictionary.doc2bow(text.split()) for text in texts]  # Split text into words\n",
        "\n",
        "    lda_model = models.LdaModel(corpus, num_topics=num_topics)\n",
        "    topics = lda_model[corpus]\n",
        "\n",
        "    coherence_model_lda = CoherenceModel(model=lda_model, texts=texts, dictionary=dictionary, coherence='c_v')\n",
        "    coherence_lda = coherence_model_lda.get_coherence()\n",
        "\n",
        "    return lda_model, topics, corpus, dictionary, coherence_lda\n",
        "\n",
        "def text_rank_summarization(text_list, max_sentence_length=15, max_sentences=1000):\n",
        "    text = ' '.join(text_list)  # Combine the list of sentences into a single string\n",
        "    text = re.sub(r'\\.', '. ', text)  # Add space after period for proper sentence splitting\n",
        "    sentences = sent_tokenize(text)\n",
        "\n",
        "    # Create summary by joining sentences with full stops every max_sentence_length words\n",
        "    summary = ''\n",
        "    num_sentences = 0\n",
        "    for i, sentence in enumerate(sentences):\n",
        "        words_in_sentence = sentence.split()\n",
        "        if num_sentences + len(words_in_sentence) // max_sentence_length > max_sentences:\n",
        "            break\n",
        "        if len(words_in_sentence) > max_sentence_length:\n",
        "            words_in_sentence = words_in_sentence[:max_sentence_length]  # Limit sentence length\n",
        "        if i < len(sentences) - 1:\n",
        "            if num_sentences < max_sentences:\n",
        "                summary += ' '.join(words_in_sentence) + '. '  # Add full stop at the end of each sentence\n",
        "                num_sentences += 1\n",
        "        else:\n",
        "            summary += ' '.join(words_in_sentence) + '. '  # Add full stop at the end of last sentence\n",
        "\n",
        "    return summary\n",
        "\n",
        "# Example usage with a text file\n",
        "file_path = '/content/drive/MyDrive/validation (2)/annual_reports (1)/30777.txt'\n",
        "document = read_text_file(file_path)\n",
        "\n",
        "# Preprocess text\n",
        "processed_sentences = preprocess_text(document)\n",
        "\n",
        "# Topic modeling with LDA\n",
        "num_topics = 20\n",
        "lda_model, topics, corpus, dictionary, coherence_lda = lda_topic_modeling(processed_sentences, num_topics=num_topics)\n",
        "\n",
        "# Extractive summarization using TextRank with custom sentence length and max sentences\n",
        "summary = text_rank_summarization(processed_sentences, max_sentence_length=15, max_sentences=1000)\n",
        "\n",
        "# Print the summary\n",
        "print(\"Summary:\")\n",
        "print(summary)\n",
        "\n",
        "\n",
        "def correct_full_stops_and_capitalize(summary):\n",
        "    # Replace all occurrences of double full stops with single full stops\n",
        "    corrected_summary = summary.replace(\"..\", \".\")\n",
        "\n",
        "    # Capitalize the first letter of each sentence\n",
        "    sentences = corrected_summary.split(\". \")\n",
        "    corrected_sentences = [sentence.strip().capitalize() for sentence in sentences]\n",
        "\n",
        "    # Join the corrected sentences back together\n",
        "    corrected_summary = \". \".join(corrected_sentences)\n",
        "\n",
        "    # Ensure the last character is a full stop\n",
        "    if not corrected_summary.endswith(\".\"):\n",
        "        corrected_summary += \".\"\n",
        "\n",
        "    return corrected_summary\n",
        "\n",
        "corrected_summary = correct_full_stops_and_capitalize(summary)\n",
        "\n",
        "from IPython.display import display, Markdown\n",
        "display(Markdown(corrected_summary))\n"
      ],
      "metadata": {
        "colab": {
          "base_uri": "https://localhost:8080/",
          "height": 1000
        },
        "id": "kNpej-b92GhB",
        "outputId": "6790e562-7da5-42bb-8605-325a8abd5ecc"
      },
      "execution_count": 3,
      "outputs": [
        {
          "output_type": "stream",
          "name": "stderr",
          "text": [
            "[nltk_data] Downloading package stopwords to /root/nltk_data...\n",
            "[nltk_data]   Package stopwords is already up-to-date!\n",
            "[nltk_data] Downloading package punkt to /root/nltk_data...\n",
            "[nltk_data]   Package punkt is already up-to-date!\n",
            "WARNING:gensim.models.ldamodel:no word id mapping provided; initializing from corpus, assuming identity\n",
            "WARNING:gensim.models.ldamodel:too few updates, training might not converge; consider increasing the number of passes or iterations to improve accuracy\n",
            "/usr/local/lib/python3.10/dist-packages/gensim/topic_coherence/direct_confirmation_measure.py:204: RuntimeWarning: divide by zero encountered in double_scalars\n",
            "  m_lr_i = np.log(numerator / denominator)\n",
            "/usr/local/lib/python3.10/dist-packages/gensim/topic_coherence/indirect_confirmation_measure.py:323: RuntimeWarning: invalid value encountered in double_scalars\n",
            "  return cv1.T.dot(cv2)[0, 0] / (_magnitude(cv1) * _magnitude(cv2))\n"
          ]
        },
        {
          "output_type": "stream",
          "name": "stdout",
          "text": [
            "Summary:\n",
            "march pm proof march pm proof annual report bodycote plc annual report stock code boy. experienced in supporting large multinational customers and their supply chains as well as local niche. the core values underpinning everything we do honesty and t ransparency we are honest and. this is not something we take for granted .. bodycote lives by a culture of honest and transparent behaviour which is at the core. respect and responsibility we manage our business with respect applying an ethical approach to our. we believe in taking ownership and being mindful of the impact of our actions .. creating v alue creating value is the very essence of our business and needs to. we create value for our customers our employees and our shareholders .. throughout this report you will see illustrations which link our business and strategy strategy core. headline operating profit and headline profit before taxation exclude amortisation of acquired intangibles of and. .. return on sales is defined as headline operating profit as a percentage of revenue .. .. a detailed eps reconciliation is provided in note on page .. .. return on capital employed roce is defined as headline operating profit of divided by the. capital employed is defined as net assets adjusted for net debt .. .. headline operating cash flow is defined as cash generated by operations of less net capital. .. headline operating cash conversion is defined as headline operating cash flow divided by headline operating. .. free cash flow is defined as cash generated by operations of less net capital expenditure. bodycote plc annual report for the year ended december march pm proof strategic report the. the report outlines the developments and performance of the group during the financial year the. key performance indicators are published to show the performance and position of the group .. page outlines the group s strategy and objectives along with the business model on page. the directors in preparing this strategic report have complied with of the companies act .. this strategic report has been prepared for the group as a whole and therefore gives. the strategic report discusses the following areas global network chairman s statement chief executive s. through an international network of plants bodycote can effectively utilise a wealth of knowledge experience. the network operates from facilities with customers able to benefit from bodycote s comprehensive range. customers know that if their business expands bodycote will have the capability to meet their. they recognise that if they were to broaden their manufacturing footprint bodycote would be able. they are aware that they can obtain the same process to the same quality standards. such a large network brings economies of scale with technology developed at one location being. similarly network utilisation is enhanced by using logistics to put customers work into the most. the bodycote network has a wealth of technical accreditations some industry or customer specific others. individual operations concentrate on the accreditations suited to their market .. global network group revenue by market sector aerospace and defence automotive general industrial energy total. revenue by geography bodycote plc annual report for the year ended december march pm proof. emerging markets bodycote has facilities in emerging markets covering eastern europe china and mexico .. bodycote is the number one thermal processing provider in eastern europe and is the leading. revenue by market sector emerging markets aerospace and defence automotive general industrial energy total although. with facilities in countries bodycote is truly global .. north america revenue by market sector north america aerospace and defence automotive general industrial energy. this network offers facilities convenient to customers in all areas where manufacturing and technical industries. strategic report governance financial statements additional information stock code boy march pm proof quinn cbe. i have spent time with all of my board colleagues and am confident that i. quinn cbe chairman i am pleased to be contributing to the annual report for the. overview the group delivered a good set of results for and i am very pleased. dividend the board is proposing a final dividend of an increase of which will be. this brings the total ordinary dividend for to costing which represents a increase of .. this increase in the level of dividend underscores the board s view of the group. furthermore recognising the strong net cash position of the group at year end the board. board and governance my predecessor alan thomson stepped down as chairman at the end of. on behalf of the board and the company as a whole i thank alan for. i think that it is fair to say that bodycote has undergone a wholesale transformation. one of the key roles of the chairman is to ensure that the board members. i have spent time with all of my board colleagues and am confident that i. bodycote plc annual report for the year ended december march pm proof the board has. lili is an experienced strategy consultant and since a global partner in the london office. lili currently heads the oil gas practice and consults to a range of international clients. lili brings a wide range of experience in businesses including those in the engineering aviation. another one of the key responsibilities of the chairman is to promote effective governance across. we are committed to conducting business responsibly .. by maintaining high standards of corporate governance we enhance performance underpinned by our business model. our approach to governance is set by the board and our executive committee ensures that. effective and robust governance remains central to the ongoing success of the group .. people as part of my induction to the business i have had the chance to. i have been impressed by the commitment knowledge and passion that i have experienced from. i can see how the talented workforce creates a clear competitive advantage for bodycote which. shareholders during the year as usual meetings were undertaken with a number of bodycote s. i have already had the opportunity to meet some of our shareholders and look forward. summary the group is starting to show the results of the increased investment programme that. this programme has been designed to generate superior growth in what until recently has been. the results of these investments together with the continued diligence in operational efficiency and a. bodycote remains well placed to capitalise on the value generating investments available to it and. i am confident that in the coming years bodycote will deliver an attractive return for. quinn cbe chairman march strategic report governance financial statements additional information stock code boy march. the group s revenue growth combined with continued discipline on costs helped lift headline operating. return on sales increased to from .. harris group chief executive overview bodycote reported revenue growth of to with revenue benefiting from. at constant currency revenues grew including a contribution of from acquisitions completed in .. the following review reflects constant currency growth rates unless stated otherwise .. general industrial markets returned to growth after a year negative trend .. moreover this growth was with improvements in general industrial demand occurring in all of our. group revenues generated from the general industrial sectors which represent some of our business grew. of this growth percentage points came from acquisitions made in .. the remainder of the group s outperformance in general industrial versus the market came from. the decision we took to preserve the capacity at our t facilities is being well. growth in onshore oil gas saw a strong sequential increase in driven predominantly by demand. in the rest of the energy sector subsea revenues continued to decline and industrial gas. it is worth noting however that requests for quotation in the subsea sector have picked. in total revenues from the energy sector increased by .. civil aviation grew with our uk operations continuing to add significant business .. this increase will require new facilities to be built in in the uk in order. north america also started to contribute to the growth in a more meaningful way as. bodycote has a much stronger position on the leap series than it did on the. bodycote plc annual report for the year ended december march pm proof the automotive business. this compares to background demand growth in europe of low single digits and a slight. our strong performance benefited from the contribution from the acquisitions made in together with the. in our specialist technologies we achieved revenue growth across our specialty stainless steel processes s. however several factors dragged on overall sales growth during the year .. the hip product fabrication hip pf and surface technology businesses are focused largely on oil. in addition the weakness in igt volumes resulted in a slowdown in the hip services. also impacting our hip services business was an unplanned outage during the second half which. forecast growth in all the specialist technologies looks strong .. the five sites we acquired in are performing well .. they are all classical heat treatment sites within the agi division and contributed of revenue. it is also worth highlighting that revenues at these facilities have accelerated since coming into. with careful cost discipline in the face of growing revenues the group s headline operating. once again we increased our prices ahead of cost inflation .. this is an area of heightened focus for the group especially as we are entering. it is worth noting however that bodycote typically performs well in higher inflationary environments .. the group s strong profit improvement coupled with a headline tax rate of increased basic. basic earnings per share increased to from .. the return on capital employed rose in the current year to from in .. free cash flow increased to as a result of our improved profitability and in spite. headline operating cash conversion was once again above yielding a net cash position at the. strategic progress the group s strategy encompasses the drive for operational efficiency and improvement in. the group has a minimum hurdle rate return when looking at investments .. during we made further progress against our strategy delivering higher group return on sales of. we believe there is still the opportunity to further improve from both management led initiatives. in we continued to invest in areas with superior growth potential with a deliberate bias. we will continue to invest to support the future of our business in these rapid. during the year we commissioned several new lpc and s p lines .. in hip services we acquired the hip assets from doncasters group limited s uk business. further new facilities are expected to be commissioned in for both specialist technologies and classical. the additional capacity that will come on stream in will add to our ability to. we also continue to look at acquisition and investment opportunities that will grow our business. these are traditionally small facilities that can provide us with infills to our existing network. where opportunities to buy such facilities do not exist we will build new facilities these. since we have invested in both acquisitions and investment for growth in new and existing. organisation and people bodycote is a service business and service is delivered by passionate and. we will continue to invest in training and developing our employees to ensure that our. summary and outlook has once again demonstrated the quality of bodycote s business .. strong growth was achieved through contributions from contract wins on automotive and aerospace programmes excellent. the group s revenue growth combined with continued discipline on costs helped lift headline operating. return on sales increased to from .. to ensure that the business continues to deliver good results we will continue to focus. our business by its nature has limited forward visibility but we have entered the year. accordingly and in spite of the foreign exchange headwind at current exchange rates has started. harris group chief executive march strategic report governance financial statements additional information stock code boy. bodycote s classical heat treatments describe a group of mature heat treatment processes and includes. virtually every type of metal component whatever its application has received some form of processing. bodycote s specialist technologies refer to a group of processes which require very specialist expertise. these technologies some of which are proprietary offer unique solutions for a variety of applications. the global leader customer focus global network transferable bodycote is focused on continual improvement of. bodycote seeks to secure specific arrangements with our customers which provide protection from supply disruption. bodycote s global network of facilities see pages and in countries brings economies of scale. this makes bodycote s processing inherently more efficient than customers operations see page and competitors. the capital intensive nature of bodycote s business also provides significant barriers to entry .. the scope of bodycote s network enables us to specialise more effectively than competitors at. the global bodycote network provides unique opportunities for the transfer of knowledge and skills and. with some of the best metallurgists engineers and technicians in the industry bodycote is ideally. bodycote s scale enables continuous yet focused investment both in the latest processes and in. the supplier of choice service quality expertise bodycote has become the supplier of choice for. bodycote s quality management systems validated by major engineering oems have been developed to meet. all bodycote facilities hold industry and customer approvals appropriate to the services they offer and. bodycote s extensive facilities and expertise mean that projects can extend beyond customers capabilities combining. our own enhancements and improvement of standard processes have led to bodycote offering a range. creating value for customers for bodycote for investors services .. global supplier which can meet multiple processing needs .. access to entire bodycote knowledge base and expertise .. cost and environmental benefits versus operations .. mutually beneficial customer relationships .. wide customer base means bodycote is not reliant on any one customer .. ideally positioned to promote growth in emerging markets and selected technologies .. clearly focused strategy .. financially stable and sustainable business .. good growth drivers .. superior return on investment .. strong margins and cash flow .. bodycote plc annual report for the year ended december march pm proof strategy and objectives. specialist t echnologies capitalising on our specialist technologies to provide our customers with the ability. bodycote s objective is to create superior shareholder returns through the provision of selected thermal. the ade divisions serving the aerospace defence and energy customers with a focused network of. emerging markets expanding with our customers to rapid growth countries with an emphasis on eastern. operational improvement continuous improvement of business processes and systems which make us more efficient and. acquisitions adding small acquisitions to improve our plant network in classical heat t reatment and. the agi divisions serving the automotive and general industrial customers through a regionally organised business. divisional customer focus organising our technologies and resources to align with the global and local. t echnology providing thermal processing services that are a vital link in the manufacturing supply. strategic elements our key strategies focusing on customer alignment and leadership in our areas of. hip services hip product fabrication surface t echnology return on capital employed headline earnings per. strategic report governance financial statements additional information stock code boy march pm proof component journeys. materials used are customised based on the end application including high temperature stainless steels and. denotes the parts of the component journey undertaken by bodycote .. bodycote component journeys this is just one example of how bodycote brings together the huge. for more component journeys visit bearings are shaped and machined from rods of metal plates. for the perfect shape and smooth finish bearings are put through final lapping and polishing. the surface area to be heat treated is prepared areas which are not to be. the surface is hardened via a specialised nitriding process during which nitrogen is diffused into. after heat treatment the masking is removed and the surface cleaned before inspection to ensure. end applications include landing gear engine control surfaces and other parts or components .. bodycote plc annual report for the year ended december march pm proof inner strength a. our bones effectively composites absorb such stresses regularly and effectively for much of our lifetime. when joints fail they are often replaced with metal alloy implants .. these implants must be incredibly strong biocompatible and able to last the lifetime of the. a combination of heat treatment hot isostatic pressing and coating makes this possible .. denotes the parts of the component journey undertaken by bodycote .. bodycote component journeys this is just one example of how bodycote brings together the huge. for more component journeys visit cobalt chromium alloy billets are investment cast to form implant. the castings are thermally sprayed with a biomedical coating to allow a bond to form. the implants are then hiped to eliminate porosity improve fatigue life and enhance the bonding. solution and ageing heat treatment is used to strengthen the implant .. end application joint replacement .. strategic report governance financial statements additional information stock code boy march pm proof in gear. during use a vehicle places heavy demand on its transmission requiring a fast and reliable. the gears require high strength and wear resistance in order to withstand the stresses applied. bodycote s heat treatment processes in particular low pressure carburising lpc enable modern transmissions to. denotes the parts of the component journey undertaken by bodycote bodycote component journeys this is. the gears are assembled into the transmission unit .. the gears are dimensionally measured before heat treatment to monitor and maintain repeatability of distortion. the gears are then heat treated using lpc to enhance functionality by adding a case. the gears are quenched using nitrogen gas to minimise part distortion then tempered to relieve. the gears are machined to shape using a shaving or hobbing method .. the gears are shot peened to add residual stress this allows the parts to withstand. the gears are measured again after heat treatment to check any distortion is within limits. the parts are inspected and tested for surface hardness core hardness and effective case depth. end application automobile .. bodycote plc annual report for the year ended december march pm proof our technologies classical. these tightly controlled processes condition the material properties including both the core properties and the. a set of differentiated processes giving customers the ability to produce unique high products .. hip hot isostatic pressing services hip impact resistance and fatigue properties are extremely sensitive to. through the simultaneous application of heat and pressure the hip process eliminates internal porosity improving. surface hardness what is it the ability of a material to resist deformation scratching and. why is it important improving a material s hardness through heat treatment allows it to. hip pf hot isostatic pressing product fabrication hip pf this method combines the hip process. the flexibility of the hip pf process means that combinations of materials can be used. t oughness what is it the ability of a material to absorb energy and plastically. why is it important heat treatment can be used to strengthen the material and help. s p specialty stainless steel processes s p steel is often chosen for its inherent. standard heat treatments will harden the steel but can negatively impact the corrosion resistance .. s p technology uniquely hardens stainless steel alloys and alloys improving mechanical and wear properties. fatigue strength what is it the stress level at which component failure occurs when subjected. why is it important part failure due to fatigue can have catastrophic consequences particularly if. through heat treatment a material s fatigue strength is improved .. lpc low pressure carburising lpc a case hardening process used to obtain a hardened surface. lpc is a clean process carried out under vacuum and is an environmentally friendly treatment. creep resistance what is it the measure of a material s ability to resist high. why is it important some metals and alloys must operate at temperatures close to their. heat treatment enables them to perform at higher temperatures with little or no movement .. cid cid a proprietary thermochemical treatment for the simultaneous improvement of corrosion and wear resistance. is an environmentally friendly alternative to the use of hard chromium electroless nickel and other. core ductility what is it the ability of a material to deform without breaking .. why is it important in order to form or shape a complex component good ductility. heat treatment is used to soften the material which makes it easy to work as. st surface t echnology st st incorporates specialised plasma spray high velocity oxygen fuel hvof. below are a few examples of material properties obtained by heat treatment strategic report governance. headline operating profit increased by from to while average capital employed increased by to .. definition headline operating profit as a percentage of the average of opening and closing capital. capital employed is defined as net assets adjusted for net debt .. performance headline earnings per share increased by pence during the year from pence to pence. definition headline earnings per share is defined in note to the financial statements .. performance return on sales increased by percentage points during the year from to .. headline operating profit increased by from to while revenue increased by from to .. definition headline operating profit as a percentage of revenue .. bodycote plc annual report for the year ended december march pm proof headline operating cash. this was of headline operating profit .. definition headline operating cash flow stated before cash flow relating to restructuring of and acquisition. performance bodycote works tirelessly to reduce workplace accidents and is committed to providing a safe. the accident frequency rate has increased to in the year .. further details are included in the corporate responsibility and sustainability section on page .. definition accident frequency is defined as the number of lost time accidents hours approximately man. performance on a normalised basis the carbon footprint decreased by from tonnes per sales to. further details are included in the corporate responsibility and sustainability section on page .. definition carbon footprint is defined as tonnes of co equivalent emissions divided by revenue .. co equivalent emissions are calculated by taking electricity and gas usage in kilowatt hours and. normalised emissions statistics restate prior year figures using current year country specific conversion iea factors. strategic report governance financial statements additional information stock code boy march pm proof business review. in aircraft engines honeycomb seals are critical to the efﬁciency of gas ﬂow through the. this double role performed by the honeycomb seal results in better fuel efﬁciency and longer. to join the honeycomb seals a form of metal joining called brazing is used .. bodycote has decades of experience providing this complex and specialised service .. bodycote plc annual report for the year ended december march pm proof ade revenue by. our ade customers tend to think and operate globally and our ade divisions are organised. a large number of bodycote s multinational customers fall within our ade divisions and bodycote. we have facilities around the world including hot isostatic pressing hip and surface technology facilities. the following review reflects constant currency growth rates unless stated otherwise .. revenue in was an increase of at actual rates including a contribution of percentage points. civil aviation growth was underpinned by a strong uk performance .. it was also notable that growth in north american civil aviation revenues picked up through. the revenues from onshore oil gas in north america increased sequentially through the year .. these two factors helped the ade divisions achieve revenue growth of in the second half. headline operating profit was an increase of at actual rates benefiting from positive operational leverage. accordingly return on sales improved to .. statutory operating profit grew to .. net capital expenditure in was representing times depreciation .. in addition to the new hip acquired for our european business our new aerospace facility. return on capital employed increased to reflecting the improved profitability and careful management of the. .. headline operating profit is reconciled to operating profit in note to the financial statements .. bodycote plants do not exclusively supply services to customers of a given market sector see. market sector aerospace and defence energy automotive general industrial total geography western europe north america. because of their function and position within the vehicle they must be extremely strong corrosion. their effective operation is critical to the safety of the vehicle and therefore the driver. bodycote s proprietary process ensures the parts achieve the necessary material properties .. bodycote plc annual report for the year ended december march pm proof the agi divisions. our agi customers include many multinational businesses which tend to operate on a basis as. much of the business is locally oriented and the business is therefore organised on a. our extensive network of more than agi facilities enables the business to offer the widest. bodycote has a long and successful history of servicing this division s customer base .. the following review reflects constant currency growth rates unless stated otherwise .. revenue was ahead of the prior year at actual rates including a contribution of percentage. growth in western european revenues underpinned the divisions growth with growth in its automotive revenues. emerging markets revenues also grew very strongly and now represent of bodycote s agi business. mexico and china both achieved revenue growth above .. headline operating profit was ahead of the prior period at actual rates .. return on sales expansion has been a focus for our agi business over many years. statutory operating profit grew to .. net capital expenditure was representing times depreciation .. we are continuing to invest in the rapid growth emerging markets with investments in mexico. we also made further investment in s p as the strong growth in demand for. return on capital employed increased to reflecting the strong improvement in profitability and is the. .. headline operating profit is reconciled to operating profit in note to the financial statements .. bodycote plants do not exclusively supply services to customers of a given market sector see. business review automotive general industrial ball studs for further information about our services go to. because of their function and position within the vehicle they must be extremely strong corrosion. their effective operation is critical to the safety of the vehicle and therefore the driver. bodycote s proprietary process ensures the parts achieve the necessary material properties .. agi revenue by market sector and geography market sector aerospace and defence energy automotive general. acquisitions made in contributed of the constant currency growth with new facilities contributing a further. headline operating profit for the year increased by to and return on sales increased to. headline operating profit at constant currency increased by with the five acquired sites in contributing. price increases more than covered the increase in input costs .. statutory operating profit grew to .. chief financial officer s report dominique y ates chief financial officer bodycote plc annual report. amounts arising on financial liabilities measured at amortised cost .. as at december the group s revolving credit facility is totally undrawn .. having extended the facility during the year it has a remaining life of years .. profit before t axation headline profit before taxation amortisation of intangibles acquisition costs profit before. t ax the passing of the tax cuts and jobs act in the us in. accordingly the group s tax rate is significantly lower at .. the group s headline tax rate for the year excludes this gain and is therefore. the final impact of the changes from the us tax cuts and jobs act are. bodycote will continue to monitor any developments and give due consideration to the impact of. earnings per share the improved group business performance drove basic headline earnings per share up. profit before taxation taxation profit for the year basic headline eps basic eps return on. this improvement was driven by the increase in the group s operating profit .. moreover since the group has invested in growth investment projects many of which are not. the group continues to exert strong financial discipline in the area of capital expenditure as. cash flow headline operating profit add back items depreciation and amortisation impairment of fixed assets. earnings before interest tax depreciation amortisation payments impairment of fixed assets profit or loss on. the group s headline operating cash flow increased by to mainly reflecting the improvement in. statutory net cash from operating activities increased to .. headline operating cash conversion was as the group continues to demonstrate an impressive record of. consequently free cash flow increased to and the group ended with of net cash .. strategic report governance financial statements additional information stock code boy march pm proof chief financial. the multiple of net capital expenditure to depreciation was times times .. the group continues to invest in maintaining its assets to a high quality .. more importantly with regard to future revenue growth of the business half of the capital. acquisitions in december bodycote completed the acquisition of the hip assets and vacuum furnaces from. deferred consideration payments from acquisitions completed in increased the cash outflow on acquisitions to in. dividend and dividend policy the group aims to pay ordinary dividends so that dividend cover. the board may also recommend payment of a supplemental distribution to shareholders .. the amount of any supplemental distribution will be assessed in light of the cash position. the board has recommended a final ordinary dividend of bringing the total ordinary dividend to. in addition in light of the group s strong balance sheet and year end net. if approved by shareholders both the final ordinary dividend and the special dividend will be. borrowing facilities the group is financed by a mix of cash flows from operations borrowings. the group s funding policy aims to ensure continuity of finance at reasonable cost based. the group continues to have access to committed facilities at competitive rates and therefore currently. the total undrawn committed facility funding available to the group at december was .. at december the group had the following drawings and headroom under the committed facility facility. alternative performance measures bodycote uses alternative performance measures such as headline operating profit headline earnings. going concern in determining the basis of preparation for the annual report and the group. this includes an overview of the group s financial position cash flows liquidity position and. the group meets its working capital requirements through a combination of cash resources committed and. the overdrafts and uncommitted facilities are repayable on demand but the committed facilities are due. there is sufficient headroom in the committed facility covenants to assume that these facilities can. the committed facilities as at december were as follows revolving credit facility maturing april the. the group s forecasts and projections taking account of reasonable potential changes in trading performance. the directors have reviewed forecasts and projections for the group s markets and services assessing. the directors also reviewed downside sensitivity analysis over the forecast period thereby taking into account. following this review the directors have formed a judgement at the time of approving the. for this reason the directors continue to adopt the going concern basis in preparing the. y ates chief financial officer march bodycote plc annual report for the year ended december. the review of financial risk has been delegated to the audit committee .. the group s risk framework using a variety of and approaches is used to identify. the risks are aggregated first at a divisional level and then at group level .. for each business critical risk assurance activities have been documented in risk assurance maps and. the group head of risk is supported by the risk and she committee which met. the risk and she committee assists the group head of risk in identifying critical risks. the group head of risk provides an update to the audit committee on the group. the board concluded that an ongoing process of identifying evaluating and managing the group s. the table below highlights the major risks that may affect bodycote s ability to deliver. these risks have been reviewed throughout the year and two new risks have been added. the inclusion of the environment risk reflects increasing regulatory intervention and a level of uncertainty. the inclusion of the capital projects risk reflects the group s continued investments of significant. in determining the principal risks the board once again considered the result of the referendum. the board does not expect this will have a material impact on bodycote as customers. details of the group s financial risks funding foreign exchange interest rate and counterparty risks. the mitigating activities described below will help to reduce the impact or likelihood of the. the board recognises that there could be risks that may be unknown or that may. for this reason business continuity plans have been prepared for all plants to provide for. risk description impact mitigation and control relevance to strategy market and customer risks markets bodycote. the result of the referendum on the future of the uk s membership in the. stable the high proportion of fixed costs in the business means that a drop in. sales in the markets served by the agi businesses of the total group tend to. sales to the energy sectors are closely linked to energy prices which in turn can. bodycote s presence in countries across a wide variety of acts as a natural hedge. there is some flexibility in the cost base .. by ensuring that a proportion of the workforce is employed on temporary contracts .. changes in customer demand on a local or a level are responded to quickly .. loss of key customers bodycote benefits from many relationships with key customers and the damage. stable the loss of a key customer could adversely affect the group s financial results. there is no significant customer dependency with the group s top ten customers accounting for. there is a continued focus on customer service and quality processes to maintain excellent relationships. key account management is in place and customer satisfaction is monitored .. strategic report governance financial statements additional information stock code boy march pm proof principal risks. stable the erosion of market share resulting in loss of revenue and profit .. the close control of proprietary knowledge .. rapid increase in the scale of the group s offerings to maintain the position as. corporate and community risks safety and health the nature of bodycote s activities presents safety. stable bodycote is committed to providing a safe work environment for its employees but bodycote. furthermore poor safety and health practices could lead to disruption of business financial penalties and. health and safety policies set by the group chief executive .. ohsas and iso compliant she management systems being used by group head of safety health. programme in place to focus on reduction of incidents which could have a high impact. safety compliance audits at all plants at least every two years .. oversight of safety and health framework provided by the group risk and she committee .. environment actual or potential environmental contamination could lead to health risks disruption of business financial. increasing bodycote is committed to providing the highest level of protection to the environment .. environmental regulators in many jurisdictions in which bodycote operate can impose obligations on bodycote to. environmental procedures and measures in place conforming to iso of plants .. environmental due diligence of businesses for acquisition .. remediation of contaminated sites or additional emission abatement as required by local legislation .. bodycote plc annual report for the year ended december march pm proof risk description impact. increasing deterioration in quality or service levels can cause serious damage to bodycote s reputation. work that is released into use which is not in compliance with specification could arise. the automotive iso technical specification has recently undergone major revision and is being replaced by. the new standard requires additional work for example additional quality inspections .. bodycote has stringent quality systems in place managed by qualified staff .. quality systems and processes operated at plant level with oversight by divisional quality teams .. where necessary plants maintain industry relevant accreditations such as iso nadcap and iatf .. all plants subjected to internal and external quality audits and inspections at least once a. major disruption at a facility bodycote s business processes are inherently risky and there is. in addition a number of sites are exposed to natural hazards such as earthquakes flooding. stable any significant incident at a site could result in the service to bodycote s. bodycote has a global network of facilities .. these facilities create a framework to provide capability for affected facilities .. business continuity plans are in place for all plants .. these are updated and tested annually .. this process has been subject to a board risk deep dive in .. independent insurer inspections to assess hazard and business interruption risks .. insurance cover including business interruption cover .. scheduled equipment maintenance and inspections .. capital projects the group invests capital in developing existing plants as well as into greenfield. increasing capital projects can be highly complex and rely on factors outside of the group. this may cause projects to be delivered late or at a higher cost than forecast. market conditions may also change making a project less profitable than initially projected .. there is a well established capital investment approval process that applies to all major capital. project management frameworks are in place to deliver projects on time and on cost .. all major projects are subject to post implementation reviews .. capital project risk will be subject to internal audit review in .. strategic report governance financial statements additional information stock code boy march pm proof principal risks. bodycote is currently undergoing a group wide implementation of an erp system .. stable failure to protect the group s it systems from cyber threats or to maintain. project approval and progress subject to regular executive committee and board review .. project teams made up of skilled subject matter experts supplemented with third party advisers .. best practice project management processes in place with assurance provided by third parties .. defined disaster recovery planning and data backup procedures .. regulatory risks regulatory and legislative compliance the global nature of bodycote s operations means that. stable failure to comply with legislation could lead to substantial financial penalties disruption to business. business processes are supported by hr policies and the group code of conduct alongside training. the open door line blower facility which is managed by a third party .. engagement of local specialists to support bodycote at local divisional and group level .. regular audit of the effectiveness of implemented procedures .. bodycote plc annual report for the year ended december march pm proof viability statement in. this longer term assessment process supports the board s statements on both viability as set. a three year period was determined as it is a reasonable period over which the. as a result the board determined that a period of longer than three years would. the forecast used considers metrics which enable assessment of the group s key performance indicators. in conducting the review of the group s prospects the directors assessed the three year. this assessment considered the impact of the principal risks on the business model and on. the directors viability assessment included a review of the sensitivity analysis performed on the three. the developed scenarios were designed to be plausible yet severe .. examples of scenarios reviewed were a decrease in forecast revenue of similar magnitude to the. a decrease in revenue debtor days and sterling strengthening to reflect an economic downturn in. the directors also took into consideration the group s financial position at december with net. the directors have assessed the viability of the group and based on the procedures outlined. strategic report governance financial statements additional information stock code boy march pm proof corporate responsibility. bodycote plc annual report for the year ended december march pm proof bodycote s stakeholder. these exchanges based on mutually beneficial relationships provide the basis for the group s growth. taxes productivity return on investment services remuneration payment bodycote provides thermal processing services that improve. .. .. improves the lifetime and performance of products supports businesses and protects lives investors funders capital. sales services employees employees knowledge expertise and skill are a major part of the group. was paid out as remuneration .. customers our services are provided aerospace defence energy and general industrial industries .. suppliers suppliers proﬁt from the location of the group in local communities and from the. society bodycote generates wealth for society and contributes to socioeconomic development through its sustainable business. in total employer related social taxes net vat corporate and other transnational taxes amount to. we aim to achieve this in a safe working environment while continually seeking to minimise. bodycote is dedicated to improving the management of corporate responsibility issues and is implementing policies. the future success and growth of the group is intrinsically linked to our ability to. our people the strength of the group primarily rests in its people and one of. bodycote is fortunate to have a competent and committed international team that is respected in. bodycote invests in the training and development of its people both at local and group. at a local level the group is committed to providing the appropriate skills and technical. at group level a number of initiatives are currently being rolled out to drive excellence. a tool to develop further understanding and skill in the area of performance management is. through communication of clear messages coupled with skills development the organisation aims to raise the. this initiative is backed by a performance management system which supports the process .. bodycote s employment policies are complying with all current legislation to engender equal opportunity irrespective. harassment is not tolerated .. female representation on our board during was and at manager level it is .. females represent of our total workforce .. as of january we have increased female representation on the board to .. male female t otal male female t otal directors managers other staff .. accident frequency is defined as the number of lost time accidents hours approximately man years. .. note the rate for has increased from as previously reported last year to due to. .. co e is carbon dioxide equivalent which represents the co release due to our energy. .. normalised statistics restate prior year figures using current year iea carbon conversion factors and current. bodycote plc annual report for the year ended december march pm proof it is not. how we operate as a group and the behaviours that we expect from all our. our values represent bodycote and its people and our commitment to the company and the. our core values are straightforward and are as follows honesty and t ransparency we are. trust stems from honesty and trust is at the heart of everything we engage in. this is not something we take for granted .. bodycote lives by a culture of honest and transparent behaviour which is at the core. respect and responsibility we manage our business with respect applying an ethical approach to our. we respect our colleagues who are all of the employees of bodycote .. part of our respect for our colleagues is our commitment to safe and responsible behaviour. we show respect for our customers our suppliers and our competitors .. we respect the communities around us and behave as responsible corporate citizens by being compliant. we believe in taking ownership for and being mindful of the impact of our actions. creating v alue creating value is the very essence of our business and needs to. we create value for our customers our employees and our shareholders .. the realities are harsh .. if we do not create value for our customers then we have no reason for. if we do not create value for our employees there will be to create value. our shareholders rightfully require that we ultimately create value for them as they are the. human rights bodycote s human rights policy is consistent with the universal declaration of human. we prohibit forced compulsory and underage labour and any form of discrimination based on age. appropriate mechanisms are in place to minimise the potential for any contravention of these rules. by publicly posting our human rights policy on stakeholders worldwide can alert us to potential. our internal systems also support compliance with our policy and we have a robust open. in the jurisdictions in which we employ a majority of our employees there are laws. the modern slavery act bodycote plc has conducted a risk assessment on our supply chain. suppliers in those countries identified in walk free foundation s global slavery index as being. we have a code of conduct which sets out our policy on compliance with legislation. the and human trafficking statement was reviewed by our board of directors in september and. the statement will be reviewed on an annual basis .. customers and suppliers bodycote has no significant suppliers who are wholly dependent upon the group. suppliers are paid in line with contractual and legal obligations .. we endeavour to respond quickly to changing customer demand to identify emerging needs and to. we stay close to our current and potential customers building relationships .. community bodycote seeks to play a positive role in the local communities in which it. responsible business ethics all bodycote personnel are expected to apply a high ethical standard consistent. directors and employees are expected to ensure that their personal interests do not at any. shareholder employees are advised of and comply with the share dealing code .. bodycote has systems in place that are designed to ensure compliance with all applicable laws. furthermore bodycote does not make political donations .. with regard to competition bodycote aims to win business in a differentiated manner .. the group does not employ unfair trading methods and it competes vigorously but fairly within. employees are prohibited from either giving or receiving any inducements .. our open door policy has been translated into all languages used throughout the group .. the policy allows employees to report their concern confidentially verbally or in writing to an. reports are transcribed and sent to the group head of risk who then determines the. online training courses in respect of and competition law have been designed and translated into. all relevant employees have completed the interactive courses .. strategic report governance financial statements additional information stock code boy march pm proof corporate responsibility. we are committed to complying with all local legislative requirements as a minimum and establishing. safety and health the nature of the group s operations is such that employees are. bodycote aims to manage these hazards and thereby minimise risks to employees through the deployment. bodycote s online incident reporting and she management tool has been operational since .. this has enabled more consistent and thorough reporting of workplace injuries near misses and unsafe. following the implementation there was an increase in the lost time injury rate frequency lti. in the lti rate increased from to .. bodycote continues to devote significant resource and management focus on safety with the number of. this improvement demonstrates stronger engagement of employees in proactively raising safety issues and rectifying potential. accidents though regrettable and unacceptable represent learning opportunities .. this is the reason that accurate reporting is an essential part of building a robust. accident frequency lost time injury rate accident frequency is defined as the number of lost. in addition to encouraging the reporting of work related injuries bodycote has sought to encourage. this has worked well since the introduction of the new global incident reporting system in. this much improved reporting of incidents permits us to address hazards before injury occurs .. as our database continues to develop we will be able to analyse and prioritise our. the most frequent cause of lost time incidents is related to manual handling of parts. this is currently the subject of a group wide review and will be a focus. all reportable incidents and lost time injuries are reviewed during executive management meetings and board. in addition the executive management team reviews incidents which did not result in injury but. all serious incidents and high potential incidents are also reviewed by the group she committee. this system was further strengthened in with actions being tracked via the online incident management. environment a proactive approach to improving energy efficiency means that bodycote has implemented a variety. the ongoing effort to lessen the impact on the environment has resulted in bodycote seeking. at every stage where bodycote is involved in the manufacturing cycle our operational aim is. bodycote operates modern efficient equipment which is operated around the clock so as to optimise. without bodycote many companies would be using older technology and running their equipment at reduced. working with bodycote enables our customers to commit more easily to carbon reduction initiatives .. bodycote also reduces the carbon footprint of our customers activities by increasing the lifespan of. for example surface treatment technology is widely used in the reclamation of damaged and worn. the treated parts often last up to twenty times longer than the original .. whilst thermal processing is an business it is a vital part of the manufacturing supply. greenhouse gas emissions co e emissions ktco e intensity ratio tco co e emissions ktco. normalised statistics restate prior year emissions using current year iea carbon conversion factors and current. emissions per of turnover .. bodycote plc annual report for the year ended december march pm proof scope emissions are. scope emissions are indirect energy emissions resulting from purchased electricity heat steam or cooling for. the financial control consolidation approach has been used to report the above data .. this method aligns with the reporting scope in the financial statements .. the group collects electricity and natural gas usage information from each facility on a monthly. the group then applies the international energy agency iea published national carbon conversion factors to. group operational management actively monitors their monthly co e emissions reported and the group s. all entities and facilities under financial control are included within the disclosure .. emissions less than of the group s total co e relating to fugitive emissions and. as such there are no significant omissions from this disclosure .. iso accredited facilities reducing the environmental impact of the group s activities is taken very. compliance with the requirements of iso helps to minimise the risk of adverse environmental effects. at the end of of our operating facilities had achieved iso accreditation .. the slight reduction is due to the closure of a number of existing certified sites. operational plants which have not yet received accreditation to the standard are working towards it. carbon footprint and water consumption the absolute energy usage increased by .. at constant exchange rates it increased by .. the total co e emissions per sales in were te as previously reported te te. the group s total co e emission data is based on scope and scope emissions. in previous years this has been supplied by defra directly .. however as of january defra no longer supplies these conversion factors for companies .. this has now been sourced by the group directly from the international energy agency iea. there are some significant differences in these conversion factors .. as a result all previous years have now been restated using iea conversion factors to. on a basis water usage per sales decreased by .. on a basis water usage per showed a decrease of .. in our eu based operational sites reviewed their operations to ensure compliance with the energy. this directive is transposed into local legislation and requires sites to monitor their energy usage. one mechanism for ensuring compliance is for sites to become certified to iso energy management. this enables sites to measure energy usage consistently and target the most effective ways of. our sites in germany austria denmark and the netherlands are largely already certified and working. bodycote uses established systems to develop best practice at specific sites and across the wider. examples of projects undertaken across bodycote sites are discussed below .. the continued replacement of traditional lighting with led for environmental and improved safety has resulted. our sites at sprockhövel otterfing esslingen korntal wehingen gothenburg and warsaw will benefit from projected. at the lüdenscheid plant the second phase of a heat recovery project will save a. at langenfeld co savings will be achieved from new furnace insulation .. a new heat exchange system in gothenburg for both cooling water and process ventilation has. meanwhile in denmark our ejby plant will reduce co emissions by through the new air. these replace evaporative water cooling towers and in addition to the energy savings eliminate the. in addition to process efficiency improvements some sites have upgraded the building fabric to improve. at our haag site a project to replace windows and improve insulation resulted in a. since bodycote has submitted data on co usage to the carbon disclosure project one of. each year the company has improved its standing in the league tables and is now. chlorinated solvent use the use of chlorinated solvents in bodycote s thermal processing activities has. in the solvent use showed a further decrease of compared with the previous year .. cautionary statement the strategic report has been prepared solely to provide information to shareholders to. the strategic report contains certain statements .. these statements are made by the directors in good faith based on the information available. approval the group strategic report of bodycote plc was approved by the board of directors. strategic report governance financial statements additional information stock code boy march pm proof board of. director and chairman of the audit committee of babcock international group plc since and a. external roles external roles past roles past roles worked on a variety of audits with. from to he worked for lloyds bank plc and then switched to british nuclear fuels. in he took on the role of group finance director with royal mail holdings plc. he was director of fiberweb plc during mouchel group from to and wandisco plc from. spent his early career in engineering with courtaulds plc and then moved to the usa. he was appointed to the board of powell duffryn plc as an executive director in. he was also a executive director of brixton plc from to .. qualiﬁcations qualiﬁcations chartered engineer graduated from cambridge university masters degree in business administration from the. dominique y ates chief financial officer appointed november ian duncan senior independent director appointed november. worked in various roles for nz forest products ltd followed by management consultancy with resource. managing director of riverstone holdings llc from .. director of boc group plc from to director and remuneration committee chair as well as. university of auckland and msc management sciences massachusetts institute of technology .. international operations emerging markets mergers and acquisitions management leadership manufacturing capital intensive industry managing director. held various senior positions in imperial tobacco group plc followed by chief financial ofﬁcer positions. chartered accountant graduated from bristol university in economics and accounting .. leadership international operations mergers and acquisitions emerging markets current ﬁnancial experience service industry chartered accountant. international operations current ﬁnancial experience supply chain and logistics mergers and acquisitions service industry executive. began her career in various positions with ericsson working in continental europe north america and. joined teliasonera in as senior vice president moving to xelerated initially as chairperson and later. director of transmode holdings ab from to blekinge institute of technology from to tieto corporation. eva will retire from caverion oy in march from assa abloy ab in april and. engineer graduated with a masters from linköping institute of technology diploma in marketing from ihm. past roles qualiﬁcations skills and experience qualiﬁcations pat larmon director appointed september ute ball group. lili began her career as an actuary before joining bain company .. graduated with a bsc in mathematics from concordia university montreal followed by an mba from. associate of the society of actuaries .. strategy and consultancy international operations mergers and acquisitions oil gas industry business services industry oil. chief executive ofﬁcer north america of bunzl plc since joining the bunzl plc board in. was executive vice president and owner of packaging products corporation until when the company was. held various senior management positions for over years before becoming president of bunzl s north. graduated from illinois benedictine university major economics business economics followed by achieving certiﬁed public accountant. international operations mergers and acquisitions service industry manufacturing distribution sales and marketing chief executive ofﬁcer. key to committees audit remuneration nomination executive committee chair e n r a n r. the corporate governance statement provides an insight into how the board operated during the year. we are committed to conducting business responsibly .. by maintaining high standards of corporate governance we enhance performance underpinned by our business model. our approach to governance is set by the board and our executive committee ensures that. effective and robust governance remains central to the ongoing success of the group .. the main governance documents are our core values and the code of conduct which set. these documents together with our policies govern how we conduct our business and set the. compliance training helps to enforce this .. board oversight reviews and audits form part of the monitoring and supervision process .. risk processes are embedded and reviewed on an ongoing basis across the business .. the important governance developments at bodycote over the last year are detailed in the governance. my ambitions for the composition of the board are to maintain and where applicable broaden. the board continues to ensure that effective succession plans are in place .. i encourage all shareholders to attend the agm which will be held at our macclesfield. this event provides an excellent opportunity to meet the executive and independent directors .. quinn chairman board performance key actions achievements priorities for implement actions from the strategy review. the nomination committee considers diversity when making appointments to the board taking into account relevant. our prime responsibility however is the strength of the board and our overriding aim in. the nominations committee also considers capability and capacity to commit the necessary time to the. the intention is to appoint the most suitable qualified candidate to complement and balance the. the nomination committee is advised by international search companies who have been briefed on our. we appointed quinn on january as part of our board refreshment replacing thomson who retired. chahbazi was appointed director effective january .. the board currently comprises two executive directors four directors and a chairman .. as of female representation on our board is .. at manager level it is .. females represent of our total workforce .. whilst we are above the by voluntary target recommended by the review we continue to. we will increase female other minority representation on the board if appropriate candidates are available. the corporate responsibility and sustainability report contains further details regarding the male and female representation. board evaluation following the external board evaluation in the board agreed to undertake an internal. to ensure that all aspects of good governance are covered by the review the group. questions were framed under the following seven topics remit and objectives composition training and resources. at a meeting of the nomination committee in september the directors assessed the conclusions reached. additional emphasis will be placed on risk management strategy and operational matters .. the board evaluation covered the activities of the main board and each of its committees. the board is considered to be functional and working well .. arising from the exercise the board concluded that its focus should remain on divisional growth. the overall conclusion is that the board is performing well and high governance standards have. the executive committee is strongly challenged by the board when appropriate .. as in previous years the chairman has assessed the performance of each board member by. the executive directors messrs harris and will be appraised in march .. led by the senior independent director the directors carried out an evaluation of the chairman. the board was satisfied with the now retired chairman s commitment and performance .. overboarding at our agm in bodycote received a high number of votes against the of. eva has now had time to review her directorships and will not stand for at. rns announcements will be made during confirming that eva will not stand for at the. following these changes eva lindqvist will sit on five listed boards bodycote another uk plc. following a review of eva s time commitments and taking into account the reduced number. financial statements additional information stock code boy strategic report governance march pm proof corporate governance. they also meet all other directors and senior executives .. this facilitates their understanding of the group and the key drivers of business performance .. t raining the board receives training via ad hoc presentations and papers from advisers and. external periodic training on important topics takes place and during the year the directors received. other opportunities for development and support are a programme of visits throughout the year reviews. succession planning succession planning ensures that appropriate senior executive leadership resources are in place to. the plans are reviewed annually by the nomination committee .. the board further develops its knowledge and gains greater visibility of executive talent and management. tenure in years patrick larmon lili chahbazi anne quinn tenure in years eva lindqvist ian. this is monitored by the board at regular intervals .. further details are available on page .. rights in line with best practice provisions in the group statement of principles the board. financial statements additional information stock code boy strategic report governance march pm proof corporate governance. in respect of the year ended december bodycote has complied with the provisions of the. regarding the board has in recent years taken the view that generally it is the. the chairman also meets institutional investors to discuss overall strategy governance and any concerns that. only where these more usual channels of communication have failed would the board expect the. the sid has contacted major shareholders and offered to facilitate meetings with them should they. regular feedback from the group s advisers on investor meetings and results presentations is circulated. during the year the chairman met with shareholders to discuss governance matters .. apart from these distinct areas bodycote was in compliance with the provisions of the code. operation of the code taken together with the report of the audit committee the report. leadership the board is responsible to shareholders for good corporate governance setting the group s. the board met on nine occasions during including a specific meeting to review and update. the board of directors comprises seven members of whom five are directors and two are. the group chief executive is harris and the senior independent director is .. duncan who also chairs the audit committee .. lindqvist is chair of the remuneration committee .. p .. larmon and chahbazi are directors .. brief biographical details of all directors are given on pages to .. during the year the board visited a number of uk and overseas facilities including sites. such events involved meetings with local management and the unit workforce to understand more clearly. matters reserved for the board were reviewed during the year and updated where required .. certain defined powers and issues reserved for the board to decide are inter alia strategy. bodycote plc annual report for the year ended december march pm proof in advance of. they are also supplied with the latest available information on safety health and environmental and. senior management from across the group and advisers attend some of the meetings to provide. the exposure to members of senior management from across the group helps enhance the board. where required a director may seek independent professional advice the cost of which is reimbursed. all directors have access to the group company secretary and they may also address specific. in accordance with the articles of association all newly appointed directors must submit themselves for. all directors stand for yearly .. directors including the chairman are appointed for fixed terms not exceeding three years from the. a statement of the directors responsibilities is set out on page .. the board also operates three committees .. these are the nomination committee the remuneration committee and the audit committee .. all directors serve on each board committee .. in accordance with the recommendations of the code board members serve for a period of. if letters of appointment are extended beyond six years the fixed term is reduced to. in order that necessary actions can be taken promptly a finance comprising the chairman or. shareholders audit committee monitors the integrity and effectiveness of the group s nancial reporting and. larmon lindqvist .. duncan and chahbazi are all independent for the purposes of the code .. the chairman was considered independent upon appointment .. commitment attendance of directors at regular scheduled meetings of the board and its committees is. duncan p .. larmon y ates .. thomson resigned from the remuneration committee on july .. .. harris resigned from the nomination committee on july .. all directors attended the maximum number of board audit and nomination committee meetings that they. p .. larmon did not attend one remuneration committee due to an unpredictable diary clash .. in addition messrs thomson harris attended by invitation some parts of the meetings of the. proposals for the board decided in line with the code that all directors will retire. accordingly harris lindqvist p .. larmon .. duncan and yates will stand for at the agm in may .. having been appointed since the last agm quinn and chahbazi will stand for election .. the board recommends to shareholders that they or elect all the directors .. in accordance with the recommendations of the code board members will serve for a period. the performance of each director was evaluated as indicated above and the board confirms in. internal control and risk management the board is responsible for the group s system of. such a system is designed to manage rather than eliminate the risk of failure to. the board has applied principle of the code by establishing a continuous process for identifying. the board s monitoring covers all controls including financial operational and compliance controls and risk. it is based principally on reviewing reports from management and from internal audit ia to. the audit committee assists the board in discharging these review responsibilities .. bodycote plc annual report for the year ended december march pm proof the board believes. the system was in operation throughout and continues to operate up to the date of. key elements of the group s system of internal control are as follows the group. the group s authority matrix was reviewed and updated during and this clearly sets out. the board with the assistance of ey who provide ia services monitors the group s. ia reviews are conducted on the basis of a risk based plan approved annually by. this includes regular visits to each division shared service centres and plants .. the findings and recommendations from ia are reported on a regular basis to the executive. an annual internal control with management certification is undertaken by every bodycote site .. the assessment covers the effectiveness of key financial and compliance controls and was revised at. the results are validated by ia through spot checks and are reported to the executive. group core values and group policies including the code of conduct group authority matrix and. the chief financial officer group financial controller president and vice president of finance for each. this is to confirm the adequacy of their systems of internal controls their compliance with. a risk register and assurance map is maintained throughout the year to identify the group. any changes to these risks during the year are promptly reported to the executive committee. during in compliance with provision of the code management performed a specific assessment of its. management s assessment which has been reviewed by the audit committee and the board included. the review was based on work performed by the group head of risk and the. these risks have been reviewed throughout the year and two new risks have been added. further information regarding the ways in which the principal business risks and uncertainties affecting the. investor relations the group chief executive and chief financial officer regularly talk with and meet. in addition internet users are able to view news on the group and its share. users of the website can access recent announcements and copies of results presentations and can. on a regular basis bodycote s financial advisers corporate brokers and financial public relations consultants. the chairman and sid are available to discuss any issues not resolved by the group. on specific issues such as the review of remuneration packages the group has sought and. by order of the board ball group company secretary march springwood court springwood close tytherington. the chairman s statement the chief executive s review the chief financial officer s report. strategic report the strategic report is provided on pages to of this annual report .. this is a review of the development of the group s businesses the financial performance. the strategic report has been prepared solely to assist the shareholders in assessing the group. it should not be relied on by any other party for any other purpose .. statements have been made by the directors in good faith using information available up to. since the end of the financial year no important events affecting the business of the. dividends the board has recommended a final dividend of bringing the total ordinary dividend to. if approved by shareholders the final dividend of per share will be paid on june. a special dividend of has also been proposed and will be subject to shareholder approval. if approved it will be paid on june .. share capital the company s issued ordinary share capital as at december was .. no shares were issued during the year .. at the agm on may the shareholders authorised the company to purchase up to of. this authority expires at the conclusion of the forthcoming agm to be held on may. capital structure details of the issued share capital are shown in note .. the company has one class of ordinary shares which carries no right to fixed income. each share carries the right to one vote at general meetings of the company .. there are no specific restrictions on the size of a holding nor on the transfer. the directors are not aware of any agreements between holders of the company s shares. details of employee share schemes are set out in note and shares held by the. no person has any special rights of control over the company s share capital and. the appointment and replacement of directors is governed by the company s articles of association. the articles of association may be amended by a special resolution of shareholders .. the powers of the directors are described in the corporate governance statement on page .. under the articles of association the company has authority to issue ordinary shares with a. there are also a number of other agreements that take effect alter crystallise or terminate. none of these are considered to be significant in terms of their likely impact on. directors the current directors and their biographical details are listed on page to and all. thomson retired as chairman and director as of december and was replaced by quinn as. a further executive director chahbazi was appointed effective january .. under the articles of association of the company each director must retire from office and. however in line with the uk corporate governance code and to further increase accountability all. going forward all directors will retire at the agm and will stand for by the. accordingly those directors retiring and offering themselves for at the agm are harris .. duncan lindqvist p .. larmon and yates .. since quinn and chahbazi were appointed after the agm in both will stand for election. the service agreements for messrs harris and yates are terminable by months notice .. the remaining directors do not have a service agreement with the company and their appointments. directors interests in contracts and shares details of the executive directors service contracts and details. no director has had any dealings in any shares or options in the company since. qualifying third party indemnity provision as defined by section of the companies act has remained. apart from these exceptions none of the directors had a material interest in any contract. bodycote plc annual report for the year ended december march pm proof potential conflicts of. potential conflicts of interest could arise where a single director owes a fiduciary duty to. in order to ensure that each director was complying with the duties each director provided. the board reviewed the declarations and approved the existence of each declared situational conflict up. where such authorisation becomes inappropriate or not in the interests of bodycote shareholders the chairman. no such revocations have been made .. employment the group recognises the value that can be added to its future profitability and. the commitment of employees to excel is key to the group s continued success .. through their attendance at or participation in strategy production safety and health meetings at site. under the group s open door line employees concerns can be voiced over the phone. approximately bodycote employees are connected to the bodycote intranet which improves knowledge of group activities. it is the group s policy to give full and fair consideration to applications for. should an employee become disabled the group where practicable will seek to continue the employment. an equal opportunities policy is in operation in the group .. greenhouse gas emissions details of greenhouse gas emissions are included within the corporate responsibility and. donations there were no political contributions in or .. shareholders an analysis of the company s shareholders and the shares in issue at february. auditor in accordance with the provisions of section of the companies act a resolution for. each person who is a director at the date of approval of this annual report. this statement is given and should be interpreted in accordance with the provisions of section. annual general meeting the annual general meeting will be held on may in accordance with. by order of the board ball group company secretary march springwood court springwood close tytherington. of meetings main committee responsibilities director attendance regularly review the structure size and composition including. give full consideration to succession planning for directors and other senior executives in the course. be responsible for identifying and nominating for the approval of the board candidates to fill. thomson harris .. duncan lindqvist p .. larmon resigned membership on july dear shareholders i am pleased to introduce the nomination committee. the committee s key objective is to support the board in fulfilling its responsibilities to. this was a busy year for the committee .. in addition to its main responsibilities the committee oversaw the process of appointing a new. alan thomson chairman retired on december after more than nine years of service .. lili chahbazi was appointed director on january at the same time as i took over. the committee will continue to focus on ensuring that the present and future composition of. quinn chairman of the nomination committee role of the nomination committee the nomination committee is. the committee s terms of reference which are listed on the group s website include. further information on the code can be found on the financial reporting council s website. .. the terms of reference are reviewed annually by the group company secretary and the chairman. no changes were made to the terms of reference during the year .. composition of the nomination committee as recommended by the code the chairman of the board. the chairman can not chair the committee when it is dealing with either the succession. only members of the committee have the right to attend the committee meetings .. other individuals and external advisers may be invited to attend for all or part of. the quorum necessary for the transaction of business is two .. the group company secretary is secretary to the committee .. the committee has the authority to seek any information that is required from any officer. in connection with its duties the committee is authorised by the board to take such. board composition recruitment selection interview balance of skills appointment induction vacancy for a director is. the need for specific knowledge skills and role behaviours is identified during discussions at nomination. external international search consultancies were appointed to assist with the search .. zygos assisted the sid in the chairman s recruitment and russell reynolds assisted the chairman. a examined the long list of candidates against the role specifications and a shortlist of. candidates were initially interviewed by the sid and the chief executive for the chairman s. the final candidates then met with all other directors .. in order to maximise the effectiveness of the board an additional director was appointed increasing. anne quinn and lili chahbazi were announced as joining the board .. anne succeeds alan thomson as chairman .. the committee and the group company secretary will play an active part in an induction. succession planning bodycote plc annual report for the year ended december march pm proof director. prior to making any appointment the committee having evaluated the skills experience and diversity of. the committee will use open advertising or the services of independent external advisers to facilitate. a long list of candidates will be drawn up from which an appropriate number will. upon completion the committee will recommend to the board the appointment of the preferred candidate. board succession planning upon the retirement of thomson on december he was replaced by quinn. the recruitment process was led by the senior independent director .. duncan .. ian was advised by international search consultancy zygos in the process of identifying suitably qualified. lili chahbazi joined the board as a director on january and thomson was advised by. neither zygos nor russell reynolds have other connections to bodycote plc .. main activities of the nomination committee in the committee formally met seven times and reviewed. the committee discussed succession planning and board diversity and reviewed the performance of the group. in particular the need to broaden the board membership with respect to gender ethnicity and. the committee has sought to ensure that appointments are of the best candidates to promote. further information concerning board diversity can be found on page as part of the corporate. we are pleased to report that as of january the female representation on the board. the committee considered and authorised the potential conflicts of interest which might arise where a. the committee concluded that no inappropriate conflicts of interest exist .. the committee also assigned the chairman to review and agree with the group chief executive. following the external board evaluation in the board agreed to undertake an internal evaluation during. further details of the review can be found in the corporate governance section of the. recommendations arising from the board evaluation are in the process of being addressed .. in our agm results announcement we stated that eva lindqvist had confirmed to reduce her. consequently eva will not stand for at three listed companies caverion oy in march assa. this will reduce eva s other directorships to five .. in our view this enables eva to allocate sufficient time to bodycote to discharge her. in december the nomination committee reviewed the board s size and composition the frequency of. the terms of reference of the committee were reviewed in conjunction with the model terms. the biographical details of the current directors can be found on pages and .. the committee having reviewed their independence and contribution to board matters confirms that the performance. accordingly the committee has recommended to the board that all current directors of the company. as chairman of the committee i will be available at the agm in may to. on behalf of the nomination committee quinn cbe chairman of the nomination committee march nomination. of meetings main committee responsibilities director attendance encourage and safeguard the highest standards of integrity. monitor the integrity of the financial statements including annual and reports trading updates and any. reviewing and reporting to the board on significant financial reporting issues and judgements .. review the content of the annual report and advise the board whether taken as a. monitor and review the adequacy and effectiveness of the company s internal financial control and. oversee the relationship with the external auditor including consideration of fees audit scope terms of. monitor and review the effectiveness of the company s internal audit function .. review the adequacy and security of the company s arrangements for its employees to raise. .. duncan lindqvist p .. larmon introduction the committee has continued to focus on the integrity of bodycote s financial. the committee will continue to keep our activities under review as the regulatory environment changes. membership the members of the audit committee are all independent directors .. their biographical details are shown on pages to and their remuneration on page .. \n"
          ]
        },
        {
          "output_type": "display_data",
          "data": {
            "text/plain": [
              "<IPython.core.display.Markdown object>"
            ],
            "text/markdown": "March pm proof march pm proof annual report bodycote plc annual report stock code boy. Experienced in supporting large multinational customers and their supply chains as well as local niche. The core values underpinning everything we do honesty and t ransparency we are honest and. This is not something we take for granted. Bodycote lives by a culture of honest and transparent behaviour which is at the core. Respect and responsibility we manage our business with respect applying an ethical approach to our. We believe in taking ownership and being mindful of the impact of our actions. Creating v alue creating value is the very essence of our business and needs to. We create value for our customers our employees and our shareholders. Throughout this report you will see illustrations which link our business and strategy strategy core. Headline operating profit and headline profit before taxation exclude amortisation of acquired intangibles of and. . Return on sales is defined as headline operating profit as a percentage of revenue. . A detailed eps reconciliation is provided in note on page. . Return on capital employed roce is defined as headline operating profit of divided by the. Capital employed is defined as net assets adjusted for net debt. . Headline operating cash flow is defined as cash generated by operations of less net capital. . Headline operating cash conversion is defined as headline operating cash flow divided by headline operating. . Free cash flow is defined as cash generated by operations of less net capital expenditure. Bodycote plc annual report for the year ended december march pm proof strategic report the. The report outlines the developments and performance of the group during the financial year the. Key performance indicators are published to show the performance and position of the group. Page outlines the group s strategy and objectives along with the business model on page. The directors in preparing this strategic report have complied with of the companies act. This strategic report has been prepared for the group as a whole and therefore gives. The strategic report discusses the following areas global network chairman s statement chief executive s. Through an international network of plants bodycote can effectively utilise a wealth of knowledge experience. The network operates from facilities with customers able to benefit from bodycote s comprehensive range. Customers know that if their business expands bodycote will have the capability to meet their. They recognise that if they were to broaden their manufacturing footprint bodycote would be able. They are aware that they can obtain the same process to the same quality standards. Such a large network brings economies of scale with technology developed at one location being. Similarly network utilisation is enhanced by using logistics to put customers work into the most. The bodycote network has a wealth of technical accreditations some industry or customer specific others. Individual operations concentrate on the accreditations suited to their market. Global network group revenue by market sector aerospace and defence automotive general industrial energy total. Revenue by geography bodycote plc annual report for the year ended december march pm proof. Emerging markets bodycote has facilities in emerging markets covering eastern europe china and mexico. Bodycote is the number one thermal processing provider in eastern europe and is the leading. Revenue by market sector emerging markets aerospace and defence automotive general industrial energy total although. With facilities in countries bodycote is truly global. North america revenue by market sector north america aerospace and defence automotive general industrial energy. This network offers facilities convenient to customers in all areas where manufacturing and technical industries. Strategic report governance financial statements additional information stock code boy march pm proof quinn cbe. I have spent time with all of my board colleagues and am confident that i. Quinn cbe chairman i am pleased to be contributing to the annual report for the. Overview the group delivered a good set of results for and i am very pleased. Dividend the board is proposing a final dividend of an increase of which will be. This brings the total ordinary dividend for to costing which represents a increase of. This increase in the level of dividend underscores the board s view of the group. Furthermore recognising the strong net cash position of the group at year end the board. Board and governance my predecessor alan thomson stepped down as chairman at the end of. On behalf of the board and the company as a whole i thank alan for. I think that it is fair to say that bodycote has undergone a wholesale transformation. One of the key roles of the chairman is to ensure that the board members. I have spent time with all of my board colleagues and am confident that i. Bodycote plc annual report for the year ended december march pm proof the board has. Lili is an experienced strategy consultant and since a global partner in the london office. Lili currently heads the oil gas practice and consults to a range of international clients. Lili brings a wide range of experience in businesses including those in the engineering aviation. Another one of the key responsibilities of the chairman is to promote effective governance across. We are committed to conducting business responsibly. By maintaining high standards of corporate governance we enhance performance underpinned by our business model. Our approach to governance is set by the board and our executive committee ensures that. Effective and robust governance remains central to the ongoing success of the group. People as part of my induction to the business i have had the chance to. I have been impressed by the commitment knowledge and passion that i have experienced from. I can see how the talented workforce creates a clear competitive advantage for bodycote which. Shareholders during the year as usual meetings were undertaken with a number of bodycote s. I have already had the opportunity to meet some of our shareholders and look forward. Summary the group is starting to show the results of the increased investment programme that. This programme has been designed to generate superior growth in what until recently has been. The results of these investments together with the continued diligence in operational efficiency and a. Bodycote remains well placed to capitalise on the value generating investments available to it and. I am confident that in the coming years bodycote will deliver an attractive return for. Quinn cbe chairman march strategic report governance financial statements additional information stock code boy march. The group s revenue growth combined with continued discipline on costs helped lift headline operating. Return on sales increased to from. Harris group chief executive overview bodycote reported revenue growth of to with revenue benefiting from. At constant currency revenues grew including a contribution of from acquisitions completed in. The following review reflects constant currency growth rates unless stated otherwise. General industrial markets returned to growth after a year negative trend. Moreover this growth was with improvements in general industrial demand occurring in all of our. Group revenues generated from the general industrial sectors which represent some of our business grew. Of this growth percentage points came from acquisitions made in. The remainder of the group s outperformance in general industrial versus the market came from. The decision we took to preserve the capacity at our t facilities is being well. Growth in onshore oil gas saw a strong sequential increase in driven predominantly by demand. In the rest of the energy sector subsea revenues continued to decline and industrial gas. It is worth noting however that requests for quotation in the subsea sector have picked. In total revenues from the energy sector increased by. Civil aviation grew with our uk operations continuing to add significant business. This increase will require new facilities to be built in in the uk in order. North america also started to contribute to the growth in a more meaningful way as. Bodycote has a much stronger position on the leap series than it did on the. Bodycote plc annual report for the year ended december march pm proof the automotive business. This compares to background demand growth in europe of low single digits and a slight. Our strong performance benefited from the contribution from the acquisitions made in together with the. In our specialist technologies we achieved revenue growth across our specialty stainless steel processes s. However several factors dragged on overall sales growth during the year. The hip product fabrication hip pf and surface technology businesses are focused largely on oil. In addition the weakness in igt volumes resulted in a slowdown in the hip services. Also impacting our hip services business was an unplanned outage during the second half which. Forecast growth in all the specialist technologies looks strong. The five sites we acquired in are performing well. They are all classical heat treatment sites within the agi division and contributed of revenue. It is also worth highlighting that revenues at these facilities have accelerated since coming into. With careful cost discipline in the face of growing revenues the group s headline operating. Once again we increased our prices ahead of cost inflation. This is an area of heightened focus for the group especially as we are entering. It is worth noting however that bodycote typically performs well in higher inflationary environments. The group s strong profit improvement coupled with a headline tax rate of increased basic. Basic earnings per share increased to from. The return on capital employed rose in the current year to from in. Free cash flow increased to as a result of our improved profitability and in spite. Headline operating cash conversion was once again above yielding a net cash position at the. Strategic progress the group s strategy encompasses the drive for operational efficiency and improvement in. The group has a minimum hurdle rate return when looking at investments. During we made further progress against our strategy delivering higher group return on sales of. We believe there is still the opportunity to further improve from both management led initiatives. In we continued to invest in areas with superior growth potential with a deliberate bias. We will continue to invest to support the future of our business in these rapid. During the year we commissioned several new lpc and s p lines. In hip services we acquired the hip assets from doncasters group limited s uk business. Further new facilities are expected to be commissioned in for both specialist technologies and classical. The additional capacity that will come on stream in will add to our ability to. We also continue to look at acquisition and investment opportunities that will grow our business. These are traditionally small facilities that can provide us with infills to our existing network. Where opportunities to buy such facilities do not exist we will build new facilities these. Since we have invested in both acquisitions and investment for growth in new and existing. Organisation and people bodycote is a service business and service is delivered by passionate and. We will continue to invest in training and developing our employees to ensure that our. Summary and outlook has once again demonstrated the quality of bodycote s business. Strong growth was achieved through contributions from contract wins on automotive and aerospace programmes excellent. The group s revenue growth combined with continued discipline on costs helped lift headline operating. Return on sales increased to from. To ensure that the business continues to deliver good results we will continue to focus. Our business by its nature has limited forward visibility but we have entered the year. Accordingly and in spite of the foreign exchange headwind at current exchange rates has started. Harris group chief executive march strategic report governance financial statements additional information stock code boy. Bodycote s classical heat treatments describe a group of mature heat treatment processes and includes. Virtually every type of metal component whatever its application has received some form of processing. Bodycote s specialist technologies refer to a group of processes which require very specialist expertise. These technologies some of which are proprietary offer unique solutions for a variety of applications. The global leader customer focus global network transferable bodycote is focused on continual improvement of. Bodycote seeks to secure specific arrangements with our customers which provide protection from supply disruption. Bodycote s global network of facilities see pages and in countries brings economies of scale. This makes bodycote s processing inherently more efficient than customers operations see page and competitors. The capital intensive nature of bodycote s business also provides significant barriers to entry. The scope of bodycote s network enables us to specialise more effectively than competitors at. The global bodycote network provides unique opportunities for the transfer of knowledge and skills and. With some of the best metallurgists engineers and technicians in the industry bodycote is ideally. Bodycote s scale enables continuous yet focused investment both in the latest processes and in. The supplier of choice service quality expertise bodycote has become the supplier of choice for. Bodycote s quality management systems validated by major engineering oems have been developed to meet. All bodycote facilities hold industry and customer approvals appropriate to the services they offer and. Bodycote s extensive facilities and expertise mean that projects can extend beyond customers capabilities combining. Our own enhancements and improvement of standard processes have led to bodycote offering a range. Creating value for customers for bodycote for investors services. Global supplier which can meet multiple processing needs. Access to entire bodycote knowledge base and expertise. Cost and environmental benefits versus operations. Mutually beneficial customer relationships. Wide customer base means bodycote is not reliant on any one customer. Ideally positioned to promote growth in emerging markets and selected technologies. Clearly focused strategy. Financially stable and sustainable business. Good growth drivers. Superior return on investment. Strong margins and cash flow. Bodycote plc annual report for the year ended december march pm proof strategy and objectives. Specialist t echnologies capitalising on our specialist technologies to provide our customers with the ability. Bodycote s objective is to create superior shareholder returns through the provision of selected thermal. The ade divisions serving the aerospace defence and energy customers with a focused network of. Emerging markets expanding with our customers to rapid growth countries with an emphasis on eastern. Operational improvement continuous improvement of business processes and systems which make us more efficient and. Acquisitions adding small acquisitions to improve our plant network in classical heat t reatment and. The agi divisions serving the automotive and general industrial customers through a regionally organised business. Divisional customer focus organising our technologies and resources to align with the global and local. T echnology providing thermal processing services that are a vital link in the manufacturing supply. Strategic elements our key strategies focusing on customer alignment and leadership in our areas of. Hip services hip product fabrication surface t echnology return on capital employed headline earnings per. Strategic report governance financial statements additional information stock code boy march pm proof component journeys. Materials used are customised based on the end application including high temperature stainless steels and. Denotes the parts of the component journey undertaken by bodycote. Bodycote component journeys this is just one example of how bodycote brings together the huge. For more component journeys visit bearings are shaped and machined from rods of metal plates. For the perfect shape and smooth finish bearings are put through final lapping and polishing. The surface area to be heat treated is prepared areas which are not to be. The surface is hardened via a specialised nitriding process during which nitrogen is diffused into. After heat treatment the masking is removed and the surface cleaned before inspection to ensure. End applications include landing gear engine control surfaces and other parts or components. Bodycote plc annual report for the year ended december march pm proof inner strength a. Our bones effectively composites absorb such stresses regularly and effectively for much of our lifetime. When joints fail they are often replaced with metal alloy implants. These implants must be incredibly strong biocompatible and able to last the lifetime of the. A combination of heat treatment hot isostatic pressing and coating makes this possible. Denotes the parts of the component journey undertaken by bodycote. Bodycote component journeys this is just one example of how bodycote brings together the huge. For more component journeys visit cobalt chromium alloy billets are investment cast to form implant. The castings are thermally sprayed with a biomedical coating to allow a bond to form. The implants are then hiped to eliminate porosity improve fatigue life and enhance the bonding. Solution and ageing heat treatment is used to strengthen the implant. End application joint replacement. Strategic report governance financial statements additional information stock code boy march pm proof in gear. During use a vehicle places heavy demand on its transmission requiring a fast and reliable. The gears require high strength and wear resistance in order to withstand the stresses applied. Bodycote s heat treatment processes in particular low pressure carburising lpc enable modern transmissions to. Denotes the parts of the component journey undertaken by bodycote bodycote component journeys this is. The gears are assembled into the transmission unit. The gears are dimensionally measured before heat treatment to monitor and maintain repeatability of distortion. The gears are then heat treated using lpc to enhance functionality by adding a case. The gears are quenched using nitrogen gas to minimise part distortion then tempered to relieve. The gears are machined to shape using a shaving or hobbing method. The gears are shot peened to add residual stress this allows the parts to withstand. The gears are measured again after heat treatment to check any distortion is within limits. The parts are inspected and tested for surface hardness core hardness and effective case depth. End application automobile. Bodycote plc annual report for the year ended december march pm proof our technologies classical. These tightly controlled processes condition the material properties including both the core properties and the. A set of differentiated processes giving customers the ability to produce unique high products. Hip hot isostatic pressing services hip impact resistance and fatigue properties are extremely sensitive to. Through the simultaneous application of heat and pressure the hip process eliminates internal porosity improving. Surface hardness what is it the ability of a material to resist deformation scratching and. Why is it important improving a material s hardness through heat treatment allows it to. Hip pf hot isostatic pressing product fabrication hip pf this method combines the hip process. The flexibility of the hip pf process means that combinations of materials can be used. T oughness what is it the ability of a material to absorb energy and plastically. Why is it important heat treatment can be used to strengthen the material and help. S p specialty stainless steel processes s p steel is often chosen for its inherent. Standard heat treatments will harden the steel but can negatively impact the corrosion resistance. S p technology uniquely hardens stainless steel alloys and alloys improving mechanical and wear properties. Fatigue strength what is it the stress level at which component failure occurs when subjected. Why is it important part failure due to fatigue can have catastrophic consequences particularly if. Through heat treatment a material s fatigue strength is improved. Lpc low pressure carburising lpc a case hardening process used to obtain a hardened surface. Lpc is a clean process carried out under vacuum and is an environmentally friendly treatment. Creep resistance what is it the measure of a material s ability to resist high. Why is it important some metals and alloys must operate at temperatures close to their. Heat treatment enables them to perform at higher temperatures with little or no movement. Cid cid a proprietary thermochemical treatment for the simultaneous improvement of corrosion and wear resistance. Is an environmentally friendly alternative to the use of hard chromium electroless nickel and other. Core ductility what is it the ability of a material to deform without breaking. Why is it important in order to form or shape a complex component good ductility. Heat treatment is used to soften the material which makes it easy to work as. St surface t echnology st st incorporates specialised plasma spray high velocity oxygen fuel hvof. Below are a few examples of material properties obtained by heat treatment strategic report governance. Headline operating profit increased by from to while average capital employed increased by to. Definition headline operating profit as a percentage of the average of opening and closing capital. Capital employed is defined as net assets adjusted for net debt. Performance headline earnings per share increased by pence during the year from pence to pence. Definition headline earnings per share is defined in note to the financial statements. Performance return on sales increased by percentage points during the year from to. Headline operating profit increased by from to while revenue increased by from to. Definition headline operating profit as a percentage of revenue. Bodycote plc annual report for the year ended december march pm proof headline operating cash. This was of headline operating profit. Definition headline operating cash flow stated before cash flow relating to restructuring of and acquisition. Performance bodycote works tirelessly to reduce workplace accidents and is committed to providing a safe. The accident frequency rate has increased to in the year. Further details are included in the corporate responsibility and sustainability section on page. Definition accident frequency is defined as the number of lost time accidents hours approximately man. Performance on a normalised basis the carbon footprint decreased by from tonnes per sales to. Further details are included in the corporate responsibility and sustainability section on page. Definition carbon footprint is defined as tonnes of co equivalent emissions divided by revenue. Co equivalent emissions are calculated by taking electricity and gas usage in kilowatt hours and. Normalised emissions statistics restate prior year figures using current year country specific conversion iea factors. Strategic report governance financial statements additional information stock code boy march pm proof business review. In aircraft engines honeycomb seals are critical to the efﬁciency of gas ﬂow through the. This double role performed by the honeycomb seal results in better fuel efﬁciency and longer. To join the honeycomb seals a form of metal joining called brazing is used. Bodycote has decades of experience providing this complex and specialised service. Bodycote plc annual report for the year ended december march pm proof ade revenue by. Our ade customers tend to think and operate globally and our ade divisions are organised. A large number of bodycote s multinational customers fall within our ade divisions and bodycote. We have facilities around the world including hot isostatic pressing hip and surface technology facilities. The following review reflects constant currency growth rates unless stated otherwise. Revenue in was an increase of at actual rates including a contribution of percentage points. Civil aviation growth was underpinned by a strong uk performance. It was also notable that growth in north american civil aviation revenues picked up through. The revenues from onshore oil gas in north america increased sequentially through the year. These two factors helped the ade divisions achieve revenue growth of in the second half. Headline operating profit was an increase of at actual rates benefiting from positive operational leverage. Accordingly return on sales improved to. Statutory operating profit grew to. Net capital expenditure in was representing times depreciation. In addition to the new hip acquired for our european business our new aerospace facility. Return on capital employed increased to reflecting the improved profitability and careful management of the. . Headline operating profit is reconciled to operating profit in note to the financial statements. Bodycote plants do not exclusively supply services to customers of a given market sector see. Market sector aerospace and defence energy automotive general industrial total geography western europe north america. Because of their function and position within the vehicle they must be extremely strong corrosion. Their effective operation is critical to the safety of the vehicle and therefore the driver. Bodycote s proprietary process ensures the parts achieve the necessary material properties. Bodycote plc annual report for the year ended december march pm proof the agi divisions. Our agi customers include many multinational businesses which tend to operate on a basis as. Much of the business is locally oriented and the business is therefore organised on a. Our extensive network of more than agi facilities enables the business to offer the widest. Bodycote has a long and successful history of servicing this division s customer base. The following review reflects constant currency growth rates unless stated otherwise. Revenue was ahead of the prior year at actual rates including a contribution of percentage. Growth in western european revenues underpinned the divisions growth with growth in its automotive revenues. Emerging markets revenues also grew very strongly and now represent of bodycote s agi business. Mexico and china both achieved revenue growth above. Headline operating profit was ahead of the prior period at actual rates. Return on sales expansion has been a focus for our agi business over many years. Statutory operating profit grew to. Net capital expenditure was representing times depreciation. We are continuing to invest in the rapid growth emerging markets with investments in mexico. We also made further investment in s p as the strong growth in demand for. Return on capital employed increased to reflecting the strong improvement in profitability and is the. . Headline operating profit is reconciled to operating profit in note to the financial statements. Bodycote plants do not exclusively supply services to customers of a given market sector see. Business review automotive general industrial ball studs for further information about our services go to. Because of their function and position within the vehicle they must be extremely strong corrosion. Their effective operation is critical to the safety of the vehicle and therefore the driver. Bodycote s proprietary process ensures the parts achieve the necessary material properties. Agi revenue by market sector and geography market sector aerospace and defence energy automotive general. Acquisitions made in contributed of the constant currency growth with new facilities contributing a further. Headline operating profit for the year increased by to and return on sales increased to. Headline operating profit at constant currency increased by with the five acquired sites in contributing. Price increases more than covered the increase in input costs. Statutory operating profit grew to. Chief financial officer s report dominique y ates chief financial officer bodycote plc annual report. Amounts arising on financial liabilities measured at amortised cost. As at december the group s revolving credit facility is totally undrawn. Having extended the facility during the year it has a remaining life of years. Profit before t axation headline profit before taxation amortisation of intangibles acquisition costs profit before. T ax the passing of the tax cuts and jobs act in the us in. Accordingly the group s tax rate is significantly lower at. The group s headline tax rate for the year excludes this gain and is therefore. The final impact of the changes from the us tax cuts and jobs act are. Bodycote will continue to monitor any developments and give due consideration to the impact of. Earnings per share the improved group business performance drove basic headline earnings per share up. Profit before taxation taxation profit for the year basic headline eps basic eps return on. This improvement was driven by the increase in the group s operating profit. Moreover since the group has invested in growth investment projects many of which are not. The group continues to exert strong financial discipline in the area of capital expenditure as. Cash flow headline operating profit add back items depreciation and amortisation impairment of fixed assets. Earnings before interest tax depreciation amortisation payments impairment of fixed assets profit or loss on. The group s headline operating cash flow increased by to mainly reflecting the improvement in. Statutory net cash from operating activities increased to. Headline operating cash conversion was as the group continues to demonstrate an impressive record of. Consequently free cash flow increased to and the group ended with of net cash. Strategic report governance financial statements additional information stock code boy march pm proof chief financial. The multiple of net capital expenditure to depreciation was times times. The group continues to invest in maintaining its assets to a high quality. More importantly with regard to future revenue growth of the business half of the capital. Acquisitions in december bodycote completed the acquisition of the hip assets and vacuum furnaces from. Deferred consideration payments from acquisitions completed in increased the cash outflow on acquisitions to in. Dividend and dividend policy the group aims to pay ordinary dividends so that dividend cover. The board may also recommend payment of a supplemental distribution to shareholders. The amount of any supplemental distribution will be assessed in light of the cash position. The board has recommended a final ordinary dividend of bringing the total ordinary dividend to. In addition in light of the group s strong balance sheet and year end net. If approved by shareholders both the final ordinary dividend and the special dividend will be. Borrowing facilities the group is financed by a mix of cash flows from operations borrowings. The group s funding policy aims to ensure continuity of finance at reasonable cost based. The group continues to have access to committed facilities at competitive rates and therefore currently. The total undrawn committed facility funding available to the group at december was. At december the group had the following drawings and headroom under the committed facility facility. Alternative performance measures bodycote uses alternative performance measures such as headline operating profit headline earnings. Going concern in determining the basis of preparation for the annual report and the group. This includes an overview of the group s financial position cash flows liquidity position and. The group meets its working capital requirements through a combination of cash resources committed and. The overdrafts and uncommitted facilities are repayable on demand but the committed facilities are due. There is sufficient headroom in the committed facility covenants to assume that these facilities can. The committed facilities as at december were as follows revolving credit facility maturing april the. The group s forecasts and projections taking account of reasonable potential changes in trading performance. The directors have reviewed forecasts and projections for the group s markets and services assessing. The directors also reviewed downside sensitivity analysis over the forecast period thereby taking into account. Following this review the directors have formed a judgement at the time of approving the. For this reason the directors continue to adopt the going concern basis in preparing the. Y ates chief financial officer march bodycote plc annual report for the year ended december. The review of financial risk has been delegated to the audit committee. The group s risk framework using a variety of and approaches is used to identify. The risks are aggregated first at a divisional level and then at group level. For each business critical risk assurance activities have been documented in risk assurance maps and. The group head of risk is supported by the risk and she committee which met. The risk and she committee assists the group head of risk in identifying critical risks. The group head of risk provides an update to the audit committee on the group. The board concluded that an ongoing process of identifying evaluating and managing the group s. The table below highlights the major risks that may affect bodycote s ability to deliver. These risks have been reviewed throughout the year and two new risks have been added. The inclusion of the environment risk reflects increasing regulatory intervention and a level of uncertainty. The inclusion of the capital projects risk reflects the group s continued investments of significant. In determining the principal risks the board once again considered the result of the referendum. The board does not expect this will have a material impact on bodycote as customers. Details of the group s financial risks funding foreign exchange interest rate and counterparty risks. The mitigating activities described below will help to reduce the impact or likelihood of the. The board recognises that there could be risks that may be unknown or that may. For this reason business continuity plans have been prepared for all plants to provide for. Risk description impact mitigation and control relevance to strategy market and customer risks markets bodycote. The result of the referendum on the future of the uk s membership in the. Stable the high proportion of fixed costs in the business means that a drop in. Sales in the markets served by the agi businesses of the total group tend to. Sales to the energy sectors are closely linked to energy prices which in turn can. Bodycote s presence in countries across a wide variety of acts as a natural hedge. There is some flexibility in the cost base. By ensuring that a proportion of the workforce is employed on temporary contracts. Changes in customer demand on a local or a level are responded to quickly. Loss of key customers bodycote benefits from many relationships with key customers and the damage. Stable the loss of a key customer could adversely affect the group s financial results. There is no significant customer dependency with the group s top ten customers accounting for. There is a continued focus on customer service and quality processes to maintain excellent relationships. Key account management is in place and customer satisfaction is monitored. Strategic report governance financial statements additional information stock code boy march pm proof principal risks. Stable the erosion of market share resulting in loss of revenue and profit. The close control of proprietary knowledge. Rapid increase in the scale of the group s offerings to maintain the position as. Corporate and community risks safety and health the nature of bodycote s activities presents safety. Stable bodycote is committed to providing a safe work environment for its employees but bodycote. Furthermore poor safety and health practices could lead to disruption of business financial penalties and. Health and safety policies set by the group chief executive. Ohsas and iso compliant she management systems being used by group head of safety health. Programme in place to focus on reduction of incidents which could have a high impact. Safety compliance audits at all plants at least every two years. Oversight of safety and health framework provided by the group risk and she committee. Environment actual or potential environmental contamination could lead to health risks disruption of business financial. Increasing bodycote is committed to providing the highest level of protection to the environment. Environmental regulators in many jurisdictions in which bodycote operate can impose obligations on bodycote to. Environmental procedures and measures in place conforming to iso of plants. Environmental due diligence of businesses for acquisition. Remediation of contaminated sites or additional emission abatement as required by local legislation. Bodycote plc annual report for the year ended december march pm proof risk description impact. Increasing deterioration in quality or service levels can cause serious damage to bodycote s reputation. Work that is released into use which is not in compliance with specification could arise. The automotive iso technical specification has recently undergone major revision and is being replaced by. The new standard requires additional work for example additional quality inspections. Bodycote has stringent quality systems in place managed by qualified staff. Quality systems and processes operated at plant level with oversight by divisional quality teams. Where necessary plants maintain industry relevant accreditations such as iso nadcap and iatf. All plants subjected to internal and external quality audits and inspections at least once a. Major disruption at a facility bodycote s business processes are inherently risky and there is. In addition a number of sites are exposed to natural hazards such as earthquakes flooding. Stable any significant incident at a site could result in the service to bodycote s. Bodycote has a global network of facilities. These facilities create a framework to provide capability for affected facilities. Business continuity plans are in place for all plants. These are updated and tested annually. This process has been subject to a board risk deep dive in. Independent insurer inspections to assess hazard and business interruption risks. Insurance cover including business interruption cover. Scheduled equipment maintenance and inspections. Capital projects the group invests capital in developing existing plants as well as into greenfield. Increasing capital projects can be highly complex and rely on factors outside of the group. This may cause projects to be delivered late or at a higher cost than forecast. Market conditions may also change making a project less profitable than initially projected. There is a well established capital investment approval process that applies to all major capital. Project management frameworks are in place to deliver projects on time and on cost. All major projects are subject to post implementation reviews. Capital project risk will be subject to internal audit review in. Strategic report governance financial statements additional information stock code boy march pm proof principal risks. Bodycote is currently undergoing a group wide implementation of an erp system. Stable failure to protect the group s it systems from cyber threats or to maintain. Project approval and progress subject to regular executive committee and board review. Project teams made up of skilled subject matter experts supplemented with third party advisers. Best practice project management processes in place with assurance provided by third parties. Defined disaster recovery planning and data backup procedures. Regulatory risks regulatory and legislative compliance the global nature of bodycote s operations means that. Stable failure to comply with legislation could lead to substantial financial penalties disruption to business. Business processes are supported by hr policies and the group code of conduct alongside training. The open door line blower facility which is managed by a third party. Engagement of local specialists to support bodycote at local divisional and group level. Regular audit of the effectiveness of implemented procedures. Bodycote plc annual report for the year ended december march pm proof viability statement in. This longer term assessment process supports the board s statements on both viability as set. A three year period was determined as it is a reasonable period over which the. As a result the board determined that a period of longer than three years would. The forecast used considers metrics which enable assessment of the group s key performance indicators. In conducting the review of the group s prospects the directors assessed the three year. This assessment considered the impact of the principal risks on the business model and on. The directors viability assessment included a review of the sensitivity analysis performed on the three. The developed scenarios were designed to be plausible yet severe. Examples of scenarios reviewed were a decrease in forecast revenue of similar magnitude to the. A decrease in revenue debtor days and sterling strengthening to reflect an economic downturn in. The directors also took into consideration the group s financial position at december with net. The directors have assessed the viability of the group and based on the procedures outlined. Strategic report governance financial statements additional information stock code boy march pm proof corporate responsibility. Bodycote plc annual report for the year ended december march pm proof bodycote s stakeholder. These exchanges based on mutually beneficial relationships provide the basis for the group s growth. Taxes productivity return on investment services remuneration payment bodycote provides thermal processing services that improve. . . Improves the lifetime and performance of products supports businesses and protects lives investors funders capital. Sales services employees employees knowledge expertise and skill are a major part of the group. Was paid out as remuneration. Customers our services are provided aerospace defence energy and general industrial industries. Suppliers suppliers proﬁt from the location of the group in local communities and from the. Society bodycote generates wealth for society and contributes to socioeconomic development through its sustainable business. In total employer related social taxes net vat corporate and other transnational taxes amount to. We aim to achieve this in a safe working environment while continually seeking to minimise. Bodycote is dedicated to improving the management of corporate responsibility issues and is implementing policies. The future success and growth of the group is intrinsically linked to our ability to. Our people the strength of the group primarily rests in its people and one of. Bodycote is fortunate to have a competent and committed international team that is respected in. Bodycote invests in the training and development of its people both at local and group. At a local level the group is committed to providing the appropriate skills and technical. At group level a number of initiatives are currently being rolled out to drive excellence. A tool to develop further understanding and skill in the area of performance management is. Through communication of clear messages coupled with skills development the organisation aims to raise the. This initiative is backed by a performance management system which supports the process. Bodycote s employment policies are complying with all current legislation to engender equal opportunity irrespective. Harassment is not tolerated. Female representation on our board during was and at manager level it is. Females represent of our total workforce. As of january we have increased female representation on the board to. Male female t otal male female t otal directors managers other staff. Accident frequency is defined as the number of lost time accidents hours approximately man years. . Note the rate for has increased from as previously reported last year to due to. . Co e is carbon dioxide equivalent which represents the co release due to our energy. . Normalised statistics restate prior year figures using current year iea carbon conversion factors and current. Bodycote plc annual report for the year ended december march pm proof it is not. How we operate as a group and the behaviours that we expect from all our. Our values represent bodycote and its people and our commitment to the company and the. Our core values are straightforward and are as follows honesty and t ransparency we are. Trust stems from honesty and trust is at the heart of everything we engage in. This is not something we take for granted. Bodycote lives by a culture of honest and transparent behaviour which is at the core. Respect and responsibility we manage our business with respect applying an ethical approach to our. We respect our colleagues who are all of the employees of bodycote. Part of our respect for our colleagues is our commitment to safe and responsible behaviour. We show respect for our customers our suppliers and our competitors. We respect the communities around us and behave as responsible corporate citizens by being compliant. We believe in taking ownership for and being mindful of the impact of our actions. Creating v alue creating value is the very essence of our business and needs to. We create value for our customers our employees and our shareholders. The realities are harsh. If we do not create value for our customers then we have no reason for. If we do not create value for our employees there will be to create value. Our shareholders rightfully require that we ultimately create value for them as they are the. Human rights bodycote s human rights policy is consistent with the universal declaration of human. We prohibit forced compulsory and underage labour and any form of discrimination based on age. Appropriate mechanisms are in place to minimise the potential for any contravention of these rules. By publicly posting our human rights policy on stakeholders worldwide can alert us to potential. Our internal systems also support compliance with our policy and we have a robust open. In the jurisdictions in which we employ a majority of our employees there are laws. The modern slavery act bodycote plc has conducted a risk assessment on our supply chain. Suppliers in those countries identified in walk free foundation s global slavery index as being. We have a code of conduct which sets out our policy on compliance with legislation. The and human trafficking statement was reviewed by our board of directors in september and. The statement will be reviewed on an annual basis. Customers and suppliers bodycote has no significant suppliers who are wholly dependent upon the group. Suppliers are paid in line with contractual and legal obligations. We endeavour to respond quickly to changing customer demand to identify emerging needs and to. We stay close to our current and potential customers building relationships. Community bodycote seeks to play a positive role in the local communities in which it. Responsible business ethics all bodycote personnel are expected to apply a high ethical standard consistent. Directors and employees are expected to ensure that their personal interests do not at any. Shareholder employees are advised of and comply with the share dealing code. Bodycote has systems in place that are designed to ensure compliance with all applicable laws. Furthermore bodycote does not make political donations. With regard to competition bodycote aims to win business in a differentiated manner. The group does not employ unfair trading methods and it competes vigorously but fairly within. Employees are prohibited from either giving or receiving any inducements. Our open door policy has been translated into all languages used throughout the group. The policy allows employees to report their concern confidentially verbally or in writing to an. Reports are transcribed and sent to the group head of risk who then determines the. Online training courses in respect of and competition law have been designed and translated into. All relevant employees have completed the interactive courses. Strategic report governance financial statements additional information stock code boy march pm proof corporate responsibility. We are committed to complying with all local legislative requirements as a minimum and establishing. Safety and health the nature of the group s operations is such that employees are. Bodycote aims to manage these hazards and thereby minimise risks to employees through the deployment. Bodycote s online incident reporting and she management tool has been operational since. This has enabled more consistent and thorough reporting of workplace injuries near misses and unsafe. Following the implementation there was an increase in the lost time injury rate frequency lti. In the lti rate increased from to. Bodycote continues to devote significant resource and management focus on safety with the number of. This improvement demonstrates stronger engagement of employees in proactively raising safety issues and rectifying potential. Accidents though regrettable and unacceptable represent learning opportunities. This is the reason that accurate reporting is an essential part of building a robust. Accident frequency lost time injury rate accident frequency is defined as the number of lost. In addition to encouraging the reporting of work related injuries bodycote has sought to encourage. This has worked well since the introduction of the new global incident reporting system in. This much improved reporting of incidents permits us to address hazards before injury occurs. As our database continues to develop we will be able to analyse and prioritise our. The most frequent cause of lost time incidents is related to manual handling of parts. This is currently the subject of a group wide review and will be a focus. All reportable incidents and lost time injuries are reviewed during executive management meetings and board. In addition the executive management team reviews incidents which did not result in injury but. All serious incidents and high potential incidents are also reviewed by the group she committee. This system was further strengthened in with actions being tracked via the online incident management. Environment a proactive approach to improving energy efficiency means that bodycote has implemented a variety. The ongoing effort to lessen the impact on the environment has resulted in bodycote seeking. At every stage where bodycote is involved in the manufacturing cycle our operational aim is. Bodycote operates modern efficient equipment which is operated around the clock so as to optimise. Without bodycote many companies would be using older technology and running their equipment at reduced. Working with bodycote enables our customers to commit more easily to carbon reduction initiatives. Bodycote also reduces the carbon footprint of our customers activities by increasing the lifespan of. For example surface treatment technology is widely used in the reclamation of damaged and worn. The treated parts often last up to twenty times longer than the original. Whilst thermal processing is an business it is a vital part of the manufacturing supply. Greenhouse gas emissions co e emissions ktco e intensity ratio tco co e emissions ktco. Normalised statistics restate prior year emissions using current year iea carbon conversion factors and current. Emissions per of turnover. Bodycote plc annual report for the year ended december march pm proof scope emissions are. Scope emissions are indirect energy emissions resulting from purchased electricity heat steam or cooling for. The financial control consolidation approach has been used to report the above data. This method aligns with the reporting scope in the financial statements. The group collects electricity and natural gas usage information from each facility on a monthly. The group then applies the international energy agency iea published national carbon conversion factors to. Group operational management actively monitors their monthly co e emissions reported and the group s. All entities and facilities under financial control are included within the disclosure. Emissions less than of the group s total co e relating to fugitive emissions and. As such there are no significant omissions from this disclosure. Iso accredited facilities reducing the environmental impact of the group s activities is taken very. Compliance with the requirements of iso helps to minimise the risk of adverse environmental effects. At the end of of our operating facilities had achieved iso accreditation. The slight reduction is due to the closure of a number of existing certified sites. Operational plants which have not yet received accreditation to the standard are working towards it. Carbon footprint and water consumption the absolute energy usage increased by. At constant exchange rates it increased by. The total co e emissions per sales in were te as previously reported te te. The group s total co e emission data is based on scope and scope emissions. In previous years this has been supplied by defra directly. However as of january defra no longer supplies these conversion factors for companies. This has now been sourced by the group directly from the international energy agency iea. There are some significant differences in these conversion factors. As a result all previous years have now been restated using iea conversion factors to. On a basis water usage per sales decreased by. On a basis water usage per showed a decrease of. In our eu based operational sites reviewed their operations to ensure compliance with the energy. This directive is transposed into local legislation and requires sites to monitor their energy usage. One mechanism for ensuring compliance is for sites to become certified to iso energy management. This enables sites to measure energy usage consistently and target the most effective ways of. Our sites in germany austria denmark and the netherlands are largely already certified and working. Bodycote uses established systems to develop best practice at specific sites and across the wider. Examples of projects undertaken across bodycote sites are discussed below. The continued replacement of traditional lighting with led for environmental and improved safety has resulted. Our sites at sprockhövel otterfing esslingen korntal wehingen gothenburg and warsaw will benefit from projected. At the lüdenscheid plant the second phase of a heat recovery project will save a. At langenfeld co savings will be achieved from new furnace insulation. A new heat exchange system in gothenburg for both cooling water and process ventilation has. Meanwhile in denmark our ejby plant will reduce co emissions by through the new air. These replace evaporative water cooling towers and in addition to the energy savings eliminate the. In addition to process efficiency improvements some sites have upgraded the building fabric to improve. At our haag site a project to replace windows and improve insulation resulted in a. Since bodycote has submitted data on co usage to the carbon disclosure project one of. Each year the company has improved its standing in the league tables and is now. Chlorinated solvent use the use of chlorinated solvents in bodycote s thermal processing activities has. In the solvent use showed a further decrease of compared with the previous year. Cautionary statement the strategic report has been prepared solely to provide information to shareholders to. The strategic report contains certain statements. These statements are made by the directors in good faith based on the information available. Approval the group strategic report of bodycote plc was approved by the board of directors. Strategic report governance financial statements additional information stock code boy march pm proof board of. Director and chairman of the audit committee of babcock international group plc since and a. External roles external roles past roles past roles worked on a variety of audits with. From to he worked for lloyds bank plc and then switched to british nuclear fuels. In he took on the role of group finance director with royal mail holdings plc. He was director of fiberweb plc during mouchel group from to and wandisco plc from. Spent his early career in engineering with courtaulds plc and then moved to the usa. He was appointed to the board of powell duffryn plc as an executive director in. He was also a executive director of brixton plc from to. Qualiﬁcations qualiﬁcations chartered engineer graduated from cambridge university masters degree in business administration from the. Dominique y ates chief financial officer appointed november ian duncan senior independent director appointed november. Worked in various roles for nz forest products ltd followed by management consultancy with resource. Managing director of riverstone holdings llc from. Director of boc group plc from to director and remuneration committee chair as well as. University of auckland and msc management sciences massachusetts institute of technology. International operations emerging markets mergers and acquisitions management leadership manufacturing capital intensive industry managing director. Held various senior positions in imperial tobacco group plc followed by chief financial ofﬁcer positions. Chartered accountant graduated from bristol university in economics and accounting. Leadership international operations mergers and acquisitions emerging markets current ﬁnancial experience service industry chartered accountant. International operations current ﬁnancial experience supply chain and logistics mergers and acquisitions service industry executive. Began her career in various positions with ericsson working in continental europe north america and. Joined teliasonera in as senior vice president moving to xelerated initially as chairperson and later. Director of transmode holdings ab from to blekinge institute of technology from to tieto corporation. Eva will retire from caverion oy in march from assa abloy ab in april and. Engineer graduated with a masters from linköping institute of technology diploma in marketing from ihm. Past roles qualiﬁcations skills and experience qualiﬁcations pat larmon director appointed september ute ball group. Lili began her career as an actuary before joining bain company. Graduated with a bsc in mathematics from concordia university montreal followed by an mba from. Associate of the society of actuaries. Strategy and consultancy international operations mergers and acquisitions oil gas industry business services industry oil. Chief executive ofﬁcer north america of bunzl plc since joining the bunzl plc board in. Was executive vice president and owner of packaging products corporation until when the company was. Held various senior management positions for over years before becoming president of bunzl s north. Graduated from illinois benedictine university major economics business economics followed by achieving certiﬁed public accountant. International operations mergers and acquisitions service industry manufacturing distribution sales and marketing chief executive ofﬁcer. Key to committees audit remuneration nomination executive committee chair e n r a n r. The corporate governance statement provides an insight into how the board operated during the year. We are committed to conducting business responsibly. By maintaining high standards of corporate governance we enhance performance underpinned by our business model. Our approach to governance is set by the board and our executive committee ensures that. Effective and robust governance remains central to the ongoing success of the group. The main governance documents are our core values and the code of conduct which set. These documents together with our policies govern how we conduct our business and set the. Compliance training helps to enforce this. Board oversight reviews and audits form part of the monitoring and supervision process. Risk processes are embedded and reviewed on an ongoing basis across the business. The important governance developments at bodycote over the last year are detailed in the governance. My ambitions for the composition of the board are to maintain and where applicable broaden. The board continues to ensure that effective succession plans are in place. I encourage all shareholders to attend the agm which will be held at our macclesfield. This event provides an excellent opportunity to meet the executive and independent directors. Quinn chairman board performance key actions achievements priorities for implement actions from the strategy review. The nomination committee considers diversity when making appointments to the board taking into account relevant. Our prime responsibility however is the strength of the board and our overriding aim in. The nominations committee also considers capability and capacity to commit the necessary time to the. The intention is to appoint the most suitable qualified candidate to complement and balance the. The nomination committee is advised by international search companies who have been briefed on our. We appointed quinn on january as part of our board refreshment replacing thomson who retired. Chahbazi was appointed director effective january. The board currently comprises two executive directors four directors and a chairman. As of female representation on our board is. At manager level it is. Females represent of our total workforce. Whilst we are above the by voluntary target recommended by the review we continue to. We will increase female other minority representation on the board if appropriate candidates are available. The corporate responsibility and sustainability report contains further details regarding the male and female representation. Board evaluation following the external board evaluation in the board agreed to undertake an internal. To ensure that all aspects of good governance are covered by the review the group. Questions were framed under the following seven topics remit and objectives composition training and resources. At a meeting of the nomination committee in september the directors assessed the conclusions reached. Additional emphasis will be placed on risk management strategy and operational matters. The board evaluation covered the activities of the main board and each of its committees. The board is considered to be functional and working well. Arising from the exercise the board concluded that its focus should remain on divisional growth. The overall conclusion is that the board is performing well and high governance standards have. The executive committee is strongly challenged by the board when appropriate. As in previous years the chairman has assessed the performance of each board member by. The executive directors messrs harris and will be appraised in march. Led by the senior independent director the directors carried out an evaluation of the chairman. The board was satisfied with the now retired chairman s commitment and performance. Overboarding at our agm in bodycote received a high number of votes against the of. Eva has now had time to review her directorships and will not stand for at. Rns announcements will be made during confirming that eva will not stand for at the. Following these changes eva lindqvist will sit on five listed boards bodycote another uk plc. Following a review of eva s time commitments and taking into account the reduced number. Financial statements additional information stock code boy strategic report governance march pm proof corporate governance. They also meet all other directors and senior executives. This facilitates their understanding of the group and the key drivers of business performance. T raining the board receives training via ad hoc presentations and papers from advisers and. External periodic training on important topics takes place and during the year the directors received. Other opportunities for development and support are a programme of visits throughout the year reviews. Succession planning succession planning ensures that appropriate senior executive leadership resources are in place to. The plans are reviewed annually by the nomination committee. The board further develops its knowledge and gains greater visibility of executive talent and management. Tenure in years patrick larmon lili chahbazi anne quinn tenure in years eva lindqvist ian. This is monitored by the board at regular intervals. Further details are available on page. Rights in line with best practice provisions in the group statement of principles the board. Financial statements additional information stock code boy strategic report governance march pm proof corporate governance. In respect of the year ended december bodycote has complied with the provisions of the. Regarding the board has in recent years taken the view that generally it is the. The chairman also meets institutional investors to discuss overall strategy governance and any concerns that. Only where these more usual channels of communication have failed would the board expect the. The sid has contacted major shareholders and offered to facilitate meetings with them should they. Regular feedback from the group s advisers on investor meetings and results presentations is circulated. During the year the chairman met with shareholders to discuss governance matters. Apart from these distinct areas bodycote was in compliance with the provisions of the code. Operation of the code taken together with the report of the audit committee the report. Leadership the board is responsible to shareholders for good corporate governance setting the group s. The board met on nine occasions during including a specific meeting to review and update. The board of directors comprises seven members of whom five are directors and two are. The group chief executive is harris and the senior independent director is. Duncan who also chairs the audit committee. Lindqvist is chair of the remuneration committee. P. Larmon and chahbazi are directors. Brief biographical details of all directors are given on pages to. During the year the board visited a number of uk and overseas facilities including sites. Such events involved meetings with local management and the unit workforce to understand more clearly. Matters reserved for the board were reviewed during the year and updated where required. Certain defined powers and issues reserved for the board to decide are inter alia strategy. Bodycote plc annual report for the year ended december march pm proof in advance of. They are also supplied with the latest available information on safety health and environmental and. Senior management from across the group and advisers attend some of the meetings to provide. The exposure to members of senior management from across the group helps enhance the board. Where required a director may seek independent professional advice the cost of which is reimbursed. All directors have access to the group company secretary and they may also address specific. In accordance with the articles of association all newly appointed directors must submit themselves for. All directors stand for yearly. Directors including the chairman are appointed for fixed terms not exceeding three years from the. A statement of the directors responsibilities is set out on page. The board also operates three committees. These are the nomination committee the remuneration committee and the audit committee. All directors serve on each board committee. In accordance with the recommendations of the code board members serve for a period of. If letters of appointment are extended beyond six years the fixed term is reduced to. In order that necessary actions can be taken promptly a finance comprising the chairman or. Shareholders audit committee monitors the integrity and effectiveness of the group s nancial reporting and. Larmon lindqvist. Duncan and chahbazi are all independent for the purposes of the code. The chairman was considered independent upon appointment. Commitment attendance of directors at regular scheduled meetings of the board and its committees is. Duncan p. Larmon y ates. Thomson resigned from the remuneration committee on july. . Harris resigned from the nomination committee on july. All directors attended the maximum number of board audit and nomination committee meetings that they. P. Larmon did not attend one remuneration committee due to an unpredictable diary clash. In addition messrs thomson harris attended by invitation some parts of the meetings of the. Proposals for the board decided in line with the code that all directors will retire. Accordingly harris lindqvist p. Larmon. Duncan and yates will stand for at the agm in may. Having been appointed since the last agm quinn and chahbazi will stand for election. The board recommends to shareholders that they or elect all the directors. In accordance with the recommendations of the code board members will serve for a period. The performance of each director was evaluated as indicated above and the board confirms in. Internal control and risk management the board is responsible for the group s system of. Such a system is designed to manage rather than eliminate the risk of failure to. The board has applied principle of the code by establishing a continuous process for identifying. The board s monitoring covers all controls including financial operational and compliance controls and risk. It is based principally on reviewing reports from management and from internal audit ia to. The audit committee assists the board in discharging these review responsibilities. Bodycote plc annual report for the year ended december march pm proof the board believes. The system was in operation throughout and continues to operate up to the date of. Key elements of the group s system of internal control are as follows the group. The group s authority matrix was reviewed and updated during and this clearly sets out. The board with the assistance of ey who provide ia services monitors the group s. Ia reviews are conducted on the basis of a risk based plan approved annually by. This includes regular visits to each division shared service centres and plants. The findings and recommendations from ia are reported on a regular basis to the executive. An annual internal control with management certification is undertaken by every bodycote site. The assessment covers the effectiveness of key financial and compliance controls and was revised at. The results are validated by ia through spot checks and are reported to the executive. Group core values and group policies including the code of conduct group authority matrix and. The chief financial officer group financial controller president and vice president of finance for each. This is to confirm the adequacy of their systems of internal controls their compliance with. A risk register and assurance map is maintained throughout the year to identify the group. Any changes to these risks during the year are promptly reported to the executive committee. During in compliance with provision of the code management performed a specific assessment of its. Management s assessment which has been reviewed by the audit committee and the board included. The review was based on work performed by the group head of risk and the. These risks have been reviewed throughout the year and two new risks have been added. Further information regarding the ways in which the principal business risks and uncertainties affecting the. Investor relations the group chief executive and chief financial officer regularly talk with and meet. In addition internet users are able to view news on the group and its share. Users of the website can access recent announcements and copies of results presentations and can. On a regular basis bodycote s financial advisers corporate brokers and financial public relations consultants. The chairman and sid are available to discuss any issues not resolved by the group. On specific issues such as the review of remuneration packages the group has sought and. By order of the board ball group company secretary march springwood court springwood close tytherington. The chairman s statement the chief executive s review the chief financial officer s report. Strategic report the strategic report is provided on pages to of this annual report. This is a review of the development of the group s businesses the financial performance. The strategic report has been prepared solely to assist the shareholders in assessing the group. It should not be relied on by any other party for any other purpose. Statements have been made by the directors in good faith using information available up to. Since the end of the financial year no important events affecting the business of the. Dividends the board has recommended a final dividend of bringing the total ordinary dividend to. If approved by shareholders the final dividend of per share will be paid on june. A special dividend of has also been proposed and will be subject to shareholder approval. If approved it will be paid on june. Share capital the company s issued ordinary share capital as at december was. No shares were issued during the year. At the agm on may the shareholders authorised the company to purchase up to of. This authority expires at the conclusion of the forthcoming agm to be held on may. Capital structure details of the issued share capital are shown in note. The company has one class of ordinary shares which carries no right to fixed income. Each share carries the right to one vote at general meetings of the company. There are no specific restrictions on the size of a holding nor on the transfer. The directors are not aware of any agreements between holders of the company s shares. Details of employee share schemes are set out in note and shares held by the. No person has any special rights of control over the company s share capital and. The appointment and replacement of directors is governed by the company s articles of association. The articles of association may be amended by a special resolution of shareholders. The powers of the directors are described in the corporate governance statement on page. Under the articles of association the company has authority to issue ordinary shares with a. There are also a number of other agreements that take effect alter crystallise or terminate. None of these are considered to be significant in terms of their likely impact on. Directors the current directors and their biographical details are listed on page to and all. Thomson retired as chairman and director as of december and was replaced by quinn as. A further executive director chahbazi was appointed effective january. Under the articles of association of the company each director must retire from office and. However in line with the uk corporate governance code and to further increase accountability all. Going forward all directors will retire at the agm and will stand for by the. Accordingly those directors retiring and offering themselves for at the agm are harris. Duncan lindqvist p. Larmon and yates. Since quinn and chahbazi were appointed after the agm in both will stand for election. The service agreements for messrs harris and yates are terminable by months notice. The remaining directors do not have a service agreement with the company and their appointments. Directors interests in contracts and shares details of the executive directors service contracts and details. No director has had any dealings in any shares or options in the company since. Qualifying third party indemnity provision as defined by section of the companies act has remained. Apart from these exceptions none of the directors had a material interest in any contract. Bodycote plc annual report for the year ended december march pm proof potential conflicts of. Potential conflicts of interest could arise where a single director owes a fiduciary duty to. In order to ensure that each director was complying with the duties each director provided. The board reviewed the declarations and approved the existence of each declared situational conflict up. Where such authorisation becomes inappropriate or not in the interests of bodycote shareholders the chairman. No such revocations have been made. Employment the group recognises the value that can be added to its future profitability and. The commitment of employees to excel is key to the group s continued success. Through their attendance at or participation in strategy production safety and health meetings at site. Under the group s open door line employees concerns can be voiced over the phone. Approximately bodycote employees are connected to the bodycote intranet which improves knowledge of group activities. It is the group s policy to give full and fair consideration to applications for. Should an employee become disabled the group where practicable will seek to continue the employment. An equal opportunities policy is in operation in the group. Greenhouse gas emissions details of greenhouse gas emissions are included within the corporate responsibility and. Donations there were no political contributions in or. Shareholders an analysis of the company s shareholders and the shares in issue at february. Auditor in accordance with the provisions of section of the companies act a resolution for. Each person who is a director at the date of approval of this annual report. This statement is given and should be interpreted in accordance with the provisions of section. Annual general meeting the annual general meeting will be held on may in accordance with. By order of the board ball group company secretary march springwood court springwood close tytherington. Of meetings main committee responsibilities director attendance regularly review the structure size and composition including. Give full consideration to succession planning for directors and other senior executives in the course. Be responsible for identifying and nominating for the approval of the board candidates to fill. Thomson harris. Duncan lindqvist p. Larmon resigned membership on july dear shareholders i am pleased to introduce the nomination committee. The committee s key objective is to support the board in fulfilling its responsibilities to. This was a busy year for the committee. In addition to its main responsibilities the committee oversaw the process of appointing a new. Alan thomson chairman retired on december after more than nine years of service. Lili chahbazi was appointed director on january at the same time as i took over. The committee will continue to focus on ensuring that the present and future composition of. Quinn chairman of the nomination committee role of the nomination committee the nomination committee is. The committee s terms of reference which are listed on the group s website include. Further information on the code can be found on the financial reporting council s website. . The terms of reference are reviewed annually by the group company secretary and the chairman. No changes were made to the terms of reference during the year. Composition of the nomination committee as recommended by the code the chairman of the board. The chairman can not chair the committee when it is dealing with either the succession. Only members of the committee have the right to attend the committee meetings. Other individuals and external advisers may be invited to attend for all or part of. The quorum necessary for the transaction of business is two. The group company secretary is secretary to the committee. The committee has the authority to seek any information that is required from any officer. In connection with its duties the committee is authorised by the board to take such. Board composition recruitment selection interview balance of skills appointment induction vacancy for a director is. The need for specific knowledge skills and role behaviours is identified during discussions at nomination. External international search consultancies were appointed to assist with the search. Zygos assisted the sid in the chairman s recruitment and russell reynolds assisted the chairman. A examined the long list of candidates against the role specifications and a shortlist of. Candidates were initially interviewed by the sid and the chief executive for the chairman s. The final candidates then met with all other directors. In order to maximise the effectiveness of the board an additional director was appointed increasing. Anne quinn and lili chahbazi were announced as joining the board. Anne succeeds alan thomson as chairman. The committee and the group company secretary will play an active part in an induction. Succession planning bodycote plc annual report for the year ended december march pm proof director. Prior to making any appointment the committee having evaluated the skills experience and diversity of. The committee will use open advertising or the services of independent external advisers to facilitate. A long list of candidates will be drawn up from which an appropriate number will. Upon completion the committee will recommend to the board the appointment of the preferred candidate. Board succession planning upon the retirement of thomson on december he was replaced by quinn. The recruitment process was led by the senior independent director. Duncan. Ian was advised by international search consultancy zygos in the process of identifying suitably qualified. Lili chahbazi joined the board as a director on january and thomson was advised by. Neither zygos nor russell reynolds have other connections to bodycote plc. Main activities of the nomination committee in the committee formally met seven times and reviewed. The committee discussed succession planning and board diversity and reviewed the performance of the group. In particular the need to broaden the board membership with respect to gender ethnicity and. The committee has sought to ensure that appointments are of the best candidates to promote. Further information concerning board diversity can be found on page as part of the corporate. We are pleased to report that as of january the female representation on the board. The committee considered and authorised the potential conflicts of interest which might arise where a. The committee concluded that no inappropriate conflicts of interest exist. The committee also assigned the chairman to review and agree with the group chief executive. Following the external board evaluation in the board agreed to undertake an internal evaluation during. Further details of the review can be found in the corporate governance section of the. Recommendations arising from the board evaluation are in the process of being addressed. In our agm results announcement we stated that eva lindqvist had confirmed to reduce her. Consequently eva will not stand for at three listed companies caverion oy in march assa. This will reduce eva s other directorships to five. In our view this enables eva to allocate sufficient time to bodycote to discharge her. In december the nomination committee reviewed the board s size and composition the frequency of. The terms of reference of the committee were reviewed in conjunction with the model terms. The biographical details of the current directors can be found on pages and. The committee having reviewed their independence and contribution to board matters confirms that the performance. Accordingly the committee has recommended to the board that all current directors of the company. As chairman of the committee i will be available at the agm in may to. On behalf of the nomination committee quinn cbe chairman of the nomination committee march nomination. Of meetings main committee responsibilities director attendance encourage and safeguard the highest standards of integrity. Monitor the integrity of the financial statements including annual and reports trading updates and any. Reviewing and reporting to the board on significant financial reporting issues and judgements. Review the content of the annual report and advise the board whether taken as a. Monitor and review the adequacy and effectiveness of the company s internal financial control and. Oversee the relationship with the external auditor including consideration of fees audit scope terms of. Monitor and review the effectiveness of the company s internal audit function. Review the adequacy and security of the company s arrangements for its employees to raise. . Duncan lindqvist p. Larmon introduction the committee has continued to focus on the integrity of bodycote s financial. The committee will continue to keep our activities under review as the regulatory environment changes. Membership the members of the audit committee are all independent directors. Their biographical details are shown on pages to and their remuneration on page. ."
          },
          "metadata": {}
        }
      ]
    },
    {
      "cell_type": "markdown",
      "source": [
        "# ***Genearating  Summary of all files***"
      ],
      "metadata": {
        "id": "vAHI1fOd6nC7"
      }
    },
    {
      "cell_type": "code",
      "source": [
        "import os\n",
        "\n",
        "# Path to the annual_reports folder\n",
        "reports_folder = '/content/drive/MyDrive/validation (2)/annual_reports (1)'\n",
        "\n",
        "# Path to the NEW SUMMARYYYYYY folder\n",
        "summary_folder = '/content/drive/MyDrive/updated GENERATED SUMMARY'\n",
        "\n",
        "# Create the summary folder if it doesn't exist\n",
        "os.makedirs(summary_folder, exist_ok=True)\n",
        "\n",
        "# Function to correct full stops and capitalize sentences\n",
        "def correct_full_stops_and_capitalize(summary):\n",
        "    # Replace all occurrences of double full stops with single full stops\n",
        "    corrected_summary = summary.replace(\"..\", \".\")\n",
        "\n",
        "    # Capitalize the first letter of each sentence\n",
        "    sentences = corrected_summary.split(\". \")\n",
        "    corrected_sentences = [sentence.strip().capitalize() for sentence in sentences]\n",
        "\n",
        "    # Join the corrected sentences back together\n",
        "    corrected_summary = \". \".join(corrected_sentences)\n",
        "\n",
        "    # Ensure the last character is a full stop\n",
        "    if not corrected_summary.endswith(\".\"):\n",
        "        corrected_summary += \".\"\n",
        "\n",
        "    return corrected_summary\n",
        "\n",
        "# Iterate through files in the annual_reports folder\n",
        "for filename in os.listdir(reports_folder):\n",
        "    if filename.endswith('.txt'):\n",
        "        # Read the content of the file\n",
        "        file_path = os.path.join(reports_folder, filename)\n",
        "        document = read_text_file(file_path)\n",
        "\n",
        "        # Preprocess text\n",
        "        processed_text = preprocess_text(document)\n",
        "\n",
        "        # Topic modeling with LDA\n",
        "        num_topics = 20\n",
        "        lda_model, topics, corpus, dictionary, coherence_lda = lda_topic_modeling(processed_text, num_topics=num_topics)\n",
        "\n",
        "        # Extractive summarization using TextRank\n",
        "        summary = text_rank_summarization(processed_text)\n",
        "\n",
        "        # Correct full stops and capitalize sentences\n",
        "        corrected_summary = correct_full_stops_and_capitalize(summary)\n",
        "\n",
        "        # Save summary to a file in the summary folder\n",
        "        summary_file_path = os.path.join(summary_folder, f\"{filename.split('.')[0]}.txt\")\n",
        "        with open(summary_file_path, 'w', encoding='utf-8') as file:\n",
        "            file.write(corrected_summary)\n",
        "\n",
        "        print(f\"Summary saved successfully in {summary_file_path}\")\n"
      ],
      "metadata": {
        "colab": {
          "base_uri": "https://localhost:8080/"
        },
        "id": "Y0ctgIfQz2KF",
        "outputId": "2b6878aa-0377-4ec8-ff73-0bb1d8e828e2"
      },
      "execution_count": 10,
      "outputs": [
        {
          "output_type": "stream",
          "name": "stderr",
          "text": [
            "WARNING:gensim.models.ldamodel:no word id mapping provided; initializing from corpus, assuming identity\n",
            "WARNING:gensim.models.ldamodel:too few updates, training might not converge; consider increasing the number of passes or iterations to improve accuracy\n"
          ]
        },
        {
          "output_type": "stream",
          "name": "stdout",
          "text": [
            "Summary saved successfully in /content/drive/MyDrive/updated GENERATED SUMMARY/30777.txt\n"
          ]
        },
        {
          "output_type": "stream",
          "name": "stderr",
          "text": [
            "WARNING:gensim.models.ldamodel:no word id mapping provided; initializing from corpus, assuming identity\n",
            "WARNING:gensim.models.ldamodel:too few updates, training might not converge; consider increasing the number of passes or iterations to improve accuracy\n"
          ]
        },
        {
          "output_type": "stream",
          "name": "stdout",
          "text": [
            "Summary saved successfully in /content/drive/MyDrive/updated GENERATED SUMMARY/30778.txt\n"
          ]
        },
        {
          "output_type": "stream",
          "name": "stderr",
          "text": [
            "WARNING:gensim.models.ldamodel:no word id mapping provided; initializing from corpus, assuming identity\n",
            "WARNING:gensim.models.ldamodel:too few updates, training might not converge; consider increasing the number of passes or iterations to improve accuracy\n"
          ]
        },
        {
          "output_type": "stream",
          "name": "stdout",
          "text": [
            "Summary saved successfully in /content/drive/MyDrive/updated GENERATED SUMMARY/30781.txt\n"
          ]
        },
        {
          "output_type": "stream",
          "name": "stderr",
          "text": [
            "WARNING:gensim.models.ldamodel:no word id mapping provided; initializing from corpus, assuming identity\n",
            "WARNING:gensim.models.ldamodel:too few updates, training might not converge; consider increasing the number of passes or iterations to improve accuracy\n"
          ]
        },
        {
          "output_type": "stream",
          "name": "stdout",
          "text": [
            "Summary saved successfully in /content/drive/MyDrive/updated GENERATED SUMMARY/30779.txt\n"
          ]
        },
        {
          "output_type": "stream",
          "name": "stderr",
          "text": [
            "WARNING:gensim.models.ldamodel:no word id mapping provided; initializing from corpus, assuming identity\n",
            "WARNING:gensim.models.ldamodel:too few updates, training might not converge; consider increasing the number of passes or iterations to improve accuracy\n"
          ]
        },
        {
          "output_type": "stream",
          "name": "stdout",
          "text": [
            "Summary saved successfully in /content/drive/MyDrive/updated GENERATED SUMMARY/30782.txt\n"
          ]
        },
        {
          "output_type": "stream",
          "name": "stderr",
          "text": [
            "WARNING:gensim.models.ldamodel:no word id mapping provided; initializing from corpus, assuming identity\n",
            "WARNING:gensim.models.ldamodel:too few updates, training might not converge; consider increasing the number of passes or iterations to improve accuracy\n"
          ]
        },
        {
          "output_type": "stream",
          "name": "stdout",
          "text": [
            "Summary saved successfully in /content/drive/MyDrive/updated GENERATED SUMMARY/30783.txt\n"
          ]
        },
        {
          "output_type": "stream",
          "name": "stderr",
          "text": [
            "WARNING:gensim.models.ldamodel:no word id mapping provided; initializing from corpus, assuming identity\n",
            "WARNING:gensim.models.ldamodel:too few updates, training might not converge; consider increasing the number of passes or iterations to improve accuracy\n"
          ]
        },
        {
          "output_type": "stream",
          "name": "stdout",
          "text": [
            "Summary saved successfully in /content/drive/MyDrive/updated GENERATED SUMMARY/30785.txt\n"
          ]
        },
        {
          "output_type": "stream",
          "name": "stderr",
          "text": [
            "WARNING:gensim.models.ldamodel:no word id mapping provided; initializing from corpus, assuming identity\n",
            "WARNING:gensim.models.ldamodel:too few updates, training might not converge; consider increasing the number of passes or iterations to improve accuracy\n"
          ]
        },
        {
          "output_type": "stream",
          "name": "stdout",
          "text": [
            "Summary saved successfully in /content/drive/MyDrive/updated GENERATED SUMMARY/30790.txt\n"
          ]
        },
        {
          "output_type": "stream",
          "name": "stderr",
          "text": [
            "WARNING:gensim.models.ldamodel:no word id mapping provided; initializing from corpus, assuming identity\n",
            "WARNING:gensim.models.ldamodel:too few updates, training might not converge; consider increasing the number of passes or iterations to improve accuracy\n"
          ]
        },
        {
          "output_type": "stream",
          "name": "stdout",
          "text": [
            "Summary saved successfully in /content/drive/MyDrive/updated GENERATED SUMMARY/30795.txt\n"
          ]
        },
        {
          "output_type": "stream",
          "name": "stderr",
          "text": [
            "WARNING:gensim.models.ldamodel:no word id mapping provided; initializing from corpus, assuming identity\n",
            "WARNING:gensim.models.ldamodel:too few updates, training might not converge; consider increasing the number of passes or iterations to improve accuracy\n"
          ]
        },
        {
          "output_type": "stream",
          "name": "stdout",
          "text": [
            "Summary saved successfully in /content/drive/MyDrive/updated GENERATED SUMMARY/30796.txt\n"
          ]
        },
        {
          "output_type": "stream",
          "name": "stderr",
          "text": [
            "WARNING:gensim.models.ldamodel:no word id mapping provided; initializing from corpus, assuming identity\n",
            "WARNING:gensim.models.ldamodel:too few updates, training might not converge; consider increasing the number of passes or iterations to improve accuracy\n"
          ]
        },
        {
          "output_type": "stream",
          "name": "stdout",
          "text": [
            "Summary saved successfully in /content/drive/MyDrive/updated GENERATED SUMMARY/30800.txt\n"
          ]
        },
        {
          "output_type": "stream",
          "name": "stderr",
          "text": [
            "WARNING:gensim.models.ldamodel:no word id mapping provided; initializing from corpus, assuming identity\n",
            "WARNING:gensim.models.ldamodel:too few updates, training might not converge; consider increasing the number of passes or iterations to improve accuracy\n"
          ]
        },
        {
          "output_type": "stream",
          "name": "stdout",
          "text": [
            "Summary saved successfully in /content/drive/MyDrive/updated GENERATED SUMMARY/30808 (1).txt\n"
          ]
        },
        {
          "output_type": "stream",
          "name": "stderr",
          "text": [
            "WARNING:gensim.models.ldamodel:no word id mapping provided; initializing from corpus, assuming identity\n",
            "WARNING:gensim.models.ldamodel:too few updates, training might not converge; consider increasing the number of passes or iterations to improve accuracy\n"
          ]
        },
        {
          "output_type": "stream",
          "name": "stdout",
          "text": [
            "Summary saved successfully in /content/drive/MyDrive/updated GENERATED SUMMARY/30813.txt\n"
          ]
        },
        {
          "output_type": "stream",
          "name": "stderr",
          "text": [
            "WARNING:gensim.models.ldamodel:no word id mapping provided; initializing from corpus, assuming identity\n",
            "WARNING:gensim.models.ldamodel:too few updates, training might not converge; consider increasing the number of passes or iterations to improve accuracy\n"
          ]
        },
        {
          "output_type": "stream",
          "name": "stdout",
          "text": [
            "Summary saved successfully in /content/drive/MyDrive/updated GENERATED SUMMARY/30816.txt\n"
          ]
        },
        {
          "output_type": "stream",
          "name": "stderr",
          "text": [
            "WARNING:gensim.models.ldamodel:no word id mapping provided; initializing from corpus, assuming identity\n",
            "WARNING:gensim.models.ldamodel:too few updates, training might not converge; consider increasing the number of passes or iterations to improve accuracy\n"
          ]
        },
        {
          "output_type": "stream",
          "name": "stdout",
          "text": [
            "Summary saved successfully in /content/drive/MyDrive/updated GENERATED SUMMARY/30815.txt\n"
          ]
        },
        {
          "output_type": "stream",
          "name": "stderr",
          "text": [
            "WARNING:gensim.models.ldamodel:no word id mapping provided; initializing from corpus, assuming identity\n",
            "WARNING:gensim.models.ldamodel:too few updates, training might not converge; consider increasing the number of passes or iterations to improve accuracy\n"
          ]
        },
        {
          "output_type": "stream",
          "name": "stdout",
          "text": [
            "Summary saved successfully in /content/drive/MyDrive/updated GENERATED SUMMARY/30819.txt\n"
          ]
        },
        {
          "output_type": "stream",
          "name": "stderr",
          "text": [
            "WARNING:gensim.models.ldamodel:no word id mapping provided; initializing from corpus, assuming identity\n",
            "WARNING:gensim.models.ldamodel:too few updates, training might not converge; consider increasing the number of passes or iterations to improve accuracy\n"
          ]
        },
        {
          "output_type": "stream",
          "name": "stdout",
          "text": [
            "Summary saved successfully in /content/drive/MyDrive/updated GENERATED SUMMARY/30817.txt\n"
          ]
        },
        {
          "output_type": "stream",
          "name": "stderr",
          "text": [
            "WARNING:gensim.models.ldamodel:no word id mapping provided; initializing from corpus, assuming identity\n",
            "WARNING:gensim.models.ldamodel:too few updates, training might not converge; consider increasing the number of passes or iterations to improve accuracy\n"
          ]
        },
        {
          "output_type": "stream",
          "name": "stdout",
          "text": [
            "Summary saved successfully in /content/drive/MyDrive/updated GENERATED SUMMARY/30820.txt\n"
          ]
        },
        {
          "output_type": "stream",
          "name": "stderr",
          "text": [
            "WARNING:gensim.models.ldamodel:no word id mapping provided; initializing from corpus, assuming identity\n",
            "WARNING:gensim.models.ldamodel:too few updates, training might not converge; consider increasing the number of passes or iterations to improve accuracy\n"
          ]
        },
        {
          "output_type": "stream",
          "name": "stdout",
          "text": [
            "Summary saved successfully in /content/drive/MyDrive/updated GENERATED SUMMARY/30822.txt\n"
          ]
        },
        {
          "output_type": "stream",
          "name": "stderr",
          "text": [
            "WARNING:gensim.models.ldamodel:no word id mapping provided; initializing from corpus, assuming identity\n",
            "WARNING:gensim.models.ldamodel:too few updates, training might not converge; consider increasing the number of passes or iterations to improve accuracy\n"
          ]
        },
        {
          "output_type": "stream",
          "name": "stdout",
          "text": [
            "Summary saved successfully in /content/drive/MyDrive/updated GENERATED SUMMARY/30821.txt\n"
          ]
        },
        {
          "output_type": "stream",
          "name": "stderr",
          "text": [
            "WARNING:gensim.models.ldamodel:no word id mapping provided; initializing from corpus, assuming identity\n",
            "WARNING:gensim.models.ldamodel:too few updates, training might not converge; consider increasing the number of passes or iterations to improve accuracy\n"
          ]
        },
        {
          "output_type": "stream",
          "name": "stdout",
          "text": [
            "Summary saved successfully in /content/drive/MyDrive/updated GENERATED SUMMARY/30904.txt\n"
          ]
        },
        {
          "output_type": "stream",
          "name": "stderr",
          "text": [
            "WARNING:gensim.models.ldamodel:no word id mapping provided; initializing from corpus, assuming identity\n",
            "WARNING:gensim.models.ldamodel:too few updates, training might not converge; consider increasing the number of passes or iterations to improve accuracy\n"
          ]
        },
        {
          "output_type": "stream",
          "name": "stdout",
          "text": [
            "Summary saved successfully in /content/drive/MyDrive/updated GENERATED SUMMARY/30830.txt\n"
          ]
        },
        {
          "output_type": "stream",
          "name": "stderr",
          "text": [
            "WARNING:gensim.models.ldamodel:no word id mapping provided; initializing from corpus, assuming identity\n",
            "WARNING:gensim.models.ldamodel:too few updates, training might not converge; consider increasing the number of passes or iterations to improve accuracy\n"
          ]
        },
        {
          "output_type": "stream",
          "name": "stdout",
          "text": [
            "Summary saved successfully in /content/drive/MyDrive/updated GENERATED SUMMARY/30849.txt\n"
          ]
        },
        {
          "output_type": "stream",
          "name": "stderr",
          "text": [
            "WARNING:gensim.models.ldamodel:no word id mapping provided; initializing from corpus, assuming identity\n",
            "WARNING:gensim.models.ldamodel:too few updates, training might not converge; consider increasing the number of passes or iterations to improve accuracy\n"
          ]
        },
        {
          "output_type": "stream",
          "name": "stdout",
          "text": [
            "Summary saved successfully in /content/drive/MyDrive/updated GENERATED SUMMARY/30838.txt\n"
          ]
        },
        {
          "output_type": "stream",
          "name": "stderr",
          "text": [
            "WARNING:gensim.models.ldamodel:no word id mapping provided; initializing from corpus, assuming identity\n",
            "WARNING:gensim.models.ldamodel:too few updates, training might not converge; consider increasing the number of passes or iterations to improve accuracy\n"
          ]
        },
        {
          "output_type": "stream",
          "name": "stdout",
          "text": [
            "Summary saved successfully in /content/drive/MyDrive/updated GENERATED SUMMARY/30841.txt\n"
          ]
        },
        {
          "output_type": "stream",
          "name": "stderr",
          "text": [
            "WARNING:gensim.models.ldamodel:no word id mapping provided; initializing from corpus, assuming identity\n",
            "WARNING:gensim.models.ldamodel:too few updates, training might not converge; consider increasing the number of passes or iterations to improve accuracy\n"
          ]
        },
        {
          "output_type": "stream",
          "name": "stdout",
          "text": [
            "Summary saved successfully in /content/drive/MyDrive/updated GENERATED SUMMARY/30850.txt\n"
          ]
        },
        {
          "output_type": "stream",
          "name": "stderr",
          "text": [
            "WARNING:gensim.models.ldamodel:no word id mapping provided; initializing from corpus, assuming identity\n",
            "WARNING:gensim.models.ldamodel:too few updates, training might not converge; consider increasing the number of passes or iterations to improve accuracy\n"
          ]
        },
        {
          "output_type": "stream",
          "name": "stdout",
          "text": [
            "Summary saved successfully in /content/drive/MyDrive/updated GENERATED SUMMARY/30854.txt\n"
          ]
        },
        {
          "output_type": "stream",
          "name": "stderr",
          "text": [
            "WARNING:gensim.models.ldamodel:no word id mapping provided; initializing from corpus, assuming identity\n",
            "WARNING:gensim.models.ldamodel:too few updates, training might not converge; consider increasing the number of passes or iterations to improve accuracy\n"
          ]
        },
        {
          "output_type": "stream",
          "name": "stdout",
          "text": [
            "Summary saved successfully in /content/drive/MyDrive/updated GENERATED SUMMARY/30852.txt\n"
          ]
        },
        {
          "output_type": "stream",
          "name": "stderr",
          "text": [
            "WARNING:gensim.models.ldamodel:no word id mapping provided; initializing from corpus, assuming identity\n",
            "WARNING:gensim.models.ldamodel:too few updates, training might not converge; consider increasing the number of passes or iterations to improve accuracy\n"
          ]
        },
        {
          "output_type": "stream",
          "name": "stdout",
          "text": [
            "Summary saved successfully in /content/drive/MyDrive/updated GENERATED SUMMARY/30855.txt\n"
          ]
        },
        {
          "output_type": "stream",
          "name": "stderr",
          "text": [
            "WARNING:gensim.models.ldamodel:no word id mapping provided; initializing from corpus, assuming identity\n",
            "WARNING:gensim.models.ldamodel:too few updates, training might not converge; consider increasing the number of passes or iterations to improve accuracy\n"
          ]
        },
        {
          "output_type": "stream",
          "name": "stdout",
          "text": [
            "Summary saved successfully in /content/drive/MyDrive/updated GENERATED SUMMARY/30858.txt\n"
          ]
        },
        {
          "output_type": "stream",
          "name": "stderr",
          "text": [
            "WARNING:gensim.models.ldamodel:no word id mapping provided; initializing from corpus, assuming identity\n",
            "WARNING:gensim.models.ldamodel:too few updates, training might not converge; consider increasing the number of passes or iterations to improve accuracy\n"
          ]
        },
        {
          "output_type": "stream",
          "name": "stdout",
          "text": [
            "Summary saved successfully in /content/drive/MyDrive/updated GENERATED SUMMARY/30856.txt\n"
          ]
        },
        {
          "output_type": "stream",
          "name": "stderr",
          "text": [
            "WARNING:gensim.models.ldamodel:no word id mapping provided; initializing from corpus, assuming identity\n",
            "WARNING:gensim.models.ldamodel:too few updates, training might not converge; consider increasing the number of passes or iterations to improve accuracy\n"
          ]
        },
        {
          "output_type": "stream",
          "name": "stdout",
          "text": [
            "Summary saved successfully in /content/drive/MyDrive/updated GENERATED SUMMARY/30866.txt\n"
          ]
        },
        {
          "output_type": "stream",
          "name": "stderr",
          "text": [
            "WARNING:gensim.models.ldamodel:no word id mapping provided; initializing from corpus, assuming identity\n",
            "WARNING:gensim.models.ldamodel:too few updates, training might not converge; consider increasing the number of passes or iterations to improve accuracy\n"
          ]
        },
        {
          "output_type": "stream",
          "name": "stdout",
          "text": [
            "Summary saved successfully in /content/drive/MyDrive/updated GENERATED SUMMARY/30874.txt\n"
          ]
        },
        {
          "output_type": "stream",
          "name": "stderr",
          "text": [
            "WARNING:gensim.models.ldamodel:no word id mapping provided; initializing from corpus, assuming identity\n",
            "WARNING:gensim.models.ldamodel:too few updates, training might not converge; consider increasing the number of passes or iterations to improve accuracy\n"
          ]
        },
        {
          "output_type": "stream",
          "name": "stdout",
          "text": [
            "Summary saved successfully in /content/drive/MyDrive/updated GENERATED SUMMARY/30894.txt\n"
          ]
        },
        {
          "output_type": "stream",
          "name": "stderr",
          "text": [
            "WARNING:gensim.models.ldamodel:no word id mapping provided; initializing from corpus, assuming identity\n",
            "WARNING:gensim.models.ldamodel:too few updates, training might not converge; consider increasing the number of passes or iterations to improve accuracy\n"
          ]
        },
        {
          "output_type": "stream",
          "name": "stdout",
          "text": [
            "Summary saved successfully in /content/drive/MyDrive/updated GENERATED SUMMARY/30886.txt\n"
          ]
        },
        {
          "output_type": "stream",
          "name": "stderr",
          "text": [
            "WARNING:gensim.models.ldamodel:no word id mapping provided; initializing from corpus, assuming identity\n",
            "WARNING:gensim.models.ldamodel:too few updates, training might not converge; consider increasing the number of passes or iterations to improve accuracy\n"
          ]
        },
        {
          "output_type": "stream",
          "name": "stdout",
          "text": [
            "Summary saved successfully in /content/drive/MyDrive/updated GENERATED SUMMARY/30887.txt\n"
          ]
        },
        {
          "output_type": "stream",
          "name": "stderr",
          "text": [
            "WARNING:gensim.models.ldamodel:no word id mapping provided; initializing from corpus, assuming identity\n",
            "WARNING:gensim.models.ldamodel:too few updates, training might not converge; consider increasing the number of passes or iterations to improve accuracy\n"
          ]
        },
        {
          "output_type": "stream",
          "name": "stdout",
          "text": [
            "Summary saved successfully in /content/drive/MyDrive/updated GENERATED SUMMARY/30888.txt\n"
          ]
        },
        {
          "output_type": "stream",
          "name": "stderr",
          "text": [
            "WARNING:gensim.models.ldamodel:no word id mapping provided; initializing from corpus, assuming identity\n",
            "WARNING:gensim.models.ldamodel:too few updates, training might not converge; consider increasing the number of passes or iterations to improve accuracy\n"
          ]
        },
        {
          "output_type": "stream",
          "name": "stdout",
          "text": [
            "Summary saved successfully in /content/drive/MyDrive/updated GENERATED SUMMARY/30895.txt\n"
          ]
        },
        {
          "output_type": "stream",
          "name": "stderr",
          "text": [
            "WARNING:gensim.models.ldamodel:no word id mapping provided; initializing from corpus, assuming identity\n",
            "WARNING:gensim.models.ldamodel:too few updates, training might not converge; consider increasing the number of passes or iterations to improve accuracy\n"
          ]
        },
        {
          "output_type": "stream",
          "name": "stdout",
          "text": [
            "Summary saved successfully in /content/drive/MyDrive/updated GENERATED SUMMARY/30897.txt\n"
          ]
        },
        {
          "output_type": "stream",
          "name": "stderr",
          "text": [
            "WARNING:gensim.models.ldamodel:no word id mapping provided; initializing from corpus, assuming identity\n",
            "WARNING:gensim.models.ldamodel:too few updates, training might not converge; consider increasing the number of passes or iterations to improve accuracy\n"
          ]
        },
        {
          "output_type": "stream",
          "name": "stdout",
          "text": [
            "Summary saved successfully in /content/drive/MyDrive/updated GENERATED SUMMARY/30899.txt\n"
          ]
        },
        {
          "output_type": "stream",
          "name": "stderr",
          "text": [
            "WARNING:gensim.models.ldamodel:no word id mapping provided; initializing from corpus, assuming identity\n",
            "WARNING:gensim.models.ldamodel:too few updates, training might not converge; consider increasing the number of passes or iterations to improve accuracy\n"
          ]
        },
        {
          "output_type": "stream",
          "name": "stdout",
          "text": [
            "Summary saved successfully in /content/drive/MyDrive/updated GENERATED SUMMARY/30901.txt\n"
          ]
        },
        {
          "output_type": "stream",
          "name": "stderr",
          "text": [
            "WARNING:gensim.models.ldamodel:no word id mapping provided; initializing from corpus, assuming identity\n",
            "WARNING:gensim.models.ldamodel:too few updates, training might not converge; consider increasing the number of passes or iterations to improve accuracy\n"
          ]
        },
        {
          "output_type": "stream",
          "name": "stdout",
          "text": [
            "Summary saved successfully in /content/drive/MyDrive/updated GENERATED SUMMARY/30902.txt\n"
          ]
        },
        {
          "output_type": "stream",
          "name": "stderr",
          "text": [
            "WARNING:gensim.models.ldamodel:no word id mapping provided; initializing from corpus, assuming identity\n",
            "WARNING:gensim.models.ldamodel:too few updates, training might not converge; consider increasing the number of passes or iterations to improve accuracy\n"
          ]
        },
        {
          "output_type": "stream",
          "name": "stdout",
          "text": [
            "Summary saved successfully in /content/drive/MyDrive/updated GENERATED SUMMARY/30903.txt\n"
          ]
        },
        {
          "output_type": "stream",
          "name": "stderr",
          "text": [
            "WARNING:gensim.models.ldamodel:no word id mapping provided; initializing from corpus, assuming identity\n",
            "WARNING:gensim.models.ldamodel:too few updates, training might not converge; consider increasing the number of passes or iterations to improve accuracy\n"
          ]
        },
        {
          "output_type": "stream",
          "name": "stdout",
          "text": [
            "Summary saved successfully in /content/drive/MyDrive/updated GENERATED SUMMARY/30907.txt\n"
          ]
        },
        {
          "output_type": "stream",
          "name": "stderr",
          "text": [
            "WARNING:gensim.models.ldamodel:no word id mapping provided; initializing from corpus, assuming identity\n",
            "WARNING:gensim.models.ldamodel:too few updates, training might not converge; consider increasing the number of passes or iterations to improve accuracy\n"
          ]
        },
        {
          "output_type": "stream",
          "name": "stdout",
          "text": [
            "Summary saved successfully in /content/drive/MyDrive/updated GENERATED SUMMARY/30913.txt\n"
          ]
        },
        {
          "output_type": "stream",
          "name": "stderr",
          "text": [
            "WARNING:gensim.models.ldamodel:no word id mapping provided; initializing from corpus, assuming identity\n",
            "WARNING:gensim.models.ldamodel:too few updates, training might not converge; consider increasing the number of passes or iterations to improve accuracy\n"
          ]
        },
        {
          "output_type": "stream",
          "name": "stdout",
          "text": [
            "Summary saved successfully in /content/drive/MyDrive/updated GENERATED SUMMARY/30920.txt\n"
          ]
        },
        {
          "output_type": "stream",
          "name": "stderr",
          "text": [
            "WARNING:gensim.models.ldamodel:no word id mapping provided; initializing from corpus, assuming identity\n",
            "WARNING:gensim.models.ldamodel:too few updates, training might not converge; consider increasing the number of passes or iterations to improve accuracy\n"
          ]
        },
        {
          "output_type": "stream",
          "name": "stdout",
          "text": [
            "Summary saved successfully in /content/drive/MyDrive/updated GENERATED SUMMARY/30922.txt\n"
          ]
        },
        {
          "output_type": "stream",
          "name": "stderr",
          "text": [
            "WARNING:gensim.models.ldamodel:no word id mapping provided; initializing from corpus, assuming identity\n",
            "WARNING:gensim.models.ldamodel:too few updates, training might not converge; consider increasing the number of passes or iterations to improve accuracy\n"
          ]
        },
        {
          "output_type": "stream",
          "name": "stdout",
          "text": [
            "Summary saved successfully in /content/drive/MyDrive/updated GENERATED SUMMARY/30927.txt\n"
          ]
        },
        {
          "output_type": "stream",
          "name": "stderr",
          "text": [
            "WARNING:gensim.models.ldamodel:no word id mapping provided; initializing from corpus, assuming identity\n",
            "WARNING:gensim.models.ldamodel:too few updates, training might not converge; consider increasing the number of passes or iterations to improve accuracy\n"
          ]
        },
        {
          "output_type": "stream",
          "name": "stdout",
          "text": [
            "Summary saved successfully in /content/drive/MyDrive/updated GENERATED SUMMARY/30924.txt\n"
          ]
        },
        {
          "output_type": "stream",
          "name": "stderr",
          "text": [
            "WARNING:gensim.models.ldamodel:no word id mapping provided; initializing from corpus, assuming identity\n",
            "WARNING:gensim.models.ldamodel:too few updates, training might not converge; consider increasing the number of passes or iterations to improve accuracy\n"
          ]
        },
        {
          "output_type": "stream",
          "name": "stdout",
          "text": [
            "Summary saved successfully in /content/drive/MyDrive/updated GENERATED SUMMARY/30940.txt\n"
          ]
        },
        {
          "output_type": "stream",
          "name": "stderr",
          "text": [
            "WARNING:gensim.models.ldamodel:no word id mapping provided; initializing from corpus, assuming identity\n",
            "WARNING:gensim.models.ldamodel:too few updates, training might not converge; consider increasing the number of passes or iterations to improve accuracy\n"
          ]
        },
        {
          "output_type": "stream",
          "name": "stdout",
          "text": [
            "Summary saved successfully in /content/drive/MyDrive/updated GENERATED SUMMARY/30941.txt\n"
          ]
        },
        {
          "output_type": "stream",
          "name": "stderr",
          "text": [
            "WARNING:gensim.models.ldamodel:no word id mapping provided; initializing from corpus, assuming identity\n",
            "WARNING:gensim.models.ldamodel:too few updates, training might not converge; consider increasing the number of passes or iterations to improve accuracy\n"
          ]
        },
        {
          "output_type": "stream",
          "name": "stdout",
          "text": [
            "Summary saved successfully in /content/drive/MyDrive/updated GENERATED SUMMARY/30943.txt\n"
          ]
        },
        {
          "output_type": "stream",
          "name": "stderr",
          "text": [
            "WARNING:gensim.models.ldamodel:no word id mapping provided; initializing from corpus, assuming identity\n",
            "WARNING:gensim.models.ldamodel:too few updates, training might not converge; consider increasing the number of passes or iterations to improve accuracy\n"
          ]
        },
        {
          "output_type": "stream",
          "name": "stdout",
          "text": [
            "Summary saved successfully in /content/drive/MyDrive/updated GENERATED SUMMARY/30947.txt\n"
          ]
        },
        {
          "output_type": "stream",
          "name": "stderr",
          "text": [
            "WARNING:gensim.models.ldamodel:no word id mapping provided; initializing from corpus, assuming identity\n",
            "WARNING:gensim.models.ldamodel:too few updates, training might not converge; consider increasing the number of passes or iterations to improve accuracy\n"
          ]
        },
        {
          "output_type": "stream",
          "name": "stdout",
          "text": [
            "Summary saved successfully in /content/drive/MyDrive/updated GENERATED SUMMARY/30946.txt\n"
          ]
        },
        {
          "output_type": "stream",
          "name": "stderr",
          "text": [
            "WARNING:gensim.models.ldamodel:no word id mapping provided; initializing from corpus, assuming identity\n",
            "WARNING:gensim.models.ldamodel:too few updates, training might not converge; consider increasing the number of passes or iterations to improve accuracy\n"
          ]
        },
        {
          "output_type": "stream",
          "name": "stdout",
          "text": [
            "Summary saved successfully in /content/drive/MyDrive/updated GENERATED SUMMARY/30948.txt\n"
          ]
        },
        {
          "output_type": "stream",
          "name": "stderr",
          "text": [
            "WARNING:gensim.models.ldamodel:no word id mapping provided; initializing from corpus, assuming identity\n",
            "WARNING:gensim.models.ldamodel:too few updates, training might not converge; consider increasing the number of passes or iterations to improve accuracy\n"
          ]
        },
        {
          "output_type": "stream",
          "name": "stdout",
          "text": [
            "Summary saved successfully in /content/drive/MyDrive/updated GENERATED SUMMARY/30950.txt\n"
          ]
        },
        {
          "output_type": "stream",
          "name": "stderr",
          "text": [
            "WARNING:gensim.models.ldamodel:no word id mapping provided; initializing from corpus, assuming identity\n",
            "WARNING:gensim.models.ldamodel:too few updates, training might not converge; consider increasing the number of passes or iterations to improve accuracy\n"
          ]
        },
        {
          "output_type": "stream",
          "name": "stdout",
          "text": [
            "Summary saved successfully in /content/drive/MyDrive/updated GENERATED SUMMARY/30952.txt\n"
          ]
        },
        {
          "output_type": "stream",
          "name": "stderr",
          "text": [
            "WARNING:gensim.models.ldamodel:no word id mapping provided; initializing from corpus, assuming identity\n",
            "WARNING:gensim.models.ldamodel:too few updates, training might not converge; consider increasing the number of passes or iterations to improve accuracy\n",
            "WARNING:gensim.models.ldamodel:no word id mapping provided; initializing from corpus, assuming identity\n"
          ]
        },
        {
          "output_type": "stream",
          "name": "stdout",
          "text": [
            "Summary saved successfully in /content/drive/MyDrive/updated GENERATED SUMMARY/30954.txt\n"
          ]
        },
        {
          "output_type": "stream",
          "name": "stderr",
          "text": [
            "WARNING:gensim.models.ldamodel:too few updates, training might not converge; consider increasing the number of passes or iterations to improve accuracy\n"
          ]
        },
        {
          "output_type": "stream",
          "name": "stdout",
          "text": [
            "Summary saved successfully in /content/drive/MyDrive/updated GENERATED SUMMARY/30962.txt\n"
          ]
        },
        {
          "output_type": "stream",
          "name": "stderr",
          "text": [
            "WARNING:gensim.models.ldamodel:no word id mapping provided; initializing from corpus, assuming identity\n",
            "WARNING:gensim.models.ldamodel:too few updates, training might not converge; consider increasing the number of passes or iterations to improve accuracy\n"
          ]
        },
        {
          "output_type": "stream",
          "name": "stdout",
          "text": [
            "Summary saved successfully in /content/drive/MyDrive/updated GENERATED SUMMARY/30960.txt\n"
          ]
        },
        {
          "output_type": "stream",
          "name": "stderr",
          "text": [
            "WARNING:gensim.models.ldamodel:no word id mapping provided; initializing from corpus, assuming identity\n",
            "WARNING:gensim.models.ldamodel:too few updates, training might not converge; consider increasing the number of passes or iterations to improve accuracy\n"
          ]
        },
        {
          "output_type": "stream",
          "name": "stdout",
          "text": [
            "Summary saved successfully in /content/drive/MyDrive/updated GENERATED SUMMARY/30966.txt\n"
          ]
        },
        {
          "output_type": "stream",
          "name": "stderr",
          "text": [
            "WARNING:gensim.models.ldamodel:no word id mapping provided; initializing from corpus, assuming identity\n",
            "WARNING:gensim.models.ldamodel:too few updates, training might not converge; consider increasing the number of passes or iterations to improve accuracy\n"
          ]
        },
        {
          "output_type": "stream",
          "name": "stdout",
          "text": [
            "Summary saved successfully in /content/drive/MyDrive/updated GENERATED SUMMARY/30965.txt\n"
          ]
        },
        {
          "output_type": "stream",
          "name": "stderr",
          "text": [
            "WARNING:gensim.models.ldamodel:no word id mapping provided; initializing from corpus, assuming identity\n",
            "WARNING:gensim.models.ldamodel:too few updates, training might not converge; consider increasing the number of passes or iterations to improve accuracy\n"
          ]
        },
        {
          "output_type": "stream",
          "name": "stdout",
          "text": [
            "Summary saved successfully in /content/drive/MyDrive/updated GENERATED SUMMARY/30967.txt\n"
          ]
        },
        {
          "output_type": "stream",
          "name": "stderr",
          "text": [
            "WARNING:gensim.models.ldamodel:no word id mapping provided; initializing from corpus, assuming identity\n",
            "WARNING:gensim.models.ldamodel:too few updates, training might not converge; consider increasing the number of passes or iterations to improve accuracy\n"
          ]
        },
        {
          "output_type": "stream",
          "name": "stdout",
          "text": [
            "Summary saved successfully in /content/drive/MyDrive/updated GENERATED SUMMARY/30968.txt\n"
          ]
        },
        {
          "output_type": "stream",
          "name": "stderr",
          "text": [
            "WARNING:gensim.models.ldamodel:no word id mapping provided; initializing from corpus, assuming identity\n",
            "WARNING:gensim.models.ldamodel:too few updates, training might not converge; consider increasing the number of passes or iterations to improve accuracy\n"
          ]
        },
        {
          "output_type": "stream",
          "name": "stdout",
          "text": [
            "Summary saved successfully in /content/drive/MyDrive/updated GENERATED SUMMARY/30982.txt\n"
          ]
        },
        {
          "output_type": "stream",
          "name": "stderr",
          "text": [
            "WARNING:gensim.models.ldamodel:no word id mapping provided; initializing from corpus, assuming identity\n",
            "WARNING:gensim.models.ldamodel:too few updates, training might not converge; consider increasing the number of passes or iterations to improve accuracy\n"
          ]
        },
        {
          "output_type": "stream",
          "name": "stdout",
          "text": [
            "Summary saved successfully in /content/drive/MyDrive/updated GENERATED SUMMARY/30991.txt\n"
          ]
        },
        {
          "output_type": "stream",
          "name": "stderr",
          "text": [
            "WARNING:gensim.models.ldamodel:no word id mapping provided; initializing from corpus, assuming identity\n",
            "WARNING:gensim.models.ldamodel:too few updates, training might not converge; consider increasing the number of passes or iterations to improve accuracy\n"
          ]
        },
        {
          "output_type": "stream",
          "name": "stdout",
          "text": [
            "Summary saved successfully in /content/drive/MyDrive/updated GENERATED SUMMARY/31023.txt\n"
          ]
        },
        {
          "output_type": "stream",
          "name": "stderr",
          "text": [
            "WARNING:gensim.models.ldamodel:no word id mapping provided; initializing from corpus, assuming identity\n",
            "WARNING:gensim.models.ldamodel:too few updates, training might not converge; consider increasing the number of passes or iterations to improve accuracy\n"
          ]
        },
        {
          "output_type": "stream",
          "name": "stdout",
          "text": [
            "Summary saved successfully in /content/drive/MyDrive/updated GENERATED SUMMARY/31015.txt\n"
          ]
        },
        {
          "output_type": "stream",
          "name": "stderr",
          "text": [
            "WARNING:gensim.models.ldamodel:no word id mapping provided; initializing from corpus, assuming identity\n",
            "WARNING:gensim.models.ldamodel:too few updates, training might not converge; consider increasing the number of passes or iterations to improve accuracy\n"
          ]
        },
        {
          "output_type": "stream",
          "name": "stdout",
          "text": [
            "Summary saved successfully in /content/drive/MyDrive/updated GENERATED SUMMARY/31005.txt\n"
          ]
        },
        {
          "output_type": "stream",
          "name": "stderr",
          "text": [
            "WARNING:gensim.models.ldamodel:no word id mapping provided; initializing from corpus, assuming identity\n",
            "WARNING:gensim.models.ldamodel:too few updates, training might not converge; consider increasing the number of passes or iterations to improve accuracy\n"
          ]
        },
        {
          "output_type": "stream",
          "name": "stdout",
          "text": [
            "Summary saved successfully in /content/drive/MyDrive/updated GENERATED SUMMARY/31007.txt\n"
          ]
        },
        {
          "output_type": "stream",
          "name": "stderr",
          "text": [
            "WARNING:gensim.models.ldamodel:no word id mapping provided; initializing from corpus, assuming identity\n",
            "WARNING:gensim.models.ldamodel:too few updates, training might not converge; consider increasing the number of passes or iterations to improve accuracy\n"
          ]
        },
        {
          "output_type": "stream",
          "name": "stdout",
          "text": [
            "Summary saved successfully in /content/drive/MyDrive/updated GENERATED SUMMARY/31012.txt\n"
          ]
        },
        {
          "output_type": "stream",
          "name": "stderr",
          "text": [
            "WARNING:gensim.models.ldamodel:no word id mapping provided; initializing from corpus, assuming identity\n",
            "WARNING:gensim.models.ldamodel:too few updates, training might not converge; consider increasing the number of passes or iterations to improve accuracy\n"
          ]
        },
        {
          "output_type": "stream",
          "name": "stdout",
          "text": [
            "Summary saved successfully in /content/drive/MyDrive/updated GENERATED SUMMARY/31008.txt\n"
          ]
        },
        {
          "output_type": "stream",
          "name": "stderr",
          "text": [
            "WARNING:gensim.models.ldamodel:no word id mapping provided; initializing from corpus, assuming identity\n",
            "WARNING:gensim.models.ldamodel:too few updates, training might not converge; consider increasing the number of passes or iterations to improve accuracy\n"
          ]
        },
        {
          "output_type": "stream",
          "name": "stdout",
          "text": [
            "Summary saved successfully in /content/drive/MyDrive/updated GENERATED SUMMARY/31013.txt\n"
          ]
        },
        {
          "output_type": "stream",
          "name": "stderr",
          "text": [
            "WARNING:gensim.models.ldamodel:no word id mapping provided; initializing from corpus, assuming identity\n",
            "WARNING:gensim.models.ldamodel:too few updates, training might not converge; consider increasing the number of passes or iterations to improve accuracy\n"
          ]
        },
        {
          "output_type": "stream",
          "name": "stdout",
          "text": [
            "Summary saved successfully in /content/drive/MyDrive/updated GENERATED SUMMARY/31033.txt\n"
          ]
        },
        {
          "output_type": "stream",
          "name": "stderr",
          "text": [
            "WARNING:gensim.models.ldamodel:no word id mapping provided; initializing from corpus, assuming identity\n",
            "WARNING:gensim.models.ldamodel:too few updates, training might not converge; consider increasing the number of passes or iterations to improve accuracy\n"
          ]
        },
        {
          "output_type": "stream",
          "name": "stdout",
          "text": [
            "Summary saved successfully in /content/drive/MyDrive/updated GENERATED SUMMARY/31014.txt\n"
          ]
        },
        {
          "output_type": "stream",
          "name": "stderr",
          "text": [
            "WARNING:gensim.models.ldamodel:no word id mapping provided; initializing from corpus, assuming identity\n",
            "WARNING:gensim.models.ldamodel:too few updates, training might not converge; consider increasing the number of passes or iterations to improve accuracy\n"
          ]
        },
        {
          "output_type": "stream",
          "name": "stdout",
          "text": [
            "Summary saved successfully in /content/drive/MyDrive/updated GENERATED SUMMARY/31022.txt\n"
          ]
        },
        {
          "output_type": "stream",
          "name": "stderr",
          "text": [
            "WARNING:gensim.models.ldamodel:no word id mapping provided; initializing from corpus, assuming identity\n",
            "WARNING:gensim.models.ldamodel:too few updates, training might not converge; consider increasing the number of passes or iterations to improve accuracy\n"
          ]
        },
        {
          "output_type": "stream",
          "name": "stdout",
          "text": [
            "Summary saved successfully in /content/drive/MyDrive/updated GENERATED SUMMARY/31026.txt\n"
          ]
        },
        {
          "output_type": "stream",
          "name": "stderr",
          "text": [
            "WARNING:gensim.models.ldamodel:no word id mapping provided; initializing from corpus, assuming identity\n",
            "WARNING:gensim.models.ldamodel:too few updates, training might not converge; consider increasing the number of passes or iterations to improve accuracy\n"
          ]
        },
        {
          "output_type": "stream",
          "name": "stdout",
          "text": [
            "Summary saved successfully in /content/drive/MyDrive/updated GENERATED SUMMARY/31031.txt\n"
          ]
        },
        {
          "output_type": "stream",
          "name": "stderr",
          "text": [
            "WARNING:gensim.models.ldamodel:no word id mapping provided; initializing from corpus, assuming identity\n",
            "WARNING:gensim.models.ldamodel:too few updates, training might not converge; consider increasing the number of passes or iterations to improve accuracy\n"
          ]
        },
        {
          "output_type": "stream",
          "name": "stdout",
          "text": [
            "Summary saved successfully in /content/drive/MyDrive/updated GENERATED SUMMARY/31036.txt\n"
          ]
        },
        {
          "output_type": "stream",
          "name": "stderr",
          "text": [
            "WARNING:gensim.models.ldamodel:no word id mapping provided; initializing from corpus, assuming identity\n",
            "WARNING:gensim.models.ldamodel:too few updates, training might not converge; consider increasing the number of passes or iterations to improve accuracy\n"
          ]
        },
        {
          "output_type": "stream",
          "name": "stdout",
          "text": [
            "Summary saved successfully in /content/drive/MyDrive/updated GENERATED SUMMARY/31034.txt\n"
          ]
        },
        {
          "output_type": "stream",
          "name": "stderr",
          "text": [
            "WARNING:gensim.models.ldamodel:no word id mapping provided; initializing from corpus, assuming identity\n",
            "WARNING:gensim.models.ldamodel:too few updates, training might not converge; consider increasing the number of passes or iterations to improve accuracy\n",
            "WARNING:gensim.models.ldamodel:no word id mapping provided; initializing from corpus, assuming identity\n"
          ]
        },
        {
          "output_type": "stream",
          "name": "stdout",
          "text": [
            "Summary saved successfully in /content/drive/MyDrive/updated GENERATED SUMMARY/31040.txt\n"
          ]
        },
        {
          "output_type": "stream",
          "name": "stderr",
          "text": [
            "WARNING:gensim.models.ldamodel:too few updates, training might not converge; consider increasing the number of passes or iterations to improve accuracy\n"
          ]
        },
        {
          "output_type": "stream",
          "name": "stdout",
          "text": [
            "Summary saved successfully in /content/drive/MyDrive/updated GENERATED SUMMARY/31037.txt\n"
          ]
        },
        {
          "output_type": "stream",
          "name": "stderr",
          "text": [
            "WARNING:gensim.models.ldamodel:no word id mapping provided; initializing from corpus, assuming identity\n",
            "WARNING:gensim.models.ldamodel:too few updates, training might not converge; consider increasing the number of passes or iterations to improve accuracy\n"
          ]
        },
        {
          "output_type": "stream",
          "name": "stdout",
          "text": [
            "Summary saved successfully in /content/drive/MyDrive/updated GENERATED SUMMARY/31038.txt\n"
          ]
        },
        {
          "output_type": "stream",
          "name": "stderr",
          "text": [
            "WARNING:gensim.models.ldamodel:no word id mapping provided; initializing from corpus, assuming identity\n",
            "WARNING:gensim.models.ldamodel:too few updates, training might not converge; consider increasing the number of passes or iterations to improve accuracy\n"
          ]
        },
        {
          "output_type": "stream",
          "name": "stdout",
          "text": [
            "Summary saved successfully in /content/drive/MyDrive/updated GENERATED SUMMARY/31074.txt\n"
          ]
        },
        {
          "output_type": "stream",
          "name": "stderr",
          "text": [
            "WARNING:gensim.models.ldamodel:no word id mapping provided; initializing from corpus, assuming identity\n",
            "WARNING:gensim.models.ldamodel:too few updates, training might not converge; consider increasing the number of passes or iterations to improve accuracy\n"
          ]
        },
        {
          "output_type": "stream",
          "name": "stdout",
          "text": [
            "Summary saved successfully in /content/drive/MyDrive/updated GENERATED SUMMARY/31042.txt\n"
          ]
        },
        {
          "output_type": "stream",
          "name": "stderr",
          "text": [
            "WARNING:gensim.models.ldamodel:no word id mapping provided; initializing from corpus, assuming identity\n",
            "WARNING:gensim.models.ldamodel:too few updates, training might not converge; consider increasing the number of passes or iterations to improve accuracy\n"
          ]
        },
        {
          "output_type": "stream",
          "name": "stdout",
          "text": [
            "Summary saved successfully in /content/drive/MyDrive/updated GENERATED SUMMARY/31050.txt\n"
          ]
        },
        {
          "output_type": "stream",
          "name": "stderr",
          "text": [
            "WARNING:gensim.models.ldamodel:no word id mapping provided; initializing from corpus, assuming identity\n",
            "WARNING:gensim.models.ldamodel:too few updates, training might not converge; consider increasing the number of passes or iterations to improve accuracy\n"
          ]
        },
        {
          "output_type": "stream",
          "name": "stdout",
          "text": [
            "Summary saved successfully in /content/drive/MyDrive/updated GENERATED SUMMARY/31058.txt\n"
          ]
        },
        {
          "output_type": "stream",
          "name": "stderr",
          "text": [
            "WARNING:gensim.models.ldamodel:no word id mapping provided; initializing from corpus, assuming identity\n",
            "WARNING:gensim.models.ldamodel:too few updates, training might not converge; consider increasing the number of passes or iterations to improve accuracy\n"
          ]
        },
        {
          "output_type": "stream",
          "name": "stdout",
          "text": [
            "Summary saved successfully in /content/drive/MyDrive/updated GENERATED SUMMARY/31053.txt\n"
          ]
        },
        {
          "output_type": "stream",
          "name": "stderr",
          "text": [
            "WARNING:gensim.models.ldamodel:no word id mapping provided; initializing from corpus, assuming identity\n",
            "WARNING:gensim.models.ldamodel:too few updates, training might not converge; consider increasing the number of passes or iterations to improve accuracy\n"
          ]
        },
        {
          "output_type": "stream",
          "name": "stdout",
          "text": [
            "Summary saved successfully in /content/drive/MyDrive/updated GENERATED SUMMARY/31063.txt\n"
          ]
        },
        {
          "output_type": "stream",
          "name": "stderr",
          "text": [
            "WARNING:gensim.models.ldamodel:no word id mapping provided; initializing from corpus, assuming identity\n",
            "WARNING:gensim.models.ldamodel:too few updates, training might not converge; consider increasing the number of passes or iterations to improve accuracy\n"
          ]
        },
        {
          "output_type": "stream",
          "name": "stdout",
          "text": [
            "Summary saved successfully in /content/drive/MyDrive/updated GENERATED SUMMARY/31059.txt\n"
          ]
        },
        {
          "output_type": "stream",
          "name": "stderr",
          "text": [
            "WARNING:gensim.models.ldamodel:no word id mapping provided; initializing from corpus, assuming identity\n",
            "WARNING:gensim.models.ldamodel:too few updates, training might not converge; consider increasing the number of passes or iterations to improve accuracy\n"
          ]
        },
        {
          "output_type": "stream",
          "name": "stdout",
          "text": [
            "Summary saved successfully in /content/drive/MyDrive/updated GENERATED SUMMARY/31061.txt\n"
          ]
        },
        {
          "output_type": "stream",
          "name": "stderr",
          "text": [
            "WARNING:gensim.models.ldamodel:no word id mapping provided; initializing from corpus, assuming identity\n",
            "WARNING:gensim.models.ldamodel:too few updates, training might not converge; consider increasing the number of passes or iterations to improve accuracy\n"
          ]
        },
        {
          "output_type": "stream",
          "name": "stdout",
          "text": [
            "Summary saved successfully in /content/drive/MyDrive/updated GENERATED SUMMARY/31064.txt\n"
          ]
        },
        {
          "output_type": "stream",
          "name": "stderr",
          "text": [
            "WARNING:gensim.models.ldamodel:no word id mapping provided; initializing from corpus, assuming identity\n",
            "WARNING:gensim.models.ldamodel:too few updates, training might not converge; consider increasing the number of passes or iterations to improve accuracy\n"
          ]
        },
        {
          "output_type": "stream",
          "name": "stdout",
          "text": [
            "Summary saved successfully in /content/drive/MyDrive/updated GENERATED SUMMARY/31076.txt\n"
          ]
        },
        {
          "output_type": "stream",
          "name": "stderr",
          "text": [
            "WARNING:gensim.models.ldamodel:no word id mapping provided; initializing from corpus, assuming identity\n",
            "WARNING:gensim.models.ldamodel:too few updates, training might not converge; consider increasing the number of passes or iterations to improve accuracy\n"
          ]
        },
        {
          "output_type": "stream",
          "name": "stdout",
          "text": [
            "Summary saved successfully in /content/drive/MyDrive/updated GENERATED SUMMARY/31114.txt\n"
          ]
        },
        {
          "output_type": "stream",
          "name": "stderr",
          "text": [
            "WARNING:gensim.models.ldamodel:no word id mapping provided; initializing from corpus, assuming identity\n",
            "WARNING:gensim.models.ldamodel:too few updates, training might not converge; consider increasing the number of passes or iterations to improve accuracy\n"
          ]
        },
        {
          "output_type": "stream",
          "name": "stdout",
          "text": [
            "Summary saved successfully in /content/drive/MyDrive/updated GENERATED SUMMARY/31105.txt\n"
          ]
        },
        {
          "output_type": "stream",
          "name": "stderr",
          "text": [
            "WARNING:gensim.models.ldamodel:no word id mapping provided; initializing from corpus, assuming identity\n",
            "WARNING:gensim.models.ldamodel:too few updates, training might not converge; consider increasing the number of passes or iterations to improve accuracy\n"
          ]
        },
        {
          "output_type": "stream",
          "name": "stdout",
          "text": [
            "Summary saved successfully in /content/drive/MyDrive/updated GENERATED SUMMARY/31101.txt\n"
          ]
        },
        {
          "output_type": "stream",
          "name": "stderr",
          "text": [
            "WARNING:gensim.models.ldamodel:no word id mapping provided; initializing from corpus, assuming identity\n",
            "WARNING:gensim.models.ldamodel:too few updates, training might not converge; consider increasing the number of passes or iterations to improve accuracy\n"
          ]
        },
        {
          "output_type": "stream",
          "name": "stdout",
          "text": [
            "Summary saved successfully in /content/drive/MyDrive/updated GENERATED SUMMARY/31146.txt\n"
          ]
        },
        {
          "output_type": "stream",
          "name": "stderr",
          "text": [
            "WARNING:gensim.models.ldamodel:no word id mapping provided; initializing from corpus, assuming identity\n",
            "WARNING:gensim.models.ldamodel:too few updates, training might not converge; consider increasing the number of passes or iterations to improve accuracy\n"
          ]
        },
        {
          "output_type": "stream",
          "name": "stdout",
          "text": [
            "Summary saved successfully in /content/drive/MyDrive/updated GENERATED SUMMARY/31109.txt\n"
          ]
        },
        {
          "output_type": "stream",
          "name": "stderr",
          "text": [
            "WARNING:gensim.models.ldamodel:no word id mapping provided; initializing from corpus, assuming identity\n",
            "WARNING:gensim.models.ldamodel:too few updates, training might not converge; consider increasing the number of passes or iterations to improve accuracy\n"
          ]
        },
        {
          "output_type": "stream",
          "name": "stdout",
          "text": [
            "Summary saved successfully in /content/drive/MyDrive/updated GENERATED SUMMARY/31127.txt\n"
          ]
        },
        {
          "output_type": "stream",
          "name": "stderr",
          "text": [
            "WARNING:gensim.models.ldamodel:no word id mapping provided; initializing from corpus, assuming identity\n",
            "WARNING:gensim.models.ldamodel:too few updates, training might not converge; consider increasing the number of passes or iterations to improve accuracy\n"
          ]
        },
        {
          "output_type": "stream",
          "name": "stdout",
          "text": [
            "Summary saved successfully in /content/drive/MyDrive/updated GENERATED SUMMARY/31202.txt\n"
          ]
        },
        {
          "output_type": "stream",
          "name": "stderr",
          "text": [
            "WARNING:gensim.models.ldamodel:no word id mapping provided; initializing from corpus, assuming identity\n",
            "WARNING:gensim.models.ldamodel:too few updates, training might not converge; consider increasing the number of passes or iterations to improve accuracy\n"
          ]
        },
        {
          "output_type": "stream",
          "name": "stdout",
          "text": [
            "Summary saved successfully in /content/drive/MyDrive/updated GENERATED SUMMARY/31165.txt\n"
          ]
        },
        {
          "output_type": "stream",
          "name": "stderr",
          "text": [
            "WARNING:gensim.models.ldamodel:no word id mapping provided; initializing from corpus, assuming identity\n",
            "WARNING:gensim.models.ldamodel:too few updates, training might not converge; consider increasing the number of passes or iterations to improve accuracy\n"
          ]
        },
        {
          "output_type": "stream",
          "name": "stdout",
          "text": [
            "Summary saved successfully in /content/drive/MyDrive/updated GENERATED SUMMARY/31203.txt\n"
          ]
        },
        {
          "output_type": "stream",
          "name": "stderr",
          "text": [
            "WARNING:gensim.models.ldamodel:no word id mapping provided; initializing from corpus, assuming identity\n",
            "WARNING:gensim.models.ldamodel:too few updates, training might not converge; consider increasing the number of passes or iterations to improve accuracy\n"
          ]
        },
        {
          "output_type": "stream",
          "name": "stdout",
          "text": [
            "Summary saved successfully in /content/drive/MyDrive/updated GENERATED SUMMARY/31201.txt\n"
          ]
        },
        {
          "output_type": "stream",
          "name": "stderr",
          "text": [
            "WARNING:gensim.models.ldamodel:no word id mapping provided; initializing from corpus, assuming identity\n",
            "WARNING:gensim.models.ldamodel:too few updates, training might not converge; consider increasing the number of passes or iterations to improve accuracy\n"
          ]
        },
        {
          "output_type": "stream",
          "name": "stdout",
          "text": [
            "Summary saved successfully in /content/drive/MyDrive/updated GENERATED SUMMARY/31204.txt\n"
          ]
        },
        {
          "output_type": "stream",
          "name": "stderr",
          "text": [
            "WARNING:gensim.models.ldamodel:no word id mapping provided; initializing from corpus, assuming identity\n",
            "WARNING:gensim.models.ldamodel:too few updates, training might not converge; consider increasing the number of passes or iterations to improve accuracy\n"
          ]
        },
        {
          "output_type": "stream",
          "name": "stdout",
          "text": [
            "Summary saved successfully in /content/drive/MyDrive/updated GENERATED SUMMARY/31224.txt\n"
          ]
        },
        {
          "output_type": "stream",
          "name": "stderr",
          "text": [
            "WARNING:gensim.models.ldamodel:no word id mapping provided; initializing from corpus, assuming identity\n",
            "WARNING:gensim.models.ldamodel:too few updates, training might not converge; consider increasing the number of passes or iterations to improve accuracy\n"
          ]
        },
        {
          "output_type": "stream",
          "name": "stdout",
          "text": [
            "Summary saved successfully in /content/drive/MyDrive/updated GENERATED SUMMARY/31220.txt\n"
          ]
        },
        {
          "output_type": "stream",
          "name": "stderr",
          "text": [
            "WARNING:gensim.models.ldamodel:no word id mapping provided; initializing from corpus, assuming identity\n",
            "WARNING:gensim.models.ldamodel:too few updates, training might not converge; consider increasing the number of passes or iterations to improve accuracy\n"
          ]
        },
        {
          "output_type": "stream",
          "name": "stdout",
          "text": [
            "Summary saved successfully in /content/drive/MyDrive/updated GENERATED SUMMARY/31242.txt\n"
          ]
        },
        {
          "output_type": "stream",
          "name": "stderr",
          "text": [
            "WARNING:gensim.models.ldamodel:no word id mapping provided; initializing from corpus, assuming identity\n",
            "WARNING:gensim.models.ldamodel:too few updates, training might not converge; consider increasing the number of passes or iterations to improve accuracy\n"
          ]
        },
        {
          "output_type": "stream",
          "name": "stdout",
          "text": [
            "Summary saved successfully in /content/drive/MyDrive/updated GENERATED SUMMARY/31254.txt\n"
          ]
        },
        {
          "output_type": "stream",
          "name": "stderr",
          "text": [
            "WARNING:gensim.models.ldamodel:no word id mapping provided; initializing from corpus, assuming identity\n",
            "WARNING:gensim.models.ldamodel:too few updates, training might not converge; consider increasing the number of passes or iterations to improve accuracy\n"
          ]
        },
        {
          "output_type": "stream",
          "name": "stdout",
          "text": [
            "Summary saved successfully in /content/drive/MyDrive/updated GENERATED SUMMARY/31274.txt\n"
          ]
        },
        {
          "output_type": "stream",
          "name": "stderr",
          "text": [
            "WARNING:gensim.models.ldamodel:no word id mapping provided; initializing from corpus, assuming identity\n",
            "WARNING:gensim.models.ldamodel:too few updates, training might not converge; consider increasing the number of passes or iterations to improve accuracy\n"
          ]
        },
        {
          "output_type": "stream",
          "name": "stdout",
          "text": [
            "Summary saved successfully in /content/drive/MyDrive/updated GENERATED SUMMARY/31260.txt\n"
          ]
        },
        {
          "output_type": "stream",
          "name": "stderr",
          "text": [
            "WARNING:gensim.models.ldamodel:no word id mapping provided; initializing from corpus, assuming identity\n",
            "WARNING:gensim.models.ldamodel:too few updates, training might not converge; consider increasing the number of passes or iterations to improve accuracy\n"
          ]
        },
        {
          "output_type": "stream",
          "name": "stdout",
          "text": [
            "Summary saved successfully in /content/drive/MyDrive/updated GENERATED SUMMARY/31265.txt\n"
          ]
        },
        {
          "output_type": "stream",
          "name": "stderr",
          "text": [
            "WARNING:gensim.models.ldamodel:no word id mapping provided; initializing from corpus, assuming identity\n",
            "WARNING:gensim.models.ldamodel:too few updates, training might not converge; consider increasing the number of passes or iterations to improve accuracy\n"
          ]
        },
        {
          "output_type": "stream",
          "name": "stdout",
          "text": [
            "Summary saved successfully in /content/drive/MyDrive/updated GENERATED SUMMARY/31271.txt\n"
          ]
        },
        {
          "output_type": "stream",
          "name": "stderr",
          "text": [
            "WARNING:gensim.models.ldamodel:no word id mapping provided; initializing from corpus, assuming identity\n",
            "WARNING:gensim.models.ldamodel:too few updates, training might not converge; consider increasing the number of passes or iterations to improve accuracy\n",
            "WARNING:gensim.models.ldamodel:no word id mapping provided; initializing from corpus, assuming identity\n"
          ]
        },
        {
          "output_type": "stream",
          "name": "stdout",
          "text": [
            "Summary saved successfully in /content/drive/MyDrive/updated GENERATED SUMMARY/31292.txt\n"
          ]
        },
        {
          "output_type": "stream",
          "name": "stderr",
          "text": [
            "WARNING:gensim.models.ldamodel:too few updates, training might not converge; consider increasing the number of passes or iterations to improve accuracy\n"
          ]
        },
        {
          "output_type": "stream",
          "name": "stdout",
          "text": [
            "Summary saved successfully in /content/drive/MyDrive/updated GENERATED SUMMARY/31290.txt\n"
          ]
        },
        {
          "output_type": "stream",
          "name": "stderr",
          "text": [
            "WARNING:gensim.models.ldamodel:no word id mapping provided; initializing from corpus, assuming identity\n",
            "WARNING:gensim.models.ldamodel:too few updates, training might not converge; consider increasing the number of passes or iterations to improve accuracy\n"
          ]
        },
        {
          "output_type": "stream",
          "name": "stdout",
          "text": [
            "Summary saved successfully in /content/drive/MyDrive/updated GENERATED SUMMARY/31306.txt\n"
          ]
        },
        {
          "output_type": "stream",
          "name": "stderr",
          "text": [
            "WARNING:gensim.models.ldamodel:no word id mapping provided; initializing from corpus, assuming identity\n",
            "WARNING:gensim.models.ldamodel:too few updates, training might not converge; consider increasing the number of passes or iterations to improve accuracy\n"
          ]
        },
        {
          "output_type": "stream",
          "name": "stdout",
          "text": [
            "Summary saved successfully in /content/drive/MyDrive/updated GENERATED SUMMARY/31277.txt\n"
          ]
        },
        {
          "output_type": "stream",
          "name": "stderr",
          "text": [
            "WARNING:gensim.models.ldamodel:no word id mapping provided; initializing from corpus, assuming identity\n",
            "WARNING:gensim.models.ldamodel:too few updates, training might not converge; consider increasing the number of passes or iterations to improve accuracy\n"
          ]
        },
        {
          "output_type": "stream",
          "name": "stdout",
          "text": [
            "Summary saved successfully in /content/drive/MyDrive/updated GENERATED SUMMARY/31316.txt\n"
          ]
        },
        {
          "output_type": "stream",
          "name": "stderr",
          "text": [
            "WARNING:gensim.models.ldamodel:no word id mapping provided; initializing from corpus, assuming identity\n",
            "WARNING:gensim.models.ldamodel:too few updates, training might not converge; consider increasing the number of passes or iterations to improve accuracy\n"
          ]
        },
        {
          "output_type": "stream",
          "name": "stdout",
          "text": [
            "Summary saved successfully in /content/drive/MyDrive/updated GENERATED SUMMARY/31315.txt\n"
          ]
        },
        {
          "output_type": "stream",
          "name": "stderr",
          "text": [
            "WARNING:gensim.models.ldamodel:no word id mapping provided; initializing from corpus, assuming identity\n",
            "WARNING:gensim.models.ldamodel:too few updates, training might not converge; consider increasing the number of passes or iterations to improve accuracy\n"
          ]
        },
        {
          "output_type": "stream",
          "name": "stdout",
          "text": [
            "Summary saved successfully in /content/drive/MyDrive/updated GENERATED SUMMARY/31319.txt\n"
          ]
        },
        {
          "output_type": "stream",
          "name": "stderr",
          "text": [
            "WARNING:gensim.models.ldamodel:no word id mapping provided; initializing from corpus, assuming identity\n",
            "WARNING:gensim.models.ldamodel:too few updates, training might not converge; consider increasing the number of passes or iterations to improve accuracy\n"
          ]
        },
        {
          "output_type": "stream",
          "name": "stdout",
          "text": [
            "Summary saved successfully in /content/drive/MyDrive/updated GENERATED SUMMARY/31329.txt\n"
          ]
        },
        {
          "output_type": "stream",
          "name": "stderr",
          "text": [
            "WARNING:gensim.models.ldamodel:no word id mapping provided; initializing from corpus, assuming identity\n",
            "WARNING:gensim.models.ldamodel:too few updates, training might not converge; consider increasing the number of passes or iterations to improve accuracy\n"
          ]
        },
        {
          "output_type": "stream",
          "name": "stdout",
          "text": [
            "Summary saved successfully in /content/drive/MyDrive/updated GENERATED SUMMARY/31333.txt\n"
          ]
        },
        {
          "output_type": "stream",
          "name": "stderr",
          "text": [
            "WARNING:gensim.models.ldamodel:no word id mapping provided; initializing from corpus, assuming identity\n",
            "WARNING:gensim.models.ldamodel:too few updates, training might not converge; consider increasing the number of passes or iterations to improve accuracy\n"
          ]
        },
        {
          "output_type": "stream",
          "name": "stdout",
          "text": [
            "Summary saved successfully in /content/drive/MyDrive/updated GENERATED SUMMARY/31358.txt\n"
          ]
        },
        {
          "output_type": "stream",
          "name": "stderr",
          "text": [
            "WARNING:gensim.models.ldamodel:no word id mapping provided; initializing from corpus, assuming identity\n",
            "WARNING:gensim.models.ldamodel:too few updates, training might not converge; consider increasing the number of passes or iterations to improve accuracy\n"
          ]
        },
        {
          "output_type": "stream",
          "name": "stdout",
          "text": [
            "Summary saved successfully in /content/drive/MyDrive/updated GENERATED SUMMARY/31336.txt\n"
          ]
        },
        {
          "output_type": "stream",
          "name": "stderr",
          "text": [
            "WARNING:gensim.models.ldamodel:no word id mapping provided; initializing from corpus, assuming identity\n",
            "WARNING:gensim.models.ldamodel:too few updates, training might not converge; consider increasing the number of passes or iterations to improve accuracy\n"
          ]
        },
        {
          "output_type": "stream",
          "name": "stdout",
          "text": [
            "Summary saved successfully in /content/drive/MyDrive/updated GENERATED SUMMARY/31383.txt\n"
          ]
        },
        {
          "output_type": "stream",
          "name": "stderr",
          "text": [
            "WARNING:gensim.models.ldamodel:no word id mapping provided; initializing from corpus, assuming identity\n",
            "WARNING:gensim.models.ldamodel:too few updates, training might not converge; consider increasing the number of passes or iterations to improve accuracy\n"
          ]
        },
        {
          "output_type": "stream",
          "name": "stdout",
          "text": [
            "Summary saved successfully in /content/drive/MyDrive/updated GENERATED SUMMARY/31363.txt\n"
          ]
        },
        {
          "output_type": "stream",
          "name": "stderr",
          "text": [
            "WARNING:gensim.models.ldamodel:no word id mapping provided; initializing from corpus, assuming identity\n",
            "WARNING:gensim.models.ldamodel:too few updates, training might not converge; consider increasing the number of passes or iterations to improve accuracy\n"
          ]
        },
        {
          "output_type": "stream",
          "name": "stdout",
          "text": [
            "Summary saved successfully in /content/drive/MyDrive/updated GENERATED SUMMARY/31424.txt\n"
          ]
        },
        {
          "output_type": "stream",
          "name": "stderr",
          "text": [
            "WARNING:gensim.models.ldamodel:no word id mapping provided; initializing from corpus, assuming identity\n",
            "WARNING:gensim.models.ldamodel:too few updates, training might not converge; consider increasing the number of passes or iterations to improve accuracy\n"
          ]
        },
        {
          "output_type": "stream",
          "name": "stdout",
          "text": [
            "Summary saved successfully in /content/drive/MyDrive/updated GENERATED SUMMARY/31399.txt\n"
          ]
        },
        {
          "output_type": "stream",
          "name": "stderr",
          "text": [
            "WARNING:gensim.models.ldamodel:no word id mapping provided; initializing from corpus, assuming identity\n",
            "WARNING:gensim.models.ldamodel:too few updates, training might not converge; consider increasing the number of passes or iterations to improve accuracy\n"
          ]
        },
        {
          "output_type": "stream",
          "name": "stdout",
          "text": [
            "Summary saved successfully in /content/drive/MyDrive/updated GENERATED SUMMARY/31452.txt\n"
          ]
        },
        {
          "output_type": "stream",
          "name": "stderr",
          "text": [
            "WARNING:gensim.models.ldamodel:no word id mapping provided; initializing from corpus, assuming identity\n",
            "WARNING:gensim.models.ldamodel:too few updates, training might not converge; consider increasing the number of passes or iterations to improve accuracy\n"
          ]
        },
        {
          "output_type": "stream",
          "name": "stdout",
          "text": [
            "Summary saved successfully in /content/drive/MyDrive/updated GENERATED SUMMARY/31462.txt\n"
          ]
        },
        {
          "output_type": "stream",
          "name": "stderr",
          "text": [
            "WARNING:gensim.models.ldamodel:no word id mapping provided; initializing from corpus, assuming identity\n",
            "WARNING:gensim.models.ldamodel:too few updates, training might not converge; consider increasing the number of passes or iterations to improve accuracy\n"
          ]
        },
        {
          "output_type": "stream",
          "name": "stdout",
          "text": [
            "Summary saved successfully in /content/drive/MyDrive/updated GENERATED SUMMARY/31478.txt\n"
          ]
        },
        {
          "output_type": "stream",
          "name": "stderr",
          "text": [
            "WARNING:gensim.models.ldamodel:no word id mapping provided; initializing from corpus, assuming identity\n",
            "WARNING:gensim.models.ldamodel:too few updates, training might not converge; consider increasing the number of passes or iterations to improve accuracy\n"
          ]
        },
        {
          "output_type": "stream",
          "name": "stdout",
          "text": [
            "Summary saved successfully in /content/drive/MyDrive/updated GENERATED SUMMARY/31440.txt\n"
          ]
        },
        {
          "output_type": "stream",
          "name": "stderr",
          "text": [
            "WARNING:gensim.models.ldamodel:no word id mapping provided; initializing from corpus, assuming identity\n",
            "WARNING:gensim.models.ldamodel:too few updates, training might not converge; consider increasing the number of passes or iterations to improve accuracy\n"
          ]
        },
        {
          "output_type": "stream",
          "name": "stdout",
          "text": [
            "Summary saved successfully in /content/drive/MyDrive/updated GENERATED SUMMARY/31474.txt\n"
          ]
        },
        {
          "output_type": "stream",
          "name": "stderr",
          "text": [
            "WARNING:gensim.models.ldamodel:no word id mapping provided; initializing from corpus, assuming identity\n",
            "WARNING:gensim.models.ldamodel:too few updates, training might not converge; consider increasing the number of passes or iterations to improve accuracy\n"
          ]
        },
        {
          "output_type": "stream",
          "name": "stdout",
          "text": [
            "Summary saved successfully in /content/drive/MyDrive/updated GENERATED SUMMARY/31469.txt\n"
          ]
        },
        {
          "output_type": "stream",
          "name": "stderr",
          "text": [
            "WARNING:gensim.models.ldamodel:no word id mapping provided; initializing from corpus, assuming identity\n",
            "WARNING:gensim.models.ldamodel:too few updates, training might not converge; consider increasing the number of passes or iterations to improve accuracy\n"
          ]
        },
        {
          "output_type": "stream",
          "name": "stdout",
          "text": [
            "Summary saved successfully in /content/drive/MyDrive/updated GENERATED SUMMARY/31484.txt\n"
          ]
        },
        {
          "output_type": "stream",
          "name": "stderr",
          "text": [
            "WARNING:gensim.models.ldamodel:no word id mapping provided; initializing from corpus, assuming identity\n",
            "WARNING:gensim.models.ldamodel:too few updates, training might not converge; consider increasing the number of passes or iterations to improve accuracy\n"
          ]
        },
        {
          "output_type": "stream",
          "name": "stdout",
          "text": [
            "Summary saved successfully in /content/drive/MyDrive/updated GENERATED SUMMARY/31514.txt\n"
          ]
        },
        {
          "output_type": "stream",
          "name": "stderr",
          "text": [
            "WARNING:gensim.models.ldamodel:no word id mapping provided; initializing from corpus, assuming identity\n",
            "WARNING:gensim.models.ldamodel:too few updates, training might not converge; consider increasing the number of passes or iterations to improve accuracy\n"
          ]
        },
        {
          "output_type": "stream",
          "name": "stdout",
          "text": [
            "Summary saved successfully in /content/drive/MyDrive/updated GENERATED SUMMARY/31492.txt\n"
          ]
        },
        {
          "output_type": "stream",
          "name": "stderr",
          "text": [
            "WARNING:gensim.models.ldamodel:no word id mapping provided; initializing from corpus, assuming identity\n",
            "WARNING:gensim.models.ldamodel:too few updates, training might not converge; consider increasing the number of passes or iterations to improve accuracy\n"
          ]
        },
        {
          "output_type": "stream",
          "name": "stdout",
          "text": [
            "Summary saved successfully in /content/drive/MyDrive/updated GENERATED SUMMARY/31540.txt\n"
          ]
        },
        {
          "output_type": "stream",
          "name": "stderr",
          "text": [
            "WARNING:gensim.models.ldamodel:no word id mapping provided; initializing from corpus, assuming identity\n",
            "WARNING:gensim.models.ldamodel:too few updates, training might not converge; consider increasing the number of passes or iterations to improve accuracy\n"
          ]
        },
        {
          "output_type": "stream",
          "name": "stdout",
          "text": [
            "Summary saved successfully in /content/drive/MyDrive/updated GENERATED SUMMARY/31506.txt\n"
          ]
        },
        {
          "output_type": "stream",
          "name": "stderr",
          "text": [
            "WARNING:gensim.models.ldamodel:no word id mapping provided; initializing from corpus, assuming identity\n",
            "WARNING:gensim.models.ldamodel:too few updates, training might not converge; consider increasing the number of passes or iterations to improve accuracy\n"
          ]
        },
        {
          "output_type": "stream",
          "name": "stdout",
          "text": [
            "Summary saved successfully in /content/drive/MyDrive/updated GENERATED SUMMARY/31508.txt\n"
          ]
        },
        {
          "output_type": "stream",
          "name": "stderr",
          "text": [
            "WARNING:gensim.models.ldamodel:no word id mapping provided; initializing from corpus, assuming identity\n",
            "WARNING:gensim.models.ldamodel:too few updates, training might not converge; consider increasing the number of passes or iterations to improve accuracy\n"
          ]
        },
        {
          "output_type": "stream",
          "name": "stdout",
          "text": [
            "Summary saved successfully in /content/drive/MyDrive/updated GENERATED SUMMARY/31512.txt\n"
          ]
        },
        {
          "output_type": "stream",
          "name": "stderr",
          "text": [
            "WARNING:gensim.models.ldamodel:no word id mapping provided; initializing from corpus, assuming identity\n",
            "WARNING:gensim.models.ldamodel:too few updates, training might not converge; consider increasing the number of passes or iterations to improve accuracy\n"
          ]
        },
        {
          "output_type": "stream",
          "name": "stdout",
          "text": [
            "Summary saved successfully in /content/drive/MyDrive/updated GENERATED SUMMARY/31509.txt\n"
          ]
        },
        {
          "output_type": "stream",
          "name": "stderr",
          "text": [
            "WARNING:gensim.models.ldamodel:no word id mapping provided; initializing from corpus, assuming identity\n",
            "WARNING:gensim.models.ldamodel:too few updates, training might not converge; consider increasing the number of passes or iterations to improve accuracy\n"
          ]
        },
        {
          "output_type": "stream",
          "name": "stdout",
          "text": [
            "Summary saved successfully in /content/drive/MyDrive/updated GENERATED SUMMARY/31517.txt\n"
          ]
        },
        {
          "output_type": "stream",
          "name": "stderr",
          "text": [
            "WARNING:gensim.models.ldamodel:no word id mapping provided; initializing from corpus, assuming identity\n",
            "WARNING:gensim.models.ldamodel:too few updates, training might not converge; consider increasing the number of passes or iterations to improve accuracy\n"
          ]
        },
        {
          "output_type": "stream",
          "name": "stdout",
          "text": [
            "Summary saved successfully in /content/drive/MyDrive/updated GENERATED SUMMARY/31513.txt\n"
          ]
        },
        {
          "output_type": "stream",
          "name": "stderr",
          "text": [
            "WARNING:gensim.models.ldamodel:no word id mapping provided; initializing from corpus, assuming identity\n",
            "WARNING:gensim.models.ldamodel:too few updates, training might not converge; consider increasing the number of passes or iterations to improve accuracy\n"
          ]
        },
        {
          "output_type": "stream",
          "name": "stdout",
          "text": [
            "Summary saved successfully in /content/drive/MyDrive/updated GENERATED SUMMARY/31632.txt\n"
          ]
        },
        {
          "output_type": "stream",
          "name": "stderr",
          "text": [
            "WARNING:gensim.models.ldamodel:no word id mapping provided; initializing from corpus, assuming identity\n",
            "WARNING:gensim.models.ldamodel:too few updates, training might not converge; consider increasing the number of passes or iterations to improve accuracy\n"
          ]
        },
        {
          "output_type": "stream",
          "name": "stdout",
          "text": [
            "Summary saved successfully in /content/drive/MyDrive/updated GENERATED SUMMARY/31546.txt\n"
          ]
        },
        {
          "output_type": "stream",
          "name": "stderr",
          "text": [
            "WARNING:gensim.models.ldamodel:no word id mapping provided; initializing from corpus, assuming identity\n",
            "WARNING:gensim.models.ldamodel:too few updates, training might not converge; consider increasing the number of passes or iterations to improve accuracy\n"
          ]
        },
        {
          "output_type": "stream",
          "name": "stdout",
          "text": [
            "Summary saved successfully in /content/drive/MyDrive/updated GENERATED SUMMARY/31567.txt\n"
          ]
        },
        {
          "output_type": "stream",
          "name": "stderr",
          "text": [
            "WARNING:gensim.models.ldamodel:no word id mapping provided; initializing from corpus, assuming identity\n",
            "WARNING:gensim.models.ldamodel:too few updates, training might not converge; consider increasing the number of passes or iterations to improve accuracy\n"
          ]
        },
        {
          "output_type": "stream",
          "name": "stdout",
          "text": [
            "Summary saved successfully in /content/drive/MyDrive/updated GENERATED SUMMARY/31573.txt\n"
          ]
        },
        {
          "output_type": "stream",
          "name": "stderr",
          "text": [
            "WARNING:gensim.models.ldamodel:no word id mapping provided; initializing from corpus, assuming identity\n",
            "WARNING:gensim.models.ldamodel:too few updates, training might not converge; consider increasing the number of passes or iterations to improve accuracy\n"
          ]
        },
        {
          "output_type": "stream",
          "name": "stdout",
          "text": [
            "Summary saved successfully in /content/drive/MyDrive/updated GENERATED SUMMARY/31568.txt\n"
          ]
        },
        {
          "output_type": "stream",
          "name": "stderr",
          "text": [
            "WARNING:gensim.models.ldamodel:no word id mapping provided; initializing from corpus, assuming identity\n",
            "WARNING:gensim.models.ldamodel:too few updates, training might not converge; consider increasing the number of passes or iterations to improve accuracy\n"
          ]
        },
        {
          "output_type": "stream",
          "name": "stdout",
          "text": [
            "Summary saved successfully in /content/drive/MyDrive/updated GENERATED SUMMARY/31589.txt\n"
          ]
        },
        {
          "output_type": "stream",
          "name": "stderr",
          "text": [
            "WARNING:gensim.models.ldamodel:no word id mapping provided; initializing from corpus, assuming identity\n",
            "WARNING:gensim.models.ldamodel:too few updates, training might not converge; consider increasing the number of passes or iterations to improve accuracy\n"
          ]
        },
        {
          "output_type": "stream",
          "name": "stdout",
          "text": [
            "Summary saved successfully in /content/drive/MyDrive/updated GENERATED SUMMARY/31601.txt\n"
          ]
        },
        {
          "output_type": "stream",
          "name": "stderr",
          "text": [
            "WARNING:gensim.models.ldamodel:no word id mapping provided; initializing from corpus, assuming identity\n",
            "WARNING:gensim.models.ldamodel:too few updates, training might not converge; consider increasing the number of passes or iterations to improve accuracy\n"
          ]
        },
        {
          "output_type": "stream",
          "name": "stdout",
          "text": [
            "Summary saved successfully in /content/drive/MyDrive/updated GENERATED SUMMARY/31595.txt\n"
          ]
        },
        {
          "output_type": "stream",
          "name": "stderr",
          "text": [
            "WARNING:gensim.models.ldamodel:no word id mapping provided; initializing from corpus, assuming identity\n",
            "WARNING:gensim.models.ldamodel:too few updates, training might not converge; consider increasing the number of passes or iterations to improve accuracy\n"
          ]
        },
        {
          "output_type": "stream",
          "name": "stdout",
          "text": [
            "Summary saved successfully in /content/drive/MyDrive/updated GENERATED SUMMARY/31604.txt\n"
          ]
        },
        {
          "output_type": "stream",
          "name": "stderr",
          "text": [
            "WARNING:gensim.models.ldamodel:no word id mapping provided; initializing from corpus, assuming identity\n",
            "WARNING:gensim.models.ldamodel:too few updates, training might not converge; consider increasing the number of passes or iterations to improve accuracy\n"
          ]
        },
        {
          "output_type": "stream",
          "name": "stdout",
          "text": [
            "Summary saved successfully in /content/drive/MyDrive/updated GENERATED SUMMARY/31608.txt\n"
          ]
        },
        {
          "output_type": "stream",
          "name": "stderr",
          "text": [
            "WARNING:gensim.models.ldamodel:no word id mapping provided; initializing from corpus, assuming identity\n",
            "WARNING:gensim.models.ldamodel:too few updates, training might not converge; consider increasing the number of passes or iterations to improve accuracy\n"
          ]
        },
        {
          "output_type": "stream",
          "name": "stdout",
          "text": [
            "Summary saved successfully in /content/drive/MyDrive/updated GENERATED SUMMARY/31610.txt\n"
          ]
        },
        {
          "output_type": "stream",
          "name": "stderr",
          "text": [
            "WARNING:gensim.models.ldamodel:no word id mapping provided; initializing from corpus, assuming identity\n",
            "WARNING:gensim.models.ldamodel:too few updates, training might not converge; consider increasing the number of passes or iterations to improve accuracy\n"
          ]
        },
        {
          "output_type": "stream",
          "name": "stdout",
          "text": [
            "Summary saved successfully in /content/drive/MyDrive/updated GENERATED SUMMARY/31617.txt\n"
          ]
        },
        {
          "output_type": "stream",
          "name": "stderr",
          "text": [
            "WARNING:gensim.models.ldamodel:no word id mapping provided; initializing from corpus, assuming identity\n",
            "WARNING:gensim.models.ldamodel:too few updates, training might not converge; consider increasing the number of passes or iterations to improve accuracy\n"
          ]
        },
        {
          "output_type": "stream",
          "name": "stdout",
          "text": [
            "Summary saved successfully in /content/drive/MyDrive/updated GENERATED SUMMARY/31618.txt\n"
          ]
        },
        {
          "output_type": "stream",
          "name": "stderr",
          "text": [
            "WARNING:gensim.models.ldamodel:no word id mapping provided; initializing from corpus, assuming identity\n",
            "WARNING:gensim.models.ldamodel:too few updates, training might not converge; consider increasing the number of passes or iterations to improve accuracy\n"
          ]
        },
        {
          "output_type": "stream",
          "name": "stdout",
          "text": [
            "Summary saved successfully in /content/drive/MyDrive/updated GENERATED SUMMARY/31623.txt\n"
          ]
        },
        {
          "output_type": "stream",
          "name": "stderr",
          "text": [
            "WARNING:gensim.models.ldamodel:no word id mapping provided; initializing from corpus, assuming identity\n",
            "WARNING:gensim.models.ldamodel:too few updates, training might not converge; consider increasing the number of passes or iterations to improve accuracy\n"
          ]
        },
        {
          "output_type": "stream",
          "name": "stdout",
          "text": [
            "Summary saved successfully in /content/drive/MyDrive/updated GENERATED SUMMARY/31620.txt\n"
          ]
        },
        {
          "output_type": "stream",
          "name": "stderr",
          "text": [
            "WARNING:gensim.models.ldamodel:no word id mapping provided; initializing from corpus, assuming identity\n",
            "WARNING:gensim.models.ldamodel:too few updates, training might not converge; consider increasing the number of passes or iterations to improve accuracy\n"
          ]
        },
        {
          "output_type": "stream",
          "name": "stdout",
          "text": [
            "Summary saved successfully in /content/drive/MyDrive/updated GENERATED SUMMARY/31628.txt\n"
          ]
        },
        {
          "output_type": "stream",
          "name": "stderr",
          "text": [
            "WARNING:gensim.models.ldamodel:no word id mapping provided; initializing from corpus, assuming identity\n",
            "WARNING:gensim.models.ldamodel:too few updates, training might not converge; consider increasing the number of passes or iterations to improve accuracy\n"
          ]
        },
        {
          "output_type": "stream",
          "name": "stdout",
          "text": [
            "Summary saved successfully in /content/drive/MyDrive/updated GENERATED SUMMARY/31631.txt\n"
          ]
        },
        {
          "output_type": "stream",
          "name": "stderr",
          "text": [
            "WARNING:gensim.models.ldamodel:no word id mapping provided; initializing from corpus, assuming identity\n",
            "WARNING:gensim.models.ldamodel:too few updates, training might not converge; consider increasing the number of passes or iterations to improve accuracy\n"
          ]
        },
        {
          "output_type": "stream",
          "name": "stdout",
          "text": [
            "Summary saved successfully in /content/drive/MyDrive/updated GENERATED SUMMARY/31685.txt\n"
          ]
        },
        {
          "output_type": "stream",
          "name": "stderr",
          "text": [
            "WARNING:gensim.models.ldamodel:no word id mapping provided; initializing from corpus, assuming identity\n",
            "WARNING:gensim.models.ldamodel:too few updates, training might not converge; consider increasing the number of passes or iterations to improve accuracy\n"
          ]
        },
        {
          "output_type": "stream",
          "name": "stdout",
          "text": [
            "Summary saved successfully in /content/drive/MyDrive/updated GENERATED SUMMARY/31633.txt\n"
          ]
        },
        {
          "output_type": "stream",
          "name": "stderr",
          "text": [
            "WARNING:gensim.models.ldamodel:no word id mapping provided; initializing from corpus, assuming identity\n",
            "WARNING:gensim.models.ldamodel:too few updates, training might not converge; consider increasing the number of passes or iterations to improve accuracy\n"
          ]
        },
        {
          "output_type": "stream",
          "name": "stdout",
          "text": [
            "Summary saved successfully in /content/drive/MyDrive/updated GENERATED SUMMARY/31634.txt\n"
          ]
        },
        {
          "output_type": "stream",
          "name": "stderr",
          "text": [
            "WARNING:gensim.models.ldamodel:no word id mapping provided; initializing from corpus, assuming identity\n",
            "WARNING:gensim.models.ldamodel:too few updates, training might not converge; consider increasing the number of passes or iterations to improve accuracy\n"
          ]
        },
        {
          "output_type": "stream",
          "name": "stdout",
          "text": [
            "Summary saved successfully in /content/drive/MyDrive/updated GENERATED SUMMARY/31648.txt\n"
          ]
        },
        {
          "output_type": "stream",
          "name": "stderr",
          "text": [
            "WARNING:gensim.models.ldamodel:no word id mapping provided; initializing from corpus, assuming identity\n",
            "WARNING:gensim.models.ldamodel:too few updates, training might not converge; consider increasing the number of passes or iterations to improve accuracy\n"
          ]
        },
        {
          "output_type": "stream",
          "name": "stdout",
          "text": [
            "Summary saved successfully in /content/drive/MyDrive/updated GENERATED SUMMARY/31646.txt\n"
          ]
        },
        {
          "output_type": "stream",
          "name": "stderr",
          "text": [
            "WARNING:gensim.models.ldamodel:no word id mapping provided; initializing from corpus, assuming identity\n",
            "WARNING:gensim.models.ldamodel:too few updates, training might not converge; consider increasing the number of passes or iterations to improve accuracy\n"
          ]
        },
        {
          "output_type": "stream",
          "name": "stdout",
          "text": [
            "Summary saved successfully in /content/drive/MyDrive/updated GENERATED SUMMARY/31655.txt\n"
          ]
        },
        {
          "output_type": "stream",
          "name": "stderr",
          "text": [
            "WARNING:gensim.models.ldamodel:no word id mapping provided; initializing from corpus, assuming identity\n",
            "WARNING:gensim.models.ldamodel:too few updates, training might not converge; consider increasing the number of passes or iterations to improve accuracy\n"
          ]
        },
        {
          "output_type": "stream",
          "name": "stdout",
          "text": [
            "Summary saved successfully in /content/drive/MyDrive/updated GENERATED SUMMARY/31654.txt\n"
          ]
        },
        {
          "output_type": "stream",
          "name": "stderr",
          "text": [
            "WARNING:gensim.models.ldamodel:no word id mapping provided; initializing from corpus, assuming identity\n",
            "WARNING:gensim.models.ldamodel:too few updates, training might not converge; consider increasing the number of passes or iterations to improve accuracy\n",
            "WARNING:gensim.models.ldamodel:no word id mapping provided; initializing from corpus, assuming identity\n",
            "WARNING:gensim.models.ldamodel:too few updates, training might not converge; consider increasing the number of passes or iterations to improve accuracy\n"
          ]
        },
        {
          "output_type": "stream",
          "name": "stdout",
          "text": [
            "Summary saved successfully in /content/drive/MyDrive/updated GENERATED SUMMARY/31650.txt\n",
            "Summary saved successfully in /content/drive/MyDrive/updated GENERATED SUMMARY/31659.txt\n"
          ]
        },
        {
          "output_type": "stream",
          "name": "stderr",
          "text": [
            "WARNING:gensim.models.ldamodel:no word id mapping provided; initializing from corpus, assuming identity\n",
            "WARNING:gensim.models.ldamodel:too few updates, training might not converge; consider increasing the number of passes or iterations to improve accuracy\n"
          ]
        },
        {
          "output_type": "stream",
          "name": "stdout",
          "text": [
            "Summary saved successfully in /content/drive/MyDrive/updated GENERATED SUMMARY/31661.txt\n"
          ]
        },
        {
          "output_type": "stream",
          "name": "stderr",
          "text": [
            "WARNING:gensim.models.ldamodel:no word id mapping provided; initializing from corpus, assuming identity\n",
            "WARNING:gensim.models.ldamodel:too few updates, training might not converge; consider increasing the number of passes or iterations to improve accuracy\n"
          ]
        },
        {
          "output_type": "stream",
          "name": "stdout",
          "text": [
            "Summary saved successfully in /content/drive/MyDrive/updated GENERATED SUMMARY/31664.txt\n"
          ]
        },
        {
          "output_type": "stream",
          "name": "stderr",
          "text": [
            "WARNING:gensim.models.ldamodel:no word id mapping provided; initializing from corpus, assuming identity\n",
            "WARNING:gensim.models.ldamodel:too few updates, training might not converge; consider increasing the number of passes or iterations to improve accuracy\n"
          ]
        },
        {
          "output_type": "stream",
          "name": "stdout",
          "text": [
            "Summary saved successfully in /content/drive/MyDrive/updated GENERATED SUMMARY/31677.txt\n"
          ]
        },
        {
          "output_type": "stream",
          "name": "stderr",
          "text": [
            "WARNING:gensim.models.ldamodel:no word id mapping provided; initializing from corpus, assuming identity\n",
            "WARNING:gensim.models.ldamodel:too few updates, training might not converge; consider increasing the number of passes or iterations to improve accuracy\n"
          ]
        },
        {
          "output_type": "stream",
          "name": "stdout",
          "text": [
            "Summary saved successfully in /content/drive/MyDrive/updated GENERATED SUMMARY/31678.txt\n"
          ]
        },
        {
          "output_type": "stream",
          "name": "stderr",
          "text": [
            "WARNING:gensim.models.ldamodel:no word id mapping provided; initializing from corpus, assuming identity\n",
            "WARNING:gensim.models.ldamodel:too few updates, training might not converge; consider increasing the number of passes or iterations to improve accuracy\n"
          ]
        },
        {
          "output_type": "stream",
          "name": "stdout",
          "text": [
            "Summary saved successfully in /content/drive/MyDrive/updated GENERATED SUMMARY/31699.txt\n"
          ]
        },
        {
          "output_type": "stream",
          "name": "stderr",
          "text": [
            "WARNING:gensim.models.ldamodel:no word id mapping provided; initializing from corpus, assuming identity\n",
            "WARNING:gensim.models.ldamodel:too few updates, training might not converge; consider increasing the number of passes or iterations to improve accuracy\n"
          ]
        },
        {
          "output_type": "stream",
          "name": "stdout",
          "text": [
            "Summary saved successfully in /content/drive/MyDrive/updated GENERATED SUMMARY/31681.txt\n"
          ]
        },
        {
          "output_type": "stream",
          "name": "stderr",
          "text": [
            "WARNING:gensim.models.ldamodel:no word id mapping provided; initializing from corpus, assuming identity\n",
            "WARNING:gensim.models.ldamodel:too few updates, training might not converge; consider increasing the number of passes or iterations to improve accuracy\n"
          ]
        },
        {
          "output_type": "stream",
          "name": "stdout",
          "text": [
            "Summary saved successfully in /content/drive/MyDrive/updated GENERATED SUMMARY/31755.txt\n"
          ]
        },
        {
          "output_type": "stream",
          "name": "stderr",
          "text": [
            "WARNING:gensim.models.ldamodel:no word id mapping provided; initializing from corpus, assuming identity\n",
            "WARNING:gensim.models.ldamodel:too few updates, training might not converge; consider increasing the number of passes or iterations to improve accuracy\n"
          ]
        },
        {
          "output_type": "stream",
          "name": "stdout",
          "text": [
            "Summary saved successfully in /content/drive/MyDrive/updated GENERATED SUMMARY/31705.txt\n"
          ]
        },
        {
          "output_type": "stream",
          "name": "stderr",
          "text": [
            "WARNING:gensim.models.ldamodel:no word id mapping provided; initializing from corpus, assuming identity\n",
            "WARNING:gensim.models.ldamodel:too few updates, training might not converge; consider increasing the number of passes or iterations to improve accuracy\n"
          ]
        },
        {
          "output_type": "stream",
          "name": "stdout",
          "text": [
            "Summary saved successfully in /content/drive/MyDrive/updated GENERATED SUMMARY/31769.txt\n"
          ]
        },
        {
          "output_type": "stream",
          "name": "stderr",
          "text": [
            "WARNING:gensim.models.ldamodel:no word id mapping provided; initializing from corpus, assuming identity\n",
            "WARNING:gensim.models.ldamodel:too few updates, training might not converge; consider increasing the number of passes or iterations to improve accuracy\n"
          ]
        },
        {
          "output_type": "stream",
          "name": "stdout",
          "text": [
            "Summary saved successfully in /content/drive/MyDrive/updated GENERATED SUMMARY/31757.txt\n"
          ]
        },
        {
          "output_type": "stream",
          "name": "stderr",
          "text": [
            "WARNING:gensim.models.ldamodel:no word id mapping provided; initializing from corpus, assuming identity\n",
            "WARNING:gensim.models.ldamodel:too few updates, training might not converge; consider increasing the number of passes or iterations to improve accuracy\n"
          ]
        },
        {
          "output_type": "stream",
          "name": "stdout",
          "text": [
            "Summary saved successfully in /content/drive/MyDrive/updated GENERATED SUMMARY/31766.txt\n"
          ]
        },
        {
          "output_type": "stream",
          "name": "stderr",
          "text": [
            "WARNING:gensim.models.ldamodel:no word id mapping provided; initializing from corpus, assuming identity\n",
            "WARNING:gensim.models.ldamodel:too few updates, training might not converge; consider increasing the number of passes or iterations to improve accuracy\n",
            "WARNING:gensim.models.ldamodel:no word id mapping provided; initializing from corpus, assuming identity\n"
          ]
        },
        {
          "output_type": "stream",
          "name": "stdout",
          "text": [
            "Summary saved successfully in /content/drive/MyDrive/updated GENERATED SUMMARY/31811.txt\n"
          ]
        },
        {
          "output_type": "stream",
          "name": "stderr",
          "text": [
            "WARNING:gensim.models.ldamodel:too few updates, training might not converge; consider increasing the number of passes or iterations to improve accuracy\n"
          ]
        },
        {
          "output_type": "stream",
          "name": "stdout",
          "text": [
            "Summary saved successfully in /content/drive/MyDrive/updated GENERATED SUMMARY/31794.txt\n"
          ]
        },
        {
          "output_type": "stream",
          "name": "stderr",
          "text": [
            "WARNING:gensim.models.ldamodel:no word id mapping provided; initializing from corpus, assuming identity\n",
            "WARNING:gensim.models.ldamodel:too few updates, training might not converge; consider increasing the number of passes or iterations to improve accuracy\n"
          ]
        },
        {
          "output_type": "stream",
          "name": "stdout",
          "text": [
            "Summary saved successfully in /content/drive/MyDrive/updated GENERATED SUMMARY/31784.txt\n"
          ]
        },
        {
          "output_type": "stream",
          "name": "stderr",
          "text": [
            "WARNING:gensim.models.ldamodel:no word id mapping provided; initializing from corpus, assuming identity\n",
            "WARNING:gensim.models.ldamodel:too few updates, training might not converge; consider increasing the number of passes or iterations to improve accuracy\n"
          ]
        },
        {
          "output_type": "stream",
          "name": "stdout",
          "text": [
            "Summary saved successfully in /content/drive/MyDrive/updated GENERATED SUMMARY/31817.txt\n"
          ]
        },
        {
          "output_type": "stream",
          "name": "stderr",
          "text": [
            "WARNING:gensim.models.ldamodel:no word id mapping provided; initializing from corpus, assuming identity\n",
            "WARNING:gensim.models.ldamodel:too few updates, training might not converge; consider increasing the number of passes or iterations to improve accuracy\n"
          ]
        },
        {
          "output_type": "stream",
          "name": "stdout",
          "text": [
            "Summary saved successfully in /content/drive/MyDrive/updated GENERATED SUMMARY/31846.txt\n"
          ]
        },
        {
          "output_type": "stream",
          "name": "stderr",
          "text": [
            "WARNING:gensim.models.ldamodel:no word id mapping provided; initializing from corpus, assuming identity\n",
            "WARNING:gensim.models.ldamodel:too few updates, training might not converge; consider increasing the number of passes or iterations to improve accuracy\n"
          ]
        },
        {
          "output_type": "stream",
          "name": "stdout",
          "text": [
            "Summary saved successfully in /content/drive/MyDrive/updated GENERATED SUMMARY/31824.txt\n"
          ]
        },
        {
          "output_type": "stream",
          "name": "stderr",
          "text": [
            "WARNING:gensim.models.ldamodel:no word id mapping provided; initializing from corpus, assuming identity\n",
            "WARNING:gensim.models.ldamodel:too few updates, training might not converge; consider increasing the number of passes or iterations to improve accuracy\n"
          ]
        },
        {
          "output_type": "stream",
          "name": "stdout",
          "text": [
            "Summary saved successfully in /content/drive/MyDrive/updated GENERATED SUMMARY/31828.txt\n"
          ]
        },
        {
          "output_type": "stream",
          "name": "stderr",
          "text": [
            "WARNING:gensim.models.ldamodel:no word id mapping provided; initializing from corpus, assuming identity\n",
            "WARNING:gensim.models.ldamodel:too few updates, training might not converge; consider increasing the number of passes or iterations to improve accuracy\n"
          ]
        },
        {
          "output_type": "stream",
          "name": "stdout",
          "text": [
            "Summary saved successfully in /content/drive/MyDrive/updated GENERATED SUMMARY/31831.txt\n"
          ]
        },
        {
          "output_type": "stream",
          "name": "stderr",
          "text": [
            "WARNING:gensim.models.ldamodel:no word id mapping provided; initializing from corpus, assuming identity\n",
            "WARNING:gensim.models.ldamodel:too few updates, training might not converge; consider increasing the number of passes or iterations to improve accuracy\n"
          ]
        },
        {
          "output_type": "stream",
          "name": "stdout",
          "text": [
            "Summary saved successfully in /content/drive/MyDrive/updated GENERATED SUMMARY/31834.txt\n"
          ]
        },
        {
          "output_type": "stream",
          "name": "stderr",
          "text": [
            "WARNING:gensim.models.ldamodel:no word id mapping provided; initializing from corpus, assuming identity\n",
            "WARNING:gensim.models.ldamodel:too few updates, training might not converge; consider increasing the number of passes or iterations to improve accuracy\n"
          ]
        },
        {
          "output_type": "stream",
          "name": "stdout",
          "text": [
            "Summary saved successfully in /content/drive/MyDrive/updated GENERATED SUMMARY/31839.txt\n"
          ]
        },
        {
          "output_type": "stream",
          "name": "stderr",
          "text": [
            "WARNING:gensim.models.ldamodel:no word id mapping provided; initializing from corpus, assuming identity\n",
            "WARNING:gensim.models.ldamodel:too few updates, training might not converge; consider increasing the number of passes or iterations to improve accuracy\n"
          ]
        },
        {
          "output_type": "stream",
          "name": "stdout",
          "text": [
            "Summary saved successfully in /content/drive/MyDrive/updated GENERATED SUMMARY/31844.txt\n"
          ]
        },
        {
          "output_type": "stream",
          "name": "stderr",
          "text": [
            "WARNING:gensim.models.ldamodel:no word id mapping provided; initializing from corpus, assuming identity\n",
            "WARNING:gensim.models.ldamodel:too few updates, training might not converge; consider increasing the number of passes or iterations to improve accuracy\n"
          ]
        },
        {
          "output_type": "stream",
          "name": "stdout",
          "text": [
            "Summary saved successfully in /content/drive/MyDrive/updated GENERATED SUMMARY/31843.txt\n"
          ]
        },
        {
          "output_type": "stream",
          "name": "stderr",
          "text": [
            "WARNING:gensim.models.ldamodel:no word id mapping provided; initializing from corpus, assuming identity\n",
            "WARNING:gensim.models.ldamodel:too few updates, training might not converge; consider increasing the number of passes or iterations to improve accuracy\n"
          ]
        },
        {
          "output_type": "stream",
          "name": "stdout",
          "text": [
            "Summary saved successfully in /content/drive/MyDrive/updated GENERATED SUMMARY/31850.txt\n"
          ]
        },
        {
          "output_type": "stream",
          "name": "stderr",
          "text": [
            "WARNING:gensim.models.ldamodel:no word id mapping provided; initializing from corpus, assuming identity\n",
            "WARNING:gensim.models.ldamodel:too few updates, training might not converge; consider increasing the number of passes or iterations to improve accuracy\n"
          ]
        },
        {
          "output_type": "stream",
          "name": "stdout",
          "text": [
            "Summary saved successfully in /content/drive/MyDrive/updated GENERATED SUMMARY/31851.txt\n"
          ]
        },
        {
          "output_type": "stream",
          "name": "stderr",
          "text": [
            "WARNING:gensim.models.ldamodel:no word id mapping provided; initializing from corpus, assuming identity\n",
            "WARNING:gensim.models.ldamodel:too few updates, training might not converge; consider increasing the number of passes or iterations to improve accuracy\n"
          ]
        },
        {
          "output_type": "stream",
          "name": "stdout",
          "text": [
            "Summary saved successfully in /content/drive/MyDrive/updated GENERATED SUMMARY/31854.txt\n"
          ]
        },
        {
          "output_type": "stream",
          "name": "stderr",
          "text": [
            "WARNING:gensim.models.ldamodel:no word id mapping provided; initializing from corpus, assuming identity\n",
            "WARNING:gensim.models.ldamodel:too few updates, training might not converge; consider increasing the number of passes or iterations to improve accuracy\n"
          ]
        },
        {
          "output_type": "stream",
          "name": "stdout",
          "text": [
            "Summary saved successfully in /content/drive/MyDrive/updated GENERATED SUMMARY/31857.txt\n"
          ]
        },
        {
          "output_type": "stream",
          "name": "stderr",
          "text": [
            "WARNING:gensim.models.ldamodel:no word id mapping provided; initializing from corpus, assuming identity\n",
            "WARNING:gensim.models.ldamodel:too few updates, training might not converge; consider increasing the number of passes or iterations to improve accuracy\n"
          ]
        },
        {
          "output_type": "stream",
          "name": "stdout",
          "text": [
            "Summary saved successfully in /content/drive/MyDrive/updated GENERATED SUMMARY/31855.txt\n"
          ]
        },
        {
          "output_type": "stream",
          "name": "stderr",
          "text": [
            "WARNING:gensim.models.ldamodel:no word id mapping provided; initializing from corpus, assuming identity\n",
            "WARNING:gensim.models.ldamodel:too few updates, training might not converge; consider increasing the number of passes or iterations to improve accuracy\n"
          ]
        },
        {
          "output_type": "stream",
          "name": "stdout",
          "text": [
            "Summary saved successfully in /content/drive/MyDrive/updated GENERATED SUMMARY/31866.txt\n"
          ]
        },
        {
          "output_type": "stream",
          "name": "stderr",
          "text": [
            "WARNING:gensim.models.ldamodel:no word id mapping provided; initializing from corpus, assuming identity\n",
            "WARNING:gensim.models.ldamodel:too few updates, training might not converge; consider increasing the number of passes or iterations to improve accuracy\n"
          ]
        },
        {
          "output_type": "stream",
          "name": "stdout",
          "text": [
            "Summary saved successfully in /content/drive/MyDrive/updated GENERATED SUMMARY/31879.txt\n"
          ]
        },
        {
          "output_type": "stream",
          "name": "stderr",
          "text": [
            "WARNING:gensim.models.ldamodel:no word id mapping provided; initializing from corpus, assuming identity\n",
            "WARNING:gensim.models.ldamodel:too few updates, training might not converge; consider increasing the number of passes or iterations to improve accuracy\n",
            "WARNING:gensim.models.ldamodel:no word id mapping provided; initializing from corpus, assuming identity\n",
            "WARNING:gensim.models.ldamodel:too few updates, training might not converge; consider increasing the number of passes or iterations to improve accuracy\n"
          ]
        },
        {
          "output_type": "stream",
          "name": "stdout",
          "text": [
            "Summary saved successfully in /content/drive/MyDrive/updated GENERATED SUMMARY/31872.txt\n",
            "Summary saved successfully in /content/drive/MyDrive/updated GENERATED SUMMARY/31889.txt\n"
          ]
        },
        {
          "output_type": "stream",
          "name": "stderr",
          "text": [
            "WARNING:gensim.models.ldamodel:no word id mapping provided; initializing from corpus, assuming identity\n",
            "WARNING:gensim.models.ldamodel:too few updates, training might not converge; consider increasing the number of passes or iterations to improve accuracy\n"
          ]
        },
        {
          "output_type": "stream",
          "name": "stdout",
          "text": [
            "Summary saved successfully in /content/drive/MyDrive/updated GENERATED SUMMARY/31914.txt\n"
          ]
        },
        {
          "output_type": "stream",
          "name": "stderr",
          "text": [
            "WARNING:gensim.models.ldamodel:no word id mapping provided; initializing from corpus, assuming identity\n",
            "WARNING:gensim.models.ldamodel:too few updates, training might not converge; consider increasing the number of passes or iterations to improve accuracy\n"
          ]
        },
        {
          "output_type": "stream",
          "name": "stdout",
          "text": [
            "Summary saved successfully in /content/drive/MyDrive/updated GENERATED SUMMARY/31926.txt\n"
          ]
        },
        {
          "output_type": "stream",
          "name": "stderr",
          "text": [
            "WARNING:gensim.models.ldamodel:no word id mapping provided; initializing from corpus, assuming identity\n",
            "WARNING:gensim.models.ldamodel:too few updates, training might not converge; consider increasing the number of passes or iterations to improve accuracy\n"
          ]
        },
        {
          "output_type": "stream",
          "name": "stdout",
          "text": [
            "Summary saved successfully in /content/drive/MyDrive/updated GENERATED SUMMARY/31939.txt\n"
          ]
        },
        {
          "output_type": "stream",
          "name": "stderr",
          "text": [
            "WARNING:gensim.models.ldamodel:no word id mapping provided; initializing from corpus, assuming identity\n",
            "WARNING:gensim.models.ldamodel:too few updates, training might not converge; consider increasing the number of passes or iterations to improve accuracy\n"
          ]
        },
        {
          "output_type": "stream",
          "name": "stdout",
          "text": [
            "Summary saved successfully in /content/drive/MyDrive/updated GENERATED SUMMARY/31938.txt\n"
          ]
        },
        {
          "output_type": "stream",
          "name": "stderr",
          "text": [
            "WARNING:gensim.models.ldamodel:no word id mapping provided; initializing from corpus, assuming identity\n",
            "WARNING:gensim.models.ldamodel:too few updates, training might not converge; consider increasing the number of passes or iterations to improve accuracy\n"
          ]
        },
        {
          "output_type": "stream",
          "name": "stdout",
          "text": [
            "Summary saved successfully in /content/drive/MyDrive/updated GENERATED SUMMARY/31940.txt\n"
          ]
        },
        {
          "output_type": "stream",
          "name": "stderr",
          "text": [
            "WARNING:gensim.models.ldamodel:no word id mapping provided; initializing from corpus, assuming identity\n",
            "WARNING:gensim.models.ldamodel:too few updates, training might not converge; consider increasing the number of passes or iterations to improve accuracy\n"
          ]
        },
        {
          "output_type": "stream",
          "name": "stdout",
          "text": [
            "Summary saved successfully in /content/drive/MyDrive/updated GENERATED SUMMARY/31948.txt\n"
          ]
        },
        {
          "output_type": "stream",
          "name": "stderr",
          "text": [
            "WARNING:gensim.models.ldamodel:no word id mapping provided; initializing from corpus, assuming identity\n",
            "WARNING:gensim.models.ldamodel:too few updates, training might not converge; consider increasing the number of passes or iterations to improve accuracy\n",
            "WARNING:gensim.models.ldamodel:no word id mapping provided; initializing from corpus, assuming identity\n"
          ]
        },
        {
          "output_type": "stream",
          "name": "stdout",
          "text": [
            "Summary saved successfully in /content/drive/MyDrive/updated GENERATED SUMMARY/31950.txt\n"
          ]
        },
        {
          "output_type": "stream",
          "name": "stderr",
          "text": [
            "WARNING:gensim.models.ldamodel:too few updates, training might not converge; consider increasing the number of passes or iterations to improve accuracy\n"
          ]
        },
        {
          "output_type": "stream",
          "name": "stdout",
          "text": [
            "Summary saved successfully in /content/drive/MyDrive/updated GENERATED SUMMARY/31942.txt\n"
          ]
        },
        {
          "output_type": "stream",
          "name": "stderr",
          "text": [
            "WARNING:gensim.models.ldamodel:no word id mapping provided; initializing from corpus, assuming identity\n",
            "WARNING:gensim.models.ldamodel:too few updates, training might not converge; consider increasing the number of passes or iterations to improve accuracy\n"
          ]
        },
        {
          "output_type": "stream",
          "name": "stdout",
          "text": [
            "Summary saved successfully in /content/drive/MyDrive/updated GENERATED SUMMARY/31955.txt\n"
          ]
        },
        {
          "output_type": "stream",
          "name": "stderr",
          "text": [
            "WARNING:gensim.models.ldamodel:no word id mapping provided; initializing from corpus, assuming identity\n",
            "WARNING:gensim.models.ldamodel:too few updates, training might not converge; consider increasing the number of passes or iterations to improve accuracy\n"
          ]
        },
        {
          "output_type": "stream",
          "name": "stdout",
          "text": [
            "Summary saved successfully in /content/drive/MyDrive/updated GENERATED SUMMARY/31959.txt\n"
          ]
        },
        {
          "output_type": "stream",
          "name": "stderr",
          "text": [
            "WARNING:gensim.models.ldamodel:no word id mapping provided; initializing from corpus, assuming identity\n",
            "WARNING:gensim.models.ldamodel:too few updates, training might not converge; consider increasing the number of passes or iterations to improve accuracy\n"
          ]
        },
        {
          "output_type": "stream",
          "name": "stdout",
          "text": [
            "Summary saved successfully in /content/drive/MyDrive/updated GENERATED SUMMARY/32025.txt\n"
          ]
        },
        {
          "output_type": "stream",
          "name": "stderr",
          "text": [
            "WARNING:gensim.models.ldamodel:no word id mapping provided; initializing from corpus, assuming identity\n",
            "WARNING:gensim.models.ldamodel:too few updates, training might not converge; consider increasing the number of passes or iterations to improve accuracy\n"
          ]
        },
        {
          "output_type": "stream",
          "name": "stdout",
          "text": [
            "Summary saved successfully in /content/drive/MyDrive/updated GENERATED SUMMARY/31969.txt\n"
          ]
        },
        {
          "output_type": "stream",
          "name": "stderr",
          "text": [
            "WARNING:gensim.models.ldamodel:no word id mapping provided; initializing from corpus, assuming identity\n",
            "WARNING:gensim.models.ldamodel:too few updates, training might not converge; consider increasing the number of passes or iterations to improve accuracy\n"
          ]
        },
        {
          "output_type": "stream",
          "name": "stdout",
          "text": [
            "Summary saved successfully in /content/drive/MyDrive/updated GENERATED SUMMARY/32034.txt\n"
          ]
        },
        {
          "output_type": "stream",
          "name": "stderr",
          "text": [
            "WARNING:gensim.models.ldamodel:no word id mapping provided; initializing from corpus, assuming identity\n",
            "WARNING:gensim.models.ldamodel:too few updates, training might not converge; consider increasing the number of passes or iterations to improve accuracy\n"
          ]
        },
        {
          "output_type": "stream",
          "name": "stdout",
          "text": [
            "Summary saved successfully in /content/drive/MyDrive/updated GENERATED SUMMARY/31970.txt\n"
          ]
        },
        {
          "output_type": "stream",
          "name": "stderr",
          "text": [
            "WARNING:gensim.models.ldamodel:no word id mapping provided; initializing from corpus, assuming identity\n",
            "WARNING:gensim.models.ldamodel:too few updates, training might not converge; consider increasing the number of passes or iterations to improve accuracy\n"
          ]
        },
        {
          "output_type": "stream",
          "name": "stdout",
          "text": [
            "Summary saved successfully in /content/drive/MyDrive/updated GENERATED SUMMARY/31983.txt\n"
          ]
        },
        {
          "output_type": "stream",
          "name": "stderr",
          "text": [
            "WARNING:gensim.models.ldamodel:no word id mapping provided; initializing from corpus, assuming identity\n",
            "WARNING:gensim.models.ldamodel:too few updates, training might not converge; consider increasing the number of passes or iterations to improve accuracy\n"
          ]
        },
        {
          "output_type": "stream",
          "name": "stdout",
          "text": [
            "Summary saved successfully in /content/drive/MyDrive/updated GENERATED SUMMARY/31984.txt\n"
          ]
        },
        {
          "output_type": "stream",
          "name": "stderr",
          "text": [
            "WARNING:gensim.models.ldamodel:no word id mapping provided; initializing from corpus, assuming identity\n",
            "WARNING:gensim.models.ldamodel:too few updates, training might not converge; consider increasing the number of passes or iterations to improve accuracy\n"
          ]
        },
        {
          "output_type": "stream",
          "name": "stdout",
          "text": [
            "Summary saved successfully in /content/drive/MyDrive/updated GENERATED SUMMARY/31979.txt\n"
          ]
        },
        {
          "output_type": "stream",
          "name": "stderr",
          "text": [
            "WARNING:gensim.models.ldamodel:no word id mapping provided; initializing from corpus, assuming identity\n",
            "WARNING:gensim.models.ldamodel:too few updates, training might not converge; consider increasing the number of passes or iterations to improve accuracy\n"
          ]
        },
        {
          "output_type": "stream",
          "name": "stdout",
          "text": [
            "Summary saved successfully in /content/drive/MyDrive/updated GENERATED SUMMARY/32004.txt\n"
          ]
        },
        {
          "output_type": "stream",
          "name": "stderr",
          "text": [
            "WARNING:gensim.models.ldamodel:no word id mapping provided; initializing from corpus, assuming identity\n",
            "WARNING:gensim.models.ldamodel:too few updates, training might not converge; consider increasing the number of passes or iterations to improve accuracy\n"
          ]
        },
        {
          "output_type": "stream",
          "name": "stdout",
          "text": [
            "Summary saved successfully in /content/drive/MyDrive/updated GENERATED SUMMARY/31987.txt\n"
          ]
        },
        {
          "output_type": "stream",
          "name": "stderr",
          "text": [
            "WARNING:gensim.models.ldamodel:no word id mapping provided; initializing from corpus, assuming identity\n",
            "WARNING:gensim.models.ldamodel:too few updates, training might not converge; consider increasing the number of passes or iterations to improve accuracy\n"
          ]
        },
        {
          "output_type": "stream",
          "name": "stdout",
          "text": [
            "Summary saved successfully in /content/drive/MyDrive/updated GENERATED SUMMARY/32020.txt\n"
          ]
        },
        {
          "output_type": "stream",
          "name": "stderr",
          "text": [
            "WARNING:gensim.models.ldamodel:no word id mapping provided; initializing from corpus, assuming identity\n",
            "WARNING:gensim.models.ldamodel:too few updates, training might not converge; consider increasing the number of passes or iterations to improve accuracy\n"
          ]
        },
        {
          "output_type": "stream",
          "name": "stdout",
          "text": [
            "Summary saved successfully in /content/drive/MyDrive/updated GENERATED SUMMARY/32032.txt\n"
          ]
        },
        {
          "output_type": "stream",
          "name": "stderr",
          "text": [
            "WARNING:gensim.models.ldamodel:no word id mapping provided; initializing from corpus, assuming identity\n",
            "WARNING:gensim.models.ldamodel:too few updates, training might not converge; consider increasing the number of passes or iterations to improve accuracy\n"
          ]
        },
        {
          "output_type": "stream",
          "name": "stdout",
          "text": [
            "Summary saved successfully in /content/drive/MyDrive/updated GENERATED SUMMARY/32021.txt\n"
          ]
        },
        {
          "output_type": "stream",
          "name": "stderr",
          "text": [
            "WARNING:gensim.models.ldamodel:no word id mapping provided; initializing from corpus, assuming identity\n",
            "WARNING:gensim.models.ldamodel:too few updates, training might not converge; consider increasing the number of passes or iterations to improve accuracy\n"
          ]
        },
        {
          "output_type": "stream",
          "name": "stdout",
          "text": [
            "Summary saved successfully in /content/drive/MyDrive/updated GENERATED SUMMARY/32042.txt\n"
          ]
        },
        {
          "output_type": "stream",
          "name": "stderr",
          "text": [
            "WARNING:gensim.models.ldamodel:no word id mapping provided; initializing from corpus, assuming identity\n",
            "WARNING:gensim.models.ldamodel:too few updates, training might not converge; consider increasing the number of passes or iterations to improve accuracy\n"
          ]
        },
        {
          "output_type": "stream",
          "name": "stdout",
          "text": [
            "Summary saved successfully in /content/drive/MyDrive/updated GENERATED SUMMARY/32044.txt\n"
          ]
        },
        {
          "output_type": "stream",
          "name": "stderr",
          "text": [
            "WARNING:gensim.models.ldamodel:no word id mapping provided; initializing from corpus, assuming identity\n",
            "WARNING:gensim.models.ldamodel:too few updates, training might not converge; consider increasing the number of passes or iterations to improve accuracy\n"
          ]
        },
        {
          "output_type": "stream",
          "name": "stdout",
          "text": [
            "Summary saved successfully in /content/drive/MyDrive/updated GENERATED SUMMARY/32051.txt\n"
          ]
        },
        {
          "output_type": "stream",
          "name": "stderr",
          "text": [
            "WARNING:gensim.models.ldamodel:no word id mapping provided; initializing from corpus, assuming identity\n",
            "WARNING:gensim.models.ldamodel:too few updates, training might not converge; consider increasing the number of passes or iterations to improve accuracy\n"
          ]
        },
        {
          "output_type": "stream",
          "name": "stdout",
          "text": [
            "Summary saved successfully in /content/drive/MyDrive/updated GENERATED SUMMARY/32072.txt\n"
          ]
        },
        {
          "output_type": "stream",
          "name": "stderr",
          "text": [
            "WARNING:gensim.models.ldamodel:no word id mapping provided; initializing from corpus, assuming identity\n",
            "WARNING:gensim.models.ldamodel:too few updates, training might not converge; consider increasing the number of passes or iterations to improve accuracy\n",
            "WARNING:gensim.models.ldamodel:no word id mapping provided; initializing from corpus, assuming identity\n"
          ]
        },
        {
          "output_type": "stream",
          "name": "stdout",
          "text": [
            "Summary saved successfully in /content/drive/MyDrive/updated GENERATED SUMMARY/32061.txt\n"
          ]
        },
        {
          "output_type": "stream",
          "name": "stderr",
          "text": [
            "WARNING:gensim.models.ldamodel:too few updates, training might not converge; consider increasing the number of passes or iterations to improve accuracy\n"
          ]
        },
        {
          "output_type": "stream",
          "name": "stdout",
          "text": [
            "Summary saved successfully in /content/drive/MyDrive/updated GENERATED SUMMARY/32071.txt\n"
          ]
        },
        {
          "output_type": "stream",
          "name": "stderr",
          "text": [
            "WARNING:gensim.models.ldamodel:no word id mapping provided; initializing from corpus, assuming identity\n",
            "WARNING:gensim.models.ldamodel:too few updates, training might not converge; consider increasing the number of passes or iterations to improve accuracy\n"
          ]
        },
        {
          "output_type": "stream",
          "name": "stdout",
          "text": [
            "Summary saved successfully in /content/drive/MyDrive/updated GENERATED SUMMARY/32067.txt\n"
          ]
        },
        {
          "output_type": "stream",
          "name": "stderr",
          "text": [
            "WARNING:gensim.models.ldamodel:no word id mapping provided; initializing from corpus, assuming identity\n",
            "WARNING:gensim.models.ldamodel:too few updates, training might not converge; consider increasing the number of passes or iterations to improve accuracy\n"
          ]
        },
        {
          "output_type": "stream",
          "name": "stdout",
          "text": [
            "Summary saved successfully in /content/drive/MyDrive/updated GENERATED SUMMARY/32074.txt\n"
          ]
        },
        {
          "output_type": "stream",
          "name": "stderr",
          "text": [
            "WARNING:gensim.models.ldamodel:no word id mapping provided; initializing from corpus, assuming identity\n",
            "WARNING:gensim.models.ldamodel:too few updates, training might not converge; consider increasing the number of passes or iterations to improve accuracy\n"
          ]
        },
        {
          "output_type": "stream",
          "name": "stdout",
          "text": [
            "Summary saved successfully in /content/drive/MyDrive/updated GENERATED SUMMARY/32092.txt\n"
          ]
        },
        {
          "output_type": "stream",
          "name": "stderr",
          "text": [
            "WARNING:gensim.models.ldamodel:no word id mapping provided; initializing from corpus, assuming identity\n",
            "WARNING:gensim.models.ldamodel:too few updates, training might not converge; consider increasing the number of passes or iterations to improve accuracy\n"
          ]
        },
        {
          "output_type": "stream",
          "name": "stdout",
          "text": [
            "Summary saved successfully in /content/drive/MyDrive/updated GENERATED SUMMARY/32097.txt\n"
          ]
        },
        {
          "output_type": "stream",
          "name": "stderr",
          "text": [
            "WARNING:gensim.models.ldamodel:no word id mapping provided; initializing from corpus, assuming identity\n",
            "WARNING:gensim.models.ldamodel:too few updates, training might not converge; consider increasing the number of passes or iterations to improve accuracy\n"
          ]
        },
        {
          "output_type": "stream",
          "name": "stdout",
          "text": [
            "Summary saved successfully in /content/drive/MyDrive/updated GENERATED SUMMARY/32098.txt\n"
          ]
        },
        {
          "output_type": "stream",
          "name": "stderr",
          "text": [
            "WARNING:gensim.models.ldamodel:no word id mapping provided; initializing from corpus, assuming identity\n",
            "WARNING:gensim.models.ldamodel:too few updates, training might not converge; consider increasing the number of passes or iterations to improve accuracy\n"
          ]
        },
        {
          "output_type": "stream",
          "name": "stdout",
          "text": [
            "Summary saved successfully in /content/drive/MyDrive/updated GENERATED SUMMARY/32150.txt\n"
          ]
        },
        {
          "output_type": "stream",
          "name": "stderr",
          "text": [
            "WARNING:gensim.models.ldamodel:no word id mapping provided; initializing from corpus, assuming identity\n",
            "WARNING:gensim.models.ldamodel:too few updates, training might not converge; consider increasing the number of passes or iterations to improve accuracy\n"
          ]
        },
        {
          "output_type": "stream",
          "name": "stdout",
          "text": [
            "Summary saved successfully in /content/drive/MyDrive/updated GENERATED SUMMARY/32113.txt\n"
          ]
        },
        {
          "output_type": "stream",
          "name": "stderr",
          "text": [
            "WARNING:gensim.models.ldamodel:no word id mapping provided; initializing from corpus, assuming identity\n",
            "WARNING:gensim.models.ldamodel:too few updates, training might not converge; consider increasing the number of passes or iterations to improve accuracy\n"
          ]
        },
        {
          "output_type": "stream",
          "name": "stdout",
          "text": [
            "Summary saved successfully in /content/drive/MyDrive/updated GENERATED SUMMARY/32107.txt\n"
          ]
        },
        {
          "output_type": "stream",
          "name": "stderr",
          "text": [
            "WARNING:gensim.models.ldamodel:no word id mapping provided; initializing from corpus, assuming identity\n",
            "WARNING:gensim.models.ldamodel:too few updates, training might not converge; consider increasing the number of passes or iterations to improve accuracy\n"
          ]
        },
        {
          "output_type": "stream",
          "name": "stdout",
          "text": [
            "Summary saved successfully in /content/drive/MyDrive/updated GENERATED SUMMARY/32116.txt\n"
          ]
        },
        {
          "output_type": "stream",
          "name": "stderr",
          "text": [
            "WARNING:gensim.models.ldamodel:no word id mapping provided; initializing from corpus, assuming identity\n",
            "WARNING:gensim.models.ldamodel:too few updates, training might not converge; consider increasing the number of passes or iterations to improve accuracy\n"
          ]
        },
        {
          "output_type": "stream",
          "name": "stdout",
          "text": [
            "Summary saved successfully in /content/drive/MyDrive/updated GENERATED SUMMARY/32143.txt\n"
          ]
        },
        {
          "output_type": "stream",
          "name": "stderr",
          "text": [
            "WARNING:gensim.models.ldamodel:no word id mapping provided; initializing from corpus, assuming identity\n",
            "WARNING:gensim.models.ldamodel:too few updates, training might not converge; consider increasing the number of passes or iterations to improve accuracy\n"
          ]
        },
        {
          "output_type": "stream",
          "name": "stdout",
          "text": [
            "Summary saved successfully in /content/drive/MyDrive/updated GENERATED SUMMARY/32134.txt\n"
          ]
        },
        {
          "output_type": "stream",
          "name": "stderr",
          "text": [
            "WARNING:gensim.models.ldamodel:no word id mapping provided; initializing from corpus, assuming identity\n",
            "WARNING:gensim.models.ldamodel:too few updates, training might not converge; consider increasing the number of passes or iterations to improve accuracy\n"
          ]
        },
        {
          "output_type": "stream",
          "name": "stdout",
          "text": [
            "Summary saved successfully in /content/drive/MyDrive/updated GENERATED SUMMARY/32129.txt\n"
          ]
        },
        {
          "output_type": "stream",
          "name": "stderr",
          "text": [
            "WARNING:gensim.models.ldamodel:no word id mapping provided; initializing from corpus, assuming identity\n",
            "WARNING:gensim.models.ldamodel:too few updates, training might not converge; consider increasing the number of passes or iterations to improve accuracy\n"
          ]
        },
        {
          "output_type": "stream",
          "name": "stdout",
          "text": [
            "Summary saved successfully in /content/drive/MyDrive/updated GENERATED SUMMARY/32135.txt\n"
          ]
        },
        {
          "output_type": "stream",
          "name": "stderr",
          "text": [
            "WARNING:gensim.models.ldamodel:no word id mapping provided; initializing from corpus, assuming identity\n",
            "WARNING:gensim.models.ldamodel:too few updates, training might not converge; consider increasing the number of passes or iterations to improve accuracy\n"
          ]
        },
        {
          "output_type": "stream",
          "name": "stdout",
          "text": [
            "Summary saved successfully in /content/drive/MyDrive/updated GENERATED SUMMARY/32136.txt\n"
          ]
        },
        {
          "output_type": "stream",
          "name": "stderr",
          "text": [
            "WARNING:gensim.models.ldamodel:no word id mapping provided; initializing from corpus, assuming identity\n",
            "WARNING:gensim.models.ldamodel:too few updates, training might not converge; consider increasing the number of passes or iterations to improve accuracy\n"
          ]
        },
        {
          "output_type": "stream",
          "name": "stdout",
          "text": [
            "Summary saved successfully in /content/drive/MyDrive/updated GENERATED SUMMARY/32139.txt\n"
          ]
        },
        {
          "output_type": "stream",
          "name": "stderr",
          "text": [
            "WARNING:gensim.models.ldamodel:no word id mapping provided; initializing from corpus, assuming identity\n",
            "WARNING:gensim.models.ldamodel:too few updates, training might not converge; consider increasing the number of passes or iterations to improve accuracy\n"
          ]
        },
        {
          "output_type": "stream",
          "name": "stdout",
          "text": [
            "Summary saved successfully in /content/drive/MyDrive/updated GENERATED SUMMARY/32140.txt\n"
          ]
        },
        {
          "output_type": "stream",
          "name": "stderr",
          "text": [
            "WARNING:gensim.models.ldamodel:no word id mapping provided; initializing from corpus, assuming identity\n",
            "WARNING:gensim.models.ldamodel:too few updates, training might not converge; consider increasing the number of passes or iterations to improve accuracy\n"
          ]
        },
        {
          "output_type": "stream",
          "name": "stdout",
          "text": [
            "Summary saved successfully in /content/drive/MyDrive/updated GENERATED SUMMARY/32141.txt\n"
          ]
        },
        {
          "output_type": "stream",
          "name": "stderr",
          "text": [
            "WARNING:gensim.models.ldamodel:no word id mapping provided; initializing from corpus, assuming identity\n",
            "WARNING:gensim.models.ldamodel:too few updates, training might not converge; consider increasing the number of passes or iterations to improve accuracy\n"
          ]
        },
        {
          "output_type": "stream",
          "name": "stdout",
          "text": [
            "Summary saved successfully in /content/drive/MyDrive/updated GENERATED SUMMARY/32144.txt\n"
          ]
        },
        {
          "output_type": "stream",
          "name": "stderr",
          "text": [
            "WARNING:gensim.models.ldamodel:no word id mapping provided; initializing from corpus, assuming identity\n",
            "WARNING:gensim.models.ldamodel:too few updates, training might not converge; consider increasing the number of passes or iterations to improve accuracy\n"
          ]
        },
        {
          "output_type": "stream",
          "name": "stdout",
          "text": [
            "Summary saved successfully in /content/drive/MyDrive/updated GENERATED SUMMARY/32148.txt\n"
          ]
        },
        {
          "output_type": "stream",
          "name": "stderr",
          "text": [
            "WARNING:gensim.models.ldamodel:no word id mapping provided; initializing from corpus, assuming identity\n",
            "WARNING:gensim.models.ldamodel:too few updates, training might not converge; consider increasing the number of passes or iterations to improve accuracy\n"
          ]
        },
        {
          "output_type": "stream",
          "name": "stdout",
          "text": [
            "Summary saved successfully in /content/drive/MyDrive/updated GENERATED SUMMARY/32149.txt\n"
          ]
        },
        {
          "output_type": "stream",
          "name": "stderr",
          "text": [
            "WARNING:gensim.models.ldamodel:no word id mapping provided; initializing from corpus, assuming identity\n",
            "WARNING:gensim.models.ldamodel:too few updates, training might not converge; consider increasing the number of passes or iterations to improve accuracy\n"
          ]
        },
        {
          "output_type": "stream",
          "name": "stdout",
          "text": [
            "Summary saved successfully in /content/drive/MyDrive/updated GENERATED SUMMARY/32155.txt\n"
          ]
        },
        {
          "output_type": "stream",
          "name": "stderr",
          "text": [
            "WARNING:gensim.models.ldamodel:no word id mapping provided; initializing from corpus, assuming identity\n",
            "WARNING:gensim.models.ldamodel:too few updates, training might not converge; consider increasing the number of passes or iterations to improve accuracy\n"
          ]
        },
        {
          "output_type": "stream",
          "name": "stdout",
          "text": [
            "Summary saved successfully in /content/drive/MyDrive/updated GENERATED SUMMARY/32156.txt\n"
          ]
        },
        {
          "output_type": "stream",
          "name": "stderr",
          "text": [
            "WARNING:gensim.models.ldamodel:no word id mapping provided; initializing from corpus, assuming identity\n",
            "WARNING:gensim.models.ldamodel:too few updates, training might not converge; consider increasing the number of passes or iterations to improve accuracy\n"
          ]
        },
        {
          "output_type": "stream",
          "name": "stdout",
          "text": [
            "Summary saved successfully in /content/drive/MyDrive/updated GENERATED SUMMARY/32165.txt\n"
          ]
        },
        {
          "output_type": "stream",
          "name": "stderr",
          "text": [
            "WARNING:gensim.models.ldamodel:no word id mapping provided; initializing from corpus, assuming identity\n",
            "WARNING:gensim.models.ldamodel:too few updates, training might not converge; consider increasing the number of passes or iterations to improve accuracy\n"
          ]
        },
        {
          "output_type": "stream",
          "name": "stdout",
          "text": [
            "Summary saved successfully in /content/drive/MyDrive/updated GENERATED SUMMARY/32157.txt\n"
          ]
        },
        {
          "output_type": "stream",
          "name": "stderr",
          "text": [
            "WARNING:gensim.models.ldamodel:no word id mapping provided; initializing from corpus, assuming identity\n",
            "WARNING:gensim.models.ldamodel:too few updates, training might not converge; consider increasing the number of passes or iterations to improve accuracy\n"
          ]
        },
        {
          "output_type": "stream",
          "name": "stdout",
          "text": [
            "Summary saved successfully in /content/drive/MyDrive/updated GENERATED SUMMARY/32163.txt\n"
          ]
        },
        {
          "output_type": "stream",
          "name": "stderr",
          "text": [
            "WARNING:gensim.models.ldamodel:no word id mapping provided; initializing from corpus, assuming identity\n",
            "WARNING:gensim.models.ldamodel:too few updates, training might not converge; consider increasing the number of passes or iterations to improve accuracy\n"
          ]
        },
        {
          "output_type": "stream",
          "name": "stdout",
          "text": [
            "Summary saved successfully in /content/drive/MyDrive/updated GENERATED SUMMARY/32183.txt\n"
          ]
        },
        {
          "output_type": "stream",
          "name": "stderr",
          "text": [
            "WARNING:gensim.models.ldamodel:no word id mapping provided; initializing from corpus, assuming identity\n",
            "WARNING:gensim.models.ldamodel:too few updates, training might not converge; consider increasing the number of passes or iterations to improve accuracy\n"
          ]
        },
        {
          "output_type": "stream",
          "name": "stdout",
          "text": [
            "Summary saved successfully in /content/drive/MyDrive/updated GENERATED SUMMARY/32168.txt\n"
          ]
        },
        {
          "output_type": "stream",
          "name": "stderr",
          "text": [
            "WARNING:gensim.models.ldamodel:no word id mapping provided; initializing from corpus, assuming identity\n",
            "WARNING:gensim.models.ldamodel:too few updates, training might not converge; consider increasing the number of passes or iterations to improve accuracy\n"
          ]
        },
        {
          "output_type": "stream",
          "name": "stdout",
          "text": [
            "Summary saved successfully in /content/drive/MyDrive/updated GENERATED SUMMARY/32170.txt\n"
          ]
        },
        {
          "output_type": "stream",
          "name": "stderr",
          "text": [
            "WARNING:gensim.models.ldamodel:no word id mapping provided; initializing from corpus, assuming identity\n",
            "WARNING:gensim.models.ldamodel:too few updates, training might not converge; consider increasing the number of passes or iterations to improve accuracy\n"
          ]
        },
        {
          "output_type": "stream",
          "name": "stdout",
          "text": [
            "Summary saved successfully in /content/drive/MyDrive/updated GENERATED SUMMARY/32176.txt\n"
          ]
        },
        {
          "output_type": "stream",
          "name": "stderr",
          "text": [
            "WARNING:gensim.models.ldamodel:no word id mapping provided; initializing from corpus, assuming identity\n",
            "WARNING:gensim.models.ldamodel:too few updates, training might not converge; consider increasing the number of passes or iterations to improve accuracy\n"
          ]
        },
        {
          "output_type": "stream",
          "name": "stdout",
          "text": [
            "Summary saved successfully in /content/drive/MyDrive/updated GENERATED SUMMARY/32179.txt\n"
          ]
        },
        {
          "output_type": "stream",
          "name": "stderr",
          "text": [
            "WARNING:gensim.models.ldamodel:no word id mapping provided; initializing from corpus, assuming identity\n",
            "WARNING:gensim.models.ldamodel:too few updates, training might not converge; consider increasing the number of passes or iterations to improve accuracy\n"
          ]
        },
        {
          "output_type": "stream",
          "name": "stdout",
          "text": [
            "Summary saved successfully in /content/drive/MyDrive/updated GENERATED SUMMARY/32177.txt\n"
          ]
        },
        {
          "output_type": "stream",
          "name": "stderr",
          "text": [
            "WARNING:gensim.models.ldamodel:no word id mapping provided; initializing from corpus, assuming identity\n",
            "WARNING:gensim.models.ldamodel:too few updates, training might not converge; consider increasing the number of passes or iterations to improve accuracy\n"
          ]
        },
        {
          "output_type": "stream",
          "name": "stdout",
          "text": [
            "Summary saved successfully in /content/drive/MyDrive/updated GENERATED SUMMARY/32185.txt\n"
          ]
        },
        {
          "output_type": "stream",
          "name": "stderr",
          "text": [
            "WARNING:gensim.models.ldamodel:no word id mapping provided; initializing from corpus, assuming identity\n",
            "WARNING:gensim.models.ldamodel:too few updates, training might not converge; consider increasing the number of passes or iterations to improve accuracy\n"
          ]
        },
        {
          "output_type": "stream",
          "name": "stdout",
          "text": [
            "Summary saved successfully in /content/drive/MyDrive/updated GENERATED SUMMARY/32180.txt\n"
          ]
        },
        {
          "output_type": "stream",
          "name": "stderr",
          "text": [
            "WARNING:gensim.models.ldamodel:no word id mapping provided; initializing from corpus, assuming identity\n",
            "WARNING:gensim.models.ldamodel:too few updates, training might not converge; consider increasing the number of passes or iterations to improve accuracy\n"
          ]
        },
        {
          "output_type": "stream",
          "name": "stdout",
          "text": [
            "Summary saved successfully in /content/drive/MyDrive/updated GENERATED SUMMARY/32190.txt\n"
          ]
        },
        {
          "output_type": "stream",
          "name": "stderr",
          "text": [
            "WARNING:gensim.models.ldamodel:no word id mapping provided; initializing from corpus, assuming identity\n",
            "WARNING:gensim.models.ldamodel:too few updates, training might not converge; consider increasing the number of passes or iterations to improve accuracy\n"
          ]
        },
        {
          "output_type": "stream",
          "name": "stdout",
          "text": [
            "Summary saved successfully in /content/drive/MyDrive/updated GENERATED SUMMARY/32186.txt\n"
          ]
        },
        {
          "output_type": "stream",
          "name": "stderr",
          "text": [
            "WARNING:gensim.models.ldamodel:no word id mapping provided; initializing from corpus, assuming identity\n",
            "WARNING:gensim.models.ldamodel:too few updates, training might not converge; consider increasing the number of passes or iterations to improve accuracy\n"
          ]
        },
        {
          "output_type": "stream",
          "name": "stdout",
          "text": [
            "Summary saved successfully in /content/drive/MyDrive/updated GENERATED SUMMARY/32217.txt\n"
          ]
        },
        {
          "output_type": "stream",
          "name": "stderr",
          "text": [
            "WARNING:gensim.models.ldamodel:no word id mapping provided; initializing from corpus, assuming identity\n",
            "WARNING:gensim.models.ldamodel:too few updates, training might not converge; consider increasing the number of passes or iterations to improve accuracy\n"
          ]
        },
        {
          "output_type": "stream",
          "name": "stdout",
          "text": [
            "Summary saved successfully in /content/drive/MyDrive/updated GENERATED SUMMARY/32197.txt\n"
          ]
        },
        {
          "output_type": "stream",
          "name": "stderr",
          "text": [
            "WARNING:gensim.models.ldamodel:no word id mapping provided; initializing from corpus, assuming identity\n",
            "WARNING:gensim.models.ldamodel:too few updates, training might not converge; consider increasing the number of passes or iterations to improve accuracy\n"
          ]
        },
        {
          "output_type": "stream",
          "name": "stdout",
          "text": [
            "Summary saved successfully in /content/drive/MyDrive/updated GENERATED SUMMARY/32196.txt\n"
          ]
        },
        {
          "output_type": "stream",
          "name": "stderr",
          "text": [
            "WARNING:gensim.models.ldamodel:no word id mapping provided; initializing from corpus, assuming identity\n",
            "WARNING:gensim.models.ldamodel:too few updates, training might not converge; consider increasing the number of passes or iterations to improve accuracy\n"
          ]
        },
        {
          "output_type": "stream",
          "name": "stdout",
          "text": [
            "Summary saved successfully in /content/drive/MyDrive/updated GENERATED SUMMARY/32220.txt\n"
          ]
        },
        {
          "output_type": "stream",
          "name": "stderr",
          "text": [
            "WARNING:gensim.models.ldamodel:no word id mapping provided; initializing from corpus, assuming identity\n",
            "WARNING:gensim.models.ldamodel:too few updates, training might not converge; consider increasing the number of passes or iterations to improve accuracy\n"
          ]
        },
        {
          "output_type": "stream",
          "name": "stdout",
          "text": [
            "Summary saved successfully in /content/drive/MyDrive/updated GENERATED SUMMARY/32229.txt\n"
          ]
        },
        {
          "output_type": "stream",
          "name": "stderr",
          "text": [
            "WARNING:gensim.models.ldamodel:no word id mapping provided; initializing from corpus, assuming identity\n",
            "WARNING:gensim.models.ldamodel:too few updates, training might not converge; consider increasing the number of passes or iterations to improve accuracy\n"
          ]
        },
        {
          "output_type": "stream",
          "name": "stdout",
          "text": [
            "Summary saved successfully in /content/drive/MyDrive/updated GENERATED SUMMARY/32223.txt\n"
          ]
        },
        {
          "output_type": "stream",
          "name": "stderr",
          "text": [
            "WARNING:gensim.models.ldamodel:no word id mapping provided; initializing from corpus, assuming identity\n",
            "WARNING:gensim.models.ldamodel:too few updates, training might not converge; consider increasing the number of passes or iterations to improve accuracy\n",
            "WARNING:gensim.models.ldamodel:no word id mapping provided; initializing from corpus, assuming identity\n",
            "WARNING:gensim.models.ldamodel:too few updates, training might not converge; consider increasing the number of passes or iterations to improve accuracy\n"
          ]
        },
        {
          "output_type": "stream",
          "name": "stdout",
          "text": [
            "Summary saved successfully in /content/drive/MyDrive/updated GENERATED SUMMARY/32248.txt\n",
            "Summary saved successfully in /content/drive/MyDrive/updated GENERATED SUMMARY/32236.txt\n"
          ]
        },
        {
          "output_type": "stream",
          "name": "stderr",
          "text": [
            "WARNING:gensim.models.ldamodel:no word id mapping provided; initializing from corpus, assuming identity\n",
            "WARNING:gensim.models.ldamodel:too few updates, training might not converge; consider increasing the number of passes or iterations to improve accuracy\n"
          ]
        },
        {
          "output_type": "stream",
          "name": "stdout",
          "text": [
            "Summary saved successfully in /content/drive/MyDrive/updated GENERATED SUMMARY/32286.txt\n"
          ]
        },
        {
          "output_type": "stream",
          "name": "stderr",
          "text": [
            "WARNING:gensim.models.ldamodel:no word id mapping provided; initializing from corpus, assuming identity\n",
            "WARNING:gensim.models.ldamodel:too few updates, training might not converge; consider increasing the number of passes or iterations to improve accuracy\n"
          ]
        },
        {
          "output_type": "stream",
          "name": "stdout",
          "text": [
            "Summary saved successfully in /content/drive/MyDrive/updated GENERATED SUMMARY/32272.txt\n"
          ]
        },
        {
          "output_type": "stream",
          "name": "stderr",
          "text": [
            "WARNING:gensim.models.ldamodel:no word id mapping provided; initializing from corpus, assuming identity\n",
            "WARNING:gensim.models.ldamodel:too few updates, training might not converge; consider increasing the number of passes or iterations to improve accuracy\n"
          ]
        },
        {
          "output_type": "stream",
          "name": "stdout",
          "text": [
            "Summary saved successfully in /content/drive/MyDrive/updated GENERATED SUMMARY/32333.txt\n"
          ]
        },
        {
          "output_type": "stream",
          "name": "stderr",
          "text": [
            "WARNING:gensim.models.ldamodel:no word id mapping provided; initializing from corpus, assuming identity\n",
            "WARNING:gensim.models.ldamodel:too few updates, training might not converge; consider increasing the number of passes or iterations to improve accuracy\n"
          ]
        },
        {
          "output_type": "stream",
          "name": "stdout",
          "text": [
            "Summary saved successfully in /content/drive/MyDrive/updated GENERATED SUMMARY/32340.txt\n"
          ]
        },
        {
          "output_type": "stream",
          "name": "stderr",
          "text": [
            "WARNING:gensim.models.ldamodel:no word id mapping provided; initializing from corpus, assuming identity\n",
            "WARNING:gensim.models.ldamodel:too few updates, training might not converge; consider increasing the number of passes or iterations to improve accuracy\n"
          ]
        },
        {
          "output_type": "stream",
          "name": "stdout",
          "text": [
            "Summary saved successfully in /content/drive/MyDrive/updated GENERATED SUMMARY/32343.txt\n"
          ]
        },
        {
          "output_type": "stream",
          "name": "stderr",
          "text": [
            "WARNING:gensim.models.ldamodel:no word id mapping provided; initializing from corpus, assuming identity\n",
            "WARNING:gensim.models.ldamodel:too few updates, training might not converge; consider increasing the number of passes or iterations to improve accuracy\n"
          ]
        },
        {
          "output_type": "stream",
          "name": "stdout",
          "text": [
            "Summary saved successfully in /content/drive/MyDrive/updated GENERATED SUMMARY/32414.txt\n"
          ]
        },
        {
          "output_type": "stream",
          "name": "stderr",
          "text": [
            "WARNING:gensim.models.ldamodel:no word id mapping provided; initializing from corpus, assuming identity\n",
            "WARNING:gensim.models.ldamodel:too few updates, training might not converge; consider increasing the number of passes or iterations to improve accuracy\n"
          ]
        },
        {
          "output_type": "stream",
          "name": "stdout",
          "text": [
            "Summary saved successfully in /content/drive/MyDrive/updated GENERATED SUMMARY/32349.txt\n"
          ]
        },
        {
          "output_type": "stream",
          "name": "stderr",
          "text": [
            "WARNING:gensim.models.ldamodel:no word id mapping provided; initializing from corpus, assuming identity\n",
            "WARNING:gensim.models.ldamodel:too few updates, training might not converge; consider increasing the number of passes or iterations to improve accuracy\n"
          ]
        },
        {
          "output_type": "stream",
          "name": "stdout",
          "text": [
            "Summary saved successfully in /content/drive/MyDrive/updated GENERATED SUMMARY/32345.txt\n"
          ]
        },
        {
          "output_type": "stream",
          "name": "stderr",
          "text": [
            "WARNING:gensim.models.ldamodel:no word id mapping provided; initializing from corpus, assuming identity\n",
            "WARNING:gensim.models.ldamodel:too few updates, training might not converge; consider increasing the number of passes or iterations to improve accuracy\n"
          ]
        },
        {
          "output_type": "stream",
          "name": "stdout",
          "text": [
            "Summary saved successfully in /content/drive/MyDrive/updated GENERATED SUMMARY/32359.txt\n"
          ]
        },
        {
          "output_type": "stream",
          "name": "stderr",
          "text": [
            "WARNING:gensim.models.ldamodel:no word id mapping provided; initializing from corpus, assuming identity\n",
            "WARNING:gensim.models.ldamodel:too few updates, training might not converge; consider increasing the number of passes or iterations to improve accuracy\n"
          ]
        },
        {
          "output_type": "stream",
          "name": "stdout",
          "text": [
            "Summary saved successfully in /content/drive/MyDrive/updated GENERATED SUMMARY/32355.txt\n"
          ]
        },
        {
          "output_type": "stream",
          "name": "stderr",
          "text": [
            "WARNING:gensim.models.ldamodel:no word id mapping provided; initializing from corpus, assuming identity\n",
            "WARNING:gensim.models.ldamodel:too few updates, training might not converge; consider increasing the number of passes or iterations to improve accuracy\n"
          ]
        },
        {
          "output_type": "stream",
          "name": "stdout",
          "text": [
            "Summary saved successfully in /content/drive/MyDrive/updated GENERATED SUMMARY/32378.txt\n"
          ]
        },
        {
          "output_type": "stream",
          "name": "stderr",
          "text": [
            "WARNING:gensim.models.ldamodel:no word id mapping provided; initializing from corpus, assuming identity\n",
            "WARNING:gensim.models.ldamodel:too few updates, training might not converge; consider increasing the number of passes or iterations to improve accuracy\n"
          ]
        },
        {
          "output_type": "stream",
          "name": "stdout",
          "text": [
            "Summary saved successfully in /content/drive/MyDrive/updated GENERATED SUMMARY/32376.txt\n"
          ]
        },
        {
          "output_type": "stream",
          "name": "stderr",
          "text": [
            "WARNING:gensim.models.ldamodel:no word id mapping provided; initializing from corpus, assuming identity\n",
            "WARNING:gensim.models.ldamodel:too few updates, training might not converge; consider increasing the number of passes or iterations to improve accuracy\n"
          ]
        },
        {
          "output_type": "stream",
          "name": "stdout",
          "text": [
            "Summary saved successfully in /content/drive/MyDrive/updated GENERATED SUMMARY/32380.txt\n"
          ]
        },
        {
          "output_type": "stream",
          "name": "stderr",
          "text": [
            "WARNING:gensim.models.ldamodel:no word id mapping provided; initializing from corpus, assuming identity\n",
            "WARNING:gensim.models.ldamodel:too few updates, training might not converge; consider increasing the number of passes or iterations to improve accuracy\n"
          ]
        },
        {
          "output_type": "stream",
          "name": "stdout",
          "text": [
            "Summary saved successfully in /content/drive/MyDrive/updated GENERATED SUMMARY/32384.txt\n"
          ]
        },
        {
          "output_type": "stream",
          "name": "stderr",
          "text": [
            "WARNING:gensim.models.ldamodel:no word id mapping provided; initializing from corpus, assuming identity\n",
            "WARNING:gensim.models.ldamodel:too few updates, training might not converge; consider increasing the number of passes or iterations to improve accuracy\n"
          ]
        },
        {
          "output_type": "stream",
          "name": "stdout",
          "text": [
            "Summary saved successfully in /content/drive/MyDrive/updated GENERATED SUMMARY/32392.txt\n"
          ]
        },
        {
          "output_type": "stream",
          "name": "stderr",
          "text": [
            "WARNING:gensim.models.ldamodel:no word id mapping provided; initializing from corpus, assuming identity\n",
            "WARNING:gensim.models.ldamodel:too few updates, training might not converge; consider increasing the number of passes or iterations to improve accuracy\n"
          ]
        },
        {
          "output_type": "stream",
          "name": "stdout",
          "text": [
            "Summary saved successfully in /content/drive/MyDrive/updated GENERATED SUMMARY/32389.txt\n"
          ]
        },
        {
          "output_type": "stream",
          "name": "stderr",
          "text": [
            "WARNING:gensim.models.ldamodel:no word id mapping provided; initializing from corpus, assuming identity\n",
            "WARNING:gensim.models.ldamodel:too few updates, training might not converge; consider increasing the number of passes or iterations to improve accuracy\n",
            "WARNING:gensim.models.ldamodel:no word id mapping provided; initializing from corpus, assuming identity\n"
          ]
        },
        {
          "output_type": "stream",
          "name": "stdout",
          "text": [
            "Summary saved successfully in /content/drive/MyDrive/updated GENERATED SUMMARY/32424.txt\n"
          ]
        },
        {
          "output_type": "stream",
          "name": "stderr",
          "text": [
            "WARNING:gensim.models.ldamodel:too few updates, training might not converge; consider increasing the number of passes or iterations to improve accuracy\n"
          ]
        },
        {
          "output_type": "stream",
          "name": "stdout",
          "text": [
            "Summary saved successfully in /content/drive/MyDrive/updated GENERATED SUMMARY/32408.txt\n"
          ]
        },
        {
          "output_type": "stream",
          "name": "stderr",
          "text": [
            "WARNING:gensim.models.ldamodel:no word id mapping provided; initializing from corpus, assuming identity\n",
            "WARNING:gensim.models.ldamodel:too few updates, training might not converge; consider increasing the number of passes or iterations to improve accuracy\n"
          ]
        },
        {
          "output_type": "stream",
          "name": "stdout",
          "text": [
            "Summary saved successfully in /content/drive/MyDrive/updated GENERATED SUMMARY/32482.txt\n"
          ]
        },
        {
          "output_type": "stream",
          "name": "stderr",
          "text": [
            "WARNING:gensim.models.ldamodel:no word id mapping provided; initializing from corpus, assuming identity\n",
            "WARNING:gensim.models.ldamodel:too few updates, training might not converge; consider increasing the number of passes or iterations to improve accuracy\n"
          ]
        },
        {
          "output_type": "stream",
          "name": "stdout",
          "text": [
            "Summary saved successfully in /content/drive/MyDrive/updated GENERATED SUMMARY/32394.txt\n"
          ]
        },
        {
          "output_type": "stream",
          "name": "stderr",
          "text": [
            "WARNING:gensim.models.ldamodel:no word id mapping provided; initializing from corpus, assuming identity\n",
            "WARNING:gensim.models.ldamodel:too few updates, training might not converge; consider increasing the number of passes or iterations to improve accuracy\n"
          ]
        },
        {
          "output_type": "stream",
          "name": "stdout",
          "text": [
            "Summary saved successfully in /content/drive/MyDrive/updated GENERATED SUMMARY/32452.txt\n"
          ]
        },
        {
          "output_type": "stream",
          "name": "stderr",
          "text": [
            "WARNING:gensim.models.ldamodel:no word id mapping provided; initializing from corpus, assuming identity\n",
            "WARNING:gensim.models.ldamodel:too few updates, training might not converge; consider increasing the number of passes or iterations to improve accuracy\n"
          ]
        },
        {
          "output_type": "stream",
          "name": "stdout",
          "text": [
            "Summary saved successfully in /content/drive/MyDrive/updated GENERATED SUMMARY/32437.txt\n"
          ]
        },
        {
          "output_type": "stream",
          "name": "stderr",
          "text": [
            "WARNING:gensim.models.ldamodel:no word id mapping provided; initializing from corpus, assuming identity\n",
            "WARNING:gensim.models.ldamodel:too few updates, training might not converge; consider increasing the number of passes or iterations to improve accuracy\n"
          ]
        },
        {
          "output_type": "stream",
          "name": "stdout",
          "text": [
            "Summary saved successfully in /content/drive/MyDrive/updated GENERATED SUMMARY/32480.txt\n"
          ]
        },
        {
          "output_type": "stream",
          "name": "stderr",
          "text": [
            "WARNING:gensim.models.ldamodel:no word id mapping provided; initializing from corpus, assuming identity\n",
            "WARNING:gensim.models.ldamodel:too few updates, training might not converge; consider increasing the number of passes or iterations to improve accuracy\n"
          ]
        },
        {
          "output_type": "stream",
          "name": "stdout",
          "text": [
            "Summary saved successfully in /content/drive/MyDrive/updated GENERATED SUMMARY/32531.txt\n"
          ]
        },
        {
          "output_type": "stream",
          "name": "stderr",
          "text": [
            "WARNING:gensim.models.ldamodel:no word id mapping provided; initializing from corpus, assuming identity\n",
            "WARNING:gensim.models.ldamodel:too few updates, training might not converge; consider increasing the number of passes or iterations to improve accuracy\n"
          ]
        },
        {
          "output_type": "stream",
          "name": "stdout",
          "text": [
            "Summary saved successfully in /content/drive/MyDrive/updated GENERATED SUMMARY/32540.txt\n"
          ]
        },
        {
          "output_type": "stream",
          "name": "stderr",
          "text": [
            "WARNING:gensim.models.ldamodel:no word id mapping provided; initializing from corpus, assuming identity\n",
            "WARNING:gensim.models.ldamodel:too few updates, training might not converge; consider increasing the number of passes or iterations to improve accuracy\n"
          ]
        },
        {
          "output_type": "stream",
          "name": "stdout",
          "text": [
            "Summary saved successfully in /content/drive/MyDrive/updated GENERATED SUMMARY/32538.txt\n"
          ]
        },
        {
          "output_type": "stream",
          "name": "stderr",
          "text": [
            "WARNING:gensim.models.ldamodel:no word id mapping provided; initializing from corpus, assuming identity\n",
            "WARNING:gensim.models.ldamodel:too few updates, training might not converge; consider increasing the number of passes or iterations to improve accuracy\n"
          ]
        },
        {
          "output_type": "stream",
          "name": "stdout",
          "text": [
            "Summary saved successfully in /content/drive/MyDrive/updated GENERATED SUMMARY/32541.txt\n"
          ]
        },
        {
          "output_type": "stream",
          "name": "stderr",
          "text": [
            "WARNING:gensim.models.ldamodel:no word id mapping provided; initializing from corpus, assuming identity\n",
            "WARNING:gensim.models.ldamodel:too few updates, training might not converge; consider increasing the number of passes or iterations to improve accuracy\n"
          ]
        },
        {
          "output_type": "stream",
          "name": "stdout",
          "text": [
            "Summary saved successfully in /content/drive/MyDrive/updated GENERATED SUMMARY/32543.txt\n"
          ]
        },
        {
          "output_type": "stream",
          "name": "stderr",
          "text": [
            "WARNING:gensim.models.ldamodel:no word id mapping provided; initializing from corpus, assuming identity\n",
            "WARNING:gensim.models.ldamodel:too few updates, training might not converge; consider increasing the number of passes or iterations to improve accuracy\n"
          ]
        },
        {
          "output_type": "stream",
          "name": "stdout",
          "text": [
            "Summary saved successfully in /content/drive/MyDrive/updated GENERATED SUMMARY/32545.txt\n"
          ]
        },
        {
          "output_type": "stream",
          "name": "stderr",
          "text": [
            "WARNING:gensim.models.ldamodel:no word id mapping provided; initializing from corpus, assuming identity\n",
            "WARNING:gensim.models.ldamodel:too few updates, training might not converge; consider increasing the number of passes or iterations to improve accuracy\n"
          ]
        },
        {
          "output_type": "stream",
          "name": "stdout",
          "text": [
            "Summary saved successfully in /content/drive/MyDrive/updated GENERATED SUMMARY/32548.txt\n"
          ]
        },
        {
          "output_type": "stream",
          "name": "stderr",
          "text": [
            "WARNING:gensim.models.ldamodel:no word id mapping provided; initializing from corpus, assuming identity\n",
            "WARNING:gensim.models.ldamodel:too few updates, training might not converge; consider increasing the number of passes or iterations to improve accuracy\n"
          ]
        },
        {
          "output_type": "stream",
          "name": "stdout",
          "text": [
            "Summary saved successfully in /content/drive/MyDrive/updated GENERATED SUMMARY/32555.txt\n"
          ]
        },
        {
          "output_type": "stream",
          "name": "stderr",
          "text": [
            "WARNING:gensim.models.ldamodel:no word id mapping provided; initializing from corpus, assuming identity\n",
            "WARNING:gensim.models.ldamodel:too few updates, training might not converge; consider increasing the number of passes or iterations to improve accuracy\n"
          ]
        },
        {
          "output_type": "stream",
          "name": "stdout",
          "text": [
            "Summary saved successfully in /content/drive/MyDrive/updated GENERATED SUMMARY/32553.txt\n"
          ]
        },
        {
          "output_type": "stream",
          "name": "stderr",
          "text": [
            "WARNING:gensim.models.ldamodel:no word id mapping provided; initializing from corpus, assuming identity\n",
            "WARNING:gensim.models.ldamodel:too few updates, training might not converge; consider increasing the number of passes or iterations to improve accuracy\n"
          ]
        },
        {
          "output_type": "stream",
          "name": "stdout",
          "text": [
            "Summary saved successfully in /content/drive/MyDrive/updated GENERATED SUMMARY/32556.txt\n"
          ]
        },
        {
          "output_type": "stream",
          "name": "stderr",
          "text": [
            "WARNING:gensim.models.ldamodel:no word id mapping provided; initializing from corpus, assuming identity\n",
            "WARNING:gensim.models.ldamodel:too few updates, training might not converge; consider increasing the number of passes or iterations to improve accuracy\n"
          ]
        },
        {
          "output_type": "stream",
          "name": "stdout",
          "text": [
            "Summary saved successfully in /content/drive/MyDrive/updated GENERATED SUMMARY/32560.txt\n"
          ]
        },
        {
          "output_type": "stream",
          "name": "stderr",
          "text": [
            "WARNING:gensim.models.ldamodel:no word id mapping provided; initializing from corpus, assuming identity\n",
            "WARNING:gensim.models.ldamodel:too few updates, training might not converge; consider increasing the number of passes or iterations to improve accuracy\n"
          ]
        },
        {
          "output_type": "stream",
          "name": "stdout",
          "text": [
            "Summary saved successfully in /content/drive/MyDrive/updated GENERATED SUMMARY/32557.txt\n"
          ]
        },
        {
          "output_type": "stream",
          "name": "stderr",
          "text": [
            "WARNING:gensim.models.ldamodel:no word id mapping provided; initializing from corpus, assuming identity\n",
            "WARNING:gensim.models.ldamodel:too few updates, training might not converge; consider increasing the number of passes or iterations to improve accuracy\n"
          ]
        },
        {
          "output_type": "stream",
          "name": "stdout",
          "text": [
            "Summary saved successfully in /content/drive/MyDrive/updated GENERATED SUMMARY/32561.txt\n"
          ]
        },
        {
          "output_type": "stream",
          "name": "stderr",
          "text": [
            "WARNING:gensim.models.ldamodel:no word id mapping provided; initializing from corpus, assuming identity\n",
            "WARNING:gensim.models.ldamodel:too few updates, training might not converge; consider increasing the number of passes or iterations to improve accuracy\n"
          ]
        },
        {
          "output_type": "stream",
          "name": "stdout",
          "text": [
            "Summary saved successfully in /content/drive/MyDrive/updated GENERATED SUMMARY/32562.txt\n"
          ]
        },
        {
          "output_type": "stream",
          "name": "stderr",
          "text": [
            "WARNING:gensim.models.ldamodel:no word id mapping provided; initializing from corpus, assuming identity\n",
            "WARNING:gensim.models.ldamodel:too few updates, training might not converge; consider increasing the number of passes or iterations to improve accuracy\n"
          ]
        },
        {
          "output_type": "stream",
          "name": "stdout",
          "text": [
            "Summary saved successfully in /content/drive/MyDrive/updated GENERATED SUMMARY/32583.txt\n"
          ]
        },
        {
          "output_type": "stream",
          "name": "stderr",
          "text": [
            "WARNING:gensim.models.ldamodel:no word id mapping provided; initializing from corpus, assuming identity\n",
            "WARNING:gensim.models.ldamodel:too few updates, training might not converge; consider increasing the number of passes or iterations to improve accuracy\n"
          ]
        },
        {
          "output_type": "stream",
          "name": "stdout",
          "text": [
            "Summary saved successfully in /content/drive/MyDrive/updated GENERATED SUMMARY/32599.txt\n"
          ]
        },
        {
          "output_type": "stream",
          "name": "stderr",
          "text": [
            "WARNING:gensim.models.ldamodel:no word id mapping provided; initializing from corpus, assuming identity\n",
            "WARNING:gensim.models.ldamodel:too few updates, training might not converge; consider increasing the number of passes or iterations to improve accuracy\n"
          ]
        },
        {
          "output_type": "stream",
          "name": "stdout",
          "text": [
            "Summary saved successfully in /content/drive/MyDrive/updated GENERATED SUMMARY/32597.txt\n"
          ]
        },
        {
          "output_type": "stream",
          "name": "stderr",
          "text": [
            "WARNING:gensim.models.ldamodel:no word id mapping provided; initializing from corpus, assuming identity\n",
            "WARNING:gensim.models.ldamodel:too few updates, training might not converge; consider increasing the number of passes or iterations to improve accuracy\n"
          ]
        },
        {
          "output_type": "stream",
          "name": "stdout",
          "text": [
            "Summary saved successfully in /content/drive/MyDrive/updated GENERATED SUMMARY/32609.txt\n"
          ]
        },
        {
          "output_type": "stream",
          "name": "stderr",
          "text": [
            "WARNING:gensim.models.ldamodel:no word id mapping provided; initializing from corpus, assuming identity\n",
            "WARNING:gensim.models.ldamodel:too few updates, training might not converge; consider increasing the number of passes or iterations to improve accuracy\n"
          ]
        },
        {
          "output_type": "stream",
          "name": "stdout",
          "text": [
            "Summary saved successfully in /content/drive/MyDrive/updated GENERATED SUMMARY/32623.txt\n"
          ]
        },
        {
          "output_type": "stream",
          "name": "stderr",
          "text": [
            "WARNING:gensim.models.ldamodel:no word id mapping provided; initializing from corpus, assuming identity\n",
            "WARNING:gensim.models.ldamodel:too few updates, training might not converge; consider increasing the number of passes or iterations to improve accuracy\n"
          ]
        },
        {
          "output_type": "stream",
          "name": "stdout",
          "text": [
            "Summary saved successfully in /content/drive/MyDrive/updated GENERATED SUMMARY/32602.txt\n"
          ]
        },
        {
          "output_type": "stream",
          "name": "stderr",
          "text": [
            "WARNING:gensim.models.ldamodel:no word id mapping provided; initializing from corpus, assuming identity\n",
            "WARNING:gensim.models.ldamodel:too few updates, training might not converge; consider increasing the number of passes or iterations to improve accuracy\n"
          ]
        },
        {
          "output_type": "stream",
          "name": "stdout",
          "text": [
            "Summary saved successfully in /content/drive/MyDrive/updated GENERATED SUMMARY/32616.txt\n"
          ]
        },
        {
          "output_type": "stream",
          "name": "stderr",
          "text": [
            "WARNING:gensim.models.ldamodel:no word id mapping provided; initializing from corpus, assuming identity\n",
            "WARNING:gensim.models.ldamodel:too few updates, training might not converge; consider increasing the number of passes or iterations to improve accuracy\n",
            "WARNING:gensim.models.ldamodel:no word id mapping provided; initializing from corpus, assuming identity\n",
            "WARNING:gensim.models.ldamodel:too few updates, training might not converge; consider increasing the number of passes or iterations to improve accuracy\n"
          ]
        },
        {
          "output_type": "stream",
          "name": "stdout",
          "text": [
            "Summary saved successfully in /content/drive/MyDrive/updated GENERATED SUMMARY/32657.txt\n",
            "Summary saved successfully in /content/drive/MyDrive/updated GENERATED SUMMARY/32651.txt\n"
          ]
        },
        {
          "output_type": "stream",
          "name": "stderr",
          "text": [
            "WARNING:gensim.models.ldamodel:no word id mapping provided; initializing from corpus, assuming identity\n",
            "WARNING:gensim.models.ldamodel:too few updates, training might not converge; consider increasing the number of passes or iterations to improve accuracy\n"
          ]
        },
        {
          "output_type": "stream",
          "name": "stdout",
          "text": [
            "Summary saved successfully in /content/drive/MyDrive/updated GENERATED SUMMARY/32648.txt\n"
          ]
        },
        {
          "output_type": "stream",
          "name": "stderr",
          "text": [
            "WARNING:gensim.models.ldamodel:no word id mapping provided; initializing from corpus, assuming identity\n",
            "WARNING:gensim.models.ldamodel:too few updates, training might not converge; consider increasing the number of passes or iterations to improve accuracy\n"
          ]
        },
        {
          "output_type": "stream",
          "name": "stdout",
          "text": [
            "Summary saved successfully in /content/drive/MyDrive/updated GENERATED SUMMARY/32684.txt\n"
          ]
        },
        {
          "output_type": "stream",
          "name": "stderr",
          "text": [
            "WARNING:gensim.models.ldamodel:no word id mapping provided; initializing from corpus, assuming identity\n",
            "WARNING:gensim.models.ldamodel:too few updates, training might not converge; consider increasing the number of passes or iterations to improve accuracy\n"
          ]
        },
        {
          "output_type": "stream",
          "name": "stdout",
          "text": [
            "Summary saved successfully in /content/drive/MyDrive/updated GENERATED SUMMARY/32688.txt\n"
          ]
        },
        {
          "output_type": "stream",
          "name": "stderr",
          "text": [
            "WARNING:gensim.models.ldamodel:no word id mapping provided; initializing from corpus, assuming identity\n",
            "WARNING:gensim.models.ldamodel:too few updates, training might not converge; consider increasing the number of passes or iterations to improve accuracy\n"
          ]
        },
        {
          "output_type": "stream",
          "name": "stdout",
          "text": [
            "Summary saved successfully in /content/drive/MyDrive/updated GENERATED SUMMARY/32693.txt\n"
          ]
        },
        {
          "output_type": "stream",
          "name": "stderr",
          "text": [
            "WARNING:gensim.models.ldamodel:no word id mapping provided; initializing from corpus, assuming identity\n",
            "WARNING:gensim.models.ldamodel:too few updates, training might not converge; consider increasing the number of passes or iterations to improve accuracy\n"
          ]
        },
        {
          "output_type": "stream",
          "name": "stdout",
          "text": [
            "Summary saved successfully in /content/drive/MyDrive/updated GENERATED SUMMARY/32771.txt\n"
          ]
        },
        {
          "output_type": "stream",
          "name": "stderr",
          "text": [
            "WARNING:gensim.models.ldamodel:no word id mapping provided; initializing from corpus, assuming identity\n",
            "WARNING:gensim.models.ldamodel:too few updates, training might not converge; consider increasing the number of passes or iterations to improve accuracy\n",
            "WARNING:gensim.models.ldamodel:no word id mapping provided; initializing from corpus, assuming identity\n",
            "WARNING:gensim.models.ldamodel:too few updates, training might not converge; consider increasing the number of passes or iterations to improve accuracy\n"
          ]
        },
        {
          "output_type": "stream",
          "name": "stdout",
          "text": [
            "Summary saved successfully in /content/drive/MyDrive/updated GENERATED SUMMARY/32773.txt\n",
            "Summary saved successfully in /content/drive/MyDrive/updated GENERATED SUMMARY/32734.txt\n"
          ]
        },
        {
          "output_type": "stream",
          "name": "stderr",
          "text": [
            "WARNING:gensim.models.ldamodel:no word id mapping provided; initializing from corpus, assuming identity\n",
            "WARNING:gensim.models.ldamodel:too few updates, training might not converge; consider increasing the number of passes or iterations to improve accuracy\n"
          ]
        },
        {
          "output_type": "stream",
          "name": "stdout",
          "text": [
            "Summary saved successfully in /content/drive/MyDrive/updated GENERATED SUMMARY/32717.txt\n"
          ]
        },
        {
          "output_type": "stream",
          "name": "stderr",
          "text": [
            "WARNING:gensim.models.ldamodel:no word id mapping provided; initializing from corpus, assuming identity\n",
            "WARNING:gensim.models.ldamodel:too few updates, training might not converge; consider increasing the number of passes or iterations to improve accuracy\n"
          ]
        },
        {
          "output_type": "stream",
          "name": "stdout",
          "text": [
            "Summary saved successfully in /content/drive/MyDrive/updated GENERATED SUMMARY/32792.txt\n"
          ]
        },
        {
          "output_type": "stream",
          "name": "stderr",
          "text": [
            "WARNING:gensim.models.ldamodel:no word id mapping provided; initializing from corpus, assuming identity\n",
            "WARNING:gensim.models.ldamodel:too few updates, training might not converge; consider increasing the number of passes or iterations to improve accuracy\n"
          ]
        },
        {
          "output_type": "stream",
          "name": "stdout",
          "text": [
            "Summary saved successfully in /content/drive/MyDrive/updated GENERATED SUMMARY/32809.txt\n"
          ]
        },
        {
          "output_type": "stream",
          "name": "stderr",
          "text": [
            "WARNING:gensim.models.ldamodel:no word id mapping provided; initializing from corpus, assuming identity\n",
            "WARNING:gensim.models.ldamodel:too few updates, training might not converge; consider increasing the number of passes or iterations to improve accuracy\n"
          ]
        },
        {
          "output_type": "stream",
          "name": "stdout",
          "text": [
            "Summary saved successfully in /content/drive/MyDrive/updated GENERATED SUMMARY/32854.txt\n"
          ]
        },
        {
          "output_type": "stream",
          "name": "stderr",
          "text": [
            "WARNING:gensim.models.ldamodel:no word id mapping provided; initializing from corpus, assuming identity\n",
            "WARNING:gensim.models.ldamodel:too few updates, training might not converge; consider increasing the number of passes or iterations to improve accuracy\n"
          ]
        },
        {
          "output_type": "stream",
          "name": "stdout",
          "text": [
            "Summary saved successfully in /content/drive/MyDrive/updated GENERATED SUMMARY/32810.txt\n"
          ]
        },
        {
          "output_type": "stream",
          "name": "stderr",
          "text": [
            "WARNING:gensim.models.ldamodel:no word id mapping provided; initializing from corpus, assuming identity\n",
            "WARNING:gensim.models.ldamodel:too few updates, training might not converge; consider increasing the number of passes or iterations to improve accuracy\n"
          ]
        },
        {
          "output_type": "stream",
          "name": "stdout",
          "text": [
            "Summary saved successfully in /content/drive/MyDrive/updated GENERATED SUMMARY/32825.txt\n"
          ]
        },
        {
          "output_type": "stream",
          "name": "stderr",
          "text": [
            "WARNING:gensim.models.ldamodel:no word id mapping provided; initializing from corpus, assuming identity\n",
            "WARNING:gensim.models.ldamodel:too few updates, training might not converge; consider increasing the number of passes or iterations to improve accuracy\n"
          ]
        },
        {
          "output_type": "stream",
          "name": "stdout",
          "text": [
            "Summary saved successfully in /content/drive/MyDrive/updated GENERATED SUMMARY/32848.txt\n"
          ]
        },
        {
          "output_type": "stream",
          "name": "stderr",
          "text": [
            "WARNING:gensim.models.ldamodel:no word id mapping provided; initializing from corpus, assuming identity\n",
            "WARNING:gensim.models.ldamodel:too few updates, training might not converge; consider increasing the number of passes or iterations to improve accuracy\n"
          ]
        },
        {
          "output_type": "stream",
          "name": "stdout",
          "text": [
            "Summary saved successfully in /content/drive/MyDrive/updated GENERATED SUMMARY/32849.txt\n"
          ]
        },
        {
          "output_type": "stream",
          "name": "stderr",
          "text": [
            "WARNING:gensim.models.ldamodel:no word id mapping provided; initializing from corpus, assuming identity\n",
            "WARNING:gensim.models.ldamodel:too few updates, training might not converge; consider increasing the number of passes or iterations to improve accuracy\n"
          ]
        },
        {
          "output_type": "stream",
          "name": "stdout",
          "text": [
            "Summary saved successfully in /content/drive/MyDrive/updated GENERATED SUMMARY/32859.txt\n"
          ]
        },
        {
          "output_type": "stream",
          "name": "stderr",
          "text": [
            "WARNING:gensim.models.ldamodel:no word id mapping provided; initializing from corpus, assuming identity\n",
            "WARNING:gensim.models.ldamodel:too few updates, training might not converge; consider increasing the number of passes or iterations to improve accuracy\n"
          ]
        },
        {
          "output_type": "stream",
          "name": "stdout",
          "text": [
            "Summary saved successfully in /content/drive/MyDrive/updated GENERATED SUMMARY/32879.txt\n"
          ]
        },
        {
          "output_type": "stream",
          "name": "stderr",
          "text": [
            "WARNING:gensim.models.ldamodel:no word id mapping provided; initializing from corpus, assuming identity\n",
            "WARNING:gensim.models.ldamodel:too few updates, training might not converge; consider increasing the number of passes or iterations to improve accuracy\n"
          ]
        },
        {
          "output_type": "stream",
          "name": "stdout",
          "text": [
            "Summary saved successfully in /content/drive/MyDrive/updated GENERATED SUMMARY/32874.txt\n"
          ]
        },
        {
          "output_type": "stream",
          "name": "stderr",
          "text": [
            "WARNING:gensim.models.ldamodel:no word id mapping provided; initializing from corpus, assuming identity\n",
            "WARNING:gensim.models.ldamodel:too few updates, training might not converge; consider increasing the number of passes or iterations to improve accuracy\n"
          ]
        },
        {
          "output_type": "stream",
          "name": "stdout",
          "text": [
            "Summary saved successfully in /content/drive/MyDrive/updated GENERATED SUMMARY/32865.txt\n"
          ]
        },
        {
          "output_type": "stream",
          "name": "stderr",
          "text": [
            "WARNING:gensim.models.ldamodel:no word id mapping provided; initializing from corpus, assuming identity\n",
            "WARNING:gensim.models.ldamodel:too few updates, training might not converge; consider increasing the number of passes or iterations to improve accuracy\n"
          ]
        },
        {
          "output_type": "stream",
          "name": "stdout",
          "text": [
            "Summary saved successfully in /content/drive/MyDrive/updated GENERATED SUMMARY/32886.txt\n"
          ]
        },
        {
          "output_type": "stream",
          "name": "stderr",
          "text": [
            "WARNING:gensim.models.ldamodel:no word id mapping provided; initializing from corpus, assuming identity\n",
            "WARNING:gensim.models.ldamodel:too few updates, training might not converge; consider increasing the number of passes or iterations to improve accuracy\n"
          ]
        },
        {
          "output_type": "stream",
          "name": "stdout",
          "text": [
            "Summary saved successfully in /content/drive/MyDrive/updated GENERATED SUMMARY/32926.txt\n"
          ]
        },
        {
          "output_type": "stream",
          "name": "stderr",
          "text": [
            "WARNING:gensim.models.ldamodel:no word id mapping provided; initializing from corpus, assuming identity\n",
            "WARNING:gensim.models.ldamodel:too few updates, training might not converge; consider increasing the number of passes or iterations to improve accuracy\n"
          ]
        },
        {
          "output_type": "stream",
          "name": "stdout",
          "text": [
            "Summary saved successfully in /content/drive/MyDrive/updated GENERATED SUMMARY/32966.txt\n"
          ]
        },
        {
          "output_type": "stream",
          "name": "stderr",
          "text": [
            "WARNING:gensim.models.ldamodel:no word id mapping provided; initializing from corpus, assuming identity\n",
            "WARNING:gensim.models.ldamodel:too few updates, training might not converge; consider increasing the number of passes or iterations to improve accuracy\n"
          ]
        },
        {
          "output_type": "stream",
          "name": "stdout",
          "text": [
            "Summary saved successfully in /content/drive/MyDrive/updated GENERATED SUMMARY/32939.txt\n"
          ]
        },
        {
          "output_type": "stream",
          "name": "stderr",
          "text": [
            "WARNING:gensim.models.ldamodel:no word id mapping provided; initializing from corpus, assuming identity\n",
            "WARNING:gensim.models.ldamodel:too few updates, training might not converge; consider increasing the number of passes or iterations to improve accuracy\n"
          ]
        },
        {
          "output_type": "stream",
          "name": "stdout",
          "text": [
            "Summary saved successfully in /content/drive/MyDrive/updated GENERATED SUMMARY/32936.txt\n"
          ]
        },
        {
          "output_type": "stream",
          "name": "stderr",
          "text": [
            "WARNING:gensim.models.ldamodel:no word id mapping provided; initializing from corpus, assuming identity\n",
            "WARNING:gensim.models.ldamodel:too few updates, training might not converge; consider increasing the number of passes or iterations to improve accuracy\n"
          ]
        },
        {
          "output_type": "stream",
          "name": "stdout",
          "text": [
            "Summary saved successfully in /content/drive/MyDrive/updated GENERATED SUMMARY/32954.txt\n"
          ]
        },
        {
          "output_type": "stream",
          "name": "stderr",
          "text": [
            "WARNING:gensim.models.ldamodel:no word id mapping provided; initializing from corpus, assuming identity\n",
            "WARNING:gensim.models.ldamodel:too few updates, training might not converge; consider increasing the number of passes or iterations to improve accuracy\n"
          ]
        },
        {
          "output_type": "stream",
          "name": "stdout",
          "text": [
            "Summary saved successfully in /content/drive/MyDrive/updated GENERATED SUMMARY/33018.txt\n"
          ]
        },
        {
          "output_type": "stream",
          "name": "stderr",
          "text": [
            "WARNING:gensim.models.ldamodel:no word id mapping provided; initializing from corpus, assuming identity\n",
            "WARNING:gensim.models.ldamodel:too few updates, training might not converge; consider increasing the number of passes or iterations to improve accuracy\n"
          ]
        },
        {
          "output_type": "stream",
          "name": "stdout",
          "text": [
            "Summary saved successfully in /content/drive/MyDrive/updated GENERATED SUMMARY/32964.txt\n"
          ]
        },
        {
          "output_type": "stream",
          "name": "stderr",
          "text": [
            "WARNING:gensim.models.ldamodel:no word id mapping provided; initializing from corpus, assuming identity\n",
            "WARNING:gensim.models.ldamodel:too few updates, training might not converge; consider increasing the number of passes or iterations to improve accuracy\n"
          ]
        },
        {
          "output_type": "stream",
          "name": "stdout",
          "text": [
            "Summary saved successfully in /content/drive/MyDrive/updated GENERATED SUMMARY/33027.txt\n"
          ]
        },
        {
          "output_type": "stream",
          "name": "stderr",
          "text": [
            "WARNING:gensim.models.ldamodel:no word id mapping provided; initializing from corpus, assuming identity\n",
            "WARNING:gensim.models.ldamodel:too few updates, training might not converge; consider increasing the number of passes or iterations to improve accuracy\n"
          ]
        },
        {
          "output_type": "stream",
          "name": "stdout",
          "text": [
            "Summary saved successfully in /content/drive/MyDrive/updated GENERATED SUMMARY/33035.txt\n"
          ]
        },
        {
          "output_type": "stream",
          "name": "stderr",
          "text": [
            "WARNING:gensim.models.ldamodel:no word id mapping provided; initializing from corpus, assuming identity\n",
            "WARNING:gensim.models.ldamodel:too few updates, training might not converge; consider increasing the number of passes or iterations to improve accuracy\n"
          ]
        },
        {
          "output_type": "stream",
          "name": "stdout",
          "text": [
            "Summary saved successfully in /content/drive/MyDrive/updated GENERATED SUMMARY/33029.txt\n"
          ]
        },
        {
          "output_type": "stream",
          "name": "stderr",
          "text": [
            "WARNING:gensim.models.ldamodel:no word id mapping provided; initializing from corpus, assuming identity\n",
            "WARNING:gensim.models.ldamodel:too few updates, training might not converge; consider increasing the number of passes or iterations to improve accuracy\n"
          ]
        },
        {
          "output_type": "stream",
          "name": "stdout",
          "text": [
            "Summary saved successfully in /content/drive/MyDrive/updated GENERATED SUMMARY/33038.txt\n"
          ]
        },
        {
          "output_type": "stream",
          "name": "stderr",
          "text": [
            "WARNING:gensim.models.ldamodel:no word id mapping provided; initializing from corpus, assuming identity\n",
            "WARNING:gensim.models.ldamodel:too few updates, training might not converge; consider increasing the number of passes or iterations to improve accuracy\n"
          ]
        },
        {
          "output_type": "stream",
          "name": "stdout",
          "text": [
            "Summary saved successfully in /content/drive/MyDrive/updated GENERATED SUMMARY/33037.txt\n"
          ]
        },
        {
          "output_type": "stream",
          "name": "stderr",
          "text": [
            "WARNING:gensim.models.ldamodel:no word id mapping provided; initializing from corpus, assuming identity\n",
            "WARNING:gensim.models.ldamodel:too few updates, training might not converge; consider increasing the number of passes or iterations to improve accuracy\n"
          ]
        },
        {
          "output_type": "stream",
          "name": "stdout",
          "text": [
            "Summary saved successfully in /content/drive/MyDrive/updated GENERATED SUMMARY/33036.txt\n"
          ]
        },
        {
          "output_type": "stream",
          "name": "stderr",
          "text": [
            "WARNING:gensim.models.ldamodel:no word id mapping provided; initializing from corpus, assuming identity\n",
            "WARNING:gensim.models.ldamodel:too few updates, training might not converge; consider increasing the number of passes or iterations to improve accuracy\n"
          ]
        },
        {
          "output_type": "stream",
          "name": "stdout",
          "text": [
            "Summary saved successfully in /content/drive/MyDrive/updated GENERATED SUMMARY/33039.txt\n"
          ]
        },
        {
          "output_type": "stream",
          "name": "stderr",
          "text": [
            "WARNING:gensim.models.ldamodel:no word id mapping provided; initializing from corpus, assuming identity\n",
            "WARNING:gensim.models.ldamodel:too few updates, training might not converge; consider increasing the number of passes or iterations to improve accuracy\n"
          ]
        },
        {
          "output_type": "stream",
          "name": "stdout",
          "text": [
            "Summary saved successfully in /content/drive/MyDrive/updated GENERATED SUMMARY/33054.txt\n"
          ]
        },
        {
          "output_type": "stream",
          "name": "stderr",
          "text": [
            "WARNING:gensim.models.ldamodel:no word id mapping provided; initializing from corpus, assuming identity\n",
            "WARNING:gensim.models.ldamodel:too few updates, training might not converge; consider increasing the number of passes or iterations to improve accuracy\n"
          ]
        },
        {
          "output_type": "stream",
          "name": "stdout",
          "text": [
            "Summary saved successfully in /content/drive/MyDrive/updated GENERATED SUMMARY/33083.txt\n"
          ]
        },
        {
          "output_type": "stream",
          "name": "stderr",
          "text": [
            "WARNING:gensim.models.ldamodel:no word id mapping provided; initializing from corpus, assuming identity\n",
            "WARNING:gensim.models.ldamodel:too few updates, training might not converge; consider increasing the number of passes or iterations to improve accuracy\n",
            "WARNING:gensim.models.ldamodel:no word id mapping provided; initializing from corpus, assuming identity\n",
            "WARNING:gensim.models.ldamodel:too few updates, training might not converge; consider increasing the number of passes or iterations to improve accuracy\n"
          ]
        },
        {
          "output_type": "stream",
          "name": "stdout",
          "text": [
            "Summary saved successfully in /content/drive/MyDrive/updated GENERATED SUMMARY/33053.txt\n",
            "Summary saved successfully in /content/drive/MyDrive/updated GENERATED SUMMARY/33057.txt\n"
          ]
        },
        {
          "output_type": "stream",
          "name": "stderr",
          "text": [
            "WARNING:gensim.models.ldamodel:no word id mapping provided; initializing from corpus, assuming identity\n",
            "WARNING:gensim.models.ldamodel:too few updates, training might not converge; consider increasing the number of passes or iterations to improve accuracy\n"
          ]
        },
        {
          "output_type": "stream",
          "name": "stdout",
          "text": [
            "Summary saved successfully in /content/drive/MyDrive/updated GENERATED SUMMARY/33090.txt\n"
          ]
        },
        {
          "output_type": "stream",
          "name": "stderr",
          "text": [
            "WARNING:gensim.models.ldamodel:no word id mapping provided; initializing from corpus, assuming identity\n",
            "WARNING:gensim.models.ldamodel:too few updates, training might not converge; consider increasing the number of passes or iterations to improve accuracy\n"
          ]
        },
        {
          "output_type": "stream",
          "name": "stdout",
          "text": [
            "Summary saved successfully in /content/drive/MyDrive/updated GENERATED SUMMARY/33070.txt\n"
          ]
        },
        {
          "output_type": "stream",
          "name": "stderr",
          "text": [
            "WARNING:gensim.models.ldamodel:no word id mapping provided; initializing from corpus, assuming identity\n",
            "WARNING:gensim.models.ldamodel:too few updates, training might not converge; consider increasing the number of passes or iterations to improve accuracy\n"
          ]
        },
        {
          "output_type": "stream",
          "name": "stdout",
          "text": [
            "Summary saved successfully in /content/drive/MyDrive/updated GENERATED SUMMARY/33130.txt\n"
          ]
        },
        {
          "output_type": "stream",
          "name": "stderr",
          "text": [
            "WARNING:gensim.models.ldamodel:no word id mapping provided; initializing from corpus, assuming identity\n",
            "WARNING:gensim.models.ldamodel:too few updates, training might not converge; consider increasing the number of passes or iterations to improve accuracy\n"
          ]
        },
        {
          "output_type": "stream",
          "name": "stdout",
          "text": [
            "Summary saved successfully in /content/drive/MyDrive/updated GENERATED SUMMARY/33097.txt\n"
          ]
        },
        {
          "output_type": "stream",
          "name": "stderr",
          "text": [
            "WARNING:gensim.models.ldamodel:no word id mapping provided; initializing from corpus, assuming identity\n",
            "WARNING:gensim.models.ldamodel:too few updates, training might not converge; consider increasing the number of passes or iterations to improve accuracy\n"
          ]
        },
        {
          "output_type": "stream",
          "name": "stdout",
          "text": [
            "Summary saved successfully in /content/drive/MyDrive/updated GENERATED SUMMARY/33098.txt\n"
          ]
        },
        {
          "output_type": "stream",
          "name": "stderr",
          "text": [
            "WARNING:gensim.models.ldamodel:no word id mapping provided; initializing from corpus, assuming identity\n",
            "WARNING:gensim.models.ldamodel:too few updates, training might not converge; consider increasing the number of passes or iterations to improve accuracy\n"
          ]
        },
        {
          "output_type": "stream",
          "name": "stdout",
          "text": [
            "Summary saved successfully in /content/drive/MyDrive/updated GENERATED SUMMARY/33154.txt\n"
          ]
        },
        {
          "output_type": "stream",
          "name": "stderr",
          "text": [
            "WARNING:gensim.models.ldamodel:no word id mapping provided; initializing from corpus, assuming identity\n",
            "WARNING:gensim.models.ldamodel:too few updates, training might not converge; consider increasing the number of passes or iterations to improve accuracy\n"
          ]
        },
        {
          "output_type": "stream",
          "name": "stdout",
          "text": [
            "Summary saved successfully in /content/drive/MyDrive/updated GENERATED SUMMARY/33155.txt\n"
          ]
        }
      ]
    },
    {
      "cell_type": "markdown",
      "source": [
        "# **Renaming Genearted summary**"
      ],
      "metadata": {
        "id": "3OfU-YXz6yoK"
      }
    },
    {
      "cell_type": "code",
      "source": [
        "import os\n",
        "\n",
        "# Path to the directory containing the files\n",
        "folder_path = \"/content/drive/MyDrive/updated GENERATED SUMMARY\"\n",
        "\n",
        "# Iterate over all files in the directory\n",
        "for filename in os.listdir(folder_path):\n",
        "    if filename.endswith(\".txt\"):  # Check if the file is a text file\n",
        "        # Extract the file number from the filename\n",
        "        file_number = filename.split('.')[0]\n",
        "\n",
        "        # Define the new filename pattern\n",
        "        new_filename = f\"fns{file_number}_{filename}\"\n",
        "\n",
        "        # Build the full paths for the old and new filenames\n",
        "        old_filepath = os.path.join(folder_path, filename)\n",
        "        new_filepath = os.path.join(folder_path, new_filename)\n",
        "\n",
        "        # Rename the file\n",
        "        os.rename(old_filepath, new_filepath)\n",
        "        print(f\"Renamed '{filename}' to '{new_filename}'\")"
      ],
      "metadata": {
        "id": "toxcn0_s5PWY",
        "colab": {
          "base_uri": "https://localhost:8080/"
        },
        "outputId": "a3e39d38-f7e3-4ec4-e43f-9bbe5c3d3346"
      },
      "execution_count": 11,
      "outputs": [
        {
          "output_type": "stream",
          "name": "stdout",
          "text": [
            "Renamed '30777.txt' to 'fns30777_30777.txt'\n",
            "Renamed '30778.txt' to 'fns30778_30778.txt'\n",
            "Renamed '30781.txt' to 'fns30781_30781.txt'\n",
            "Renamed '30779.txt' to 'fns30779_30779.txt'\n",
            "Renamed '30782.txt' to 'fns30782_30782.txt'\n",
            "Renamed '30783.txt' to 'fns30783_30783.txt'\n",
            "Renamed '30785.txt' to 'fns30785_30785.txt'\n",
            "Renamed '30790.txt' to 'fns30790_30790.txt'\n",
            "Renamed '30795.txt' to 'fns30795_30795.txt'\n",
            "Renamed '30796.txt' to 'fns30796_30796.txt'\n",
            "Renamed '30800.txt' to 'fns30800_30800.txt'\n",
            "Renamed '30808 (1).txt' to 'fns30808 (1)_30808 (1).txt'\n",
            "Renamed '30813.txt' to 'fns30813_30813.txt'\n",
            "Renamed '30816.txt' to 'fns30816_30816.txt'\n",
            "Renamed '30815.txt' to 'fns30815_30815.txt'\n",
            "Renamed '30819.txt' to 'fns30819_30819.txt'\n",
            "Renamed '30817.txt' to 'fns30817_30817.txt'\n",
            "Renamed '30820.txt' to 'fns30820_30820.txt'\n",
            "Renamed '30822.txt' to 'fns30822_30822.txt'\n",
            "Renamed '30821.txt' to 'fns30821_30821.txt'\n",
            "Renamed '30904.txt' to 'fns30904_30904.txt'\n",
            "Renamed '30830.txt' to 'fns30830_30830.txt'\n",
            "Renamed '30849.txt' to 'fns30849_30849.txt'\n",
            "Renamed '30838.txt' to 'fns30838_30838.txt'\n",
            "Renamed '30841.txt' to 'fns30841_30841.txt'\n",
            "Renamed '30850.txt' to 'fns30850_30850.txt'\n",
            "Renamed '30854.txt' to 'fns30854_30854.txt'\n",
            "Renamed '30852.txt' to 'fns30852_30852.txt'\n",
            "Renamed '30855.txt' to 'fns30855_30855.txt'\n",
            "Renamed '30858.txt' to 'fns30858_30858.txt'\n",
            "Renamed '30856.txt' to 'fns30856_30856.txt'\n",
            "Renamed '30866.txt' to 'fns30866_30866.txt'\n",
            "Renamed '30874.txt' to 'fns30874_30874.txt'\n",
            "Renamed '30894.txt' to 'fns30894_30894.txt'\n",
            "Renamed '30886.txt' to 'fns30886_30886.txt'\n",
            "Renamed '30887.txt' to 'fns30887_30887.txt'\n",
            "Renamed '30888.txt' to 'fns30888_30888.txt'\n",
            "Renamed '30895.txt' to 'fns30895_30895.txt'\n",
            "Renamed '30897.txt' to 'fns30897_30897.txt'\n",
            "Renamed '30899.txt' to 'fns30899_30899.txt'\n",
            "Renamed '30901.txt' to 'fns30901_30901.txt'\n",
            "Renamed '30902.txt' to 'fns30902_30902.txt'\n",
            "Renamed '30903.txt' to 'fns30903_30903.txt'\n",
            "Renamed '30907.txt' to 'fns30907_30907.txt'\n",
            "Renamed '30913.txt' to 'fns30913_30913.txt'\n",
            "Renamed '30920.txt' to 'fns30920_30920.txt'\n",
            "Renamed '30922.txt' to 'fns30922_30922.txt'\n",
            "Renamed '30927.txt' to 'fns30927_30927.txt'\n",
            "Renamed '30924.txt' to 'fns30924_30924.txt'\n",
            "Renamed '30940.txt' to 'fns30940_30940.txt'\n",
            "Renamed '30941.txt' to 'fns30941_30941.txt'\n",
            "Renamed '30943.txt' to 'fns30943_30943.txt'\n",
            "Renamed '30947.txt' to 'fns30947_30947.txt'\n",
            "Renamed '30946.txt' to 'fns30946_30946.txt'\n",
            "Renamed '30948.txt' to 'fns30948_30948.txt'\n",
            "Renamed '30950.txt' to 'fns30950_30950.txt'\n",
            "Renamed '30952.txt' to 'fns30952_30952.txt'\n",
            "Renamed '30954.txt' to 'fns30954_30954.txt'\n",
            "Renamed '30962.txt' to 'fns30962_30962.txt'\n",
            "Renamed '30960.txt' to 'fns30960_30960.txt'\n",
            "Renamed '30966.txt' to 'fns30966_30966.txt'\n",
            "Renamed '30965.txt' to 'fns30965_30965.txt'\n",
            "Renamed '30967.txt' to 'fns30967_30967.txt'\n",
            "Renamed '30968.txt' to 'fns30968_30968.txt'\n",
            "Renamed '30982.txt' to 'fns30982_30982.txt'\n",
            "Renamed '30991.txt' to 'fns30991_30991.txt'\n",
            "Renamed '31023.txt' to 'fns31023_31023.txt'\n",
            "Renamed '31015.txt' to 'fns31015_31015.txt'\n",
            "Renamed '31005.txt' to 'fns31005_31005.txt'\n",
            "Renamed '31007.txt' to 'fns31007_31007.txt'\n",
            "Renamed '31012.txt' to 'fns31012_31012.txt'\n",
            "Renamed '31008.txt' to 'fns31008_31008.txt'\n",
            "Renamed '31013.txt' to 'fns31013_31013.txt'\n",
            "Renamed '31033.txt' to 'fns31033_31033.txt'\n",
            "Renamed '31014.txt' to 'fns31014_31014.txt'\n",
            "Renamed '31022.txt' to 'fns31022_31022.txt'\n",
            "Renamed '31026.txt' to 'fns31026_31026.txt'\n",
            "Renamed '31031.txt' to 'fns31031_31031.txt'\n",
            "Renamed '31036.txt' to 'fns31036_31036.txt'\n",
            "Renamed '31034.txt' to 'fns31034_31034.txt'\n",
            "Renamed '31040.txt' to 'fns31040_31040.txt'\n",
            "Renamed '31037.txt' to 'fns31037_31037.txt'\n",
            "Renamed '31038.txt' to 'fns31038_31038.txt'\n",
            "Renamed '31074.txt' to 'fns31074_31074.txt'\n",
            "Renamed '31042.txt' to 'fns31042_31042.txt'\n",
            "Renamed '31050.txt' to 'fns31050_31050.txt'\n",
            "Renamed '31058.txt' to 'fns31058_31058.txt'\n",
            "Renamed '31053.txt' to 'fns31053_31053.txt'\n",
            "Renamed '31063.txt' to 'fns31063_31063.txt'\n",
            "Renamed '31059.txt' to 'fns31059_31059.txt'\n",
            "Renamed '31061.txt' to 'fns31061_31061.txt'\n",
            "Renamed '31064.txt' to 'fns31064_31064.txt'\n",
            "Renamed '31076.txt' to 'fns31076_31076.txt'\n",
            "Renamed '31114.txt' to 'fns31114_31114.txt'\n",
            "Renamed '31105.txt' to 'fns31105_31105.txt'\n",
            "Renamed '31101.txt' to 'fns31101_31101.txt'\n",
            "Renamed '31146.txt' to 'fns31146_31146.txt'\n",
            "Renamed '31109.txt' to 'fns31109_31109.txt'\n",
            "Renamed '31127.txt' to 'fns31127_31127.txt'\n",
            "Renamed '31202.txt' to 'fns31202_31202.txt'\n",
            "Renamed '31165.txt' to 'fns31165_31165.txt'\n",
            "Renamed '31203.txt' to 'fns31203_31203.txt'\n",
            "Renamed '31201.txt' to 'fns31201_31201.txt'\n",
            "Renamed '31204.txt' to 'fns31204_31204.txt'\n",
            "Renamed '31224.txt' to 'fns31224_31224.txt'\n",
            "Renamed '31220.txt' to 'fns31220_31220.txt'\n",
            "Renamed '31242.txt' to 'fns31242_31242.txt'\n",
            "Renamed '31254.txt' to 'fns31254_31254.txt'\n",
            "Renamed '31274.txt' to 'fns31274_31274.txt'\n",
            "Renamed '31260.txt' to 'fns31260_31260.txt'\n",
            "Renamed '31265.txt' to 'fns31265_31265.txt'\n",
            "Renamed '31271.txt' to 'fns31271_31271.txt'\n",
            "Renamed '31292.txt' to 'fns31292_31292.txt'\n",
            "Renamed '31290.txt' to 'fns31290_31290.txt'\n",
            "Renamed '31306.txt' to 'fns31306_31306.txt'\n",
            "Renamed '31277.txt' to 'fns31277_31277.txt'\n",
            "Renamed '31316.txt' to 'fns31316_31316.txt'\n",
            "Renamed '31315.txt' to 'fns31315_31315.txt'\n",
            "Renamed '31319.txt' to 'fns31319_31319.txt'\n",
            "Renamed '31329.txt' to 'fns31329_31329.txt'\n",
            "Renamed '31333.txt' to 'fns31333_31333.txt'\n",
            "Renamed '31358.txt' to 'fns31358_31358.txt'\n",
            "Renamed '31336.txt' to 'fns31336_31336.txt'\n",
            "Renamed '31383.txt' to 'fns31383_31383.txt'\n",
            "Renamed '31363.txt' to 'fns31363_31363.txt'\n",
            "Renamed '31424.txt' to 'fns31424_31424.txt'\n",
            "Renamed '31399.txt' to 'fns31399_31399.txt'\n",
            "Renamed '31452.txt' to 'fns31452_31452.txt'\n",
            "Renamed '31462.txt' to 'fns31462_31462.txt'\n",
            "Renamed '31478.txt' to 'fns31478_31478.txt'\n",
            "Renamed '31440.txt' to 'fns31440_31440.txt'\n",
            "Renamed '31474.txt' to 'fns31474_31474.txt'\n",
            "Renamed '31469.txt' to 'fns31469_31469.txt'\n",
            "Renamed '31484.txt' to 'fns31484_31484.txt'\n",
            "Renamed '31514.txt' to 'fns31514_31514.txt'\n",
            "Renamed '31492.txt' to 'fns31492_31492.txt'\n",
            "Renamed '31540.txt' to 'fns31540_31540.txt'\n",
            "Renamed '31506.txt' to 'fns31506_31506.txt'\n",
            "Renamed '31508.txt' to 'fns31508_31508.txt'\n",
            "Renamed '31512.txt' to 'fns31512_31512.txt'\n",
            "Renamed '31509.txt' to 'fns31509_31509.txt'\n",
            "Renamed '31517.txt' to 'fns31517_31517.txt'\n",
            "Renamed '31513.txt' to 'fns31513_31513.txt'\n",
            "Renamed '31632.txt' to 'fns31632_31632.txt'\n",
            "Renamed '31546.txt' to 'fns31546_31546.txt'\n",
            "Renamed '31567.txt' to 'fns31567_31567.txt'\n",
            "Renamed '31573.txt' to 'fns31573_31573.txt'\n",
            "Renamed '31568.txt' to 'fns31568_31568.txt'\n",
            "Renamed '31589.txt' to 'fns31589_31589.txt'\n",
            "Renamed '31601.txt' to 'fns31601_31601.txt'\n",
            "Renamed '31595.txt' to 'fns31595_31595.txt'\n",
            "Renamed '31604.txt' to 'fns31604_31604.txt'\n",
            "Renamed '31608.txt' to 'fns31608_31608.txt'\n",
            "Renamed '31610.txt' to 'fns31610_31610.txt'\n",
            "Renamed '31617.txt' to 'fns31617_31617.txt'\n",
            "Renamed '31618.txt' to 'fns31618_31618.txt'\n",
            "Renamed '31623.txt' to 'fns31623_31623.txt'\n",
            "Renamed '31620.txt' to 'fns31620_31620.txt'\n",
            "Renamed '31628.txt' to 'fns31628_31628.txt'\n",
            "Renamed '31631.txt' to 'fns31631_31631.txt'\n",
            "Renamed '31685.txt' to 'fns31685_31685.txt'\n",
            "Renamed '31633.txt' to 'fns31633_31633.txt'\n",
            "Renamed '31634.txt' to 'fns31634_31634.txt'\n",
            "Renamed '31648.txt' to 'fns31648_31648.txt'\n",
            "Renamed '31646.txt' to 'fns31646_31646.txt'\n",
            "Renamed '31655.txt' to 'fns31655_31655.txt'\n",
            "Renamed '31654.txt' to 'fns31654_31654.txt'\n",
            "Renamed '31650.txt' to 'fns31650_31650.txt'\n",
            "Renamed '31659.txt' to 'fns31659_31659.txt'\n",
            "Renamed '31661.txt' to 'fns31661_31661.txt'\n",
            "Renamed '31664.txt' to 'fns31664_31664.txt'\n",
            "Renamed '31677.txt' to 'fns31677_31677.txt'\n",
            "Renamed '31678.txt' to 'fns31678_31678.txt'\n",
            "Renamed '31699.txt' to 'fns31699_31699.txt'\n",
            "Renamed '31681.txt' to 'fns31681_31681.txt'\n",
            "Renamed '31755.txt' to 'fns31755_31755.txt'\n",
            "Renamed '31705.txt' to 'fns31705_31705.txt'\n",
            "Renamed '31769.txt' to 'fns31769_31769.txt'\n",
            "Renamed '31757.txt' to 'fns31757_31757.txt'\n",
            "Renamed '31766.txt' to 'fns31766_31766.txt'\n",
            "Renamed '31811.txt' to 'fns31811_31811.txt'\n",
            "Renamed '31794.txt' to 'fns31794_31794.txt'\n",
            "Renamed '31784.txt' to 'fns31784_31784.txt'\n",
            "Renamed '31817.txt' to 'fns31817_31817.txt'\n",
            "Renamed '31846.txt' to 'fns31846_31846.txt'\n",
            "Renamed '31824.txt' to 'fns31824_31824.txt'\n",
            "Renamed '31828.txt' to 'fns31828_31828.txt'\n",
            "Renamed '31831.txt' to 'fns31831_31831.txt'\n",
            "Renamed '31834.txt' to 'fns31834_31834.txt'\n",
            "Renamed '31839.txt' to 'fns31839_31839.txt'\n",
            "Renamed '31844.txt' to 'fns31844_31844.txt'\n",
            "Renamed '31843.txt' to 'fns31843_31843.txt'\n",
            "Renamed '31850.txt' to 'fns31850_31850.txt'\n",
            "Renamed '31851.txt' to 'fns31851_31851.txt'\n",
            "Renamed '31854.txt' to 'fns31854_31854.txt'\n",
            "Renamed '31857.txt' to 'fns31857_31857.txt'\n",
            "Renamed '31855.txt' to 'fns31855_31855.txt'\n",
            "Renamed '31866.txt' to 'fns31866_31866.txt'\n",
            "Renamed '31879.txt' to 'fns31879_31879.txt'\n",
            "Renamed '31872.txt' to 'fns31872_31872.txt'\n",
            "Renamed '31889.txt' to 'fns31889_31889.txt'\n",
            "Renamed '31914.txt' to 'fns31914_31914.txt'\n",
            "Renamed '31926.txt' to 'fns31926_31926.txt'\n",
            "Renamed '31939.txt' to 'fns31939_31939.txt'\n",
            "Renamed '31938.txt' to 'fns31938_31938.txt'\n",
            "Renamed '31940.txt' to 'fns31940_31940.txt'\n",
            "Renamed '31948.txt' to 'fns31948_31948.txt'\n",
            "Renamed '31950.txt' to 'fns31950_31950.txt'\n",
            "Renamed '31942.txt' to 'fns31942_31942.txt'\n",
            "Renamed '31955.txt' to 'fns31955_31955.txt'\n",
            "Renamed '31959.txt' to 'fns31959_31959.txt'\n",
            "Renamed '32025.txt' to 'fns32025_32025.txt'\n",
            "Renamed '31969.txt' to 'fns31969_31969.txt'\n",
            "Renamed '32034.txt' to 'fns32034_32034.txt'\n",
            "Renamed '31970.txt' to 'fns31970_31970.txt'\n",
            "Renamed '31983.txt' to 'fns31983_31983.txt'\n",
            "Renamed '31984.txt' to 'fns31984_31984.txt'\n",
            "Renamed '31979.txt' to 'fns31979_31979.txt'\n",
            "Renamed '32004.txt' to 'fns32004_32004.txt'\n",
            "Renamed '31987.txt' to 'fns31987_31987.txt'\n",
            "Renamed '32020.txt' to 'fns32020_32020.txt'\n",
            "Renamed '32032.txt' to 'fns32032_32032.txt'\n",
            "Renamed '32021.txt' to 'fns32021_32021.txt'\n",
            "Renamed '32042.txt' to 'fns32042_32042.txt'\n",
            "Renamed '32044.txt' to 'fns32044_32044.txt'\n",
            "Renamed '32051.txt' to 'fns32051_32051.txt'\n",
            "Renamed '32072.txt' to 'fns32072_32072.txt'\n",
            "Renamed '32061.txt' to 'fns32061_32061.txt'\n",
            "Renamed '32071.txt' to 'fns32071_32071.txt'\n",
            "Renamed '32067.txt' to 'fns32067_32067.txt'\n",
            "Renamed '32074.txt' to 'fns32074_32074.txt'\n",
            "Renamed '32092.txt' to 'fns32092_32092.txt'\n",
            "Renamed '32097.txt' to 'fns32097_32097.txt'\n",
            "Renamed '32098.txt' to 'fns32098_32098.txt'\n",
            "Renamed '32150.txt' to 'fns32150_32150.txt'\n",
            "Renamed '32113.txt' to 'fns32113_32113.txt'\n",
            "Renamed '32107.txt' to 'fns32107_32107.txt'\n",
            "Renamed '32116.txt' to 'fns32116_32116.txt'\n",
            "Renamed '32143.txt' to 'fns32143_32143.txt'\n",
            "Renamed '32134.txt' to 'fns32134_32134.txt'\n",
            "Renamed '32129.txt' to 'fns32129_32129.txt'\n",
            "Renamed '32135.txt' to 'fns32135_32135.txt'\n",
            "Renamed '32136.txt' to 'fns32136_32136.txt'\n",
            "Renamed '32139.txt' to 'fns32139_32139.txt'\n",
            "Renamed '32140.txt' to 'fns32140_32140.txt'\n",
            "Renamed '32141.txt' to 'fns32141_32141.txt'\n",
            "Renamed '32144.txt' to 'fns32144_32144.txt'\n",
            "Renamed '32148.txt' to 'fns32148_32148.txt'\n",
            "Renamed '32149.txt' to 'fns32149_32149.txt'\n",
            "Renamed '32155.txt' to 'fns32155_32155.txt'\n",
            "Renamed '32156.txt' to 'fns32156_32156.txt'\n",
            "Renamed '32165.txt' to 'fns32165_32165.txt'\n",
            "Renamed '32157.txt' to 'fns32157_32157.txt'\n",
            "Renamed '32163.txt' to 'fns32163_32163.txt'\n",
            "Renamed '32183.txt' to 'fns32183_32183.txt'\n",
            "Renamed '32168.txt' to 'fns32168_32168.txt'\n",
            "Renamed '32170.txt' to 'fns32170_32170.txt'\n",
            "Renamed '32176.txt' to 'fns32176_32176.txt'\n",
            "Renamed '32179.txt' to 'fns32179_32179.txt'\n",
            "Renamed '32177.txt' to 'fns32177_32177.txt'\n",
            "Renamed '32185.txt' to 'fns32185_32185.txt'\n",
            "Renamed '32180.txt' to 'fns32180_32180.txt'\n",
            "Renamed '32190.txt' to 'fns32190_32190.txt'\n",
            "Renamed '32186.txt' to 'fns32186_32186.txt'\n",
            "Renamed '32217.txt' to 'fns32217_32217.txt'\n",
            "Renamed '32197.txt' to 'fns32197_32197.txt'\n",
            "Renamed '32196.txt' to 'fns32196_32196.txt'\n",
            "Renamed '32220.txt' to 'fns32220_32220.txt'\n",
            "Renamed '32229.txt' to 'fns32229_32229.txt'\n",
            "Renamed '32223.txt' to 'fns32223_32223.txt'\n",
            "Renamed '32248.txt' to 'fns32248_32248.txt'\n",
            "Renamed '32236.txt' to 'fns32236_32236.txt'\n",
            "Renamed '32286.txt' to 'fns32286_32286.txt'\n",
            "Renamed '32272.txt' to 'fns32272_32272.txt'\n",
            "Renamed '32333.txt' to 'fns32333_32333.txt'\n",
            "Renamed '32340.txt' to 'fns32340_32340.txt'\n",
            "Renamed '32343.txt' to 'fns32343_32343.txt'\n",
            "Renamed '32414.txt' to 'fns32414_32414.txt'\n",
            "Renamed '32349.txt' to 'fns32349_32349.txt'\n",
            "Renamed '32345.txt' to 'fns32345_32345.txt'\n",
            "Renamed '32359.txt' to 'fns32359_32359.txt'\n",
            "Renamed '32355.txt' to 'fns32355_32355.txt'\n",
            "Renamed '32378.txt' to 'fns32378_32378.txt'\n",
            "Renamed '32376.txt' to 'fns32376_32376.txt'\n",
            "Renamed '32380.txt' to 'fns32380_32380.txt'\n",
            "Renamed '32384.txt' to 'fns32384_32384.txt'\n",
            "Renamed '32392.txt' to 'fns32392_32392.txt'\n",
            "Renamed '32389.txt' to 'fns32389_32389.txt'\n",
            "Renamed '32424.txt' to 'fns32424_32424.txt'\n",
            "Renamed '32408.txt' to 'fns32408_32408.txt'\n",
            "Renamed '32482.txt' to 'fns32482_32482.txt'\n",
            "Renamed '32394.txt' to 'fns32394_32394.txt'\n",
            "Renamed '32452.txt' to 'fns32452_32452.txt'\n",
            "Renamed '32437.txt' to 'fns32437_32437.txt'\n",
            "Renamed '32480.txt' to 'fns32480_32480.txt'\n",
            "Renamed '32531.txt' to 'fns32531_32531.txt'\n",
            "Renamed '32540.txt' to 'fns32540_32540.txt'\n",
            "Renamed '32538.txt' to 'fns32538_32538.txt'\n",
            "Renamed '32541.txt' to 'fns32541_32541.txt'\n",
            "Renamed '32543.txt' to 'fns32543_32543.txt'\n",
            "Renamed '32545.txt' to 'fns32545_32545.txt'\n",
            "Renamed '32548.txt' to 'fns32548_32548.txt'\n",
            "Renamed '32555.txt' to 'fns32555_32555.txt'\n",
            "Renamed '32553.txt' to 'fns32553_32553.txt'\n",
            "Renamed '32556.txt' to 'fns32556_32556.txt'\n",
            "Renamed '32560.txt' to 'fns32560_32560.txt'\n",
            "Renamed '32557.txt' to 'fns32557_32557.txt'\n",
            "Renamed '32561.txt' to 'fns32561_32561.txt'\n",
            "Renamed '32562.txt' to 'fns32562_32562.txt'\n",
            "Renamed '32583.txt' to 'fns32583_32583.txt'\n",
            "Renamed '32599.txt' to 'fns32599_32599.txt'\n",
            "Renamed '32597.txt' to 'fns32597_32597.txt'\n",
            "Renamed '32609.txt' to 'fns32609_32609.txt'\n",
            "Renamed '32623.txt' to 'fns32623_32623.txt'\n",
            "Renamed '32602.txt' to 'fns32602_32602.txt'\n",
            "Renamed '32616.txt' to 'fns32616_32616.txt'\n",
            "Renamed '32657.txt' to 'fns32657_32657.txt'\n",
            "Renamed '32651.txt' to 'fns32651_32651.txt'\n",
            "Renamed '32648.txt' to 'fns32648_32648.txt'\n",
            "Renamed '32684.txt' to 'fns32684_32684.txt'\n",
            "Renamed '32688.txt' to 'fns32688_32688.txt'\n",
            "Renamed '32693.txt' to 'fns32693_32693.txt'\n",
            "Renamed '32771.txt' to 'fns32771_32771.txt'\n",
            "Renamed '32773.txt' to 'fns32773_32773.txt'\n",
            "Renamed '32734.txt' to 'fns32734_32734.txt'\n",
            "Renamed '32717.txt' to 'fns32717_32717.txt'\n",
            "Renamed '32792.txt' to 'fns32792_32792.txt'\n",
            "Renamed '32809.txt' to 'fns32809_32809.txt'\n",
            "Renamed '32854.txt' to 'fns32854_32854.txt'\n",
            "Renamed '32810.txt' to 'fns32810_32810.txt'\n",
            "Renamed '32825.txt' to 'fns32825_32825.txt'\n",
            "Renamed '32848.txt' to 'fns32848_32848.txt'\n",
            "Renamed '32849.txt' to 'fns32849_32849.txt'\n",
            "Renamed '32859.txt' to 'fns32859_32859.txt'\n",
            "Renamed '32879.txt' to 'fns32879_32879.txt'\n",
            "Renamed '32874.txt' to 'fns32874_32874.txt'\n",
            "Renamed '32865.txt' to 'fns32865_32865.txt'\n",
            "Renamed '32886.txt' to 'fns32886_32886.txt'\n",
            "Renamed '32926.txt' to 'fns32926_32926.txt'\n",
            "Renamed '32966.txt' to 'fns32966_32966.txt'\n",
            "Renamed '32939.txt' to 'fns32939_32939.txt'\n",
            "Renamed '32936.txt' to 'fns32936_32936.txt'\n",
            "Renamed '32954.txt' to 'fns32954_32954.txt'\n",
            "Renamed '33018.txt' to 'fns33018_33018.txt'\n",
            "Renamed '32964.txt' to 'fns32964_32964.txt'\n",
            "Renamed '33027.txt' to 'fns33027_33027.txt'\n",
            "Renamed '33035.txt' to 'fns33035_33035.txt'\n",
            "Renamed '33029.txt' to 'fns33029_33029.txt'\n",
            "Renamed '33038.txt' to 'fns33038_33038.txt'\n",
            "Renamed '33037.txt' to 'fns33037_33037.txt'\n",
            "Renamed '33036.txt' to 'fns33036_33036.txt'\n",
            "Renamed '33039.txt' to 'fns33039_33039.txt'\n",
            "Renamed '33054.txt' to 'fns33054_33054.txt'\n",
            "Renamed '33083.txt' to 'fns33083_33083.txt'\n",
            "Renamed '33053.txt' to 'fns33053_33053.txt'\n",
            "Renamed '33057.txt' to 'fns33057_33057.txt'\n",
            "Renamed '33090.txt' to 'fns33090_33090.txt'\n",
            "Renamed '33070.txt' to 'fns33070_33070.txt'\n",
            "Renamed '33130.txt' to 'fns33130_33130.txt'\n",
            "Renamed '33097.txt' to 'fns33097_33097.txt'\n",
            "Renamed '33098.txt' to 'fns33098_33098.txt'\n",
            "Renamed '33154.txt' to 'fns33154_33154.txt'\n",
            "Renamed '33155.txt' to 'fns33155_33155.txt'\n"
          ]
        }
      ]
    },
    {
      "cell_type": "markdown",
      "source": [
        "# **Renaming Gold Summary**"
      ],
      "metadata": {
        "id": "J14KR6z_65z4"
      }
    },
    {
      "cell_type": "code",
      "source": [
        "import os\n",
        "\n",
        "# Path to the directory containing the files\n",
        "folder_path = \"/content/drive/MyDrive/validation (2)/gold_summaries (1)\"\n",
        "\n",
        "# Iterate over all files in the directory\n",
        "for filename in os.listdir(folder_path):\n",
        "    if filename.endswith(\".txt\"):  # Check if the file is a text file\n",
        "        # Extract the file number and part number from the filename\n",
        "        file_number, part_number = filename.split('_')[0], filename.split('_')[1].split('.')[0]\n",
        "\n",
        "        # Define the new filename pattern\n",
        "        new_filename = f\"fns{file_number}_{file_number}_{part_number}.txt\"\n",
        "\n",
        "        # Build the full paths for the old and new filenames\n",
        "        old_filepath = os.path.join(folder_path, filename)\n",
        "        new_filepath = os.path.join(folder_path, new_filename)\n",
        "\n",
        "        # Rename the file\n",
        "        os.rename(old_filepath, new_filepath)\n",
        "        print(f\"Renamed '{filename}' to '{new_filename}'\")\n"
      ],
      "metadata": {
        "id": "_SCO3ZWI5dWa",
        "colab": {
          "base_uri": "https://localhost:8080/"
        },
        "outputId": "1c15ee27-ab97-48ba-dc01-51326feec41b"
      },
      "execution_count": null,
      "outputs": [
        {
          "output_type": "stream",
          "name": "stdout",
          "text": [
            "Renamed '33130_2.txt' to 'fns33130_33130_2.txt'\n",
            "Renamed '33070_2.txt' to 'fns33070_33070_2.txt'\n",
            "Renamed '33090_3.txt' to 'fns33090_33090_3.txt'\n",
            "Renamed '33090_1.txt' to 'fns33090_33090_1.txt'\n",
            "Renamed '33097_3.txt' to 'fns33097_33097_3.txt'\n",
            "Renamed '33090_2.txt' to 'fns33090_33090_2.txt'\n",
            "Renamed '33097_2.txt' to 'fns33097_33097_2.txt'\n",
            "Renamed '33097_1.txt' to 'fns33097_33097_1.txt'\n",
            "Renamed '33090_4.txt' to 'fns33090_33090_4.txt'\n",
            "Renamed '33098_1.txt' to 'fns33098_33098_1.txt'\n",
            "Renamed '33098_2.txt' to 'fns33098_33098_2.txt'\n",
            "Renamed '33098_3.txt' to 'fns33098_33098_3.txt'\n",
            "Renamed '33155_4.txt' to 'fns33155_33155_4.txt'\n",
            "Renamed '33155_2.txt' to 'fns33155_33155_2.txt'\n",
            "Renamed '33130_3.txt' to 'fns33130_33130_3.txt'\n",
            "Renamed '33155_1.txt' to 'fns33155_33155_1.txt'\n",
            "Renamed '33130_1.txt' to 'fns33130_33130_1.txt'\n",
            "Renamed '33155_3.txt' to 'fns33155_33155_3.txt'\n",
            "Renamed '33154_1.txt' to 'fns33154_33154_1.txt'\n",
            "Renamed '33154_2.txt' to 'fns33154_33154_2.txt'\n",
            "Renamed '33154_3.txt' to 'fns33154_33154_3.txt'\n",
            "Renamed '33035_3.txt' to 'fns33035_33035_3.txt'\n",
            "Renamed '33035_2.txt' to 'fns33035_33035_2.txt'\n",
            "Renamed '33038_1.txt' to 'fns33038_33038_1.txt'\n",
            "Renamed '33038_3.txt' to 'fns33038_33038_3.txt'\n",
            "Renamed '33037_3.txt' to 'fns33037_33037_3.txt'\n",
            "Renamed '33037_1.txt' to 'fns33037_33037_1.txt'\n",
            "Renamed '33037_2.txt' to 'fns33037_33037_2.txt'\n",
            "Renamed '33038_2.txt' to 'fns33038_33038_2.txt'\n",
            "Renamed '33035_1.txt' to 'fns33035_33035_1.txt'\n",
            "Renamed '33053_3.txt' to 'fns33053_33053_3.txt'\n",
            "Renamed '33083_2.txt' to 'fns33083_33083_2.txt'\n",
            "Renamed '33054_1.txt' to 'fns33054_33054_1.txt'\n",
            "Renamed '33083_1.txt' to 'fns33083_33083_1.txt'\n",
            "Renamed '33039_2.txt' to 'fns33039_33039_2.txt'\n",
            "Renamed '33083_3.txt' to 'fns33083_33083_3.txt'\n",
            "Renamed '33039_3.txt' to 'fns33039_33039_3.txt'\n",
            "Renamed '33054_3.txt' to 'fns33054_33054_3.txt'\n",
            "Renamed '33054_2.txt' to 'fns33054_33054_2.txt'\n",
            "Renamed '33057_3.txt' to 'fns33057_33057_3.txt'\n",
            "Renamed '33070_1.txt' to 'fns33070_33070_1.txt'\n",
            "Renamed '33057_1.txt' to 'fns33057_33057_1.txt'\n",
            "Renamed '33057_2.txt' to 'fns33057_33057_2.txt'\n",
            "Renamed '33057_4.txt' to 'fns33057_33057_4.txt'\n",
            "Renamed '33070_4.txt' to 'fns33070_33070_4.txt'\n",
            "Renamed '33070_3.txt' to 'fns33070_33070_3.txt'\n",
            "Renamed '33039_1.txt' to 'fns33039_33039_1.txt'\n",
            "Renamed '33053_2.txt' to 'fns33053_33053_2.txt'\n",
            "Renamed '33053_1.txt' to 'fns33053_33053_1.txt'\n",
            "Renamed '32886_4.txt' to 'fns32886_32886_4.txt'\n",
            "Renamed '32966_1.txt' to 'fns32966_32966_1.txt'\n",
            "Renamed '32966_2.txt' to 'fns32966_32966_2.txt'\n",
            "Renamed '32966_3.txt' to 'fns32966_32966_3.txt'\n",
            "Renamed '32886_2.txt' to 'fns32886_32886_2.txt'\n",
            "Renamed '32886_1.txt' to 'fns32886_32886_1.txt'\n",
            "Renamed '32886_3.txt' to 'fns32886_32886_3.txt'\n",
            "Renamed '32879_2.txt' to 'fns32879_32879_2.txt'\n",
            "Renamed '32879_3.txt' to 'fns32879_32879_3.txt'\n",
            "Renamed '32926_2.txt' to 'fns32926_32926_2.txt'\n",
            "Renamed '32926_1.txt' to 'fns32926_32926_1.txt'\n",
            "Renamed '32936_4.txt' to 'fns32936_32936_4.txt'\n",
            "Renamed '32939_2.txt' to 'fns32939_32939_2.txt'\n",
            "Renamed '32936_2.txt' to 'fns32936_32936_2.txt'\n",
            "Renamed '32939_3.txt' to 'fns32939_32939_3.txt'\n",
            "Renamed '32879_1.txt' to 'fns32879_32879_1.txt'\n",
            "Renamed '32926_3.txt' to 'fns32926_32926_3.txt'\n",
            "Renamed '32936_1.txt' to 'fns32936_32936_1.txt'\n",
            "Renamed '32939_1.txt' to 'fns32939_32939_1.txt'\n",
            "Renamed '33018_3.txt' to 'fns33018_33018_3.txt'\n",
            "Renamed '33018_2.txt' to 'fns33018_33018_2.txt'\n",
            "Renamed '33018_1.txt' to 'fns33018_33018_1.txt'\n",
            "Renamed '32964_3.txt' to 'fns32964_32964_3.txt'\n",
            "Renamed '32954_4.txt' to 'fns32954_32954_4.txt'\n",
            "Renamed '32964_2.txt' to 'fns32964_32964_2.txt'\n",
            "Renamed '32964_4.txt' to 'fns32964_32964_4.txt'\n",
            "Renamed '32936_3.txt' to 'fns32936_32936_3.txt'\n",
            "Renamed '32954_3.txt' to 'fns32954_32954_3.txt'\n",
            "Renamed '32954_2.txt' to 'fns32954_32954_2.txt'\n",
            "Renamed '32954_1.txt' to 'fns32954_32954_1.txt'\n",
            "Renamed '33036_2.txt' to 'fns33036_33036_2.txt'\n",
            "Renamed '33029_2.txt' to 'fns33029_33029_2.txt'\n",
            "Renamed '33029_3.txt' to 'fns33029_33029_3.txt'\n",
            "Renamed '33036_3.txt' to 'fns33036_33036_3.txt'\n",
            "Renamed '33029_1.txt' to 'fns33029_33029_1.txt'\n",
            "Renamed '33027_4.txt' to 'fns33027_33027_4.txt'\n",
            "Renamed '33027_2.txt' to 'fns33027_33027_2.txt'\n",
            "Renamed '33027_3.txt' to 'fns33027_33027_3.txt'\n",
            "Renamed '32964_1.txt' to 'fns32964_32964_1.txt'\n",
            "Renamed '33027_1.txt' to 'fns33027_33027_1.txt'\n",
            "Renamed '33036_1.txt' to 'fns33036_33036_1.txt'\n",
            "Renamed '32810_5.txt' to 'fns32810_32810_5.txt'\n",
            "Renamed '32825_3.txt' to 'fns32825_32825_3.txt'\n",
            "Renamed '32825_1.txt' to 'fns32825_32825_1.txt'\n",
            "Renamed '32848_1.txt' to 'fns32848_32848_1.txt'\n",
            "Renamed '32849_3.txt' to 'fns32849_32849_3.txt'\n",
            "Renamed '32825_2.txt' to 'fns32825_32825_2.txt'\n",
            "Renamed '32848_3.txt' to 'fns32848_32848_3.txt'\n",
            "Renamed '32848_2.txt' to 'fns32848_32848_2.txt'\n",
            "Renamed '32810_1.txt' to 'fns32810_32810_1.txt'\n",
            "Renamed '32849_1.txt' to 'fns32849_32849_1.txt'\n",
            "Renamed '32849_2.txt' to 'fns32849_32849_2.txt'\n",
            "Renamed '32874_4.txt' to 'fns32874_32874_4.txt'\n",
            "Renamed '32874_2.txt' to 'fns32874_32874_2.txt'\n",
            "Renamed '32865_2.txt' to 'fns32865_32865_2.txt'\n",
            "Renamed '32874_3.txt' to 'fns32874_32874_3.txt'\n",
            "Renamed '32874_1.txt' to 'fns32874_32874_1.txt'\n",
            "Renamed '32859_2.txt' to 'fns32859_32859_2.txt'\n",
            "Renamed '32865_3.txt' to 'fns32865_32865_3.txt'\n",
            "Renamed '32859_1.txt' to 'fns32859_32859_1.txt'\n",
            "Renamed '32859_3.txt' to 'fns32859_32859_3.txt'\n",
            "Renamed '32865_1.txt' to 'fns32865_32865_1.txt'\n",
            "Renamed '32693_1.txt' to 'fns32693_32693_1.txt'\n",
            "Renamed '32792_3.txt' to 'fns32792_32792_3.txt'\n",
            "Renamed '32792_2.txt' to 'fns32792_32792_2.txt'\n",
            "Renamed '32773_3.txt' to 'fns32773_32773_3.txt'\n",
            "Renamed '32773_2.txt' to 'fns32773_32773_2.txt'\n",
            "Renamed '32792_1.txt' to 'fns32792_32792_1.txt'\n",
            "Renamed '32771_1.txt' to 'fns32771_32771_1.txt'\n",
            "Renamed '32734_2.txt' to 'fns32734_32734_2.txt'\n",
            "Renamed '32734_3.txt' to 'fns32734_32734_3.txt'\n",
            "Renamed '32771_2.txt' to 'fns32771_32771_2.txt'\n",
            "Renamed '32734_1.txt' to 'fns32734_32734_1.txt'\n",
            "Renamed '32854_3.txt' to 'fns32854_32854_3.txt'\n",
            "Renamed '32854_2.txt' to 'fns32854_32854_2.txt'\n",
            "Renamed '32854_1.txt' to 'fns32854_32854_1.txt'\n",
            "Renamed '32809_3.txt' to 'fns32809_32809_3.txt'\n",
            "Renamed '32809_2.txt' to 'fns32809_32809_2.txt'\n",
            "Renamed '32810_2.txt' to 'fns32810_32810_2.txt'\n",
            "Renamed '32773_1.txt' to 'fns32773_32773_1.txt'\n",
            "Renamed '32809_1.txt' to 'fns32809_32809_1.txt'\n",
            "Renamed '32810_3.txt' to 'fns32810_32810_3.txt'\n",
            "Renamed '32651_2.txt' to 'fns32651_32651_2.txt'\n",
            "Renamed '32651_1.txt' to 'fns32651_32651_1.txt'\n",
            "Renamed '32623_3.txt' to 'fns32623_32623_3.txt'\n",
            "Renamed '32657_3.txt' to 'fns32657_32657_3.txt'\n",
            "Renamed '32657_1.txt' to 'fns32657_32657_1.txt'\n",
            "Renamed '32657_2.txt' to 'fns32657_32657_2.txt'\n",
            "Renamed '32648_3.txt' to 'fns32648_32648_3.txt'\n",
            "Renamed '32623_1.txt' to 'fns32623_32623_1.txt'\n",
            "Renamed '32623_2.txt' to 'fns32623_32623_2.txt'\n",
            "Renamed '32648_1.txt' to 'fns32648_32648_1.txt'\n",
            "Renamed '32684_4.txt' to 'fns32684_32684_4.txt'\n",
            "Renamed '32684_3.txt' to 'fns32684_32684_3.txt'\n",
            "Renamed '32684_1.txt' to 'fns32684_32684_1.txt'\n",
            "Renamed '32684_2.txt' to 'fns32684_32684_2.txt'\n",
            "Renamed '32648_2.txt' to 'fns32648_32648_2.txt'\n",
            "Renamed '32688_2.txt' to 'fns32688_32688_2.txt'\n",
            "Renamed '32688_1.txt' to 'fns32688_32688_1.txt'\n",
            "Renamed '32688_4.txt' to 'fns32688_32688_4.txt'\n",
            "Renamed '32688_3.txt' to 'fns32688_32688_3.txt'\n",
            "Renamed '32717_2.txt' to 'fns32717_32717_2.txt'\n",
            "Renamed '32771_4.txt' to 'fns32771_32771_4.txt'\n",
            "Renamed '32717_1.txt' to 'fns32717_32717_1.txt'\n",
            "Renamed '32717_3.txt' to 'fns32717_32717_3.txt'\n",
            "Renamed '32771_3.txt' to 'fns32771_32771_3.txt'\n",
            "Renamed '32693_4.txt' to 'fns32693_32693_4.txt'\n",
            "Renamed '32693_2.txt' to 'fns32693_32693_2.txt'\n",
            "Renamed '32693_3.txt' to 'fns32693_32693_3.txt'\n",
            "Renamed '32693_5.txt' to 'fns32693_32693_5.txt'\n",
            "Renamed '32597_3.txt' to 'fns32597_32597_3.txt'\n",
            "Renamed '32597_1.txt' to 'fns32597_32597_1.txt'\n",
            "Renamed '32599_3.txt' to 'fns32599_32599_3.txt'\n",
            "Renamed '32609_1.txt' to 'fns32609_32609_1.txt'\n",
            "Renamed '32597_2.txt' to 'fns32597_32597_2.txt'\n",
            "Renamed '32599_1.txt' to 'fns32599_32599_1.txt'\n",
            "Renamed '32609_3.txt' to 'fns32609_32609_3.txt'\n",
            "Renamed '32609_2.txt' to 'fns32609_32609_2.txt'\n",
            "Renamed '32599_6.txt' to 'fns32599_32599_6.txt'\n",
            "Renamed '32602_6.txt' to 'fns32602_32602_6.txt'\n",
            "Renamed '32602_1.txt' to 'fns32602_32602_1.txt'\n",
            "Renamed '32602_4.txt' to 'fns32602_32602_4.txt'\n",
            "Renamed '32602_3.txt' to 'fns32602_32602_3.txt'\n",
            "Renamed '32616_1.txt' to 'fns32616_32616_1.txt'\n",
            "Renamed '32602_7.txt' to 'fns32602_32602_7.txt'\n",
            "Renamed '32616_3.txt' to 'fns32616_32616_3.txt'\n",
            "Renamed '32616_2.txt' to 'fns32616_32616_2.txt'\n",
            "Renamed '32602_2.txt' to 'fns32602_32602_2.txt'\n",
            "Renamed '32616_4.txt' to 'fns32616_32616_4.txt'\n",
            "Renamed '32651_3.txt' to 'fns32651_32651_3.txt'\n",
            "Renamed '32557_5.txt' to 'fns32557_32557_5.txt'\n",
            "Renamed '32557_3.txt' to 'fns32557_32557_3.txt'\n",
            "Renamed '32561_2.txt' to 'fns32561_32561_2.txt'\n",
            "Renamed '32560_1.txt' to 'fns32560_32560_1.txt'\n",
            "Renamed '32560_3.txt' to 'fns32560_32560_3.txt'\n",
            "Renamed '32560_2.txt' to 'fns32560_32560_2.txt'\n",
            "Renamed '32557_1.txt' to 'fns32557_32557_1.txt'\n",
            "Renamed '32560_4.txt' to 'fns32560_32560_4.txt'\n",
            "Renamed '32557_2.txt' to 'fns32557_32557_2.txt'\n",
            "Renamed '32583_1.txt' to 'fns32583_32583_1.txt'\n",
            "Renamed '32599_2.txt' to 'fns32599_32599_2.txt'\n",
            "Renamed '32599_4.txt' to 'fns32599_32599_4.txt'\n",
            "Renamed '32583_3.txt' to 'fns32583_32583_3.txt'\n",
            "Renamed '32562_1.txt' to 'fns32562_32562_1.txt'\n",
            "Renamed '32561_1.txt' to 'fns32561_32561_1.txt'\n",
            "Renamed '32562_2.txt' to 'fns32562_32562_2.txt'\n",
            "Renamed '32562_3.txt' to 'fns32562_32562_3.txt'\n",
            "Renamed '32561_3.txt' to 'fns32561_32561_3.txt'\n",
            "Renamed '32583_2.txt' to 'fns32583_32583_2.txt'\n",
            "Renamed '32597_4.txt' to 'fns32597_32597_4.txt'\n",
            "Renamed '32543_4.txt' to 'fns32543_32543_4.txt'\n",
            "Renamed '32553_2.txt' to 'fns32553_32553_2.txt'\n",
            "Renamed '32553_3.txt' to 'fns32553_32553_3.txt'\n",
            "Renamed '32556_2.txt' to 'fns32556_32556_2.txt'\n",
            "Renamed '32556_3.txt' to 'fns32556_32556_3.txt'\n",
            "Renamed '32555_3.txt' to 'fns32555_32555_3.txt'\n",
            "Renamed '32555_2.txt' to 'fns32555_32555_2.txt'\n",
            "Renamed '32555_1.txt' to 'fns32555_32555_1.txt'\n",
            "Renamed '32543_2.txt' to 'fns32543_32543_2.txt'\n",
            "Renamed '32543_3.txt' to 'fns32543_32543_3.txt'\n",
            "Renamed '32543_1.txt' to 'fns32543_32543_1.txt'\n",
            "Renamed '32545_4.txt' to 'fns32545_32545_4.txt'\n",
            "Renamed '32548_3.txt' to 'fns32548_32548_3.txt'\n",
            "Renamed '32548_2.txt' to 'fns32548_32548_2.txt'\n",
            "Renamed '32545_2.txt' to 'fns32545_32545_2.txt'\n",
            "Renamed '32545_1.txt' to 'fns32545_32545_1.txt'\n",
            "Renamed '32545_3.txt' to 'fns32545_32545_3.txt'\n",
            "Renamed '32548_1.txt' to 'fns32548_32548_1.txt'\n",
            "Renamed '32553_4.txt' to 'fns32553_32553_4.txt'\n",
            "Renamed '32553_1.txt' to 'fns32553_32553_1.txt'\n",
            "Renamed '32556_1.txt' to 'fns32556_32556_1.txt'\n",
            "Renamed '32452_1.txt' to 'fns32452_32452_1.txt'\n",
            "Renamed '32452_3.txt' to 'fns32452_32452_3.txt'\n",
            "Renamed '32480_1.txt' to 'fns32480_32480_1.txt'\n",
            "Renamed '32480_3.txt' to 'fns32480_32480_3.txt'\n",
            "Renamed '32480_2.txt' to 'fns32480_32480_2.txt'\n",
            "Renamed '32531_3.txt' to 'fns32531_32531_3.txt'\n",
            "Renamed '32531_2.txt' to 'fns32531_32531_2.txt'\n",
            "Renamed '32531_1.txt' to 'fns32531_32531_1.txt'\n",
            "Renamed '32538_6.txt' to 'fns32538_32538_6.txt'\n",
            "Renamed '32538_3.txt' to 'fns32538_32538_3.txt'\n",
            "Renamed '32540_3.txt' to 'fns32540_32540_3.txt'\n",
            "Renamed '32540_2.txt' to 'fns32540_32540_2.txt'\n",
            "Renamed '32538_1.txt' to 'fns32538_32538_1.txt'\n",
            "Renamed '32541_3.txt' to 'fns32541_32541_3.txt'\n",
            "Renamed '32540_1.txt' to 'fns32540_32540_1.txt'\n",
            "Renamed '32538_4.txt' to 'fns32538_32538_4.txt'\n",
            "Renamed '32538_2.txt' to 'fns32538_32538_2.txt'\n",
            "Renamed '32541_2.txt' to 'fns32541_32541_2.txt'\n",
            "Renamed '32541_1.txt' to 'fns32541_32541_1.txt'\n",
            "Renamed '32392_1.txt' to 'fns32392_32392_1.txt'\n",
            "Renamed '32408_2.txt' to 'fns32408_32408_2.txt'\n",
            "Renamed '32424_3.txt' to 'fns32424_32424_3.txt'\n",
            "Renamed '32394_1.txt' to 'fns32394_32394_1.txt'\n",
            "Renamed '32424_4.txt' to 'fns32424_32424_4.txt'\n",
            "Renamed '32394_3.txt' to 'fns32394_32394_3.txt'\n",
            "Renamed '32408_3.txt' to 'fns32408_32408_3.txt'\n",
            "Renamed '32394_2.txt' to 'fns32394_32394_2.txt'\n",
            "Renamed '32408_1.txt' to 'fns32408_32408_1.txt'\n",
            "Renamed '32437_2.txt' to 'fns32437_32437_2.txt'\n",
            "Renamed '32437_3.txt' to 'fns32437_32437_3.txt'\n",
            "Renamed '32452_4.txt' to 'fns32452_32452_4.txt'\n",
            "Renamed '32482_1.txt' to 'fns32482_32482_1.txt'\n",
            "Renamed '32437_1.txt' to 'fns32437_32437_1.txt'\n",
            "Renamed '32482_2.txt' to 'fns32482_32482_2.txt'\n",
            "Renamed '32452_2.txt' to 'fns32452_32452_2.txt'\n",
            "Renamed '32424_2.txt' to 'fns32424_32424_2.txt'\n",
            "Renamed '32424_1.txt' to 'fns32424_32424_1.txt'\n",
            "Renamed '32482_3.txt' to 'fns32482_32482_3.txt'\n",
            "Renamed '32480_4.txt' to 'fns32480_32480_4.txt'\n",
            "Renamed '32384_3.txt' to 'fns32384_32384_3.txt'\n",
            "Renamed '32378_3.txt' to 'fns32378_32378_3.txt'\n",
            "Renamed '32378_1.txt' to 'fns32378_32378_1.txt'\n",
            "Renamed '32378_2.txt' to 'fns32378_32378_2.txt'\n",
            "Renamed '32376_1.txt' to 'fns32376_32376_1.txt'\n",
            "Renamed '32392_4.txt' to 'fns32392_32392_4.txt'\n",
            "Renamed '32392_3.txt' to 'fns32392_32392_3.txt'\n",
            "Renamed '32389_2.txt' to 'fns32389_32389_2.txt'\n",
            "Renamed '32389_3.txt' to 'fns32389_32389_3.txt'\n",
            "Renamed '32389_1.txt' to 'fns32389_32389_1.txt'\n",
            "Renamed '32384_1.txt' to 'fns32384_32384_1.txt'\n",
            "Renamed '32380_2.txt' to 'fns32380_32380_2.txt'\n",
            "Renamed '32380_3.txt' to 'fns32380_32380_3.txt'\n",
            "Renamed '32384_2.txt' to 'fns32384_32384_2.txt'\n",
            "Renamed '32380_1.txt' to 'fns32380_32380_1.txt'\n",
            "Renamed '32392_2.txt' to 'fns32392_32392_2.txt'\n",
            "Renamed '32414_2.txt' to 'fns32414_32414_2.txt'\n",
            "Renamed '32345_1.txt' to 'fns32345_32345_1.txt'\n",
            "Renamed '32349_4.txt' to 'fns32349_32349_4.txt'\n",
            "Renamed '32349_3.txt' to 'fns32349_32349_3.txt'\n",
            "Renamed '32345_2.txt' to 'fns32345_32345_2.txt'\n",
            "Renamed '32359_3.txt' to 'fns32359_32359_3.txt'\n",
            "Renamed '32355_2.txt' to 'fns32355_32355_2.txt'\n",
            "Renamed '32349_1.txt' to 'fns32349_32349_1.txt'\n",
            "Renamed '32355_1.txt' to 'fns32355_32355_1.txt'\n",
            "Renamed '32355_3.txt' to 'fns32355_32355_3.txt'\n",
            "Renamed '32349_2.txt' to 'fns32349_32349_2.txt'\n",
            "Renamed '32359_1.txt' to 'fns32359_32359_1.txt'\n",
            "Renamed '32376_2.txt' to 'fns32376_32376_2.txt'\n",
            "Renamed '32376_4.txt' to 'fns32376_32376_4.txt'\n",
            "Renamed '32376_3.txt' to 'fns32376_32376_3.txt'\n",
            "Renamed '32359_2.txt' to 'fns32359_32359_2.txt'\n",
            "Renamed '32229_1.txt' to 'fns32229_32229_1.txt'\n",
            "Renamed '32272_1.txt' to 'fns32272_32272_1.txt'\n",
            "Renamed '32286_4.txt' to 'fns32286_32286_4.txt'\n",
            "Renamed '32286_2.txt' to 'fns32286_32286_2.txt'\n",
            "Renamed '32340_3.txt' to 'fns32340_32340_3.txt'\n",
            "Renamed '32333_1.txt' to 'fns32333_32333_1.txt'\n",
            "Renamed '32333_2.txt' to 'fns32333_32333_2.txt'\n",
            "Renamed '32340_2.txt' to 'fns32340_32340_2.txt'\n",
            "Renamed '32286_1.txt' to 'fns32286_32286_1.txt'\n",
            "Renamed '32333_3.txt' to 'fns32333_32333_3.txt'\n",
            "Renamed '32286_3.txt' to 'fns32286_32286_3.txt'\n",
            "Renamed '32343_2.txt' to 'fns32343_32343_2.txt'\n",
            "Renamed '32414_3.txt' to 'fns32414_32414_3.txt'\n",
            "Renamed '32343_3.txt' to 'fns32343_32343_3.txt'\n",
            "Renamed '32343_1.txt' to 'fns32343_32343_1.txt'\n",
            "Renamed '32343_4.txt' to 'fns32343_32343_4.txt'\n",
            "Renamed '32340_1.txt' to 'fns32340_32340_1.txt'\n",
            "Renamed '32414_1.txt' to 'fns32414_32414_1.txt'\n",
            "Renamed '32345_4.txt' to 'fns32345_32345_4.txt'\n",
            "Renamed '32345_3.txt' to 'fns32345_32345_3.txt'\n",
            "Renamed '32223_3.txt' to 'fns32223_32223_3.txt'\n",
            "Renamed '32223_1.txt' to 'fns32223_32223_1.txt'\n",
            "Renamed '32223_2.txt' to 'fns32223_32223_2.txt'\n",
            "Renamed '32236_2.txt' to 'fns32236_32236_2.txt'\n",
            "Renamed '32236_3.txt' to 'fns32236_32236_3.txt'\n",
            "Renamed '32217_1.txt' to 'fns32217_32217_1.txt'\n",
            "Renamed '32217_4.txt' to 'fns32217_32217_4.txt'\n",
            "Renamed '32217_2.txt' to 'fns32217_32217_2.txt'\n",
            "Renamed '32236_1.txt' to 'fns32236_32236_1.txt'\n",
            "Renamed '32217_3.txt' to 'fns32217_32217_3.txt'\n",
            "Renamed '32248_3.txt' to 'fns32248_32248_3.txt'\n",
            "Renamed '32248_2.txt' to 'fns32248_32248_2.txt'\n",
            "Renamed '32272_2.txt' to 'fns32272_32272_2.txt'\n",
            "Renamed '32272_3.txt' to 'fns32272_32272_3.txt'\n",
            "Renamed '32272_4.txt' to 'fns32272_32272_4.txt'\n",
            "Renamed '32229_2.txt' to 'fns32229_32229_2.txt'\n",
            "Renamed '32248_1.txt' to 'fns32248_32248_1.txt'\n",
            "Renamed '32229_4.txt' to 'fns32229_32229_4.txt'\n",
            "Renamed '32229_3.txt' to 'fns32229_32229_3.txt'\n",
            "Renamed '32190_2.txt' to 'fns32190_32190_2.txt'\n",
            "Renamed '32186_2.txt' to 'fns32186_32186_2.txt'\n",
            "Renamed '32190_3.txt' to 'fns32190_32190_3.txt'\n",
            "Renamed '32186_1.txt' to 'fns32186_32186_1.txt'\n",
            "Renamed '32186_3.txt' to 'fns32186_32186_3.txt'\n",
            "Renamed '32185_1.txt' to 'fns32185_32185_1.txt'\n",
            "Renamed '32197_2.txt' to 'fns32197_32197_2.txt'\n",
            "Renamed '32197_1.txt' to 'fns32197_32197_1.txt'\n",
            "Renamed '32220_2.txt' to 'fns32220_32220_2.txt'\n",
            "Renamed '32196_2.txt' to 'fns32196_32196_2.txt'\n",
            "Renamed '32197_3.txt' to 'fns32197_32197_3.txt'\n",
            "Renamed '32196_1.txt' to 'fns32196_32196_1.txt'\n",
            "Renamed '32220_1.txt' to 'fns32220_32220_1.txt'\n",
            "Renamed '32190_1.txt' to 'fns32190_32190_1.txt'\n",
            "Renamed '32196_3.txt' to 'fns32196_32196_3.txt'\n",
            "Renamed '32220_3.txt' to 'fns32220_32220_3.txt'\n",
            "Renamed '32176_1.txt' to 'fns32176_32176_1.txt'\n",
            "Renamed '32177_4.txt' to 'fns32177_32177_4.txt'\n",
            "Renamed '32177_2.txt' to 'fns32177_32177_2.txt'\n",
            "Renamed '32177_3.txt' to 'fns32177_32177_3.txt'\n",
            "Renamed '32180_3.txt' to 'fns32180_32180_3.txt'\n",
            "Renamed '32180_4.txt' to 'fns32180_32180_4.txt'\n",
            "Renamed '32177_1.txt' to 'fns32177_32177_1.txt'\n",
            "Renamed '32180_2.txt' to 'fns32180_32180_2.txt'\n",
            "Renamed '32179_3.txt' to 'fns32179_32179_3.txt'\n",
            "Renamed '32180_1.txt' to 'fns32180_32180_1.txt'\n",
            "Renamed '32179_1.txt' to 'fns32179_32179_1.txt'\n",
            "Renamed '32185_2.txt' to 'fns32185_32185_2.txt'\n",
            "Renamed '32185_3.txt' to 'fns32185_32185_3.txt'\n",
            "Renamed '32179_2.txt' to 'fns32179_32179_2.txt'\n",
            "Renamed '32148_3.txt' to 'fns32148_32148_3.txt'\n",
            "Renamed '32144_1.txt' to 'fns32144_32144_1.txt'\n",
            "Renamed '32144_3.txt' to 'fns32144_32144_3.txt'\n",
            "Renamed '32149_4.txt' to 'fns32149_32149_4.txt'\n",
            "Renamed '32149_3.txt' to 'fns32149_32149_3.txt'\n",
            "Renamed '32148_1.txt' to 'fns32148_32148_1.txt'\n",
            "Renamed '32148_2.txt' to 'fns32148_32148_2.txt'\n",
            "Renamed '32155_2.txt' to 'fns32155_32155_2.txt'\n",
            "Renamed '32155_3.txt' to 'fns32155_32155_3.txt'\n",
            "Renamed '32156_3.txt' to 'fns32156_32156_3.txt'\n",
            "Renamed '32156_2.txt' to 'fns32156_32156_2.txt'\n",
            "Renamed '32156_4.txt' to 'fns32156_32156_4.txt'\n",
            "Renamed '32156_1.txt' to 'fns32156_32156_1.txt'\n",
            "Renamed '32149_2.txt' to 'fns32149_32149_2.txt'\n",
            "Renamed '32149_1.txt' to 'fns32149_32149_1.txt'\n",
            "Renamed '32155_1.txt' to 'fns32155_32155_1.txt'\n",
            "Renamed '32157_2.txt' to 'fns32157_32157_2.txt'\n",
            "Renamed '32163_2.txt' to 'fns32163_32163_2.txt'\n",
            "Renamed '32157_3.txt' to 'fns32157_32157_3.txt'\n",
            "Renamed '32183_3.txt' to 'fns32183_32183_3.txt'\n",
            "Renamed '32163_1.txt' to 'fns32163_32163_1.txt'\n",
            "Renamed '32163_3.txt' to 'fns32163_32163_3.txt'\n",
            "Renamed '32183_2.txt' to 'fns32183_32183_2.txt'\n",
            "Renamed '32165_3.txt' to 'fns32165_32165_3.txt'\n",
            "Renamed '32165_1.txt' to 'fns32165_32165_1.txt'\n",
            "Renamed '32165_2.txt' to 'fns32165_32165_2.txt'\n",
            "Renamed '32157_1.txt' to 'fns32157_32157_1.txt'\n",
            "Renamed '32170_4.txt' to 'fns32170_32170_4.txt'\n",
            "Renamed '32168_1.txt' to 'fns32168_32168_1.txt'\n",
            "Renamed '32176_2.txt' to 'fns32176_32176_2.txt'\n",
            "Renamed '32170_1.txt' to 'fns32170_32170_1.txt'\n",
            "Renamed '32176_3.txt' to 'fns32176_32176_3.txt'\n",
            "Renamed '32168_3.txt' to 'fns32168_32168_3.txt'\n",
            "Renamed '32170_2.txt' to 'fns32170_32170_2.txt'\n",
            "Renamed '32183_1.txt' to 'fns32183_32183_1.txt'\n",
            "Renamed '32168_2.txt' to 'fns32168_32168_2.txt'\n",
            "Renamed '32170_3.txt' to 'fns32170_32170_3.txt'\n",
            "Renamed '32136_1.txt' to 'fns32136_32136_1.txt'\n",
            "Renamed '32139_3.txt' to 'fns32139_32139_3.txt'\n",
            "Renamed '32139_2.txt' to 'fns32139_32139_2.txt'\n",
            "Renamed '32140_2.txt' to 'fns32140_32140_2.txt'\n",
            "Renamed '32140_3.txt' to 'fns32140_32140_3.txt'\n",
            "Renamed '32141_4.txt' to 'fns32141_32141_4.txt'\n",
            "Renamed '32140_1.txt' to 'fns32140_32140_1.txt'\n",
            "Renamed '32141_3.txt' to 'fns32141_32141_3.txt'\n",
            "Renamed '32136_2.txt' to 'fns32136_32136_2.txt'\n",
            "Renamed '32139_1.txt' to 'fns32139_32139_1.txt'\n",
            "Renamed '32141_1.txt' to 'fns32141_32141_1.txt'\n",
            "Renamed '32144_2.txt' to 'fns32144_32144_2.txt'\n",
            "Renamed '32141_2.txt' to 'fns32141_32141_2.txt'\n",
            "Renamed '32098_1.txt' to 'fns32098_32098_1.txt'\n",
            "Renamed '32150_2.txt' to 'fns32150_32150_2.txt'\n",
            "Renamed '32107_3.txt' to 'fns32107_32107_3.txt'\n",
            "Renamed '32150_3.txt' to 'fns32150_32150_3.txt'\n",
            "Renamed '32150_1.txt' to 'fns32150_32150_1.txt'\n",
            "Renamed '32113_5.txt' to 'fns32113_32113_5.txt'\n",
            "Renamed '32113_3.txt' to 'fns32113_32113_3.txt'\n",
            "Renamed '32113_2.txt' to 'fns32113_32113_2.txt'\n",
            "Renamed '32107_1.txt' to 'fns32107_32107_1.txt'\n",
            "Renamed '32107_2.txt' to 'fns32107_32107_2.txt'\n",
            "Renamed '32113_1.txt' to 'fns32113_32113_1.txt'\n",
            "Renamed '32116_3.txt' to 'fns32116_32116_3.txt'\n",
            "Renamed '32116_2.txt' to 'fns32116_32116_2.txt'\n",
            "Renamed '32116_1.txt' to 'fns32116_32116_1.txt'\n",
            "Renamed '32129_3.txt' to 'fns32129_32129_3.txt'\n",
            "Renamed '32129_4.txt' to 'fns32129_32129_4.txt'\n",
            "Renamed '32143_2.txt' to 'fns32143_32143_2.txt'\n",
            "Renamed '32143_1.txt' to 'fns32143_32143_1.txt'\n",
            "Renamed '32129_2.txt' to 'fns32129_32129_2.txt'\n",
            "Renamed '32143_3.txt' to 'fns32143_32143_3.txt'\n",
            "Renamed '32134_3.txt' to 'fns32134_32134_3.txt'\n",
            "Renamed '32135_3.txt' to 'fns32135_32135_3.txt'\n",
            "Renamed '32135_4.txt' to 'fns32135_32135_4.txt'\n",
            "Renamed '32134_2.txt' to 'fns32134_32134_2.txt'\n",
            "Renamed '32135_2.txt' to 'fns32135_32135_2.txt'\n",
            "Renamed '32129_1.txt' to 'fns32129_32129_1.txt'\n",
            "Renamed '32135_1.txt' to 'fns32135_32135_1.txt'\n",
            "Renamed '32136_4.txt' to 'fns32136_32136_4.txt'\n",
            "Renamed '32136_3.txt' to 'fns32136_32136_3.txt'\n",
            "Renamed '32134_1.txt' to 'fns32134_32134_1.txt'\n",
            "Renamed '32032_1.txt' to 'fns32032_32032_1.txt'\n",
            "Renamed '32044_3.txt' to 'fns32044_32044_3.txt'\n",
            "Renamed '32042_3.txt' to 'fns32042_32042_3.txt'\n",
            "Renamed '32044_2.txt' to 'fns32044_32044_2.txt'\n",
            "Renamed '32042_2.txt' to 'fns32042_32042_2.txt'\n",
            "Renamed '32042_1.txt' to 'fns32042_32042_1.txt'\n",
            "Renamed '32044_4.txt' to 'fns32044_32044_4.txt'\n",
            "Renamed '32044_6.txt' to 'fns32044_32044_6.txt'\n",
            "Renamed '32051_2.txt' to 'fns32051_32051_2.txt'\n",
            "Renamed '32051_3.txt' to 'fns32051_32051_3.txt'\n",
            "Renamed '32044_1.txt' to 'fns32044_32044_1.txt'\n",
            "Renamed '32067_2.txt' to 'fns32067_32067_2.txt'\n",
            "Renamed '32072_3.txt' to 'fns32072_32072_3.txt'\n",
            "Renamed '32061_3.txt' to 'fns32061_32061_3.txt'\n",
            "Renamed '32072_2.txt' to 'fns32072_32072_2.txt'\n",
            "Renamed '32072_1.txt' to 'fns32072_32072_1.txt'\n",
            "Renamed '32061_1.txt' to 'fns32061_32061_1.txt'\n",
            "Renamed '32074_2.txt' to 'fns32074_32074_2.txt'\n",
            "Renamed '32051_1.txt' to 'fns32051_32051_1.txt'\n",
            "Renamed '32061_4.txt' to 'fns32061_32061_4.txt'\n",
            "Renamed '32061_2.txt' to 'fns32061_32061_2.txt'\n",
            "Renamed '32071_3.txt' to 'fns32071_32071_3.txt'\n",
            "Renamed '32071_4.txt' to 'fns32071_32071_4.txt'\n",
            "Renamed '32067_1.txt' to 'fns32067_32067_1.txt'\n",
            "Renamed '32067_3.txt' to 'fns32067_32067_3.txt'\n",
            "Renamed '32071_1.txt' to 'fns32071_32071_1.txt'\n",
            "Renamed '32071_2.txt' to 'fns32071_32071_2.txt'\n",
            "Renamed '32092_3.txt' to 'fns32092_32092_3.txt'\n",
            "Renamed '32092_2.txt' to 'fns32092_32092_2.txt'\n",
            "Renamed '32092_1.txt' to 'fns32092_32092_1.txt'\n",
            "Renamed '32092_4.txt' to 'fns32092_32092_4.txt'\n",
            "Renamed '32097_2.txt' to 'fns32097_32097_2.txt'\n",
            "Renamed '32097_1.txt' to 'fns32097_32097_1.txt'\n",
            "Renamed '32097_3.txt' to 'fns32097_32097_3.txt'\n",
            "Renamed '32097_5.txt' to 'fns32097_32097_5.txt'\n",
            "Renamed '32098_2.txt' to 'fns32098_32098_2.txt'\n",
            "Renamed '32098_3.txt' to 'fns32098_32098_3.txt'\n",
            "Renamed '32074_4.txt' to 'fns32074_32074_4.txt'\n",
            "Renamed '32074_3.txt' to 'fns32074_32074_3.txt'\n",
            "Renamed '32074_1.txt' to 'fns32074_32074_1.txt'\n",
            "Renamed '32098_5.txt' to 'fns32098_32098_5.txt'\n",
            "Renamed '31970_1.txt' to 'fns31970_31970_1.txt'\n",
            "Renamed '32004_3.txt' to 'fns32004_32004_3.txt'\n",
            "Renamed '31987_2.txt' to 'fns31987_31987_2.txt'\n",
            "Renamed '31987_1.txt' to 'fns31987_31987_1.txt'\n",
            "Renamed '32004_1.txt' to 'fns32004_32004_1.txt'\n",
            "Renamed '31987_3.txt' to 'fns31987_31987_3.txt'\n",
            "Renamed '31984_1.txt' to 'fns31984_31984_1.txt'\n",
            "Renamed '32004_4.txt' to 'fns32004_32004_4.txt'\n",
            "Renamed '31984_3.txt' to 'fns31984_31984_3.txt'\n",
            "Renamed '31984_2.txt' to 'fns31984_31984_2.txt'\n",
            "Renamed '32004_2.txt' to 'fns32004_32004_2.txt'\n",
            "Renamed '32020_2.txt' to 'fns32020_32020_2.txt'\n",
            "Renamed '32020_3.txt' to 'fns32020_32020_3.txt'\n",
            "Renamed '32021_3.txt' to 'fns32021_32021_3.txt'\n",
            "Renamed '32021_2.txt' to 'fns32021_32021_2.txt'\n",
            "Renamed '32021_4.txt' to 'fns32021_32021_4.txt'\n",
            "Renamed '32032_2.txt' to 'fns32032_32032_2.txt'\n",
            "Renamed '32032_3.txt' to 'fns32032_32032_3.txt'\n",
            "Renamed '32020_1.txt' to 'fns32020_32020_1.txt'\n",
            "Renamed '32021_1.txt' to 'fns32021_32021_1.txt'\n",
            "Renamed '31959_4.txt' to 'fns31959_31959_4.txt'\n",
            "Renamed '31959_3.txt' to 'fns31959_31959_3.txt'\n",
            "Renamed '32034_3.txt' to 'fns32034_32034_3.txt'\n",
            "Renamed '31959_1.txt' to 'fns31959_31959_1.txt'\n",
            "Renamed '32034_2.txt' to 'fns32034_32034_2.txt'\n",
            "Renamed '31969_3.txt' to 'fns31969_31969_3.txt'\n",
            "Renamed '32034_1.txt' to 'fns32034_32034_1.txt'\n",
            "Renamed '31969_2.txt' to 'fns31969_31969_2.txt'\n",
            "Renamed '31983_3.txt' to 'fns31983_31983_3.txt'\n",
            "Renamed '31979_3.txt' to 'fns31979_31979_3.txt'\n",
            "Renamed '31979_2.txt' to 'fns31979_31979_2.txt'\n",
            "Renamed '31979_1.txt' to 'fns31979_31979_1.txt'\n",
            "Renamed '31983_2.txt' to 'fns31983_31983_2.txt'\n",
            "Renamed '31983_1.txt' to 'fns31983_31983_1.txt'\n",
            "Renamed '32034_4.txt' to 'fns32034_32034_4.txt'\n",
            "Renamed '31959_2.txt' to 'fns31959_31959_2.txt'\n",
            "Renamed '31970_3.txt' to 'fns31970_31970_3.txt'\n",
            "Renamed '31970_2.txt' to 'fns31970_31970_2.txt'\n",
            "Renamed '31969_1.txt' to 'fns31969_31969_1.txt'\n",
            "Renamed '31950_5.txt' to 'fns31950_31950_5.txt'\n",
            "Renamed '31950_4.txt' to 'fns31950_31950_4.txt'\n",
            "Renamed '31950_2.txt' to 'fns31950_31950_2.txt'\n",
            "Renamed '31950_3.txt' to 'fns31950_31950_3.txt'\n",
            "Renamed '31950_1.txt' to 'fns31950_31950_1.txt'\n",
            "Renamed '31939_1.txt' to 'fns31939_31939_1.txt'\n",
            "Renamed '31942_3.txt' to 'fns31942_31942_3.txt'\n",
            "Renamed '31942_2.txt' to 'fns31942_31942_2.txt'\n",
            "Renamed '31942_1.txt' to 'fns31942_31942_1.txt'\n",
            "Renamed '31948_2.txt' to 'fns31948_31948_2.txt'\n",
            "Renamed '31948_1.txt' to 'fns31948_31948_1.txt'\n",
            "Renamed '32025_4.txt' to 'fns32025_32025_4.txt'\n",
            "Renamed '32025_3.txt' to 'fns32025_32025_3.txt'\n",
            "Renamed '32025_2.txt' to 'fns32025_32025_2.txt'\n",
            "Renamed '31955_1.txt' to 'fns31955_31955_1.txt'\n",
            "Renamed '32025_1.txt' to 'fns32025_32025_1.txt'\n",
            "Renamed '31948_3.txt' to 'fns31948_31948_3.txt'\n",
            "Renamed '31955_2.txt' to 'fns31955_31955_2.txt'\n",
            "Renamed '31955_3.txt' to 'fns31955_31955_3.txt'\n",
            "Renamed '31866_1.txt' to 'fns31866_31866_1.txt'\n",
            "Renamed '31879_1.txt' to 'fns31879_31879_1.txt'\n",
            "Renamed '31879_2.txt' to 'fns31879_31879_2.txt'\n",
            "Renamed '31879_3.txt' to 'fns31879_31879_3.txt'\n",
            "Renamed '31914_1.txt' to 'fns31914_31914_1.txt'\n",
            "Renamed '31914_3.txt' to 'fns31914_31914_3.txt'\n",
            "Renamed '31926_3.txt' to 'fns31926_31926_3.txt'\n",
            "Renamed '31926_2.txt' to 'fns31926_31926_2.txt'\n",
            "Renamed '31914_2.txt' to 'fns31914_31914_2.txt'\n",
            "Renamed '31914_4.txt' to 'fns31914_31914_4.txt'\n",
            "Renamed '31889_4.txt' to 'fns31889_31889_4.txt'\n",
            "Renamed '31889_3.txt' to 'fns31889_31889_3.txt'\n",
            "Renamed '31889_2.txt' to 'fns31889_31889_2.txt'\n",
            "Renamed '31889_1.txt' to 'fns31889_31889_1.txt'\n",
            "Renamed '31940_1.txt' to 'fns31940_31940_1.txt'\n",
            "Renamed '31938_2.txt' to 'fns31938_31938_2.txt'\n",
            "Renamed '31940_2.txt' to 'fns31940_31940_2.txt'\n",
            "Renamed '31938_1.txt' to 'fns31938_31938_1.txt'\n",
            "Renamed '31940_4.txt' to 'fns31940_31940_4.txt'\n",
            "Renamed '31940_3.txt' to 'fns31940_31940_3.txt'\n",
            "Renamed '31926_1.txt' to 'fns31926_31926_1.txt'\n",
            "Renamed '31926_4.txt' to 'fns31926_31926_4.txt'\n",
            "Renamed '31939_2.txt' to 'fns31939_31939_2.txt'\n",
            "Renamed '31938_3.txt' to 'fns31938_31938_3.txt'\n",
            "Renamed '31939_3.txt' to 'fns31939_31939_3.txt'\n",
            "Renamed '31854_1.txt' to 'fns31854_31854_1.txt'\n",
            "Renamed '31855_3.txt' to 'fns31855_31855_3.txt'\n",
            "Renamed '31857_2.txt' to 'fns31857_31857_2.txt'\n",
            "Renamed '31857_1.txt' to 'fns31857_31857_1.txt'\n",
            "Renamed '31872_3.txt' to 'fns31872_31872_3.txt'\n",
            "Renamed '31855_2.txt' to 'fns31855_31855_2.txt'\n",
            "Renamed '31872_4.txt' to 'fns31872_31872_4.txt'\n",
            "Renamed '31855_1.txt' to 'fns31855_31855_1.txt'\n",
            "Renamed '31857_4.txt' to 'fns31857_31857_4.txt'\n",
            "Renamed '31857_3.txt' to 'fns31857_31857_3.txt'\n",
            "Renamed '31866_3.txt' to 'fns31866_31866_3.txt'\n",
            "Renamed '31866_4.txt' to 'fns31866_31866_4.txt'\n",
            "Renamed '31872_1.txt' to 'fns31872_31872_1.txt'\n",
            "Renamed '31879_4.txt' to 'fns31879_31879_4.txt'\n",
            "Renamed '31866_2.txt' to 'fns31866_31866_2.txt'\n",
            "Renamed '31872_2.txt' to 'fns31872_31872_2.txt'\n",
            "Renamed '31831_1.txt' to 'fns31831_31831_1.txt'\n",
            "Renamed '31839_2.txt' to 'fns31839_31839_2.txt'\n",
            "Renamed '31839_1.txt' to 'fns31839_31839_1.txt'\n",
            "Renamed '31839_3.txt' to 'fns31839_31839_3.txt'\n",
            "Renamed '31844_2.txt' to 'fns31844_31844_2.txt'\n",
            "Renamed '31843_1.txt' to 'fns31843_31843_1.txt'\n",
            "Renamed '31843_2.txt' to 'fns31843_31843_2.txt'\n",
            "Renamed '31850_2.txt' to 'fns31850_31850_2.txt'\n",
            "Renamed '31844_3.txt' to 'fns31844_31844_3.txt'\n",
            "Renamed '31843_3.txt' to 'fns31843_31843_3.txt'\n",
            "Renamed '31854_3.txt' to 'fns31854_31854_3.txt'\n",
            "Renamed '31850_3.txt' to 'fns31850_31850_3.txt'\n",
            "Renamed '31854_2.txt' to 'fns31854_31854_2.txt'\n",
            "Renamed '31851_3.txt' to 'fns31851_31851_3.txt'\n",
            "Renamed '31851_2.txt' to 'fns31851_31851_2.txt'\n",
            "Renamed '31850_4.txt' to 'fns31850_31850_4.txt'\n",
            "Renamed '31850_1.txt' to 'fns31850_31850_1.txt'\n",
            "Renamed '31844_1.txt' to 'fns31844_31844_1.txt'\n",
            "Renamed '31851_4.txt' to 'fns31851_31851_4.txt'\n",
            "Renamed '31851_1.txt' to 'fns31851_31851_1.txt'\n",
            "Renamed '31784_3.txt' to 'fns31784_31784_3.txt'\n",
            "Renamed '31794_2.txt' to 'fns31794_31794_2.txt'\n",
            "Renamed '31784_2.txt' to 'fns31784_31784_2.txt'\n",
            "Renamed '31794_3.txt' to 'fns31794_31794_3.txt'\n",
            "Renamed '31794_1.txt' to 'fns31794_31794_1.txt'\n",
            "Renamed '31811_2.txt' to 'fns31811_31811_2.txt'\n",
            "Renamed '31846_2.txt' to 'fns31846_31846_2.txt'\n",
            "Renamed '31846_3.txt' to 'fns31846_31846_3.txt'\n",
            "Renamed '31784_1.txt' to 'fns31784_31784_1.txt'\n",
            "Renamed '31824_2.txt' to 'fns31824_31824_2.txt'\n",
            "Renamed '31824_3.txt' to 'fns31824_31824_3.txt'\n",
            "Renamed '31817_4.txt' to 'fns31817_31817_4.txt'\n",
            "Renamed '31817_1.txt' to 'fns31817_31817_1.txt'\n",
            "Renamed '31817_2.txt' to 'fns31817_31817_2.txt'\n",
            "Renamed '31817_3.txt' to 'fns31817_31817_3.txt'\n",
            "Renamed '31846_1.txt' to 'fns31846_31846_1.txt'\n",
            "Renamed '31811_4.txt' to 'fns31811_31811_4.txt'\n",
            "Renamed '31811_3.txt' to 'fns31811_31811_3.txt'\n",
            "Renamed '31811_1.txt' to 'fns31811_31811_1.txt'\n",
            "Renamed '31831_4.txt' to 'fns31831_31831_4.txt'\n",
            "Renamed '31831_2.txt' to 'fns31831_31831_2.txt'\n",
            "Renamed '31834_2.txt' to 'fns31834_31834_2.txt'\n",
            "Renamed '31831_3.txt' to 'fns31831_31831_3.txt'\n",
            "Renamed '31834_1.txt' to 'fns31834_31834_1.txt'\n",
            "Renamed '31834_3.txt' to 'fns31834_31834_3.txt'\n",
            "Renamed '31824_1.txt' to 'fns31824_31824_1.txt'\n",
            "Renamed '31828_3.txt' to 'fns31828_31828_3.txt'\n",
            "Renamed '31828_2.txt' to 'fns31828_31828_2.txt'\n",
            "Renamed '31828_1.txt' to 'fns31828_31828_1.txt'\n",
            "Renamed '31766_3.txt' to 'fns31766_31766_3.txt'\n",
            "Renamed '31757_4.txt' to 'fns31757_31757_4.txt'\n",
            "Renamed '31766_1.txt' to 'fns31766_31766_1.txt'\n",
            "Renamed '31769_2.txt' to 'fns31769_31769_2.txt'\n",
            "Renamed '31769_4.txt' to 'fns31769_31769_4.txt'\n",
            "Renamed '31766_2.txt' to 'fns31766_31766_2.txt'\n",
            "Renamed '31757_1.txt' to 'fns31757_31757_1.txt'\n",
            "Renamed '31769_3.txt' to 'fns31769_31769_3.txt'\n",
            "Renamed '31757_2.txt' to 'fns31757_31757_2.txt'\n",
            "Renamed '31757_3.txt' to 'fns31757_31757_3.txt'\n",
            "Renamed '31769_1.txt' to 'fns31769_31769_1.txt'\n",
            "Renamed '31681_2.txt' to 'fns31681_31681_2.txt'\n",
            "Renamed '31677_1.txt' to 'fns31677_31677_1.txt'\n",
            "Renamed '31705_3.txt' to 'fns31705_31705_3.txt'\n",
            "Renamed '31755_3.txt' to 'fns31755_31755_3.txt'\n",
            "Renamed '31705_1.txt' to 'fns31705_31705_1.txt'\n",
            "Renamed '31755_1.txt' to 'fns31755_31755_1.txt'\n",
            "Renamed '31755_2.txt' to 'fns31755_31755_2.txt'\n",
            "Renamed '31705_2.txt' to 'fns31705_31705_2.txt'\n",
            "Renamed '31755_4.txt' to 'fns31755_31755_4.txt'\n",
            "Renamed '31699_1.txt' to 'fns31699_31699_1.txt'\n",
            "Renamed '31681_1.txt' to 'fns31681_31681_1.txt'\n",
            "Renamed '31705_4.txt' to 'fns31705_31705_4.txt'\n",
            "Renamed '31646_1.txt' to 'fns31646_31646_1.txt'\n",
            "Renamed '31655_3.txt' to 'fns31655_31655_3.txt'\n",
            "Renamed '31654_1.txt' to 'fns31654_31654_1.txt'\n",
            "Renamed '31654_2.txt' to 'fns31654_31654_2.txt'\n",
            "Renamed '31650_2.txt' to 'fns31650_31650_2.txt'\n",
            "Renamed '31650_1.txt' to 'fns31650_31650_1.txt'\n",
            "Renamed '31654_3.txt' to 'fns31654_31654_3.txt'\n",
            "Renamed '31659_3.txt' to 'fns31659_31659_3.txt'\n",
            "Renamed '31655_1.txt' to 'fns31655_31655_1.txt'\n",
            "Renamed '31654_4.txt' to 'fns31654_31654_4.txt'\n",
            "Renamed '31655_2.txt' to 'fns31655_31655_2.txt'\n",
            "Renamed '31659_1.txt' to 'fns31659_31659_1.txt'\n",
            "Renamed '31664_2.txt' to 'fns31664_31664_2.txt'\n",
            "Renamed '31661_2.txt' to 'fns31661_31661_2.txt'\n",
            "Renamed '31661_1.txt' to 'fns31661_31661_1.txt'\n",
            "Renamed '31664_3.txt' to 'fns31664_31664_3.txt'\n",
            "Renamed '31661_3.txt' to 'fns31661_31661_3.txt'\n",
            "Renamed '31659_2.txt' to 'fns31659_31659_2.txt'\n",
            "Renamed '31678_3.txt' to 'fns31678_31678_3.txt'\n",
            "Renamed '31678_4.txt' to 'fns31678_31678_4.txt'\n",
            "Renamed '31664_1.txt' to 'fns31664_31664_1.txt'\n",
            "Renamed '31677_2.txt' to 'fns31677_31677_2.txt'\n",
            "Renamed '31678_1.txt' to 'fns31678_31678_1.txt'\n",
            "Renamed '31677_3.txt' to 'fns31677_31677_3.txt'\n",
            "Renamed '31699_2.txt' to 'fns31699_31699_2.txt'\n",
            "Renamed '31699_3.txt' to 'fns31699_31699_3.txt'\n",
            "Renamed '31681_3.txt' to 'fns31681_31681_3.txt'\n",
            "Renamed '31681_4.txt' to 'fns31681_31681_4.txt'\n",
            "Renamed '31678_2.txt' to 'fns31678_31678_2.txt'\n",
            "Renamed '31633_3.txt' to 'fns31633_31633_3.txt'\n",
            "Renamed '31650_3.txt' to 'fns31650_31650_3.txt'\n",
            "Renamed '31648_2.txt' to 'fns31648_31648_2.txt'\n",
            "Renamed '31648_3.txt' to 'fns31648_31648_3.txt'\n",
            "Renamed '31634_2.txt' to 'fns31634_31634_2.txt'\n",
            "Renamed '31648_4.txt' to 'fns31648_31648_4.txt'\n",
            "Renamed '31646_3.txt' to 'fns31646_31646_3.txt'\n",
            "Renamed '31646_2.txt' to 'fns31646_31646_2.txt'\n",
            "Renamed '31648_1.txt' to 'fns31648_31648_1.txt'\n",
            "Renamed '31634_1.txt' to 'fns31634_31634_1.txt'\n",
            "Renamed '31617_4.txt' to 'fns31617_31617_4.txt'\n",
            "Renamed '31631_2.txt' to 'fns31631_31631_2.txt'\n",
            "Renamed '31631_3.txt' to 'fns31631_31631_3.txt'\n",
            "Renamed '31623_4.txt' to 'fns31623_31623_4.txt'\n",
            "Renamed '31628_3.txt' to 'fns31628_31628_3.txt'\n",
            "Renamed '31628_1.txt' to 'fns31628_31628_1.txt'\n",
            "Renamed '31623_3.txt' to 'fns31623_31623_3.txt'\n",
            "Renamed '31628_2.txt' to 'fns31628_31628_2.txt'\n",
            "Renamed '31623_2.txt' to 'fns31623_31623_2.txt'\n",
            "Renamed '31623_1.txt' to 'fns31623_31623_1.txt'\n",
            "Renamed '31620_1.txt' to 'fns31620_31620_1.txt'\n",
            "Renamed '31685_3.txt' to 'fns31685_31685_3.txt'\n",
            "Renamed '31633_4.txt' to 'fns31633_31633_4.txt'\n",
            "Renamed '31685_1.txt' to 'fns31685_31685_1.txt'\n",
            "Renamed '31685_2.txt' to 'fns31685_31685_2.txt'\n",
            "Renamed '31631_1.txt' to 'fns31631_31631_1.txt'\n",
            "Renamed '31633_2.txt' to 'fns31633_31633_2.txt'\n",
            "Renamed '31634_3.txt' to 'fns31634_31634_3.txt'\n",
            "Renamed '31633_1.txt' to 'fns31633_31633_1.txt'\n",
            "Renamed '31634_4.txt' to 'fns31634_31634_4.txt'\n",
            "Renamed '31589_2.txt' to 'fns31589_31589_2.txt'\n",
            "Renamed '31589_7.txt' to 'fns31589_31589_7.txt'\n",
            "Renamed '31595_2.txt' to 'fns31595_31595_2.txt'\n",
            "Renamed '31595_3.txt' to 'fns31595_31595_3.txt'\n",
            "Renamed '31595_1.txt' to 'fns31595_31595_1.txt'\n",
            "Renamed '31601_1.txt' to 'fns31601_31601_1.txt'\n",
            "Renamed '31601_3.txt' to 'fns31601_31601_3.txt'\n",
            "Renamed '31601_2.txt' to 'fns31601_31601_2.txt'\n",
            "Renamed '31589_1.txt' to 'fns31589_31589_1.txt'\n",
            "Renamed '31601_4.txt' to 'fns31601_31601_4.txt'\n",
            "Renamed '31608_2.txt' to 'fns31608_31608_2.txt'\n",
            "Renamed '31610_3.txt' to 'fns31610_31610_3.txt'\n",
            "Renamed '31608_1.txt' to 'fns31608_31608_1.txt'\n",
            "Renamed '31604_1.txt' to 'fns31604_31604_1.txt'\n",
            "Renamed '31610_1.txt' to 'fns31610_31610_1.txt'\n",
            "Renamed '31610_2.txt' to 'fns31610_31610_2.txt'\n",
            "Renamed '31604_3.txt' to 'fns31604_31604_3.txt'\n",
            "Renamed '31604_2.txt' to 'fns31604_31604_2.txt'\n",
            "Renamed '31608_4.txt' to 'fns31608_31608_4.txt'\n",
            "Renamed '31608_3.txt' to 'fns31608_31608_3.txt'\n",
            "Renamed '31618_1.txt' to 'fns31618_31618_1.txt'\n",
            "Renamed '31617_1.txt' to 'fns31617_31617_1.txt'\n",
            "Renamed '31617_3.txt' to 'fns31617_31617_3.txt'\n",
            "Renamed '31620_3.txt' to 'fns31620_31620_3.txt'\n",
            "Renamed '31617_2.txt' to 'fns31617_31617_2.txt'\n",
            "Renamed '31620_2.txt' to 'fns31620_31620_2.txt'\n",
            "Renamed '31620_4.txt' to 'fns31620_31620_4.txt'\n",
            "Renamed '31618_2.txt' to 'fns31618_31618_2.txt'\n",
            "Renamed '31618_3.txt' to 'fns31618_31618_3.txt'\n",
            "Renamed '31568_3.txt' to 'fns31568_31568_3.txt'\n",
            "Renamed '31589_6.txt' to 'fns31589_31589_6.txt'\n",
            "Renamed '31573_3.txt' to 'fns31573_31573_3.txt'\n",
            "Renamed '31573_4.txt' to 'fns31573_31573_4.txt'\n",
            "Renamed '31573_2.txt' to 'fns31573_31573_2.txt'\n",
            "Renamed '31589_4.txt' to 'fns31589_31589_4.txt'\n",
            "Renamed '31567_1.txt' to 'fns31567_31567_1.txt'\n",
            "Renamed '31568_1.txt' to 'fns31568_31568_1.txt'\n",
            "Renamed '31589_3.txt' to 'fns31589_31589_3.txt'\n",
            "Renamed '31573_1.txt' to 'fns31573_31573_1.txt'\n",
            "Renamed '31517_1.txt' to 'fns31517_31517_1.txt'\n",
            "Renamed '31513_3.txt' to 'fns31513_31513_3.txt'\n",
            "Renamed '31517_2.txt' to 'fns31517_31517_2.txt'\n",
            "Renamed '31546_3.txt' to 'fns31546_31546_3.txt'\n",
            "Renamed '31513_1.txt' to 'fns31513_31513_1.txt'\n",
            "Renamed '31517_3.txt' to 'fns31517_31517_3.txt'\n",
            "Renamed '31546_4.txt' to 'fns31546_31546_4.txt'\n",
            "Renamed '31513_2.txt' to 'fns31513_31513_2.txt'\n",
            "Renamed '31517_4.txt' to 'fns31517_31517_4.txt'\n",
            "Renamed '31512_1.txt' to 'fns31512_31512_1.txt'\n",
            "Renamed '31632_2.txt' to 'fns31632_31632_2.txt'\n",
            "Renamed '31567_4.txt' to 'fns31567_31567_4.txt'\n",
            "Renamed '31567_3.txt' to 'fns31567_31567_3.txt'\n",
            "Renamed '31567_2.txt' to 'fns31567_31567_2.txt'\n",
            "Renamed '31568_2.txt' to 'fns31568_31568_2.txt'\n",
            "Renamed '31632_4.txt' to 'fns31632_31632_4.txt'\n",
            "Renamed '31632_3.txt' to 'fns31632_31632_3.txt'\n",
            "Renamed '31632_1.txt' to 'fns31632_31632_1.txt'\n",
            "Renamed '31546_2.txt' to 'fns31546_31546_2.txt'\n",
            "Renamed '31546_1.txt' to 'fns31546_31546_1.txt'\n",
            "Renamed '31492_2.txt' to 'fns31492_31492_2.txt'\n",
            "Renamed '31508_1.txt' to 'fns31508_31508_1.txt'\n",
            "Renamed '31492_4.txt' to 'fns31492_31492_4.txt'\n",
            "Renamed '31540_2.txt' to 'fns31540_31540_2.txt'\n",
            "Renamed '31540_3.txt' to 'fns31540_31540_3.txt'\n",
            "Renamed '31492_1.txt' to 'fns31492_31492_1.txt'\n",
            "Renamed '31508_3.txt' to 'fns31508_31508_3.txt'\n",
            "Renamed '31540_1.txt' to 'fns31540_31540_1.txt'\n",
            "Renamed '31492_3.txt' to 'fns31492_31492_3.txt'\n",
            "Renamed '31508_2.txt' to 'fns31508_31508_2.txt'\n",
            "Renamed '31509_1.txt' to 'fns31509_31509_1.txt'\n",
            "Renamed '31509_2.txt' to 'fns31509_31509_2.txt'\n",
            "Renamed '31512_3.txt' to 'fns31512_31512_3.txt'\n",
            "Renamed '31509_3.txt' to 'fns31509_31509_3.txt'\n",
            "Renamed '31506_2.txt' to 'fns31506_31506_2.txt'\n",
            "Renamed '31512_4.txt' to 'fns31512_31512_4.txt'\n",
            "Renamed '31506_3.txt' to 'fns31506_31506_3.txt'\n",
            "Renamed '31512_2.txt' to 'fns31512_31512_2.txt'\n",
            "Renamed '31509_4.txt' to 'fns31509_31509_4.txt'\n",
            "Renamed '31506_1.txt' to 'fns31506_31506_1.txt'\n",
            "Renamed '31469_3.txt' to 'fns31469_31469_3.txt'\n",
            "Renamed '31484_2.txt' to 'fns31484_31484_2.txt'\n",
            "Renamed '31484_4.txt' to 'fns31484_31484_4.txt'\n",
            "Renamed '31484_3.txt' to 'fns31484_31484_3.txt'\n",
            "Renamed '31469_1.txt' to 'fns31469_31469_1.txt'\n",
            "Renamed '31514_3.txt' to 'fns31514_31514_3.txt'\n",
            "Renamed '31514_4.txt' to 'fns31514_31514_4.txt'\n",
            "Renamed '31514_1.txt' to 'fns31514_31514_1.txt'\n",
            "Renamed '31514_2.txt' to 'fns31514_31514_2.txt'\n",
            "Renamed '31484_1.txt' to 'fns31484_31484_1.txt'\n",
            "Renamed '31452_1.txt' to 'fns31452_31452_1.txt'\n",
            "Renamed '31452_3.txt' to 'fns31452_31452_3.txt'\n",
            "Renamed '31462_4.txt' to 'fns31462_31462_4.txt'\n",
            "Renamed '31452_6.txt' to 'fns31452_31452_6.txt'\n",
            "Renamed '31462_3.txt' to 'fns31462_31462_3.txt'\n",
            "Renamed '31440_3.txt' to 'fns31440_31440_3.txt'\n",
            "Renamed '31452_4.txt' to 'fns31452_31452_4.txt'\n",
            "Renamed '31462_1.txt' to 'fns31462_31462_1.txt'\n",
            "Renamed '31462_2.txt' to 'fns31462_31462_2.txt'\n",
            "Renamed '31452_2.txt' to 'fns31452_31452_2.txt'\n",
            "Renamed '31478_2.txt' to 'fns31478_31478_2.txt'\n",
            "Renamed '31474_3.txt' to 'fns31474_31474_3.txt'\n",
            "Renamed '31478_1.txt' to 'fns31478_31478_1.txt'\n",
            "Renamed '31474_2.txt' to 'fns31474_31474_2.txt'\n",
            "Renamed '31440_1.txt' to 'fns31440_31440_1.txt'\n",
            "Renamed '31469_2.txt' to 'fns31469_31469_2.txt'\n",
            "Renamed '31440_2.txt' to 'fns31440_31440_2.txt'\n",
            "Renamed '31478_3.txt' to 'fns31478_31478_3.txt'\n",
            "Renamed '31474_1.txt' to 'fns31474_31474_1.txt'\n",
            "Renamed '31469_4.txt' to 'fns31469_31469_4.txt'\n",
            "Renamed '31319_3.txt' to 'fns31319_31319_3.txt'\n",
            "Renamed '31319_2.txt' to 'fns31319_31319_2.txt'\n",
            "Renamed '31329_2.txt' to 'fns31329_31329_2.txt'\n",
            "Renamed '31329_3.txt' to 'fns31329_31329_3.txt'\n",
            "Renamed '31319_1.txt' to 'fns31319_31319_1.txt'\n",
            "Renamed '31358_4.txt' to 'fns31358_31358_4.txt'\n",
            "Renamed '31333_2.txt' to 'fns31333_31333_2.txt'\n",
            "Renamed '31333_3.txt' to 'fns31333_31333_3.txt'\n",
            "Renamed '31333_1.txt' to 'fns31333_31333_1.txt'\n",
            "Renamed '31329_1.txt' to 'fns31329_31329_1.txt'\n",
            "Renamed '31358_2.txt' to 'fns31358_31358_2.txt'\n",
            "Renamed '31336_3.txt' to 'fns31336_31336_3.txt'\n",
            "Renamed '31383_3.txt' to 'fns31383_31383_3.txt'\n",
            "Renamed '31383_4.txt' to 'fns31383_31383_4.txt'\n",
            "Renamed '31336_2.txt' to 'fns31336_31336_2.txt'\n",
            "Renamed '31383_2.txt' to 'fns31383_31383_2.txt'\n",
            "Renamed '31358_1.txt' to 'fns31358_31358_1.txt'\n",
            "Renamed '31358_3.txt' to 'fns31358_31358_3.txt'\n",
            "Renamed '31336_4.txt' to 'fns31336_31336_4.txt'\n",
            "Renamed '31336_1.txt' to 'fns31336_31336_1.txt'\n",
            "Renamed '31363_2.txt' to 'fns31363_31363_2.txt'\n",
            "Renamed '31424_3.txt' to 'fns31424_31424_3.txt'\n",
            "Renamed '31399_3.txt' to 'fns31399_31399_3.txt'\n",
            "Renamed '31363_1.txt' to 'fns31363_31363_1.txt'\n",
            "Renamed '31399_2.txt' to 'fns31399_31399_2.txt'\n",
            "Renamed '31424_2.txt' to 'fns31424_31424_2.txt'\n",
            "Renamed '31383_1.txt' to 'fns31383_31383_1.txt'\n",
            "Renamed '31363_3.txt' to 'fns31363_31363_3.txt'\n",
            "Renamed '31399_1.txt' to 'fns31399_31399_1.txt'\n",
            "Renamed '31424_1.txt' to 'fns31424_31424_1.txt'\n",
            "Renamed '31316_3.txt' to 'fns31316_31316_3.txt'\n",
            "Renamed '31316_2.txt' to 'fns31316_31316_2.txt'\n",
            "Renamed '31316_4.txt' to 'fns31316_31316_4.txt'\n",
            "Renamed '31316_1.txt' to 'fns31316_31316_1.txt'\n",
            "Renamed '31292_3.txt' to 'fns31292_31292_3.txt'\n",
            "Renamed '31292_2.txt' to 'fns31292_31292_2.txt'\n",
            "Renamed '31292_1.txt' to 'fns31292_31292_1.txt'\n",
            "Renamed '31315_2.txt' to 'fns31315_31315_2.txt'\n",
            "Renamed '31315_3.txt' to 'fns31315_31315_3.txt'\n",
            "Renamed '31315_1.txt' to 'fns31315_31315_1.txt'\n",
            "Renamed '31265_4.txt' to 'fns31265_31265_4.txt'\n",
            "Renamed '31254_3.txt' to 'fns31254_31254_3.txt'\n",
            "Renamed '31271_3.txt' to 'fns31271_31271_3.txt'\n",
            "Renamed '31265_3.txt' to 'fns31265_31265_3.txt'\n",
            "Renamed '31265_2.txt' to 'fns31265_31265_2.txt'\n",
            "Renamed '31260_2.txt' to 'fns31260_31260_2.txt'\n",
            "Renamed '31271_2.txt' to 'fns31271_31271_2.txt'\n",
            "Renamed '31260_3.txt' to 'fns31260_31260_3.txt'\n",
            "Renamed '31260_1.txt' to 'fns31260_31260_1.txt'\n",
            "Renamed '31265_1.txt' to 'fns31265_31265_1.txt'\n",
            "Renamed '31306_3.txt' to 'fns31306_31306_3.txt'\n",
            "Renamed '31290_1.txt' to 'fns31290_31290_1.txt'\n",
            "Renamed '31306_1.txt' to 'fns31306_31306_1.txt'\n",
            "Renamed '31290_3.txt' to 'fns31290_31290_3.txt'\n",
            "Renamed '31277_2.txt' to 'fns31277_31277_2.txt'\n",
            "Renamed '31271_1.txt' to 'fns31271_31271_1.txt'\n",
            "Renamed '31277_1.txt' to 'fns31277_31277_1.txt'\n",
            "Renamed '31277_3.txt' to 'fns31277_31277_3.txt'\n",
            "Renamed '31290_2.txt' to 'fns31290_31290_2.txt'\n",
            "Renamed '31306_2.txt' to 'fns31306_31306_2.txt'\n",
            "Renamed '31220_1.txt' to 'fns31220_31220_1.txt'\n",
            "Renamed '31204_1.txt' to 'fns31204_31204_1.txt'\n",
            "Renamed '31220_3.txt' to 'fns31220_31220_3.txt'\n",
            "Renamed '31204_2.txt' to 'fns31204_31204_2.txt'\n",
            "Renamed '31254_1.txt' to 'fns31254_31254_1.txt'\n",
            "Renamed '31220_2.txt' to 'fns31220_31220_2.txt'\n",
            "Renamed '31204_3.txt' to 'fns31204_31204_3.txt'\n",
            "Renamed '31201_1.txt' to 'fns31201_31201_1.txt'\n",
            "Renamed '31254_2.txt' to 'fns31254_31254_2.txt'\n",
            "Renamed '31254_4.txt' to 'fns31254_31254_4.txt'\n",
            "Renamed '31242_3.txt' to 'fns31242_31242_3.txt'\n",
            "Renamed '31224_3.txt' to 'fns31224_31224_3.txt'\n",
            "Renamed '31224_2.txt' to 'fns31224_31224_2.txt'\n",
            "Renamed '31274_3.txt' to 'fns31274_31274_3.txt'\n",
            "Renamed '31242_2.txt' to 'fns31242_31242_2.txt'\n",
            "Renamed '31224_1.txt' to 'fns31224_31224_1.txt'\n",
            "Renamed '31274_1.txt' to 'fns31274_31274_1.txt'\n",
            "Renamed '31242_1.txt' to 'fns31242_31242_1.txt'\n",
            "Renamed '31224_4.txt' to 'fns31224_31224_4.txt'\n",
            "Renamed '31274_2.txt' to 'fns31274_31274_2.txt'\n",
            "Renamed '31109_1.txt' to 'fns31109_31109_1.txt'\n",
            "Renamed '31165_1.txt' to 'fns31165_31165_1.txt'\n",
            "Renamed '31203_2.txt' to 'fns31203_31203_2.txt'\n",
            "Renamed '31165_2.txt' to 'fns31165_31165_2.txt'\n",
            "Renamed '31201_2.txt' to 'fns31201_31201_2.txt'\n",
            "Renamed '31201_4.txt' to 'fns31201_31201_4.txt'\n",
            "Renamed '31201_3.txt' to 'fns31201_31201_3.txt'\n",
            "Renamed '31203_1.txt' to 'fns31203_31203_1.txt'\n",
            "Renamed '31202_1.txt' to 'fns31202_31202_1.txt'\n",
            "Renamed '31165_3.txt' to 'fns31165_31165_3.txt'\n",
            "Renamed '31203_3.txt' to 'fns31203_31203_3.txt'\n",
            "Renamed '31109_2.txt' to 'fns31109_31109_2.txt'\n",
            "Renamed '31202_3.txt' to 'fns31202_31202_3.txt'\n",
            "Renamed '31127_2.txt' to 'fns31127_31127_2.txt'\n",
            "Renamed '31127_1.txt' to 'fns31127_31127_1.txt'\n",
            "Renamed '31202_2.txt' to 'fns31202_31202_2.txt'\n",
            "Renamed '31109_3.txt' to 'fns31109_31109_3.txt'\n",
            "Renamed '31109_4.txt' to 'fns31109_31109_4.txt'\n",
            "Renamed '31127_3.txt' to 'fns31127_31127_3.txt'\n",
            "Renamed '31105_1.txt' to 'fns31105_31105_1.txt'\n"
          ]
        }
      ]
    },
    {
      "cell_type": "markdown",
      "source": [
        "# **Calculating ROuge Score**"
      ],
      "metadata": {
        "id": "L2Mv_NJO9zRj"
      }
    },
    {
      "cell_type": "code",
      "source": [
        "import string\n",
        "from nltk.tokenize import word_tokenize, sent_tokenize\n",
        "from nltk.corpus import stopwords\n",
        "from rouge_score import rouge_scorer\n",
        "import re\n",
        "\n",
        "nltk.download('stopwords')\n",
        "nltk.download('punkt')\n",
        "\n",
        "stop_words = set(stopwords.words('english'))\n",
        "\n",
        "def preprocess_summary(summary):\n",
        "    summary = re.sub(r'\\s+', ' ', summary)  # Remove extra whitespaces\n",
        "    summary = summary.lower()\n",
        "    summary = summary.translate(str.maketrans(\"\", \"\", string.punctuation))\n",
        "    summary = \" \".join(summary.split())\n",
        "    tokens = word_tokenize(summary)\n",
        "    stop_words = set(stopwords.words(\"english\"))\n",
        "    tokens = [token for token in tokens if token not in stop_words]\n",
        "    processed_summary = \" \".join(tokens)\n",
        "    return processed_summary\n",
        "\n",
        "def calculate_rouge_scores(generated_summary, actual_summary):\n",
        "    scorer = rouge_scorer.RougeScorer(['rouge1', 'rouge2', 'rougeL'], use_stemmer=True)\n",
        "\n",
        "    scores = scorer.score(generated_summary, actual_summary)\n",
        "\n",
        "    return scores\n",
        "\n",
        "# Example usage with actual and generated summaries\n",
        "actual_summary_path = \"/content/drive/MyDrive/validation (2)/gold_summaries (1)/fns31105_31105_1.txt\"\n",
        "with open(actual_summary_path, 'r', encoding='utf-8') as file:\n",
        "    actual_summary = file.read()\n",
        "\n",
        "# Assuming you have generated a summary\n",
        "generated_summary = corrected_summary  # Replace this with your generated summary\n",
        "\n",
        "# Preprocess both summaries\n",
        "processed_generated_summary = preprocess_summary(generated_summary)\n",
        "processed_actual_summary = preprocess_summary(actual_summary)\n",
        "\n",
        "# Calculate ROUGE scores\n",
        "rouge_scores = calculate_rouge_scores(processed_generated_summary, processed_actual_summary)\n",
        "\n",
        "# Print ROUGE scores\n",
        "print(\"ROUGE Scores:\")\n",
        "print(rouge_scores)\n"
      ],
      "metadata": {
        "colab": {
          "base_uri": "https://localhost:8080/"
        },
        "id": "sCzcuQgXFebt",
        "outputId": "9429e215-c276-4eaa-e74c-463ad575f9f8"
      },
      "execution_count": 19,
      "outputs": [
        {
          "output_type": "stream",
          "name": "stderr",
          "text": [
            "[nltk_data] Downloading package stopwords to /root/nltk_data...\n",
            "[nltk_data]   Package stopwords is already up-to-date!\n",
            "[nltk_data] Downloading package punkt to /root/nltk_data...\n",
            "[nltk_data]   Package punkt is already up-to-date!\n"
          ]
        },
        {
          "output_type": "stream",
          "name": "stdout",
          "text": [
            "ROUGE Scores:\n",
            "{'rouge1': Score(precision=0.5922574157868276, recall=0.13934232316063402, fmeasure=0.22560566886909894), 'rouge2': Score(precision=0.05482897384305835, recall=0.012894830237785402, fmeasure=0.02087922612776554), 'rougeL': Score(precision=0.12921065862242334, recall=0.03039981074047788, fmeasure=0.04921957291965911)}\n"
          ]
        }
      ]
    }
  ]
}